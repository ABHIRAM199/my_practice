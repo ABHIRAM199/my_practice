{
  "nbformat": 4,
  "nbformat_minor": 0,
  "metadata": {
    "colab": {
      "provenance": [],
      "collapsed_sections": [
        "pHiIf3dk9yBR",
        "fLkfEj8umnal"
      ],
      "include_colab_link": true
    },
    "kernelspec": {
      "name": "python3",
      "display_name": "Python 3"
    },
    "language_info": {
      "name": "python"
    }
  },
  "cells": [
    {
      "cell_type": "markdown",
      "metadata": {
        "id": "view-in-github",
        "colab_type": "text"
      },
      "source": [
        "<a href=\"https://colab.research.google.com/github/ABHIRAM199/my_practice/blob/main/Numpy.ipynb\" target=\"_parent\"><img src=\"https://colab.research.google.com/assets/colab-badge.svg\" alt=\"Open In Colab\"/></a>"
      ]
    },
    {
      "cell_type": "code",
      "source": [],
      "metadata": {
        "id": "UFJM0SnJ6UGb"
      },
      "execution_count": null,
      "outputs": []
    },
    {
      "cell_type": "code",
      "source": [
        "Python-->\n",
        "\n",
        "Helps you perform a lot of numerical operations in python in av ery structured and efficiet (memory and time) ways\n",
        "#Numerical Python (Numpy)\n",
        "\n",
        "HELP YOU UNDERSTAND AND USE THE DATAFRAMES AND THE FUNCTIONALITIES RELATED TO IT. Excel, Json, Csv, Txt\n",
        "#Pandas (Built on top of NUMPY)\n",
        "\n",
        "USED FOR CREATING SOME BEAUTIFUL VISUALISATIONS THAT CAN INFER/EXPLAIN US LARGE AMOUNTS OF INFORMATION\n",
        "#Visaulisation Libraries"
      ],
      "metadata": {
        "id": "i58tx4fizmPl",
        "colab": {
          "base_uri": "https://localhost:8080/",
          "height": 140
        },
        "outputId": "af65a05a-1f73-41c2-e256-c43f947c83bb"
      },
      "execution_count": null,
      "outputs": [
        {
          "output_type": "error",
          "ename": "SyntaxError",
          "evalue": "invalid syntax (<ipython-input-1-90c1028a36da>, line 1)",
          "traceback": [
            "\u001b[0;36m  File \u001b[0;32m\"<ipython-input-1-90c1028a36da>\"\u001b[0;36m, line \u001b[0;32m1\u001b[0m\n\u001b[0;31m    Python-->\u001b[0m\n\u001b[0m           ^\u001b[0m\n\u001b[0;31mSyntaxError\u001b[0m\u001b[0;31m:\u001b[0m invalid syntax\n"
          ]
        }
      ]
    },
    {
      "cell_type": "code",
      "source": [
        "import numpy as np\n",
        "import sys\n",
        "\n",
        "py_list = [1,2,3,4,6,7,8,9,10]\n",
        "numpy_array = np.array([1,2,3,4,6,7,8,9,10])\n",
        "\n",
        "# print(sys.getsizeof(py_list),\"bytes\")\n",
        "# print(sys.getsizeof(numpy_array),\"bytes\")\n",
        "\n",
        "print(sys.getsizeof(1)*len(py_list),\"bytes\")\n",
        "print(numpy_array.nbytes,\"bytes\")\n",
        "# print(sys.getsizeof(1)*len(numpy_array),\"bytes\")"
      ],
      "metadata": {
        "id": "psEWgxG60Zlt",
        "colab": {
          "base_uri": "https://localhost:8080/"
        },
        "outputId": "453d96fa-3f5d-458c-f524-c3ef42e0dfd1"
      },
      "execution_count": null,
      "outputs": [
        {
          "output_type": "stream",
          "name": "stdout",
          "text": [
            "252 bytes\n",
            "72 bytes\n"
          ]
        }
      ]
    },
    {
      "cell_type": "code",
      "source": [
        "np.array([1,2,3])*2"
      ],
      "metadata": {
        "id": "0ayU13ut0kr7",
        "colab": {
          "base_uri": "https://localhost:8080/"
        },
        "outputId": "cc01ffdc-fe60-4fa2-f2ce-6656d08f5596"
      },
      "execution_count": null,
      "outputs": [
        {
          "output_type": "execute_result",
          "data": {
            "text/plain": [
              "array([2, 4, 6])"
            ]
          },
          "metadata": {},
          "execution_count": 48
        }
      ]
    },
    {
      "cell_type": "code",
      "source": [
        "[1,2,3]*2"
      ],
      "metadata": {
        "id": "MgLcaHqd0hEC",
        "colab": {
          "base_uri": "https://localhost:8080/"
        },
        "outputId": "6272f3e7-2f08-4793-e531-8b11e8099664"
      },
      "execution_count": null,
      "outputs": [
        {
          "output_type": "execute_result",
          "data": {
            "text/plain": [
              "[1, 2, 3, 1, 2, 3]"
            ]
          },
          "metadata": {},
          "execution_count": 49
        }
      ]
    },
    {
      "cell_type": "code",
      "source": [
        "numpy."
      ],
      "metadata": {
        "id": "BeBGMoRB1FVl",
        "colab": {
          "base_uri": "https://localhost:8080/",
          "height": 140
        },
        "outputId": "83f8018c-78b8-462f-9d8d-59c72d9ef5c8"
      },
      "execution_count": null,
      "outputs": [
        {
          "output_type": "error",
          "ename": "SyntaxError",
          "evalue": "invalid syntax (<ipython-input-50-bffa30fcaef5>, line 1)",
          "traceback": [
            "\u001b[0;36m  File \u001b[0;32m\"<ipython-input-50-bffa30fcaef5>\"\u001b[0;36m, line \u001b[0;32m1\u001b[0m\n\u001b[0;31m    numpy.\u001b[0m\n\u001b[0m          ^\u001b[0m\n\u001b[0;31mSyntaxError\u001b[0m\u001b[0;31m:\u001b[0m invalid syntax\n"
          ]
        }
      ]
    },
    {
      "cell_type": "code",
      "source": [
        "array[]"
      ],
      "metadata": {
        "id": "WM_0l0-QZGp6",
        "colab": {
          "base_uri": "https://localhost:8080/",
          "height": 140
        },
        "outputId": "023f8cca-f137-4f35-9e48-c344221161aa"
      },
      "execution_count": null,
      "outputs": [
        {
          "output_type": "error",
          "ename": "SyntaxError",
          "evalue": "invalid syntax (<ipython-input-51-023ab13a96a2>, line 1)",
          "traceback": [
            "\u001b[0;36m  File \u001b[0;32m\"<ipython-input-51-023ab13a96a2>\"\u001b[0;36m, line \u001b[0;32m1\u001b[0m\n\u001b[0;31m    array[]\u001b[0m\n\u001b[0m          ^\u001b[0m\n\u001b[0;31mSyntaxError\u001b[0m\u001b[0;31m:\u001b[0m invalid syntax\n"
          ]
        }
      ]
    },
    {
      "cell_type": "markdown",
      "source": [
        "# Agenda\n",
        "We will delve into the fundamental aspects of NumPy, a powerful library for numerical operations in Python, and explore various operations/techniques for efficient data manipulation and advanced concepts like broadcasting,Transpose and Normal Distribution.\n",
        "\n",
        "\n",
        "* Installation and Importing\n",
        "* Python Lists vs NumPy Arrays\n",
        "\n",
        "* NumPy Arrays\n",
        " * Creating NumPy Arrays\n",
        "  * using arange method\n",
        " * Reshaping NumPy Arrays\n",
        "   * Reshape with a Negative Index\n",
        "\n",
        " * Optimizing Memory with NumPy Arrays\n",
        " * Special NumPy Array Creation Function\n",
        " * Array Indexing and Slicing\n",
        "   * Boolean Indexing\n",
        " * Array Handling and Functions\n",
        " * Random Number Generation\n",
        "\n",
        "* Vector and Matrix Operations in NumPy\n",
        " * Vector Operations\n",
        " * Matrix Operation\n",
        " * Element-wise vs Matrix Multiplication\n",
        " * Converting Matrices to Vectors\n",
        "\n",
        "* Advanced Concepts\n",
        " * Broadcasting  \n",
        " * Transpose Operations\n",
        " * Normal Distribution in NumPy"
      ],
      "metadata": {
        "id": "N_SW6l58cpV_"
      }
    },
    {
      "cell_type": "markdown",
      "source": [
        "#Installation and Importing NumPy\n",
        " * Magic commands for package installation:\n",
        "  * Single-line command: **%pip install numpy**\n",
        "  * Multi-line command: **%%**"
      ],
      "metadata": {
        "id": "Iwxw6yvCcSkp"
      }
    },
    {
      "cell_type": "code",
      "source": [
        "%pip install numpy"
      ],
      "metadata": {
        "id": "qaNpzrv1d3WL",
        "colab": {
          "base_uri": "https://localhost:8080/"
        },
        "outputId": "74790447-d6d9-4e8f-aa0f-532406f60e20"
      },
      "execution_count": null,
      "outputs": [
        {
          "output_type": "stream",
          "name": "stdout",
          "text": [
            "Requirement already satisfied: numpy in /usr/local/lib/python3.10/dist-packages (1.23.5)\n"
          ]
        }
      ]
    },
    {
      "cell_type": "code",
      "source": [
        "%pip install tensorflow"
      ],
      "metadata": {
        "id": "msbfqIFH2r9E",
        "colab": {
          "base_uri": "https://localhost:8080/"
        },
        "outputId": "608ddac6-299b-422e-9bcb-062c5153983c"
      },
      "execution_count": null,
      "outputs": [
        {
          "output_type": "stream",
          "name": "stdout",
          "text": [
            "Requirement already satisfied: tensorflow in /usr/local/lib/python3.10/dist-packages (2.15.0)\n",
            "Requirement already satisfied: absl-py>=1.0.0 in /usr/local/lib/python3.10/dist-packages (from tensorflow) (1.4.0)\n",
            "Requirement already satisfied: astunparse>=1.6.0 in /usr/local/lib/python3.10/dist-packages (from tensorflow) (1.6.3)\n",
            "Requirement already satisfied: flatbuffers>=23.5.26 in /usr/local/lib/python3.10/dist-packages (from tensorflow) (23.5.26)\n",
            "Requirement already satisfied: gast!=0.5.0,!=0.5.1,!=0.5.2,>=0.2.1 in /usr/local/lib/python3.10/dist-packages (from tensorflow) (0.5.4)\n",
            "Requirement already satisfied: google-pasta>=0.1.1 in /usr/local/lib/python3.10/dist-packages (from tensorflow) (0.2.0)\n",
            "Requirement already satisfied: h5py>=2.9.0 in /usr/local/lib/python3.10/dist-packages (from tensorflow) (3.9.0)\n",
            "Requirement already satisfied: libclang>=13.0.0 in /usr/local/lib/python3.10/dist-packages (from tensorflow) (16.0.6)\n",
            "Requirement already satisfied: ml-dtypes~=0.2.0 in /usr/local/lib/python3.10/dist-packages (from tensorflow) (0.2.0)\n",
            "Requirement already satisfied: numpy<2.0.0,>=1.23.5 in /usr/local/lib/python3.10/dist-packages (from tensorflow) (1.23.5)\n",
            "Requirement already satisfied: opt-einsum>=2.3.2 in /usr/local/lib/python3.10/dist-packages (from tensorflow) (3.3.0)\n",
            "Requirement already satisfied: packaging in /usr/local/lib/python3.10/dist-packages (from tensorflow) (23.2)\n",
            "Requirement already satisfied: protobuf!=4.21.0,!=4.21.1,!=4.21.2,!=4.21.3,!=4.21.4,!=4.21.5,<5.0.0dev,>=3.20.3 in /usr/local/lib/python3.10/dist-packages (from tensorflow) (3.20.3)\n",
            "Requirement already satisfied: setuptools in /usr/local/lib/python3.10/dist-packages (from tensorflow) (67.7.2)\n",
            "Requirement already satisfied: six>=1.12.0 in /usr/local/lib/python3.10/dist-packages (from tensorflow) (1.16.0)\n",
            "Requirement already satisfied: termcolor>=1.1.0 in /usr/local/lib/python3.10/dist-packages (from tensorflow) (2.4.0)\n",
            "Requirement already satisfied: typing-extensions>=3.6.6 in /usr/local/lib/python3.10/dist-packages (from tensorflow) (4.5.0)\n",
            "Requirement already satisfied: wrapt<1.15,>=1.11.0 in /usr/local/lib/python3.10/dist-packages (from tensorflow) (1.14.1)\n",
            "Requirement already satisfied: tensorflow-io-gcs-filesystem>=0.23.1 in /usr/local/lib/python3.10/dist-packages (from tensorflow) (0.35.0)\n",
            "Requirement already satisfied: grpcio<2.0,>=1.24.3 in /usr/local/lib/python3.10/dist-packages (from tensorflow) (1.60.0)\n",
            "Requirement already satisfied: tensorboard<2.16,>=2.15 in /usr/local/lib/python3.10/dist-packages (from tensorflow) (2.15.1)\n",
            "Requirement already satisfied: tensorflow-estimator<2.16,>=2.15.0 in /usr/local/lib/python3.10/dist-packages (from tensorflow) (2.15.0)\n",
            "Requirement already satisfied: keras<2.16,>=2.15.0 in /usr/local/lib/python3.10/dist-packages (from tensorflow) (2.15.0)\n",
            "Requirement already satisfied: wheel<1.0,>=0.23.0 in /usr/local/lib/python3.10/dist-packages (from astunparse>=1.6.0->tensorflow) (0.42.0)\n",
            "Requirement already satisfied: google-auth<3,>=1.6.3 in /usr/local/lib/python3.10/dist-packages (from tensorboard<2.16,>=2.15->tensorflow) (2.17.3)\n",
            "Requirement already satisfied: google-auth-oauthlib<2,>=0.5 in /usr/local/lib/python3.10/dist-packages (from tensorboard<2.16,>=2.15->tensorflow) (1.2.0)\n",
            "Requirement already satisfied: markdown>=2.6.8 in /usr/local/lib/python3.10/dist-packages (from tensorboard<2.16,>=2.15->tensorflow) (3.5.2)\n",
            "Requirement already satisfied: requests<3,>=2.21.0 in /usr/local/lib/python3.10/dist-packages (from tensorboard<2.16,>=2.15->tensorflow) (2.31.0)\n",
            "Requirement already satisfied: tensorboard-data-server<0.8.0,>=0.7.0 in /usr/local/lib/python3.10/dist-packages (from tensorboard<2.16,>=2.15->tensorflow) (0.7.2)\n",
            "Requirement already satisfied: werkzeug>=1.0.1 in /usr/local/lib/python3.10/dist-packages (from tensorboard<2.16,>=2.15->tensorflow) (3.0.1)\n",
            "Requirement already satisfied: cachetools<6.0,>=2.0.0 in /usr/local/lib/python3.10/dist-packages (from google-auth<3,>=1.6.3->tensorboard<2.16,>=2.15->tensorflow) (5.3.2)\n",
            "Requirement already satisfied: pyasn1-modules>=0.2.1 in /usr/local/lib/python3.10/dist-packages (from google-auth<3,>=1.6.3->tensorboard<2.16,>=2.15->tensorflow) (0.3.0)\n",
            "Requirement already satisfied: rsa<5,>=3.1.4 in /usr/local/lib/python3.10/dist-packages (from google-auth<3,>=1.6.3->tensorboard<2.16,>=2.15->tensorflow) (4.9)\n",
            "Requirement already satisfied: requests-oauthlib>=0.7.0 in /usr/local/lib/python3.10/dist-packages (from google-auth-oauthlib<2,>=0.5->tensorboard<2.16,>=2.15->tensorflow) (1.3.1)\n",
            "Requirement already satisfied: charset-normalizer<4,>=2 in /usr/local/lib/python3.10/dist-packages (from requests<3,>=2.21.0->tensorboard<2.16,>=2.15->tensorflow) (3.3.2)\n",
            "Requirement already satisfied: idna<4,>=2.5 in /usr/local/lib/python3.10/dist-packages (from requests<3,>=2.21.0->tensorboard<2.16,>=2.15->tensorflow) (3.6)\n",
            "Requirement already satisfied: urllib3<3,>=1.21.1 in /usr/local/lib/python3.10/dist-packages (from requests<3,>=2.21.0->tensorboard<2.16,>=2.15->tensorflow) (2.0.7)\n",
            "Requirement already satisfied: certifi>=2017.4.17 in /usr/local/lib/python3.10/dist-packages (from requests<3,>=2.21.0->tensorboard<2.16,>=2.15->tensorflow) (2023.11.17)\n",
            "Requirement already satisfied: MarkupSafe>=2.1.1 in /usr/local/lib/python3.10/dist-packages (from werkzeug>=1.0.1->tensorboard<2.16,>=2.15->tensorflow) (2.1.3)\n",
            "Requirement already satisfied: pyasn1<0.6.0,>=0.4.6 in /usr/local/lib/python3.10/dist-packages (from pyasn1-modules>=0.2.1->google-auth<3,>=1.6.3->tensorboard<2.16,>=2.15->tensorflow) (0.5.1)\n",
            "Requirement already satisfied: oauthlib>=3.0.0 in /usr/local/lib/python3.10/dist-packages (from requests-oauthlib>=0.7.0->google-auth-oauthlib<2,>=0.5->tensorboard<2.16,>=2.15->tensorflow) (3.2.2)\n"
          ]
        }
      ]
    },
    {
      "cell_type": "code",
      "execution_count": null,
      "metadata": {
        "id": "AH_Bv-umtobT",
        "colab": {
          "base_uri": "https://localhost:8080/"
        },
        "outputId": "de81163d-8f64-444b-f1a6-4d2522310a5e"
      },
      "outputs": [
        {
          "output_type": "execute_result",
          "data": {
            "text/plain": [
              "array([1, 2, 3])"
            ]
          },
          "metadata": {},
          "execution_count": 54
        }
      ],
      "source": [
        "#Use np as an alias for NumPy to simplify code.\n",
        "import numpy as np\n",
        "np.array([1, 2, 3])"
      ]
    },
    {
      "cell_type": "code",
      "source": [
        "['a','b',2]"
      ],
      "metadata": {
        "id": "hJ0ZOBlL3B2y",
        "colab": {
          "base_uri": "https://localhost:8080/"
        },
        "outputId": "a5c8f2ed-b485-447c-ff76-02bfe512b990"
      },
      "execution_count": null,
      "outputs": [
        {
          "output_type": "execute_result",
          "data": {
            "text/plain": [
              "['a', 'b', 2]"
            ]
          },
          "metadata": {},
          "execution_count": 55
        }
      ]
    },
    {
      "cell_type": "code",
      "source": [
        "np.array(['a','b',2])"
      ],
      "metadata": {
        "id": "V3bg4j4Z278h",
        "colab": {
          "base_uri": "https://localhost:8080/"
        },
        "outputId": "fe49c538-9f46-4ef1-810c-dd91d019382d"
      },
      "execution_count": null,
      "outputs": [
        {
          "output_type": "execute_result",
          "data": {
            "text/plain": [
              "array(['a', 'b', '2'], dtype='<U21')"
            ]
          },
          "metadata": {},
          "execution_count": 56
        }
      ]
    },
    {
      "cell_type": "markdown",
      "source": [
        "#Python Lists vs NumPy Arrays\n",
        "\n"
      ],
      "metadata": {
        "id": "UPU0RFaWeb27"
      }
    },
    {
      "cell_type": "markdown",
      "source": [
        "* In Python, lists replicate when multiplied by a scalar"
      ],
      "metadata": {
        "id": "nZdVroLTfsB6"
      }
    },
    {
      "cell_type": "code",
      "source": [
        "list1 = [1,2,3]\n",
        "list1*2"
      ],
      "metadata": {
        "id": "ltuRRnxEfibt",
        "colab": {
          "base_uri": "https://localhost:8080/"
        },
        "outputId": "5626ff03-2daa-4426-e435-f001fafa3f1c"
      },
      "execution_count": null,
      "outputs": [
        {
          "output_type": "execute_result",
          "data": {
            "text/plain": [
              "[1, 2, 3, 1, 2, 3]"
            ]
          },
          "metadata": {},
          "execution_count": 57
        }
      ]
    },
    {
      "cell_type": "markdown",
      "source": [
        "* In NumPy, arrays perform element-wise multiplication"
      ],
      "metadata": {
        "id": "vPV1VQ4BemaR"
      }
    },
    {
      "cell_type": "code",
      "source": [
        "import numpy as np\n",
        "arr1 = np.array([1, 2, 3])\n",
        "arr1*2"
      ],
      "metadata": {
        "id": "Z7kKUTtbemGy",
        "colab": {
          "base_uri": "https://localhost:8080/"
        },
        "outputId": "daea65d6-b8db-4b10-d1dd-aaf51f5176af"
      },
      "execution_count": null,
      "outputs": [
        {
          "output_type": "execute_result",
          "data": {
            "text/plain": [
              "array([2, 4, 6])"
            ]
          },
          "metadata": {},
          "execution_count": 58
        }
      ]
    },
    {
      "cell_type": "markdown",
      "source": [
        "# NumPy Arrays\n",
        "## NumPy Arrays and C Arrays\n",
        "* NumPy arrays are similar to C arrays, with consistent element types.\n",
        "* NumPy arrays automatically convert elements to the same data type for consistency.\n",
        "* NumPy arrays provide a more intuitive mathematical behavior than Python lists for numerical operations.\n",
        "* NumPy uses C arrays for performance, providing the speed of C with the flexibility of Python."
      ],
      "metadata": {
        "id": "ZeGlEZ_gmCBn"
      }
    },
    {
      "cell_type": "markdown",
      "source": [
        "###Creating NumPy Arrays"
      ],
      "metadata": {
        "id": "zCsCDdwRm7Y8"
      }
    },
    {
      "cell_type": "code",
      "source": [
        "arr1 = np.array([1, 2, 3])  # Converts a Python list to a NumPy array."
      ],
      "metadata": {
        "id": "msPeffRomduD"
      },
      "execution_count": null,
      "outputs": []
    },
    {
      "cell_type": "code",
      "source": [
        "arr1.dtype   # Shows the data type of the array elements."
      ],
      "metadata": {
        "id": "RJv3T3PLmmUO",
        "colab": {
          "base_uri": "https://localhost:8080/"
        },
        "outputId": "0ec4e7b3-ea58-4308-8191-c7c9e7dcaecf"
      },
      "execution_count": null,
      "outputs": [
        {
          "output_type": "execute_result",
          "data": {
            "text/plain": [
              "dtype('int64')"
            ]
          },
          "metadata": {},
          "execution_count": 60
        }
      ]
    },
    {
      "cell_type": "code",
      "source": [
        "arr1.shape   # Returns the dimensions of the array."
      ],
      "metadata": {
        "id": "jsBbqdNZmmlD",
        "colab": {
          "base_uri": "https://localhost:8080/"
        },
        "outputId": "68a14964-b757-4ade-8f0a-d30193c3a3e7"
      },
      "execution_count": null,
      "outputs": [
        {
          "output_type": "execute_result",
          "data": {
            "text/plain": [
              "(3,)"
            ]
          },
          "metadata": {},
          "execution_count": 61
        }
      ]
    },
    {
      "cell_type": "markdown",
      "source": [
        "####using arange method"
      ],
      "metadata": {
        "id": "BjxatgxG5Efu"
      }
    },
    {
      "cell_type": "markdown",
      "source": [
        "**Syntax**: np.arange(start, stop, step)\n",
        "\n",
        " * It generates a NumPy array with evenly spaced values starting from 'start', up to, but not including 'stop', with a specified 'step' size between consecutive values.\n"
      ],
      "metadata": {
        "id": "D7p8Tl3bnfZ6"
      }
    },
    {
      "cell_type": "code",
      "source": [
        "2,4,6,8,10"
      ],
      "metadata": {
        "id": "YKQyDqmSZd_S",
        "colab": {
          "base_uri": "https://localhost:8080/"
        },
        "outputId": "dd0b3908-3c2c-402c-cc2e-7b71dcf75635"
      },
      "execution_count": null,
      "outputs": [
        {
          "output_type": "execute_result",
          "data": {
            "text/plain": [
              "(2, 4, 6, 8, 10)"
            ]
          },
          "metadata": {},
          "execution_count": 62
        }
      ]
    },
    {
      "cell_type": "code",
      "source": [
        "np.arange(2,10,2)"
      ],
      "metadata": {
        "id": "pyk1ceY2Zftz",
        "colab": {
          "base_uri": "https://localhost:8080/"
        },
        "outputId": "b22fc7ce-9cf5-448d-f3f8-247a90fc80dc"
      },
      "execution_count": null,
      "outputs": [
        {
          "output_type": "execute_result",
          "data": {
            "text/plain": [
              "array([2, 4, 6, 8])"
            ]
          },
          "metadata": {},
          "execution_count": 63
        }
      ]
    },
    {
      "cell_type": "code",
      "source": [
        "np.arange(1,5)  # Creates an array with a range of numbers."
      ],
      "metadata": {
        "id": "775CD5ZWnXpU",
        "colab": {
          "base_uri": "https://localhost:8080/"
        },
        "outputId": "a346eef1-22a0-42db-a2c2-31679551b880"
      },
      "execution_count": null,
      "outputs": [
        {
          "output_type": "execute_result",
          "data": {
            "text/plain": [
              "array([1, 2, 3, 4])"
            ]
          },
          "metadata": {},
          "execution_count": 64
        }
      ]
    },
    {
      "cell_type": "code",
      "source": [
        "arr1 = np.arange(1,5,6)\n",
        "arr1"
      ],
      "metadata": {
        "id": "pWITCmT6n7Ra",
        "colab": {
          "base_uri": "https://localhost:8080/"
        },
        "outputId": "5eecfe34-4be0-4e23-fbf7-bc796d5c7f15"
      },
      "execution_count": null,
      "outputs": [
        {
          "output_type": "execute_result",
          "data": {
            "text/plain": [
              "array([1])"
            ]
          },
          "metadata": {},
          "execution_count": 65
        }
      ]
    },
    {
      "cell_type": "code",
      "source": [
        "arr2 = np.array([1,2,3,4.0])\n",
        "arr2"
      ],
      "metadata": {
        "id": "7cYD1eoJoFQp",
        "colab": {
          "base_uri": "https://localhost:8080/"
        },
        "outputId": "83286c0c-d3ea-4b19-b303-ecff914e9e8f"
      },
      "execution_count": null,
      "outputs": [
        {
          "output_type": "execute_result",
          "data": {
            "text/plain": [
              "array([1., 2., 3., 4.])"
            ]
          },
          "metadata": {},
          "execution_count": 66
        }
      ]
    },
    {
      "cell_type": "code",
      "source": [
        "arr2.dtype"
      ],
      "metadata": {
        "id": "1VKENkVz4nQe",
        "colab": {
          "base_uri": "https://localhost:8080/"
        },
        "outputId": "0714b00f-be4a-4f45-f110-4c5ec6c26b34"
      },
      "execution_count": null,
      "outputs": [
        {
          "output_type": "execute_result",
          "data": {
            "text/plain": [
              "dtype('float64')"
            ]
          },
          "metadata": {},
          "execution_count": 67
        }
      ]
    },
    {
      "cell_type": "code",
      "source": [
        "arr3 = np.array([1,2,3,4],dtype='float')\n",
        "arr3"
      ],
      "metadata": {
        "id": "Ad72uq3XoFn9",
        "colab": {
          "base_uri": "https://localhost:8080/"
        },
        "outputId": "9bb2ff68-dbca-43bc-9591-61a8197660e4"
      },
      "execution_count": null,
      "outputs": [
        {
          "output_type": "execute_result",
          "data": {
            "text/plain": [
              "array([1., 2., 3., 4.])"
            ]
          },
          "metadata": {},
          "execution_count": 68
        }
      ]
    },
    {
      "cell_type": "code",
      "source": [
        "arr4 = np.array([0,10,100])\n",
        "arr4*10"
      ],
      "metadata": {
        "id": "diLv1sZO5T2w",
        "colab": {
          "base_uri": "https://localhost:8080/"
        },
        "outputId": "59a5d1b1-1fdc-4796-ae30-9870e2d60772"
      },
      "execution_count": null,
      "outputs": [
        {
          "output_type": "execute_result",
          "data": {
            "text/plain": [
              "array([   0,  100, 1000])"
            ]
          },
          "metadata": {},
          "execution_count": 69
        }
      ]
    },
    {
      "cell_type": "code",
      "source": [
        "100**10"
      ],
      "metadata": {
        "id": "Wdxp-4HY5a-b",
        "colab": {
          "base_uri": "https://localhost:8080/"
        },
        "outputId": "29eccbcd-ff56-4915-8ced-ca15c6dafe27"
      },
      "execution_count": null,
      "outputs": [
        {
          "output_type": "execute_result",
          "data": {
            "text/plain": [
              "100000000000000000000"
            ]
          },
          "metadata": {},
          "execution_count": 70
        }
      ]
    },
    {
      "cell_type": "code",
      "source": [
        "arr4 = np.array([0,10,100])\n",
        "arr4**10"
      ],
      "metadata": {
        "id": "tPKrKmoLpQi_",
        "colab": {
          "base_uri": "https://localhost:8080/"
        },
        "outputId": "95d4dc59-c483-4abe-d874-07cbbad8ee27"
      },
      "execution_count": null,
      "outputs": [
        {
          "output_type": "execute_result",
          "data": {
            "text/plain": [
              "array([                  0,         10000000000, 7766279631452241920])"
            ]
          },
          "metadata": {},
          "execution_count": 71
        }
      ]
    },
    {
      "cell_type": "markdown",
      "source": [
        "NumPy can create multi-dimensional arrays (matrices) using nested lists."
      ],
      "metadata": {
        "id": "aJoPhAFIsTyU"
      }
    },
    {
      "cell_type": "code",
      "source": [
        "\n",
        "len([1,2,3,[3,4]])"
      ],
      "metadata": {
        "id": "i8QfcV976j97",
        "colab": {
          "base_uri": "https://localhost:8080/"
        },
        "outputId": "293d6dda-1a36-40d8-b782-63372c5890a7"
      },
      "execution_count": null,
      "outputs": [
        {
          "output_type": "execute_result",
          "data": {
            "text/plain": [
              "4"
            ]
          },
          "metadata": {},
          "execution_count": 72
        }
      ]
    },
    {
      "cell_type": "code",
      "source": [
        "arrr = np.array([[1,2],[3,4]])[0]"
      ],
      "metadata": {
        "id": "3kQ0wOhJ60H8"
      },
      "execution_count": null,
      "outputs": []
    },
    {
      "cell_type": "code",
      "source": [
        "arrr"
      ],
      "metadata": {
        "colab": {
          "base_uri": "https://localhost:8080/"
        },
        "id": "x8U25GxG1GAw",
        "outputId": "ad1de80a-ff22-43b6-a256-ef94224b6888"
      },
      "execution_count": null,
      "outputs": [
        {
          "output_type": "execute_result",
          "data": {
            "text/plain": [
              "array([1, 2])"
            ]
          },
          "metadata": {},
          "execution_count": 74
        }
      ]
    },
    {
      "cell_type": "code",
      "source": [
        "arr5 = np.array([[1,2],[3,4]])\n",
        "arr5*2"
      ],
      "metadata": {
        "id": "l6_0fyMopQ2T",
        "colab": {
          "base_uri": "https://localhost:8080/"
        },
        "outputId": "e256b6ad-b85e-4840-b88d-d1d0ff1419c3"
      },
      "execution_count": null,
      "outputs": [
        {
          "output_type": "execute_result",
          "data": {
            "text/plain": [
              "array([[2, 4],\n",
              "       [6, 8]])"
            ]
          },
          "metadata": {},
          "execution_count": 75
        }
      ]
    },
    {
      "cell_type": "code",
      "source": [
        "arr5.shape"
      ],
      "metadata": {
        "id": "SwLt7uRyZyn5",
        "colab": {
          "base_uri": "https://localhost:8080/"
        },
        "outputId": "d85307e4-a3f9-4bcf-face-6670cd970412"
      },
      "execution_count": null,
      "outputs": [
        {
          "output_type": "execute_result",
          "data": {
            "text/plain": [
              "(2, 2)"
            ]
          },
          "metadata": {},
          "execution_count": 76
        }
      ]
    },
    {
      "cell_type": "code",
      "source": [
        "arr5.reshape(1,-1)"
      ],
      "metadata": {
        "id": "CzeKiKQXZ1EZ",
        "colab": {
          "base_uri": "https://localhost:8080/"
        },
        "outputId": "a5dbc647-8690-409e-f4e9-00bb4faa6ec4"
      },
      "execution_count": null,
      "outputs": [
        {
          "output_type": "execute_result",
          "data": {
            "text/plain": [
              "array([[1, 2, 3, 4]])"
            ]
          },
          "metadata": {},
          "execution_count": 77
        }
      ]
    },
    {
      "cell_type": "code",
      "source": [
        "x=np.arange(3,303,2).reshape(50,3)"
      ],
      "metadata": {
        "id": "Hb8Kms1d7F2Y"
      },
      "execution_count": null,
      "outputs": []
    },
    {
      "cell_type": "code",
      "source": [
        "x"
      ],
      "metadata": {
        "colab": {
          "base_uri": "https://localhost:8080/"
        },
        "id": "EaBBKoyj2L5D",
        "outputId": "bd9e21b8-52d0-431c-e53d-b48814f0dabd"
      },
      "execution_count": null,
      "outputs": [
        {
          "output_type": "execute_result",
          "data": {
            "text/plain": [
              "array([[  3,   5,   7],\n",
              "       [  9,  11,  13],\n",
              "       [ 15,  17,  19],\n",
              "       [ 21,  23,  25],\n",
              "       [ 27,  29,  31],\n",
              "       [ 33,  35,  37],\n",
              "       [ 39,  41,  43],\n",
              "       [ 45,  47,  49],\n",
              "       [ 51,  53,  55],\n",
              "       [ 57,  59,  61],\n",
              "       [ 63,  65,  67],\n",
              "       [ 69,  71,  73],\n",
              "       [ 75,  77,  79],\n",
              "       [ 81,  83,  85],\n",
              "       [ 87,  89,  91],\n",
              "       [ 93,  95,  97],\n",
              "       [ 99, 101, 103],\n",
              "       [105, 107, 109],\n",
              "       [111, 113, 115],\n",
              "       [117, 119, 121],\n",
              "       [123, 125, 127],\n",
              "       [129, 131, 133],\n",
              "       [135, 137, 139],\n",
              "       [141, 143, 145],\n",
              "       [147, 149, 151],\n",
              "       [153, 155, 157],\n",
              "       [159, 161, 163],\n",
              "       [165, 167, 169],\n",
              "       [171, 173, 175],\n",
              "       [177, 179, 181],\n",
              "       [183, 185, 187],\n",
              "       [189, 191, 193],\n",
              "       [195, 197, 199],\n",
              "       [201, 203, 205],\n",
              "       [207, 209, 211],\n",
              "       [213, 215, 217],\n",
              "       [219, 221, 223],\n",
              "       [225, 227, 229],\n",
              "       [231, 233, 235],\n",
              "       [237, 239, 241],\n",
              "       [243, 245, 247],\n",
              "       [249, 251, 253],\n",
              "       [255, 257, 259],\n",
              "       [261, 263, 265],\n",
              "       [267, 269, 271],\n",
              "       [273, 275, 277],\n",
              "       [279, 281, 283],\n",
              "       [285, 287, 289],\n",
              "       [291, 293, 295],\n",
              "       [297, 299, 301]])"
            ]
          },
          "metadata": {},
          "execution_count": 79
        }
      ]
    },
    {
      "cell_type": "code",
      "source": [
        "x.reshape(30,5)"
      ],
      "metadata": {
        "id": "Sb311pl87upR",
        "colab": {
          "base_uri": "https://localhost:8080/"
        },
        "outputId": "82d5cbe2-8f98-4526-9321-1ddf495f135c"
      },
      "execution_count": null,
      "outputs": [
        {
          "output_type": "execute_result",
          "data": {
            "text/plain": [
              "array([[  3,   5,   7,   9,  11],\n",
              "       [ 13,  15,  17,  19,  21],\n",
              "       [ 23,  25,  27,  29,  31],\n",
              "       [ 33,  35,  37,  39,  41],\n",
              "       [ 43,  45,  47,  49,  51],\n",
              "       [ 53,  55,  57,  59,  61],\n",
              "       [ 63,  65,  67,  69,  71],\n",
              "       [ 73,  75,  77,  79,  81],\n",
              "       [ 83,  85,  87,  89,  91],\n",
              "       [ 93,  95,  97,  99, 101],\n",
              "       [103, 105, 107, 109, 111],\n",
              "       [113, 115, 117, 119, 121],\n",
              "       [123, 125, 127, 129, 131],\n",
              "       [133, 135, 137, 139, 141],\n",
              "       [143, 145, 147, 149, 151],\n",
              "       [153, 155, 157, 159, 161],\n",
              "       [163, 165, 167, 169, 171],\n",
              "       [173, 175, 177, 179, 181],\n",
              "       [183, 185, 187, 189, 191],\n",
              "       [193, 195, 197, 199, 201],\n",
              "       [203, 205, 207, 209, 211],\n",
              "       [213, 215, 217, 219, 221],\n",
              "       [223, 225, 227, 229, 231],\n",
              "       [233, 235, 237, 239, 241],\n",
              "       [243, 245, 247, 249, 251],\n",
              "       [253, 255, 257, 259, 261],\n",
              "       [263, 265, 267, 269, 271],\n",
              "       [273, 275, 277, 279, 281],\n",
              "       [283, 285, 287, 289, 291],\n",
              "       [293, 295, 297, 299, 301]])"
            ]
          },
          "metadata": {},
          "execution_count": 80
        }
      ]
    },
    {
      "cell_type": "markdown",
      "source": [
        "## Reshaping NumPy Arrays\n",
        "* np.arange().reshape(new_shape) can reshape a one-dimensional array into a multi-dimensional matrix.\n",
        "* The product of the dimensions in reshape must match the total number of elements in the array.\n",
        "* Reshaping an array does not occur in place.\n",
        "* m.shape gives the dimensions of the array (attribute, not a method).\n"
      ],
      "metadata": {
        "id": "khi4tUA-sZPV"
      }
    },
    {
      "cell_type": "code",
      "source": [
        "m2 = np.arange(1,13)\n",
        "m2.reshape(12,1)"
      ],
      "metadata": {
        "id": "hPZnKKjEp0QZ",
        "colab": {
          "base_uri": "https://localhost:8080/"
        },
        "outputId": "74994bc0-3da4-4b08-dbcf-905328a0bfa2"
      },
      "execution_count": null,
      "outputs": [
        {
          "output_type": "execute_result",
          "data": {
            "text/plain": [
              "array([[ 1],\n",
              "       [ 2],\n",
              "       [ 3],\n",
              "       [ 4],\n",
              "       [ 5],\n",
              "       [ 6],\n",
              "       [ 7],\n",
              "       [ 8],\n",
              "       [ 9],\n",
              "       [10],\n",
              "       [11],\n",
              "       [12]])"
            ]
          },
          "metadata": {},
          "execution_count": 81
        }
      ]
    },
    {
      "cell_type": "code",
      "source": [
        "m3 = np.arange(1,10)\n",
        "m3"
      ],
      "metadata": {
        "id": "JH_1riphq3FA",
        "colab": {
          "base_uri": "https://localhost:8080/"
        },
        "outputId": "683d1ed5-d250-4bb7-d1b7-8288f548ac33"
      },
      "execution_count": null,
      "outputs": [
        {
          "output_type": "execute_result",
          "data": {
            "text/plain": [
              "array([1, 2, 3, 4, 5, 6, 7, 8, 9])"
            ]
          },
          "metadata": {},
          "execution_count": 82
        }
      ]
    },
    {
      "cell_type": "code",
      "source": [
        "m3.shape"
      ],
      "metadata": {
        "id": "zavnIwnFrwE6",
        "colab": {
          "base_uri": "https://localhost:8080/"
        },
        "outputId": "09c8f266-7640-4dc1-a972-011e1c4490bb"
      },
      "execution_count": null,
      "outputs": [
        {
          "output_type": "execute_result",
          "data": {
            "text/plain": [
              "(9,)"
            ]
          },
          "metadata": {},
          "execution_count": 83
        }
      ]
    },
    {
      "cell_type": "code",
      "source": [
        "for i in range(10):\n",
        "  print(i)"
      ],
      "metadata": {
        "id": "RAlVA-6U8BHR",
        "colab": {
          "base_uri": "https://localhost:8080/"
        },
        "outputId": "c541fbe7-5003-4bc1-9bb7-9461b141131c"
      },
      "execution_count": null,
      "outputs": [
        {
          "output_type": "stream",
          "name": "stdout",
          "text": [
            "0\n",
            "1\n",
            "2\n",
            "3\n",
            "4\n",
            "5\n",
            "6\n",
            "7\n",
            "8\n",
            "9\n"
          ]
        }
      ]
    },
    {
      "cell_type": "code",
      "source": [
        "np.arange(9)"
      ],
      "metadata": {
        "id": "tQBmJMIjrNJj",
        "colab": {
          "base_uri": "https://localhost:8080/"
        },
        "outputId": "3803801e-b45b-4465-8910-37b3b94140bd"
      },
      "execution_count": null,
      "outputs": [
        {
          "output_type": "execute_result",
          "data": {
            "text/plain": [
              "array([0, 1, 2, 3, 4, 5, 6, 7, 8])"
            ]
          },
          "metadata": {},
          "execution_count": 85
        }
      ]
    },
    {
      "cell_type": "code",
      "source": [
        "np.arange(9).reshape(9,1)"
      ],
      "metadata": {
        "id": "wbicN0nmr4Sa",
        "colab": {
          "base_uri": "https://localhost:8080/"
        },
        "outputId": "ccde8720-09be-4e56-ce3c-8a8ffe157ece"
      },
      "execution_count": null,
      "outputs": [
        {
          "output_type": "execute_result",
          "data": {
            "text/plain": [
              "array([[0],\n",
              "       [1],\n",
              "       [2],\n",
              "       [3],\n",
              "       [4],\n",
              "       [5],\n",
              "       [6],\n",
              "       [7],\n",
              "       [8]])"
            ]
          },
          "metadata": {},
          "execution_count": 86
        }
      ]
    },
    {
      "cell_type": "code",
      "source": [
        "np.arange(9).reshape(9,1).shape"
      ],
      "metadata": {
        "id": "atxc9fzrsByi",
        "colab": {
          "base_uri": "https://localhost:8080/"
        },
        "outputId": "a43e5f37-7ebe-47ec-bc70-47bba34a6d57"
      },
      "execution_count": null,
      "outputs": [
        {
          "output_type": "execute_result",
          "data": {
            "text/plain": [
              "(9, 1)"
            ]
          },
          "metadata": {},
          "execution_count": 87
        }
      ]
    },
    {
      "cell_type": "markdown",
      "source": [
        "### Reshape with a Negative Index\n",
        "* Auto-dimension Calculation:\n",
        " * Using a negative index in reshape(), like reshape(6, -1), NumPy auto-calculates the missing dimension.\n",
        " * This feature is useful when you know the total number of elements but want flexibility in dimensions."
      ],
      "metadata": {
        "id": "6SrOyUzTanxu"
      }
    },
    {
      "cell_type": "code",
      "source": [
        "import numpy as np\n",
        "r = np.arange(12).reshape(-1,4);\n",
        "r"
      ],
      "metadata": {
        "id": "8OTynUzNanaO",
        "colab": {
          "base_uri": "https://localhost:8080/"
        },
        "outputId": "5fdbb543-8546-47b3-d882-6d17a7d09f0c"
      },
      "execution_count": null,
      "outputs": [
        {
          "output_type": "execute_result",
          "data": {
            "text/plain": [
              "array([[ 0,  1,  2,  3],\n",
              "       [ 4,  5,  6,  7],\n",
              "       [ 8,  9, 10, 11]])"
            ]
          },
          "metadata": {},
          "execution_count": 88
        }
      ]
    },
    {
      "cell_type": "code",
      "source": [
        "r.reshape(3,4)"
      ],
      "metadata": {
        "id": "ke_Lo-AjbprV",
        "colab": {
          "base_uri": "https://localhost:8080/"
        },
        "outputId": "64d0e870-92c4-4ed9-d353-0226c25311a8"
      },
      "execution_count": null,
      "outputs": [
        {
          "output_type": "execute_result",
          "data": {
            "text/plain": [
              "array([[ 0,  1,  2,  3],\n",
              "       [ 4,  5,  6,  7],\n",
              "       [ 8,  9, 10, 11]])"
            ]
          },
          "metadata": {},
          "execution_count": 89
        }
      ]
    },
    {
      "cell_type": "code",
      "source": [
        "np.arange(12).reshape(3,4)"
      ],
      "metadata": {
        "id": "H4A_J4O593F8",
        "colab": {
          "base_uri": "https://localhost:8080/"
        },
        "outputId": "71077f2a-c1e0-43ea-fe94-f1d46ca8033c"
      },
      "execution_count": null,
      "outputs": [
        {
          "output_type": "execute_result",
          "data": {
            "text/plain": [
              "array([[ 0,  1,  2,  3],\n",
              "       [ 4,  5,  6,  7],\n",
              "       [ 8,  9, 10, 11]])"
            ]
          },
          "metadata": {},
          "execution_count": 90
        }
      ]
    },
    {
      "cell_type": "code",
      "source": [
        "#3 dimension\n",
        "B =  np.arange(24).reshape(2,3,4)\n",
        "B"
      ],
      "metadata": {
        "id": "UeqE43Qwb24s",
        "colab": {
          "base_uri": "https://localhost:8080/"
        },
        "outputId": "d974cbdb-28aa-4f47-8321-41831e101b42"
      },
      "execution_count": null,
      "outputs": [
        {
          "output_type": "execute_result",
          "data": {
            "text/plain": [
              "array([[[ 0,  1,  2,  3],\n",
              "        [ 4,  5,  6,  7],\n",
              "        [ 8,  9, 10, 11]],\n",
              "\n",
              "       [[12, 13, 14, 15],\n",
              "        [16, 17, 18, 19],\n",
              "        [20, 21, 22, 23]]])"
            ]
          },
          "metadata": {},
          "execution_count": 91
        }
      ]
    },
    {
      "cell_type": "code",
      "source": [
        "np.arange(24).reshape(2,2,2,-1)"
      ],
      "metadata": {
        "id": "e8If9O_n-O65",
        "colab": {
          "base_uri": "https://localhost:8080/"
        },
        "outputId": "07cb9904-315e-46f4-dc7e-af03b0efc352"
      },
      "execution_count": null,
      "outputs": [
        {
          "output_type": "execute_result",
          "data": {
            "text/plain": [
              "array([[[[ 0,  1,  2],\n",
              "         [ 3,  4,  5]],\n",
              "\n",
              "        [[ 6,  7,  8],\n",
              "         [ 9, 10, 11]]],\n",
              "\n",
              "\n",
              "       [[[12, 13, 14],\n",
              "         [15, 16, 17]],\n",
              "\n",
              "        [[18, 19, 20],\n",
              "         [21, 22, 23]]]])"
            ]
          },
          "metadata": {},
          "execution_count": 92
        }
      ]
    },
    {
      "cell_type": "markdown",
      "source": [
        " ## Optimizing Memory with NumPy Arrays\n",
        " NumPy optimizes memory usage through efficient data storage and the concept of shallow copies.\n",
        " * Memory Optimization: NumPy optimizes memory by storing data indirectly through headers. This means that the actual data is not duplicated when operations like reshaping are performed.\n",
        "\n",
        "* Headers and Data Storage: The reshaping operation (a.reshape(2, 2)) creates a new view (b) on the same underlying data. NumPy uses metadata in the header to represent the reshaped view without copying the data.\n",
        "\n",
        "* Shallow vs. Deep Copies: When you multiply the original array a by 2 (c = a * 2), a new array (c) is created with its own data, making it a deep copy. Changes to a do not affect c.\n",
        "\n"
      ],
      "metadata": {
        "id": "_i5VPwr3x1qu"
      }
    },
    {
      "cell_type": "code",
      "source": [
        "x=7"
      ],
      "metadata": {
        "id": "BI26JVbCad5r"
      },
      "execution_count": null,
      "outputs": []
    },
    {
      "cell_type": "code",
      "source": [
        "y=x"
      ],
      "metadata": {
        "id": "KpRL3Zcuaey6"
      },
      "execution_count": null,
      "outputs": []
    },
    {
      "cell_type": "code",
      "source": [
        "x=8"
      ],
      "metadata": {
        "id": "oqqcRF7Caggn"
      },
      "execution_count": null,
      "outputs": []
    },
    {
      "cell_type": "code",
      "source": [
        "y"
      ],
      "metadata": {
        "id": "kzB1djzfahPc",
        "colab": {
          "base_uri": "https://localhost:8080/"
        },
        "outputId": "52853ad5-370b-4c1e-a2c1-a658010f3833"
      },
      "execution_count": null,
      "outputs": [
        {
          "output_type": "execute_result",
          "data": {
            "text/plain": [
              "7"
            ]
          },
          "metadata": {},
          "execution_count": 96
        }
      ]
    },
    {
      "cell_type": "code",
      "source": [
        "x"
      ],
      "metadata": {
        "id": "F1Q8JjzmakOa",
        "colab": {
          "base_uri": "https://localhost:8080/"
        },
        "outputId": "b244603c-a761-4d66-88b5-93d972a99d14"
      },
      "execution_count": null,
      "outputs": [
        {
          "output_type": "execute_result",
          "data": {
            "text/plain": [
              "8"
            ]
          },
          "metadata": {},
          "execution_count": 97
        }
      ]
    },
    {
      "cell_type": "code",
      "source": [
        "import numpy as np\n",
        "\n",
        "# Creates an array a\n",
        "a = np.array([0, 1, 2, 3])\n",
        "\n",
        "# Reshapes a into a 2x2 matrix b\n",
        "b = a.reshape(2, 2)\n",
        "\n",
        "# Multiplies a by 2\n",
        "c = a * 2\n",
        "\n",
        "d= a[0:3]\n",
        "\n",
        "# Changing the value of a[0] to 100 modifies both a and b since they share the same data.\n",
        "#However, c remains unaffected as it is an independent copy.\n",
        "a[0] = 100"
      ],
      "metadata": {
        "id": "Y0eRM9Uzx_Rz"
      },
      "execution_count": null,
      "outputs": []
    },
    {
      "cell_type": "code",
      "source": [
        "d"
      ],
      "metadata": {
        "id": "FaEk9dxBBQeP",
        "colab": {
          "base_uri": "https://localhost:8080/"
        },
        "outputId": "8496651b-b3fa-43c5-9a1d-3a9067850741"
      },
      "execution_count": null,
      "outputs": [
        {
          "output_type": "execute_result",
          "data": {
            "text/plain": [
              "array([100,   1,   2])"
            ]
          },
          "metadata": {},
          "execution_count": 99
        }
      ]
    },
    {
      "cell_type": "code",
      "source": [
        "print(\"Array a:\", a)\n",
        "print(\"Array b:\", b)"
      ],
      "metadata": {
        "id": "qFol4j_uyDqa",
        "colab": {
          "base_uri": "https://localhost:8080/"
        },
        "outputId": "c5976ace-0874-40d2-b5f3-c56e1e2f596e"
      },
      "execution_count": null,
      "outputs": [
        {
          "output_type": "stream",
          "name": "stdout",
          "text": [
            "Array a: [100   1   2   3]\n",
            "Array b: [[100   1]\n",
            " [  2   3]]\n"
          ]
        }
      ]
    },
    {
      "cell_type": "code",
      "source": [
        "print(\"Array c:\", c)"
      ],
      "metadata": {
        "id": "24Q-wp2pyHdy",
        "colab": {
          "base_uri": "https://localhost:8080/"
        },
        "outputId": "0ed6e9e3-ebc4-407a-d928-93124e57049c"
      },
      "execution_count": null,
      "outputs": [
        {
          "output_type": "stream",
          "name": "stdout",
          "text": [
            "Array c: [0 2 4 6]\n"
          ]
        }
      ]
    },
    {
      "cell_type": "code",
      "source": [
        "\n",
        "data\n",
        "\n",
        "\n",
        "x=data.copy(deep)"
      ],
      "metadata": {
        "id": "6YQ-MWacBtNj",
        "colab": {
          "base_uri": "https://localhost:8080/",
          "height": 227
        },
        "outputId": "5810dcb9-1439-430f-9f32-35624e6114a3"
      },
      "execution_count": null,
      "outputs": [
        {
          "output_type": "error",
          "ename": "NameError",
          "evalue": "name 'data' is not defined",
          "traceback": [
            "\u001b[0;31m---------------------------------------------------------------------------\u001b[0m",
            "\u001b[0;31mNameError\u001b[0m                                 Traceback (most recent call last)",
            "\u001b[0;32m<ipython-input-102-3e6271b7986d>\u001b[0m in \u001b[0;36m<cell line: 1>\u001b[0;34m()\u001b[0m\n\u001b[0;32m----> 1\u001b[0;31m \u001b[0mdata\u001b[0m\u001b[0;34m\u001b[0m\u001b[0;34m\u001b[0m\u001b[0m\n\u001b[0m\u001b[1;32m      2\u001b[0m \u001b[0;34m\u001b[0m\u001b[0m\n\u001b[1;32m      3\u001b[0m \u001b[0;34m\u001b[0m\u001b[0m\n\u001b[1;32m      4\u001b[0m \u001b[0mx\u001b[0m\u001b[0;34m=\u001b[0m\u001b[0mdata\u001b[0m\u001b[0;34m.\u001b[0m\u001b[0mcopy\u001b[0m\u001b[0;34m(\u001b[0m\u001b[0mdeep\u001b[0m\u001b[0;34m)\u001b[0m\u001b[0;34m\u001b[0m\u001b[0;34m\u001b[0m\u001b[0m\n",
            "\u001b[0;31mNameError\u001b[0m: name 'data' is not defined"
          ]
        }
      ]
    },
    {
      "cell_type": "markdown",
      "source": [
        "##Special NumPy Array Creation Functions\n"
      ],
      "metadata": {
        "id": "u4o-SNP7vcBj"
      }
    },
    {
      "cell_type": "code",
      "source": [
        "np.zeros((3,4))      # Creates an array filled with zeros."
      ],
      "metadata": {
        "id": "J6n-sNWavoXq",
        "colab": {
          "base_uri": "https://localhost:8080/"
        },
        "outputId": "0ddef008-8757-42d4-b2d4-15bd24ea24f2"
      },
      "execution_count": null,
      "outputs": [
        {
          "output_type": "execute_result",
          "data": {
            "text/plain": [
              "array([[0., 0., 0., 0.],\n",
              "       [0., 0., 0., 0.],\n",
              "       [0., 0., 0., 0.]])"
            ]
          },
          "metadata": {},
          "execution_count": 103
        }
      ]
    },
    {
      "cell_type": "code",
      "source": [
        "np.ones((5,2))       # Creates an array filled with ones."
      ],
      "metadata": {
        "id": "4HAQ8ayCvqwH",
        "colab": {
          "base_uri": "https://localhost:8080/"
        },
        "outputId": "9f51ef53-429e-44ff-8d37-36e007fa93a2"
      },
      "execution_count": null,
      "outputs": [
        {
          "output_type": "execute_result",
          "data": {
            "text/plain": [
              "array([[1., 1.],\n",
              "       [1., 1.],\n",
              "       [1., 1.],\n",
              "       [1., 1.],\n",
              "       [1., 1.]])"
            ]
          },
          "metadata": {},
          "execution_count": 104
        }
      ]
    },
    {
      "cell_type": "code",
      "source": [
        "np.diag([2,2,3,3,4])"
      ],
      "metadata": {
        "id": "OIMSodkfbBfB",
        "colab": {
          "base_uri": "https://localhost:8080/"
        },
        "outputId": "679e86be-97cb-47a7-b8c0-0026ee6eb9ef"
      },
      "execution_count": null,
      "outputs": [
        {
          "output_type": "execute_result",
          "data": {
            "text/plain": [
              "array([[2, 0, 0, 0, 0],\n",
              "       [0, 2, 0, 0, 0],\n",
              "       [0, 0, 3, 0, 0],\n",
              "       [0, 0, 0, 3, 0],\n",
              "       [0, 0, 0, 0, 4]])"
            ]
          },
          "metadata": {},
          "execution_count": 105
        }
      ]
    },
    {
      "cell_type": "code",
      "source": [
        "np.diag([1, 2, 3])   # Creates a diagonal matrix with specified values."
      ],
      "metadata": {
        "id": "Ndh1tLXFvsVp",
        "colab": {
          "base_uri": "https://localhost:8080/"
        },
        "outputId": "3708a4db-8184-4521-9df2-ee607dae8d7b"
      },
      "execution_count": null,
      "outputs": [
        {
          "output_type": "execute_result",
          "data": {
            "text/plain": [
              "array([[1, 0, 0],\n",
              "       [0, 2, 0],\n",
              "       [0, 0, 3]])"
            ]
          },
          "metadata": {},
          "execution_count": 106
        }
      ]
    },
    {
      "cell_type": "code",
      "source": [
        "np.identity(4)       # Creates an identity matrix of size n x n."
      ],
      "metadata": {
        "id": "n3dNXIcJvtfi",
        "colab": {
          "base_uri": "https://localhost:8080/"
        },
        "outputId": "53ebf2ac-7c07-4759-ac02-14647c096c8c"
      },
      "execution_count": null,
      "outputs": [
        {
          "output_type": "execute_result",
          "data": {
            "text/plain": [
              "array([[1., 0., 0., 0.],\n",
              "       [0., 1., 0., 0.],\n",
              "       [0., 0., 1., 0.],\n",
              "       [0., 0., 0., 1.]])"
            ]
          },
          "metadata": {},
          "execution_count": 107
        }
      ]
    },
    {
      "cell_type": "markdown",
      "source": [
        "##Array Indexing and Slicing\n",
        "* Basic indexing returns a row from the array\n",
        "\n"
      ],
      "metadata": {
        "id": "0VzThiMfwWve"
      }
    },
    {
      "cell_type": "code",
      "source": [
        "np.arange(12)"
      ],
      "metadata": {
        "id": "vNKItePNbfv4",
        "colab": {
          "base_uri": "https://localhost:8080/"
        },
        "outputId": "f7e514b7-88d7-4314-a124-944ba25d1098"
      },
      "execution_count": null,
      "outputs": [
        {
          "output_type": "execute_result",
          "data": {
            "text/plain": [
              "array([ 0,  1,  2,  3,  4,  5,  6,  7,  8,  9, 10, 11])"
            ]
          },
          "metadata": {},
          "execution_count": 108
        }
      ]
    },
    {
      "cell_type": "code",
      "source": [
        "import numpy as np\n",
        "m= np.arange(12).reshape(3,4)\n",
        "m"
      ],
      "metadata": {
        "id": "8tnxl4nxxx4J",
        "colab": {
          "base_uri": "https://localhost:8080/"
        },
        "outputId": "02e1f767-9cd5-40be-8060-99de77e73cf1"
      },
      "execution_count": null,
      "outputs": [
        {
          "output_type": "execute_result",
          "data": {
            "text/plain": [
              "array([[ 0,  1,  2,  3],\n",
              "       [ 4,  5,  6,  7],\n",
              "       [ 8,  9, 10, 11]])"
            ]
          },
          "metadata": {},
          "execution_count": 109
        }
      ]
    },
    {
      "cell_type": "code",
      "source": [
        "#returns the first row.\n",
        "m[1][2]"
      ],
      "metadata": {
        "id": "xGgBMozNxskk",
        "colab": {
          "base_uri": "https://localhost:8080/"
        },
        "outputId": "79df6721-9b84-4021-c876-ed106a44ab7e"
      },
      "execution_count": null,
      "outputs": [
        {
          "output_type": "execute_result",
          "data": {
            "text/plain": [
              "6"
            ]
          },
          "metadata": {},
          "execution_count": 110
        }
      ]
    },
    {
      "cell_type": "code",
      "source": [
        "m[1,2]"
      ],
      "metadata": {
        "id": "zn1utKotbr5D",
        "colab": {
          "base_uri": "https://localhost:8080/"
        },
        "outputId": "632e1481-bb83-47dc-a672-07f1cfa9f7aa"
      },
      "execution_count": null,
      "outputs": [
        {
          "output_type": "execute_result",
          "data": {
            "text/plain": [
              "6"
            ]
          },
          "metadata": {},
          "execution_count": 111
        }
      ]
    },
    {
      "cell_type": "code",
      "source": [
        "x=[[1,2],[3,4]]"
      ],
      "metadata": {
        "id": "nMOHIeAdb7gK"
      },
      "execution_count": null,
      "outputs": []
    },
    {
      "cell_type": "code",
      "source": [
        "x[0][1]"
      ],
      "metadata": {
        "id": "QygE0hazb_iE",
        "colab": {
          "base_uri": "https://localhost:8080/"
        },
        "outputId": "2ad2a178-374f-4035-8104-e4da73141712"
      },
      "execution_count": null,
      "outputs": [
        {
          "output_type": "execute_result",
          "data": {
            "text/plain": [
              "2"
            ]
          },
          "metadata": {},
          "execution_count": 113
        }
      ]
    },
    {
      "cell_type": "markdown",
      "source": [
        "* Advanced indexing allows retrieval of specific elements"
      ],
      "metadata": {
        "id": "W8yXOGz7yYJn"
      }
    },
    {
      "cell_type": "code",
      "source": [
        " # returns the element at the second row and second column.\n",
        " m[1, 1]"
      ],
      "metadata": {
        "id": "PGgHVaIVybs3",
        "colab": {
          "base_uri": "https://localhost:8080/"
        },
        "outputId": "61a78c8c-5dd4-44da-a7dc-19232fbd0c4d"
      },
      "execution_count": null,
      "outputs": [
        {
          "output_type": "execute_result",
          "data": {
            "text/plain": [
              "5"
            ]
          },
          "metadata": {},
          "execution_count": 114
        }
      ]
    },
    {
      "cell_type": "markdown",
      "source": [
        "* Slicing can be applied to both rows and columns"
      ],
      "metadata": {
        "id": "9TQt_MBOywJ3"
      }
    },
    {
      "cell_type": "code",
      "source": [
        "m[0:2,1:3]"
      ],
      "metadata": {
        "id": "Hs_0YSX_eC4G",
        "colab": {
          "base_uri": "https://localhost:8080/"
        },
        "outputId": "9256a152-3674-49c0-9b07-fc044a487b72"
      },
      "execution_count": null,
      "outputs": [
        {
          "output_type": "execute_result",
          "data": {
            "text/plain": [
              "array([[1, 2],\n",
              "       [5, 6]])"
            ]
          },
          "metadata": {},
          "execution_count": 115
        }
      ]
    },
    {
      "cell_type": "code",
      "source": [
        "m[0:2,1:3]"
      ],
      "metadata": {
        "id": "Yw8b3jMscTID",
        "colab": {
          "base_uri": "https://localhost:8080/"
        },
        "outputId": "3179d20d-cbc5-4796-f2b7-802ce880792b"
      },
      "execution_count": null,
      "outputs": [
        {
          "output_type": "execute_result",
          "data": {
            "text/plain": [
              "array([[1, 2],\n",
              "       [5, 6]])"
            ]
          },
          "metadata": {},
          "execution_count": 116
        }
      ]
    },
    {
      "cell_type": "code",
      "source": [
        "m[1:3][:]"
      ],
      "metadata": {
        "id": "_uMyplabcVtC",
        "colab": {
          "base_uri": "https://localhost:8080/"
        },
        "outputId": "06cec523-7d84-400f-f3de-a5242d94e97a"
      },
      "execution_count": null,
      "outputs": [
        {
          "output_type": "execute_result",
          "data": {
            "text/plain": [
              "array([[ 4,  5,  6,  7],\n",
              "       [ 8,  9, 10, 11]])"
            ]
          },
          "metadata": {},
          "execution_count": 117
        }
      ]
    },
    {
      "cell_type": "code",
      "source": [
        "#slices a sub-array.\n",
        "m[1:3, 1:3]"
      ],
      "metadata": {
        "id": "8m0syzIkywAf",
        "colab": {
          "base_uri": "https://localhost:8080/"
        },
        "outputId": "26b061fe-1951-4cdf-9380-a472453b2769"
      },
      "execution_count": null,
      "outputs": [
        {
          "output_type": "execute_result",
          "data": {
            "text/plain": [
              "array([[ 5,  6],\n",
              "       [ 9, 10]])"
            ]
          },
          "metadata": {},
          "execution_count": 118
        }
      ]
    },
    {
      "cell_type": "markdown",
      "source": [
        "* Mixed indexing and slicing are allowed\n"
      ],
      "metadata": {
        "id": "JNX0MSoAyvy8"
      }
    },
    {
      "cell_type": "code",
      "source": [
        "m"
      ],
      "metadata": {
        "id": "Nlkgo7L_eV2b",
        "colab": {
          "base_uri": "https://localhost:8080/"
        },
        "outputId": "556dd17f-a8b0-4235-a77c-b72c0c10af4f"
      },
      "execution_count": null,
      "outputs": [
        {
          "output_type": "execute_result",
          "data": {
            "text/plain": [
              "array([[ 0,  1,  2,  3],\n",
              "       [ 4,  5,  6,  7],\n",
              "       [ 8,  9, 10, 11]])"
            ]
          },
          "metadata": {},
          "execution_count": 119
        }
      ]
    },
    {
      "cell_type": "code",
      "source": [
        "#returns elements from the first row and columns 1 to 2.\n",
        "m[1:, 1:3]"
      ],
      "metadata": {
        "id": "B9WhC3R6yvn1",
        "colab": {
          "base_uri": "https://localhost:8080/"
        },
        "outputId": "18fa3b22-5f65-43e6-f6c7-30dddc550e8a"
      },
      "execution_count": null,
      "outputs": [
        {
          "output_type": "execute_result",
          "data": {
            "text/plain": [
              "array([[ 5,  6],\n",
              "       [ 9, 10]])"
            ]
          },
          "metadata": {},
          "execution_count": 120
        }
      ]
    },
    {
      "cell_type": "markdown",
      "source": [
        "* Slicing syntax m[:, 2:] selects all rows and columns from the second to the last."
      ],
      "metadata": {
        "id": "b7_NtFV6yvE0"
      }
    },
    {
      "cell_type": "code",
      "source": [
        "m[1].shape"
      ],
      "metadata": {
        "id": "kxWdR4kWDPSo",
        "colab": {
          "base_uri": "https://localhost:8080/"
        },
        "outputId": "0f2bed04-d5ac-4e65-e1c4-d656e8db96f7"
      },
      "execution_count": null,
      "outputs": [
        {
          "output_type": "execute_result",
          "data": {
            "text/plain": [
              "(4,)"
            ]
          },
          "metadata": {},
          "execution_count": 121
        }
      ]
    },
    {
      "cell_type": "code",
      "source": [
        "m[1::2]"
      ],
      "metadata": {
        "id": "9I7xL-mUEGsD",
        "colab": {
          "base_uri": "https://localhost:8080/"
        },
        "outputId": "887de008-1c5a-41fa-bcf0-4453ea03c852"
      },
      "execution_count": null,
      "outputs": [
        {
          "output_type": "execute_result",
          "data": {
            "text/plain": [
              "array([[4, 5, 6, 7]])"
            ]
          },
          "metadata": {},
          "execution_count": 122
        }
      ]
    },
    {
      "cell_type": "code",
      "source": [
        "m[:, 2:]"
      ],
      "metadata": {
        "id": "7EX5Rq-HyuVI",
        "colab": {
          "base_uri": "https://localhost:8080/"
        },
        "outputId": "686196d6-df0c-44b3-d2c1-1ab8920c74a2"
      },
      "execution_count": null,
      "outputs": [
        {
          "output_type": "execute_result",
          "data": {
            "text/plain": [
              "array([[ 2,  3],\n",
              "       [ 6,  7],\n",
              "       [10, 11]])"
            ]
          },
          "metadata": {},
          "execution_count": 123
        }
      ]
    },
    {
      "cell_type": "markdown",
      "source": [
        "* Specifying a step in slicing: m[1::2] skips every other element starting from the first index\n"
      ],
      "metadata": {
        "id": "EGhE3w1Jytz6"
      }
    },
    {
      "cell_type": "code",
      "source": [
        "m[1::]"
      ],
      "metadata": {
        "id": "ZpPdPNLyDkJf",
        "colab": {
          "base_uri": "https://localhost:8080/"
        },
        "outputId": "cf951e00-54bb-4568-c6a3-65ba9833b8e8"
      },
      "execution_count": null,
      "outputs": [
        {
          "output_type": "execute_result",
          "data": {
            "text/plain": [
              "array([[ 4,  5,  6,  7],\n",
              "       [ 8,  9, 10, 11]])"
            ]
          },
          "metadata": {},
          "execution_count": 124
        }
      ]
    },
    {
      "cell_type": "code",
      "source": [
        "m[1::2]"
      ],
      "metadata": {
        "id": "Isl3SpnwzRKK",
        "colab": {
          "base_uri": "https://localhost:8080/"
        },
        "outputId": "ec9409f9-b83a-44fc-f7a1-c12e5f44185a"
      },
      "execution_count": null,
      "outputs": [
        {
          "output_type": "execute_result",
          "data": {
            "text/plain": [
              "array([[4, 5, 6, 7]])"
            ]
          },
          "metadata": {},
          "execution_count": 125
        }
      ]
    },
    {
      "cell_type": "code",
      "source": [
        "mm= np.arange(24).reshape(8,3)\n",
        "mm"
      ],
      "metadata": {
        "id": "AINX-1IVElP-",
        "colab": {
          "base_uri": "https://localhost:8080/"
        },
        "outputId": "a33fc7e3-b113-4616-c625-01ac79157b5d"
      },
      "execution_count": null,
      "outputs": [
        {
          "output_type": "execute_result",
          "data": {
            "text/plain": [
              "array([[ 0,  1,  2],\n",
              "       [ 3,  4,  5],\n",
              "       [ 6,  7,  8],\n",
              "       [ 9, 10, 11],\n",
              "       [12, 13, 14],\n",
              "       [15, 16, 17],\n",
              "       [18, 19, 20],\n",
              "       [21, 22, 23]])"
            ]
          },
          "metadata": {},
          "execution_count": 126
        }
      ]
    },
    {
      "cell_type": "code",
      "source": [
        "m[1::4]"
      ],
      "metadata": {
        "id": "yakJHWWXe5os",
        "colab": {
          "base_uri": "https://localhost:8080/"
        },
        "outputId": "4c7f00a1-550c-49f6-b9b3-99f78342fd3c"
      },
      "execution_count": null,
      "outputs": [
        {
          "output_type": "execute_result",
          "data": {
            "text/plain": [
              "array([[4, 5, 6, 7]])"
            ]
          },
          "metadata": {},
          "execution_count": 127
        }
      ]
    },
    {
      "cell_type": "code",
      "source": [
        "mm[1::4]"
      ],
      "metadata": {
        "id": "dAh0pR7qEuJI",
        "colab": {
          "base_uri": "https://localhost:8080/"
        },
        "outputId": "2e131d05-8b11-4e9b-fc11-da56d6e68d90"
      },
      "execution_count": null,
      "outputs": [
        {
          "output_type": "execute_result",
          "data": {
            "text/plain": [
              "array([[ 3,  4,  5],\n",
              "       [15, 16, 17]])"
            ]
          },
          "metadata": {},
          "execution_count": 128
        }
      ]
    },
    {
      "cell_type": "markdown",
      "source": [
        "###Boolean Indexing\n",
        "* Boolean conditions on arrays return a boolean array\n",
        "\n",
        "\n"
      ],
      "metadata": {
        "id": "nusZ41yfz7Rs"
      }
    },
    {
      "cell_type": "code",
      "source": [
        "m"
      ],
      "metadata": {
        "id": "pqVGtvSCfII2",
        "colab": {
          "base_uri": "https://localhost:8080/"
        },
        "outputId": "1c68f2d3-867d-4221-e4dc-0a74314a5465"
      },
      "execution_count": null,
      "outputs": [
        {
          "output_type": "execute_result",
          "data": {
            "text/plain": [
              "array([[ 0,  1,  2,  3],\n",
              "       [ 4,  5,  6,  7],\n",
              "       [ 8,  9, 10, 11]])"
            ]
          },
          "metadata": {},
          "execution_count": 129
        }
      ]
    },
    {
      "cell_type": "code",
      "source": [
        " #gives an array of True/False values.\n",
        " m < 6"
      ],
      "metadata": {
        "id": "ujqrnMb90i5z",
        "colab": {
          "base_uri": "https://localhost:8080/"
        },
        "outputId": "39308575-7bef-45e0-eb32-dee69a5025e4"
      },
      "execution_count": null,
      "outputs": [
        {
          "output_type": "execute_result",
          "data": {
            "text/plain": [
              "array([[ True,  True,  True,  True],\n",
              "       [ True,  True, False, False],\n",
              "       [False, False, False, False]])"
            ]
          },
          "metadata": {},
          "execution_count": 130
        }
      ]
    },
    {
      "cell_type": "markdown",
      "source": [
        "Boolean arrays can be used to filter elements"
      ],
      "metadata": {
        "id": "Jww5t9kv0pHp"
      }
    },
    {
      "cell_type": "code",
      "source": [
        "m[filter]"
      ],
      "metadata": {
        "id": "WmhrBlJwfRTN",
        "colab": {
          "base_uri": "https://localhost:8080/",
          "height": 175
        },
        "outputId": "db9d6145-9ea0-4d78-d5f7-ea15cabaf00d"
      },
      "execution_count": null,
      "outputs": [
        {
          "output_type": "error",
          "ename": "IndexError",
          "evalue": "only integers, slices (`:`), ellipsis (`...`), numpy.newaxis (`None`) and integer or boolean arrays are valid indices",
          "traceback": [
            "\u001b[0;31m---------------------------------------------------------------------------\u001b[0m",
            "\u001b[0;31mIndexError\u001b[0m                                Traceback (most recent call last)",
            "\u001b[0;32m<ipython-input-131-1ecaecb7f809>\u001b[0m in \u001b[0;36m<cell line: 1>\u001b[0;34m()\u001b[0m\n\u001b[0;32m----> 1\u001b[0;31m \u001b[0mm\u001b[0m\u001b[0;34m[\u001b[0m\u001b[0mfilter\u001b[0m\u001b[0;34m]\u001b[0m\u001b[0;34m\u001b[0m\u001b[0;34m\u001b[0m\u001b[0m\n\u001b[0m",
            "\u001b[0;31mIndexError\u001b[0m: only integers, slices (`:`), ellipsis (`...`), numpy.newaxis (`None`) and integer or boolean arrays are valid indices"
          ]
        }
      ]
    },
    {
      "cell_type": "code",
      "source": [
        "#returns a new array with elements less than 6.\n",
        "m[m < 6].reshape(2,-1)"
      ],
      "metadata": {
        "id": "GOIHlwup0qv1",
        "colab": {
          "base_uri": "https://localhost:8080/"
        },
        "outputId": "11451ae4-019d-423a-9bb5-74946dcc337d"
      },
      "execution_count": null,
      "outputs": [
        {
          "output_type": "execute_result",
          "data": {
            "text/plain": [
              "array([[0, 1, 2],\n",
              "       [3, 4, 5]])"
            ]
          },
          "metadata": {},
          "execution_count": 132
        }
      ]
    },
    {
      "cell_type": "markdown",
      "source": [
        "**Note** - The result of boolean indexing is a one-dimensional array, regardless of the original array's shape."
      ],
      "metadata": {
        "id": "0Aa14rGr0x50"
      }
    },
    {
      "cell_type": "code",
      "source": [
        "m"
      ],
      "metadata": {
        "id": "QnBacgsrfe6f",
        "colab": {
          "base_uri": "https://localhost:8080/"
        },
        "outputId": "94f50760-060f-4844-8d04-21ac998e34e1"
      },
      "execution_count": null,
      "outputs": [
        {
          "output_type": "execute_result",
          "data": {
            "text/plain": [
              "array([[ 0,  1,  2,  3],\n",
              "       [ 4,  5,  6,  7],\n",
              "       [ 8,  9, 10, 11]])"
            ]
          },
          "metadata": {},
          "execution_count": 133
        }
      ]
    },
    {
      "cell_type": "code",
      "source": [
        "m[m%2==0]"
      ],
      "metadata": {
        "id": "x3cIGz2m1T1k",
        "colab": {
          "base_uri": "https://localhost:8080/"
        },
        "outputId": "7854b5ca-260d-49bf-e720-3427d9665f27"
      },
      "execution_count": null,
      "outputs": [
        {
          "output_type": "execute_result",
          "data": {
            "text/plain": [
              "array([ 0,  2,  4,  6,  8, 10])"
            ]
          },
          "metadata": {},
          "execution_count": 134
        }
      ]
    },
    {
      "cell_type": "code",
      "source": [
        "m[m%2==0].reshape(2,3)"
      ],
      "metadata": {
        "id": "tjzo8Hu31aH1",
        "colab": {
          "base_uri": "https://localhost:8080/"
        },
        "outputId": "8c3d0e6c-80d0-4f05-c007-a4557b707fad"
      },
      "execution_count": null,
      "outputs": [
        {
          "output_type": "execute_result",
          "data": {
            "text/plain": [
              "array([[ 0,  2,  4],\n",
              "       [ 6,  8, 10]])"
            ]
          },
          "metadata": {},
          "execution_count": 135
        }
      ]
    },
    {
      "cell_type": "markdown",
      "source": [
        "##Array Handling and Functions\n"
      ],
      "metadata": {
        "id": "DWlesU271xgL"
      }
    },
    {
      "cell_type": "code",
      "source": [
        "\n",
        "import numpy as np\n",
        "\n",
        "arr_2d = np.array([[1, 2, 3], [4, 5, 6]])"
      ],
      "metadata": {
        "id": "59Zk9W57f1IO"
      },
      "execution_count": null,
      "outputs": []
    },
    {
      "cell_type": "code",
      "source": [
        "\n",
        "arr_2d"
      ],
      "metadata": {
        "id": "9ATfw_Hpf1f1",
        "colab": {
          "base_uri": "https://localhost:8080/"
        },
        "outputId": "2e1a8a27-914e-43ed-c8d2-5e51d6a56306"
      },
      "execution_count": null,
      "outputs": [
        {
          "output_type": "execute_result",
          "data": {
            "text/plain": [
              "array([[1, 2, 3],\n",
              "       [4, 5, 6]])"
            ]
          },
          "metadata": {},
          "execution_count": 137
        }
      ]
    },
    {
      "cell_type": "code",
      "source": [
        "arr_2d.shape"
      ],
      "metadata": {
        "id": "qiujuJL-f2dJ",
        "colab": {
          "base_uri": "https://localhost:8080/"
        },
        "outputId": "b149f744-cdda-47e5-8ee1-0b54bb0407cb"
      },
      "execution_count": null,
      "outputs": [
        {
          "output_type": "execute_result",
          "data": {
            "text/plain": [
              "(2, 3)"
            ]
          },
          "metadata": {},
          "execution_count": 138
        }
      ]
    },
    {
      "cell_type": "code",
      "source": [
        "np.sum(arr_2d)"
      ],
      "metadata": {
        "id": "_vy_QG_fgDr8",
        "colab": {
          "base_uri": "https://localhost:8080/"
        },
        "outputId": "e83b3be5-6556-470e-bdda-d051ee2d6fbe"
      },
      "execution_count": null,
      "outputs": [
        {
          "output_type": "execute_result",
          "data": {
            "text/plain": [
              "21"
            ]
          },
          "metadata": {},
          "execution_count": 143
        }
      ]
    },
    {
      "cell_type": "code",
      "source": [
        "np.sum(arr_2d,axis=0) #Summing up along columns"
      ],
      "metadata": {
        "id": "dWtUKy-Mf6dh",
        "colab": {
          "base_uri": "https://localhost:8080/"
        },
        "outputId": "c1e38acf-f36c-46e0-91be-02ff54acc50b"
      },
      "execution_count": null,
      "outputs": [
        {
          "output_type": "execute_result",
          "data": {
            "text/plain": [
              "array([5, 7, 9])"
            ]
          },
          "metadata": {},
          "execution_count": 144
        }
      ]
    },
    {
      "cell_type": "code",
      "source": [
        "np.sum(arr_2d,axis=1) #Along the rows"
      ],
      "metadata": {
        "id": "rxc9DDEwgK6H",
        "colab": {
          "base_uri": "https://localhost:8080/"
        },
        "outputId": "7816b446-339c-4f1e-bc11-c4d14b253027"
      },
      "execution_count": null,
      "outputs": [
        {
          "output_type": "execute_result",
          "data": {
            "text/plain": [
              "array([ 6, 15])"
            ]
          },
          "metadata": {},
          "execution_count": 145
        }
      ]
    },
    {
      "cell_type": "code",
      "source": [
        "\n",
        "sum_axis_0 = np.sum(arr_2d, axis=0)  # Sum along columns\n",
        "sum_axis_1 = np.sum(arr_2d, axis=1)  # Sum along rows\n"
      ],
      "metadata": {
        "id": "5m-v9TLr2FWr"
      },
      "execution_count": null,
      "outputs": []
    },
    {
      "cell_type": "code",
      "source": [
        "sum_axis_0"
      ],
      "metadata": {
        "id": "Yf5olszK2OeA",
        "colab": {
          "base_uri": "https://localhost:8080/"
        },
        "outputId": "368b488a-8aea-40a5-df84-79256a5bb8e1"
      },
      "execution_count": null,
      "outputs": [
        {
          "output_type": "execute_result",
          "data": {
            "text/plain": [
              "array([5, 7, 9])"
            ]
          },
          "metadata": {},
          "execution_count": 147
        }
      ]
    },
    {
      "cell_type": "code",
      "source": [
        "sum_axis_1"
      ],
      "metadata": {
        "id": "9R7oJ3zz2PXf",
        "colab": {
          "base_uri": "https://localhost:8080/"
        },
        "outputId": "06e582a8-644b-4f9c-98f8-3c09557de9c5"
      },
      "execution_count": null,
      "outputs": [
        {
          "output_type": "execute_result",
          "data": {
            "text/plain": [
              "array([ 6, 15])"
            ]
          },
          "metadata": {},
          "execution_count": 148
        }
      ]
    },
    {
      "cell_type": "code",
      "source": [
        "import numpy as np\n",
        "\n",
        "arr_3d = np.random.rand(2, 3, 4)"
      ],
      "metadata": {
        "id": "E6K6fIIGgo9d"
      },
      "execution_count": null,
      "outputs": []
    },
    {
      "cell_type": "code",
      "source": [
        "arr_3d"
      ],
      "metadata": {
        "id": "2HRdCnBJguYM",
        "colab": {
          "base_uri": "https://localhost:8080/"
        },
        "outputId": "569d5107-8f23-4498-9090-193462102de4"
      },
      "execution_count": null,
      "outputs": [
        {
          "output_type": "execute_result",
          "data": {
            "text/plain": [
              "array([[[0.8055035 , 0.80688294, 0.69888831, 0.16473787],\n",
              "        [0.2103549 , 0.32782211, 0.38289383, 0.21492085],\n",
              "        [0.10239726, 0.49300839, 0.1966508 , 0.23019179]],\n",
              "\n",
              "       [[0.21780693, 0.38323896, 0.55762597, 0.63290212],\n",
              "        [0.79604282, 0.50296936, 0.52270237, 0.03878033],\n",
              "        [0.49114542, 0.13397608, 0.58294445, 0.07988501]]])"
            ]
          },
          "metadata": {},
          "execution_count": 150
        }
      ]
    },
    {
      "cell_type": "code",
      "source": [
        "0.77728709+0.13542193"
      ],
      "metadata": {
        "id": "te5dhCQbh1Jk",
        "colab": {
          "base_uri": "https://localhost:8080/"
        },
        "outputId": "8626fdcc-729f-4b34-a94a-aaf16f9d0256"
      },
      "execution_count": null,
      "outputs": [
        {
          "output_type": "execute_result",
          "data": {
            "text/plain": [
              "0.91270902"
            ]
          },
          "metadata": {},
          "execution_count": 151
        }
      ]
    },
    {
      "cell_type": "code",
      "source": [
        "0.49955963+0.82864624"
      ],
      "metadata": {
        "id": "DCBud15sh2aK",
        "colab": {
          "base_uri": "https://localhost:8080/"
        },
        "outputId": "a4648307-26b2-4a31-c0c9-75ba848f7883"
      },
      "execution_count": null,
      "outputs": [
        {
          "output_type": "execute_result",
          "data": {
            "text/plain": [
              "1.32820587"
            ]
          },
          "metadata": {},
          "execution_count": 152
        }
      ]
    },
    {
      "cell_type": "code",
      "source": [
        "\n",
        "sum_along_depth = np.sum(arr_3d, axis=0)  # Collapse along depth\n",
        "sum_along_depth"
      ],
      "metadata": {
        "id": "fQUhUCeY2Uoa",
        "colab": {
          "base_uri": "https://localhost:8080/"
        },
        "outputId": "608bbbf0-bd43-42f3-c368-6b64c6071808"
      },
      "execution_count": null,
      "outputs": [
        {
          "output_type": "execute_result",
          "data": {
            "text/plain": [
              "array([[1.02331043, 1.1901219 , 1.25651428, 0.79763999],\n",
              "       [1.00639771, 0.83079148, 0.90559619, 0.25370118],\n",
              "       [0.59354267, 0.62698447, 0.77959525, 0.3100768 ]])"
            ]
          },
          "metadata": {},
          "execution_count": 153
        }
      ]
    },
    {
      "cell_type": "markdown",
      "source": [
        "##Random Number Generation\n",
        "\n",
        " 1. np.random.randint():Generates random integers\n"
      ],
      "metadata": {
        "id": "ldHIvFJe06ZN"
      }
    },
    {
      "cell_type": "code",
      "source": [
        "np.random.randint(20,100)"
      ],
      "metadata": {
        "id": "8loKjBy81ohE",
        "colab": {
          "base_uri": "https://localhost:8080/"
        },
        "outputId": "81ff7968-2c3a-4a19-9680-5a7d4a0e3fc9"
      },
      "execution_count": null,
      "outputs": [
        {
          "output_type": "execute_result",
          "data": {
            "text/plain": [
              "44"
            ]
          },
          "metadata": {},
          "execution_count": 154
        }
      ]
    },
    {
      "cell_type": "markdown",
      "source": [
        "2. np.random.rand(): Generates random floats between 0 and 1"
      ],
      "metadata": {
        "id": "1pxtsrVx1wZ4"
      }
    },
    {
      "cell_type": "code",
      "source": [
        "np.random.randint(2)"
      ],
      "metadata": {
        "id": "DV6s8JLBjJHK",
        "colab": {
          "base_uri": "https://localhost:8080/"
        },
        "outputId": "7ca31d4d-2cfc-4ad8-ce35-80ba2eece5bd"
      },
      "execution_count": null,
      "outputs": [
        {
          "output_type": "execute_result",
          "data": {
            "text/plain": [
              "1"
            ]
          },
          "metadata": {},
          "execution_count": 155
        }
      ]
    },
    {
      "cell_type": "code",
      "source": [
        "np.random.rand(3)"
      ],
      "metadata": {
        "id": "i52BZjVSjQZI",
        "colab": {
          "base_uri": "https://localhost:8080/"
        },
        "outputId": "229ace5a-6e4a-432b-d5d8-a90ebc789d37"
      },
      "execution_count": null,
      "outputs": [
        {
          "output_type": "execute_result",
          "data": {
            "text/plain": [
              "array([0.66837285, 0.08925705, 0.06401881])"
            ]
          },
          "metadata": {},
          "execution_count": 156
        }
      ]
    },
    {
      "cell_type": "code",
      "source": [
        "np.random.rand(5)"
      ],
      "metadata": {
        "id": "F4aikZUV1wAO",
        "colab": {
          "base_uri": "https://localhost:8080/"
        },
        "outputId": "515ccbc8-dfac-4e9c-a392-0e5460a2d90f"
      },
      "execution_count": null,
      "outputs": [
        {
          "output_type": "execute_result",
          "data": {
            "text/plain": [
              "array([0.64342244, 0.91947447, 0.87249099, 0.98535418, 0.00643838])"
            ]
          },
          "metadata": {},
          "execution_count": 157
        }
      ]
    },
    {
      "cell_type": "markdown",
      "source": [
        "3. Scaling and Shifting for Custom Ranges:To generate random numbers within a specific range, scale and shift the output of np.random.rand()."
      ],
      "metadata": {
        "id": "47HlfIMM5eGl"
      }
    },
    {
      "cell_type": "code",
      "source": [
        "np.random.rand(10)*35+80"
      ],
      "metadata": {
        "id": "PwS-mXMvjfce",
        "colab": {
          "base_uri": "https://localhost:8080/"
        },
        "outputId": "24a90c5a-ee0c-4a00-a2e6-0262a6f1eaae"
      },
      "execution_count": null,
      "outputs": [
        {
          "output_type": "execute_result",
          "data": {
            "text/plain": [
              "array([109.63216849,  92.50081897,  82.70197549,  85.66452259,\n",
              "       111.51717169,  83.77914093,  92.33338365, 100.63562135,\n",
              "       104.59926597,  84.83579376])"
            ]
          },
          "metadata": {},
          "execution_count": 158
        }
      ]
    },
    {
      "cell_type": "code",
      "source": [],
      "metadata": {
        "id": "yIH6ymn9jikg"
      },
      "execution_count": null,
      "outputs": []
    },
    {
      "cell_type": "code",
      "source": [],
      "metadata": {
        "id": "BZDguHmWjigi"
      },
      "execution_count": null,
      "outputs": []
    },
    {
      "cell_type": "code",
      "source": [],
      "metadata": {
        "id": "nojSMH9njibV"
      },
      "execution_count": null,
      "outputs": []
    },
    {
      "cell_type": "code",
      "source": [],
      "metadata": {
        "id": "N07Kc2x5jiWv"
      },
      "execution_count": null,
      "outputs": []
    },
    {
      "cell_type": "code",
      "source": [],
      "metadata": {
        "id": "dAuLxVPEjiRt"
      },
      "execution_count": null,
      "outputs": []
    },
    {
      "cell_type": "code",
      "source": [],
      "metadata": {
        "id": "o5IcFFXOjiMc"
      },
      "execution_count": null,
      "outputs": []
    },
    {
      "cell_type": "code",
      "source": [],
      "metadata": {
        "id": "P9tVjCL5jht8"
      },
      "execution_count": null,
      "outputs": []
    },
    {
      "cell_type": "code",
      "source": [
        "#scales the range to 25 and shifts it to start from 50.\n",
        "# 50+ np.random.rand()* 25"
      ],
      "metadata": {
        "id": "M4anrUog5gb6"
      },
      "execution_count": null,
      "outputs": []
    },
    {
      "cell_type": "markdown",
      "source": [
        "# Vector and Matrix Operations in NumPy\n",
        "* In NumPy, a vector is strictly a one-dimensional array. For example, [1, 2, 3] in NumPy is considered only as a 1D array, unlike in traditional mathematics where it might be seen as a 1x3 or 3x1 matrix.\n",
        "\n",
        "\n",
        "* A 2D array or higher in NumPy is treated as a matrix or a tensor. This distinction is crucial for understanding how NumPy handles operations on these structures."
      ],
      "metadata": {
        "id": "Bb9yUUdQ1eHm"
      }
    },
    {
      "cell_type": "markdown",
      "source": [
        "## Vector Operations\n",
        " * Addition and Multiplication\n",
        " * Addition: Adding two vectors, [1, 2, 3] and [2, 2, 2], resulting in [3, 4, 5].\n",
        "\n",
        " * Element-wise Multiplication: Multiplying the same vectors element-wise (using the * operator) results in [2, 4, 6]."
      ],
      "metadata": {
        "id": "22_ZBMnf5GCa"
      }
    },
    {
      "cell_type": "code",
      "source": [
        "m1 = np.arange(1,10)\n",
        "\n",
        "m2 = np.arange(1,10)"
      ],
      "metadata": {
        "id": "42o7Gjt_5w7i"
      },
      "execution_count": null,
      "outputs": []
    },
    {
      "cell_type": "code",
      "source": [
        "m1"
      ],
      "metadata": {
        "id": "e8z-gWjolbRo",
        "colab": {
          "base_uri": "https://localhost:8080/"
        },
        "outputId": "a5e2fdac-ea99-4152-a447-202ac645cc73"
      },
      "execution_count": null,
      "outputs": [
        {
          "output_type": "execute_result",
          "data": {
            "text/plain": [
              "array([1, 2, 3, 4, 5, 6, 7, 8, 9])"
            ]
          },
          "metadata": {},
          "execution_count": 161
        }
      ]
    },
    {
      "cell_type": "code",
      "source": [
        "m2"
      ],
      "metadata": {
        "id": "DUo-7W2Tlbtc",
        "colab": {
          "base_uri": "https://localhost:8080/"
        },
        "outputId": "08efe207-cce9-4ddf-d6aa-f6c840c78861"
      },
      "execution_count": null,
      "outputs": [
        {
          "output_type": "execute_result",
          "data": {
            "text/plain": [
              "array([1, 2, 3, 4, 5, 6, 7, 8, 9])"
            ]
          },
          "metadata": {},
          "execution_count": 162
        }
      ]
    },
    {
      "cell_type": "code",
      "source": [
        "m1+m2"
      ],
      "metadata": {
        "id": "Uym6dabd58kc",
        "colab": {
          "base_uri": "https://localhost:8080/"
        },
        "outputId": "8ac45a3c-428b-430d-9874-4740de8faeee"
      },
      "execution_count": null,
      "outputs": [
        {
          "output_type": "execute_result",
          "data": {
            "text/plain": [
              "array([ 2,  4,  6,  8, 10, 12, 14, 16, 18])"
            ]
          },
          "metadata": {},
          "execution_count": 163
        }
      ]
    },
    {
      "cell_type": "code",
      "source": [
        "xx=m1*m2\n",
        "xx"
      ],
      "metadata": {
        "id": "fMRLymxJ5-gy",
        "colab": {
          "base_uri": "https://localhost:8080/"
        },
        "outputId": "c854fec6-1d74-4334-9db7-fd9350df0d28"
      },
      "execution_count": null,
      "outputs": [
        {
          "output_type": "execute_result",
          "data": {
            "text/plain": [
              "array([ 1,  4,  9, 16, 25, 36, 49, 64, 81])"
            ]
          },
          "metadata": {},
          "execution_count": 164
        }
      ]
    },
    {
      "cell_type": "markdown",
      "source": [
        "##Matrix Multiplication\n",
        "* Different Methods\n",
        " * **np.matmul:** Specifically for matrix multiplication.It's more straightforward but less flexible compared to np.dot.\n",
        " * **@ Operator:** An alternative syntax for matrix multiplication.\n",
        " * **np.dot:** Versatile, used for both matrix multiplication and other operations like inner products, depending on the input array dimensions."
      ],
      "metadata": {
        "id": "jH25BH6i6YaJ"
      }
    },
    {
      "cell_type": "code",
      "source": [
        "A = np.array([[1, 2], [3, 4]])\n",
        "B = np.array([[5, 6], [7, 8]])"
      ],
      "metadata": {
        "id": "5lPYTzZVlpXx"
      },
      "execution_count": null,
      "outputs": []
    },
    {
      "cell_type": "code",
      "source": [
        "A = np.array([[1, 2], [3, 4]])\n",
        "B = np.array([[5, 6], [7, 8]])\n",
        "\n",
        "np.matmul(A, B)"
      ],
      "metadata": {
        "id": "vaA_UHse7i6k",
        "colab": {
          "base_uri": "https://localhost:8080/"
        },
        "outputId": "c00e3aaf-e3c2-46da-a3c2-5e7690709913"
      },
      "execution_count": null,
      "outputs": [
        {
          "output_type": "execute_result",
          "data": {
            "text/plain": [
              "array([[19, 22],\n",
              "       [43, 50]])"
            ]
          },
          "metadata": {},
          "execution_count": 166
        }
      ]
    },
    {
      "cell_type": "code",
      "source": [
        "A @ B"
      ],
      "metadata": {
        "id": "P6CUWKVI7ipl",
        "colab": {
          "base_uri": "https://localhost:8080/"
        },
        "outputId": "c238b17b-d154-459c-92ef-e11208696d90"
      },
      "execution_count": null,
      "outputs": [
        {
          "output_type": "execute_result",
          "data": {
            "text/plain": [
              "array([[19, 22],\n",
              "       [43, 50]])"
            ]
          },
          "metadata": {},
          "execution_count": 167
        }
      ]
    },
    {
      "cell_type": "code",
      "source": [
        "B @ A"
      ],
      "metadata": {
        "id": "_Yxof3Pc8Pww",
        "colab": {
          "base_uri": "https://localhost:8080/"
        },
        "outputId": "d759fba7-292c-48c7-a965-5c74245bafb5"
      },
      "execution_count": null,
      "outputs": [
        {
          "output_type": "execute_result",
          "data": {
            "text/plain": [
              "array([[23, 34],\n",
              "       [31, 46]])"
            ]
          },
          "metadata": {},
          "execution_count": 168
        }
      ]
    },
    {
      "cell_type": "code",
      "source": [
        "A"
      ],
      "metadata": {
        "id": "ZWD--hvDmqaQ",
        "colab": {
          "base_uri": "https://localhost:8080/"
        },
        "outputId": "0153820e-4d23-4d81-a9e7-8af8e95a636c"
      },
      "execution_count": null,
      "outputs": [
        {
          "output_type": "execute_result",
          "data": {
            "text/plain": [
              "array([[1, 2],\n",
              "       [3, 4]])"
            ]
          },
          "metadata": {},
          "execution_count": 169
        }
      ]
    },
    {
      "cell_type": "code",
      "source": [
        "B"
      ],
      "metadata": {
        "id": "oEIGoshymq7j",
        "colab": {
          "base_uri": "https://localhost:8080/"
        },
        "outputId": "88694b0e-c470-4bda-af92-286eee8fad70"
      },
      "execution_count": null,
      "outputs": [
        {
          "output_type": "execute_result",
          "data": {
            "text/plain": [
              "array([[5, 6],\n",
              "       [7, 8]])"
            ]
          },
          "metadata": {},
          "execution_count": 170
        }
      ]
    },
    {
      "cell_type": "code",
      "source": [
        "np.dot(m1,m2)"
      ],
      "metadata": {
        "id": "7TCXJ_fDmw-b",
        "colab": {
          "base_uri": "https://localhost:8080/"
        },
        "outputId": "4ccf1252-b64c-4344-92ae-e889989d2619"
      },
      "execution_count": null,
      "outputs": [
        {
          "output_type": "execute_result",
          "data": {
            "text/plain": [
              "285"
            ]
          },
          "metadata": {},
          "execution_count": 171
        }
      ]
    },
    {
      "cell_type": "code",
      "source": [
        "A.shape"
      ],
      "metadata": {
        "id": "5c5NXO5xm1UC",
        "colab": {
          "base_uri": "https://localhost:8080/"
        },
        "outputId": "66b0e9a4-8490-466e-dc73-8b8eaaf0e34b"
      },
      "execution_count": null,
      "outputs": [
        {
          "output_type": "execute_result",
          "data": {
            "text/plain": [
              "(2, 2)"
            ]
          },
          "metadata": {},
          "execution_count": 172
        }
      ]
    },
    {
      "cell_type": "code",
      "source": [
        "B.shape"
      ],
      "metadata": {
        "id": "kTeuA2ZGm18g",
        "colab": {
          "base_uri": "https://localhost:8080/"
        },
        "outputId": "41c5465f-66bd-49c9-f7c9-92a09daf4f6d"
      },
      "execution_count": null,
      "outputs": [
        {
          "output_type": "execute_result",
          "data": {
            "text/plain": [
              "(2, 2)"
            ]
          },
          "metadata": {},
          "execution_count": 173
        }
      ]
    },
    {
      "cell_type": "code",
      "source": [
        "np.dot(A, B)"
      ],
      "metadata": {
        "id": "fxZE-jhK7iKb",
        "colab": {
          "base_uri": "https://localhost:8080/"
        },
        "outputId": "41dcfd32-93a8-4695-c95f-dc74cf09020f"
      },
      "execution_count": null,
      "outputs": [
        {
          "output_type": "execute_result",
          "data": {
            "text/plain": [
              "array([[19, 22],\n",
              "       [43, 50]])"
            ]
          },
          "metadata": {},
          "execution_count": 174
        }
      ]
    },
    {
      "cell_type": "markdown",
      "source": [
        "##Element-wise vs. Matrix Multiplication\n",
        " * Element-wise Multiplication: Requires arrays of identical shapes. It multiplies corresponding elements.\n",
        " * Matrix Multiplication: Involves dot products of rows and columns from each matrix. The dimensions of the matrices must be compatible (e.g., m x n and n x p)."
      ],
      "metadata": {
        "id": "q0m85nrD6zpW"
      }
    },
    {
      "cell_type": "markdown",
      "source": [
        "## Converting Matrices to Vectors\n",
        "###Matrix to Vector Conversion Methods:\n",
        "* flatten(), ravel(), reshape() are methods to convert a matrix to a vector.\n",
        "* flatten() and ravel() directly convert a matrix to a 1D array (vector).\n",
        "* reshape() requires specifying dimensions. To convert a 3x4 matrix to a vector, use reshape(12,) or reshape(-1,). The -1 in reshape auto-calculates the needed dimension.\n",
        "\n"
      ],
      "metadata": {
        "id": "gUwETjf3UN1k"
      }
    },
    {
      "cell_type": "code",
      "source": [
        "A = np.arange(12).reshape(3,4);\n",
        "A"
      ],
      "metadata": {
        "id": "Webm1BHkZGTi",
        "colab": {
          "base_uri": "https://localhost:8080/"
        },
        "outputId": "48efa02a-e022-4cc9-bf92-48cf729ed6cc"
      },
      "execution_count": null,
      "outputs": [
        {
          "output_type": "execute_result",
          "data": {
            "text/plain": [
              "array([[ 0,  1,  2,  3],\n",
              "       [ 4,  5,  6,  7],\n",
              "       [ 8,  9, 10, 11]])"
            ]
          },
          "metadata": {},
          "execution_count": 175
        }
      ]
    },
    {
      "cell_type": "code",
      "source": [
        "# matrix--> N Dimensional\n",
        "# vector--> 1 Dimensional"
      ],
      "metadata": {
        "id": "_IaO3rfjnNFN"
      },
      "execution_count": null,
      "outputs": []
    },
    {
      "cell_type": "code",
      "source": [
        "A.reshape(-1)"
      ],
      "metadata": {
        "id": "Ml-my3zmnUCD",
        "colab": {
          "base_uri": "https://localhost:8080/"
        },
        "outputId": "9b23074e-7017-439c-d647-a9f71012598b"
      },
      "execution_count": null,
      "outputs": [
        {
          "output_type": "execute_result",
          "data": {
            "text/plain": [
              "array([ 0,  1,  2,  3,  4,  5,  6,  7,  8,  9, 10, 11])"
            ]
          },
          "metadata": {},
          "execution_count": 177
        }
      ]
    },
    {
      "cell_type": "code",
      "source": [
        "A.flatten()"
      ],
      "metadata": {
        "id": "I_WLlsCVnW7X",
        "colab": {
          "base_uri": "https://localhost:8080/"
        },
        "outputId": "ce6b43fe-55c0-4cbb-8c09-409b24411569"
      },
      "execution_count": null,
      "outputs": [
        {
          "output_type": "execute_result",
          "data": {
            "text/plain": [
              "array([ 0,  1,  2,  3,  4,  5,  6,  7,  8,  9, 10, 11])"
            ]
          },
          "metadata": {},
          "execution_count": 178
        }
      ]
    },
    {
      "cell_type": "code",
      "source": [
        "A.ravel()"
      ],
      "metadata": {
        "id": "RCUEkn7bnZCl",
        "colab": {
          "base_uri": "https://localhost:8080/"
        },
        "outputId": "87411045-c184-466b-bd1a-8ac2fefb366c"
      },
      "execution_count": null,
      "outputs": [
        {
          "output_type": "execute_result",
          "data": {
            "text/plain": [
              "array([ 0,  1,  2,  3,  4,  5,  6,  7,  8,  9, 10, 11])"
            ]
          },
          "metadata": {},
          "execution_count": 179
        }
      ]
    },
    {
      "cell_type": "code",
      "source": [
        "#converting back to vector(1D)\n",
        "A.flatten()"
      ],
      "metadata": {
        "id": "uSdJxxJOZYd2",
        "colab": {
          "base_uri": "https://localhost:8080/"
        },
        "outputId": "a114a92f-fc75-45f5-eeee-1caf613994c9"
      },
      "execution_count": null,
      "outputs": [
        {
          "output_type": "execute_result",
          "data": {
            "text/plain": [
              "array([ 0,  1,  2,  3,  4,  5,  6,  7,  8,  9, 10, 11])"
            ]
          },
          "metadata": {},
          "execution_count": 180
        }
      ]
    },
    {
      "cell_type": "code",
      "source": [
        "A.ravel()"
      ],
      "metadata": {
        "id": "zbiiosnwZkJd",
        "colab": {
          "base_uri": "https://localhost:8080/"
        },
        "outputId": "e29d8ec4-6f70-41c0-e297-9c25e7351fc5"
      },
      "execution_count": null,
      "outputs": [
        {
          "output_type": "execute_result",
          "data": {
            "text/plain": [
              "array([ 0,  1,  2,  3,  4,  5,  6,  7,  8,  9, 10, 11])"
            ]
          },
          "metadata": {},
          "execution_count": 181
        }
      ]
    },
    {
      "cell_type": "code",
      "source": [
        "#2 Dimension\n",
        "A.reshape(1,12)"
      ],
      "metadata": {
        "id": "a_7lGbUFZnGv",
        "colab": {
          "base_uri": "https://localhost:8080/"
        },
        "outputId": "9781d14e-9f00-4549-ba29-ee0d591132f4"
      },
      "execution_count": null,
      "outputs": [
        {
          "output_type": "execute_result",
          "data": {
            "text/plain": [
              "array([[ 0,  1,  2,  3,  4,  5,  6,  7,  8,  9, 10, 11]])"
            ]
          },
          "metadata": {},
          "execution_count": 182
        }
      ]
    },
    {
      "cell_type": "code",
      "source": [
        "#1 Dimension\n",
        "A.reshape(-1)"
      ],
      "metadata": {
        "id": "rFiPixoJZ8fX",
        "colab": {
          "base_uri": "https://localhost:8080/"
        },
        "outputId": "327d7826-d22a-46d3-9215-8f3c3bb27145"
      },
      "execution_count": null,
      "outputs": [
        {
          "output_type": "execute_result",
          "data": {
            "text/plain": [
              "array([ 0,  1,  2,  3,  4,  5,  6,  7,  8,  9, 10, 11])"
            ]
          },
          "metadata": {},
          "execution_count": 183
        }
      ]
    },
    {
      "cell_type": "markdown",
      "source": [
        "#Advanced Concepts"
      ],
      "metadata": {
        "id": "vtYEoUaskZq6"
      }
    },
    {
      "cell_type": "markdown",
      "source": [
        "\n",
        "\n",
        "##Broadcasting\n",
        " * Broadcasting allows operations on arrays of different shapes.\n",
        "\n",
        " * Conditions for Broadcasting: At least one dimension must match, and the other dimensions must be compatible or equal to 1\n",
        "\n",
        "\n",
        "\n",
        "  "
      ],
      "metadata": {
        "id": "pHiIf3dk9yBR"
      }
    },
    {
      "cell_type": "code",
      "source": [
        "A= np.arange(12).reshape(4,3)\n",
        "A"
      ],
      "metadata": {
        "id": "nqz6_0jxmmig",
        "colab": {
          "base_uri": "https://localhost:8080/"
        },
        "outputId": "f2c82221-3a91-474e-9c35-fccef6d5ef0a"
      },
      "execution_count": null,
      "outputs": [
        {
          "output_type": "execute_result",
          "data": {
            "text/plain": [
              "array([[ 0,  1,  2],\n",
              "       [ 3,  4,  5],\n",
              "       [ 6,  7,  8],\n",
              "       [ 9, 10, 11]])"
            ]
          },
          "metadata": {},
          "execution_count": 184
        }
      ]
    },
    {
      "cell_type": "code",
      "source": [
        "B= np.arange(3).reshape(1,3)\n",
        "B"
      ],
      "metadata": {
        "id": "ZawKCxG2pYjD",
        "colab": {
          "base_uri": "https://localhost:8080/"
        },
        "outputId": "74597290-9221-44c4-e7e6-3c29e738c307"
      },
      "execution_count": null,
      "outputs": [
        {
          "output_type": "execute_result",
          "data": {
            "text/plain": [
              "array([[0, 1, 2]])"
            ]
          },
          "metadata": {},
          "execution_count": 185
        }
      ]
    },
    {
      "cell_type": "code",
      "source": [
        "print(A.shape,B.shape)"
      ],
      "metadata": {
        "id": "OBMqSrAhpgK-",
        "colab": {
          "base_uri": "https://localhost:8080/"
        },
        "outputId": "860cf14b-7c3d-4ffa-a2f2-ae1dd788172e"
      },
      "execution_count": null,
      "outputs": [
        {
          "output_type": "stream",
          "name": "stdout",
          "text": [
            "(4, 3) (1, 3)\n"
          ]
        }
      ]
    },
    {
      "cell_type": "code",
      "source": [
        "A+B"
      ],
      "metadata": {
        "id": "0HrdZLARplr-",
        "colab": {
          "base_uri": "https://localhost:8080/"
        },
        "outputId": "0f75e364-6f07-47c5-8a85-2dad0cf8634e"
      },
      "execution_count": null,
      "outputs": [
        {
          "output_type": "execute_result",
          "data": {
            "text/plain": [
              "array([[ 0,  2,  4],\n",
              "       [ 3,  5,  7],\n",
              "       [ 6,  8, 10],\n",
              "       [ 9, 11, 13]])"
            ]
          },
          "metadata": {},
          "execution_count": 187
        }
      ]
    },
    {
      "cell_type": "markdown",
      "source": [
        "## Transpose Operations\n",
        " * Transposing an array can make it compatible for broadcasting."
      ],
      "metadata": {
        "id": "fLkfEj8umnal"
      }
    },
    {
      "cell_type": "code",
      "source": [
        "a = np.arange(3)"
      ],
      "metadata": {
        "id": "AH8a-89JoZ57"
      },
      "execution_count": null,
      "outputs": []
    },
    {
      "cell_type": "code",
      "source": [
        "a.shape"
      ],
      "metadata": {
        "id": "KaTq2kRhoaYz",
        "colab": {
          "base_uri": "https://localhost:8080/"
        },
        "outputId": "79c0485f-5137-4c90-adc9-481228f73dff"
      },
      "execution_count": null,
      "outputs": [
        {
          "output_type": "execute_result",
          "data": {
            "text/plain": [
              "(3,)"
            ]
          },
          "metadata": {},
          "execution_count": 189
        }
      ]
    },
    {
      "cell_type": "code",
      "source": [
        "a"
      ],
      "metadata": {
        "id": "ApJY1OZooa-H",
        "colab": {
          "base_uri": "https://localhost:8080/"
        },
        "outputId": "2edaa7f9-0b19-44e0-d9f0-4eaa53d2d01c"
      },
      "execution_count": null,
      "outputs": [
        {
          "output_type": "execute_result",
          "data": {
            "text/plain": [
              "array([0, 1, 2])"
            ]
          },
          "metadata": {},
          "execution_count": 190
        }
      ]
    },
    {
      "cell_type": "code",
      "source": [
        "\n",
        "d = a.T"
      ],
      "metadata": {
        "id": "_DGRuW2C-YCT"
      },
      "execution_count": null,
      "outputs": []
    },
    {
      "cell_type": "code",
      "source": [
        "b= np.arange(12).reshape(3,4)"
      ],
      "metadata": {
        "id": "-ygY0sW1okQS"
      },
      "execution_count": null,
      "outputs": []
    },
    {
      "cell_type": "code",
      "source": [
        "d.shape"
      ],
      "metadata": {
        "id": "5jv6tqHOM4m5",
        "colab": {
          "base_uri": "https://localhost:8080/"
        },
        "outputId": "009da123-93a9-4e89-c41c-e32897001a0a"
      },
      "execution_count": null,
      "outputs": [
        {
          "output_type": "execute_result",
          "data": {
            "text/plain": [
              "(3,)"
            ]
          },
          "metadata": {},
          "execution_count": 193
        }
      ]
    },
    {
      "cell_type": "code",
      "source": [
        "b.shape"
      ],
      "metadata": {
        "id": "8Fp8oB5oolMH",
        "colab": {
          "base_uri": "https://localhost:8080/"
        },
        "outputId": "cc72fdc7-73cc-4c2b-c074-877e5fc3e5fe"
      },
      "execution_count": null,
      "outputs": [
        {
          "output_type": "execute_result",
          "data": {
            "text/plain": [
              "(3, 4)"
            ]
          },
          "metadata": {},
          "execution_count": 194
        }
      ]
    },
    {
      "cell_type": "code",
      "source": [
        "\n",
        "c=b.T"
      ],
      "metadata": {
        "id": "NTKlx9WJ_SjD"
      },
      "execution_count": null,
      "outputs": []
    },
    {
      "cell_type": "code",
      "source": [
        "c.dtype\n"
      ],
      "metadata": {
        "id": "L0D5-MuLop5n",
        "colab": {
          "base_uri": "https://localhost:8080/"
        },
        "outputId": "67c38539-91d3-49a2-9a77-4c3d47f9716d"
      },
      "execution_count": null,
      "outputs": [
        {
          "output_type": "execute_result",
          "data": {
            "text/plain": [
              "dtype('int64')"
            ]
          },
          "metadata": {},
          "execution_count": 196
        }
      ]
    },
    {
      "cell_type": "code",
      "source": [
        "a"
      ],
      "metadata": {
        "id": "Djn-Hp4bouEV",
        "colab": {
          "base_uri": "https://localhost:8080/"
        },
        "outputId": "8dce3455-e07e-432f-ca29-674d5a33bc23"
      },
      "execution_count": null,
      "outputs": [
        {
          "output_type": "execute_result",
          "data": {
            "text/plain": [
              "array([0, 1, 2])"
            ]
          },
          "metadata": {},
          "execution_count": 197
        }
      ]
    },
    {
      "cell_type": "code",
      "source": [
        "c"
      ],
      "metadata": {
        "id": "KkfDzK6YowbO",
        "colab": {
          "base_uri": "https://localhost:8080/"
        },
        "outputId": "49dfc5c3-29d2-408b-f143-2f3791febfa1"
      },
      "execution_count": null,
      "outputs": [
        {
          "output_type": "execute_result",
          "data": {
            "text/plain": [
              "array([[ 0,  4,  8],\n",
              "       [ 1,  5,  9],\n",
              "       [ 2,  6, 10],\n",
              "       [ 3,  7, 11]])"
            ]
          },
          "metadata": {},
          "execution_count": 198
        }
      ]
    },
    {
      "cell_type": "code",
      "source": [
        "a+b.T"
      ],
      "metadata": {
        "id": "2nVndN_LqMb1",
        "colab": {
          "base_uri": "https://localhost:8080/"
        },
        "outputId": "44d2dfec-50a1-4aff-e7eb-66c6cdf74268"
      },
      "execution_count": null,
      "outputs": [
        {
          "output_type": "execute_result",
          "data": {
            "text/plain": [
              "array([[ 0,  5, 10],\n",
              "       [ 1,  6, 11],\n",
              "       [ 2,  7, 12],\n",
              "       [ 3,  8, 13]])"
            ]
          },
          "metadata": {},
          "execution_count": 199
        }
      ]
    },
    {
      "cell_type": "code",
      "source": [
        "a"
      ],
      "metadata": {
        "id": "LkBGhF2Wo_O8",
        "colab": {
          "base_uri": "https://localhost:8080/"
        },
        "outputId": "5e507a67-d8e2-4901-e1e0-7e7911fbcac0"
      },
      "execution_count": null,
      "outputs": [
        {
          "output_type": "execute_result",
          "data": {
            "text/plain": [
              "array([0, 1, 2])"
            ]
          },
          "metadata": {},
          "execution_count": 200
        }
      ]
    },
    {
      "cell_type": "code",
      "source": [
        "b"
      ],
      "metadata": {
        "id": "q_6V-6zxo9zD",
        "colab": {
          "base_uri": "https://localhost:8080/"
        },
        "outputId": "1e62784f-9bb6-4a43-9952-572d956f65cb"
      },
      "execution_count": null,
      "outputs": [
        {
          "output_type": "execute_result",
          "data": {
            "text/plain": [
              "array([[ 0,  1,  2,  3],\n",
              "       [ 4,  5,  6,  7],\n",
              "       [ 8,  9, 10, 11]])"
            ]
          },
          "metadata": {},
          "execution_count": 201
        }
      ]
    },
    {
      "cell_type": "code",
      "source": [
        "np.matmul(a,b)"
      ],
      "metadata": {
        "id": "svxhIqwBpDJg",
        "colab": {
          "base_uri": "https://localhost:8080/"
        },
        "outputId": "8359bc59-80cc-47a2-9374-4f6283503aaa"
      },
      "execution_count": null,
      "outputs": [
        {
          "output_type": "execute_result",
          "data": {
            "text/plain": [
              "array([20, 23, 26, 29])"
            ]
          },
          "metadata": {},
          "execution_count": 202
        }
      ]
    },
    {
      "cell_type": "code",
      "source": [
        "np.dot(a,b)"
      ],
      "metadata": {
        "id": "p5crHfx2_l_K",
        "colab": {
          "base_uri": "https://localhost:8080/"
        },
        "outputId": "aead1a70-8408-447a-8b7d-b9c260869664"
      },
      "execution_count": null,
      "outputs": [
        {
          "output_type": "execute_result",
          "data": {
            "text/plain": [
              "array([20, 23, 26, 29])"
            ]
          },
          "metadata": {},
          "execution_count": 203
        }
      ]
    },
    {
      "cell_type": "markdown",
      "source": [
        "##Normal distribution in NumPy\n",
        "In NumPy, **normal distribution** is used to generate random numbers.\n"
      ],
      "metadata": {
        "id": "zEw3BzVx2a7P"
      }
    },
    {
      "cell_type": "markdown",
      "source": [
        " It requires two parameters:\n",
        " * mean (location or center point)\n",
        " * standard deviation (scale or spread of data)\n"
      ],
      "metadata": {
        "id": "4nyFQjadqrUC"
      }
    },
    {
      "cell_type": "code",
      "source": [
        "import matplotlib.pyplot as plt"
      ],
      "metadata": {
        "id": "cXUt1KUges2t"
      },
      "execution_count": null,
      "outputs": []
    },
    {
      "cell_type": "code",
      "source": [
        "# given with a mean of 100 and a standard deviation of 15\n",
        "mean =100\n",
        "std = 15\n",
        "np.random.normal(mean,std,100)"
      ],
      "metadata": {
        "id": "77OgXpZ_9iT_",
        "colab": {
          "base_uri": "https://localhost:8080/"
        },
        "outputId": "562998dd-ef31-484c-bd48-2e0099db5735"
      },
      "execution_count": null,
      "outputs": [
        {
          "output_type": "execute_result",
          "data": {
            "text/plain": [
              "array([ 92.14159904,  95.37779962, 130.95558439,  65.59498137,\n",
              "       104.87633581,  84.64745127, 111.47238199, 107.52083019,\n",
              "        79.17118276, 124.50685773, 106.22044091, 122.2811947 ,\n",
              "       106.34011541,  73.10624669, 115.30017875, 101.49399474,\n",
              "        98.80368806,  86.22593619, 100.6955566 , 101.78418377,\n",
              "       114.79793223,  84.87282281,  95.98561407,  70.01753326,\n",
              "        95.13736946, 100.78851182, 124.35187797, 127.70424133,\n",
              "       101.95768994,  69.5379099 , 108.09816595,  95.4537934 ,\n",
              "        93.29497236,  94.54470116, 123.69009378, 118.96173513,\n",
              "        90.95901421, 158.56616648,  90.62765334, 100.02139799,\n",
              "        96.7128221 , 106.14322873,  86.92711646, 116.52800837,\n",
              "        84.72458783, 105.79904574,  94.00286218, 120.64963671,\n",
              "       113.04728008,  90.47189844, 113.08018288,  74.44571046,\n",
              "        98.63539154,  96.2110987 ,  99.25990042, 111.33061659,\n",
              "        97.53419539,  92.31755539, 105.74693418,  91.09426175,\n",
              "       114.47210627,  92.67562405, 112.75620166,  82.28017214,\n",
              "       108.05434772,  93.69186112, 114.63833994, 152.55368468,\n",
              "        75.54759496, 114.65773334,  94.21287073, 110.16572736,\n",
              "       101.21111062, 106.55965073,  72.44678519, 110.64625398,\n",
              "        92.13555453, 128.51022453,  97.05514815, 103.28080744,\n",
              "       101.45973535,  72.67610751,  86.63451793, 124.46764919,\n",
              "       115.56563376, 107.00180285, 101.2756147 , 102.70517055,\n",
              "        65.44665085, 100.07898266,  88.19571122, 119.63199156,\n",
              "       105.71812486, 107.8876137 , 126.47347347, 103.74992304,\n",
              "        94.7726914 , 112.64888346, 104.20990918,  89.0288167 ])"
            ]
          },
          "metadata": {},
          "execution_count": 205
        }
      ]
    },
    {
      "cell_type": "markdown",
      "source": [
        "**Note-** The above code generates 100 random numbers. The distribution is centred around 100, with most values close to this mean. The further away from 100, the fewer such values.\n"
      ],
      "metadata": {
        "id": "7JIFK_fcqz1P"
      }
    },
    {
      "cell_type": "code",
      "source": [
        "import numpy as np\n",
        "import matplotlib.pyplot as plt\n",
        "\n",
        "# Define the parameters for the normal distribution\n",
        "mu = 100  # mean\n",
        "sigma = 15  # standard deviation\n",
        "\n",
        "# Generate random numbers following a normal distribution\n",
        "random_numbers = np.random.normal(loc=mu, scale=sigma, size=100)\n",
        "\n",
        "# Create a histogram\n",
        "count, bins, ignored = plt.hist(random_numbers,30)\n",
        "\n",
        "# Plot the probability density function (PDF) of the normal distribution\n",
        "plt.plot(bins, 1/(sigma * np.sqrt(2 * np.pi)) * np.exp(-(bins - mu)**2 / (2 * sigma**2)))\n",
        "\n",
        "# Add labels and a title\n",
        "plt.title('Normal Distribution')\n",
        "plt.xlabel('Values')\n",
        "plt.ylabel('Probability Density')\n",
        "\n",
        "# Show the plot\n",
        "plt.show()"
      ],
      "metadata": {
        "id": "fp_hsmPLtj8f",
        "colab": {
          "base_uri": "https://localhost:8080/",
          "height": 472
        },
        "outputId": "6c3e2a7c-c18a-42a4-d149-9b1b957bcb81"
      },
      "execution_count": null,
      "outputs": [
        {
          "output_type": "display_data",
          "data": {
            "text/plain": [
              "<Figure size 640x480 with 1 Axes>"
            ],
            "image/png": "[encoded data removed]"
          },
          "metadata": {}
        }
      ]
    },
    {
      "cell_type": "markdown",
      "source": [
        "After changing the size to 1000"
      ],
      "metadata": {
        "id": "QOLMC16rrOZO"
      }
    },
    {
      "cell_type": "code",
      "source": [
        "# Define the parameters for the normal distribution\n",
        "mu = 100  # mean\n",
        "sigma = 15  # standard deviation\n",
        "\n",
        "# Generate random numbers following a normal distribution\n",
        "random_numbers = np.random.normal(loc=mu, scale=sigma, size=1000)\n",
        "\n",
        "# Create a histogram\n",
        "count, bins, ignored = plt.hist(random_numbers,30)\n",
        "\n",
        "# Plot the probability density function (PDF) of the normal distribution\n",
        "plt.plot(bins, 1/(sigma * np.sqrt(2 * np.pi)) * np.exp(-(bins - mu)**2 / (2 * sigma**2)))\n",
        "\n",
        "# Add labels and a title\n",
        "plt.title('Normal Distribution')\n",
        "plt.xlabel('Values')\n",
        "plt.ylabel('Probability Density')\n",
        "\n",
        "# Show the plot\n",
        "plt.show()"
      ],
      "metadata": {
        "id": "zFV8rXPyw42x",
        "colab": {
          "base_uri": "https://localhost:8080/",
          "height": 472
        },
        "outputId": "7de71bb3-710b-4702-b3b5-7475b527c8c0"
      },
      "execution_count": null,
      "outputs": [
        {
          "output_type": "display_data",
          "data": {
            "text/plain": [
              "<Figure size 640x480 with 1 Axes>"
            ],
            "image/png": "[encoded data removed]"
          },
          "metadata": {}
        }
      ]
    },
    {
      "cell_type": "code",
      "source": [],
      "metadata": {
        "id": "VfA6ou_koMTG"
      },
      "execution_count": null,
      "outputs": []
    },
    {
      "cell_type": "code",
      "source": [],
      "metadata": {
        "id": "QgOY3DpLE0c9"
      },
      "execution_count": null,
      "outputs": []
    },
    {
      "cell_type": "code",
      "source": [
        "import numpy as np\n"
      ],
      "metadata": {
        "id": "WIQy-nStAaz1"
      },
      "execution_count": null,
      "outputs": []
    },
    {
      "cell_type": "code",
      "source": [
        "my_array = np.arange(8)\n",
        "my_array = np.arange(1,8)\n",
        "my_array = np.arange(-1,9.25,0.5)"
      ],
      "metadata": {
        "id": "KeEWj1zBAo6h"
      },
      "execution_count": null,
      "outputs": []
    },
    {
      "cell_type": "code",
      "source": [
        "print(my_array)"
      ],
      "metadata": {
        "id": "ARTtVhXKAx70",
        "colab": {
          "base_uri": "https://localhost:8080/"
        },
        "outputId": "cb51c001-f49b-4901-9afa-67cdfb944dec"
      },
      "execution_count": null,
      "outputs": [
        {
          "output_type": "stream",
          "name": "stdout",
          "text": [
            "[-1.  -0.5  0.   0.5  1.   1.5  2.   2.5  3.   3.5  4.   4.5  5.   5.5\n",
            "  6.   6.5  7.   7.5  8.   8.5  9. ]\n"
          ]
        }
      ]
    },
    {
      "cell_type": "code",
      "source": [
        "print(type(my_array))"
      ],
      "metadata": {
        "id": "3_pLJ3zPA73I",
        "colab": {
          "base_uri": "https://localhost:8080/"
        },
        "outputId": "0dcf9031-6199-48ca-de9d-2e5b6f036f36"
      },
      "execution_count": null,
      "outputs": [
        {
          "output_type": "stream",
          "name": "stdout",
          "text": [
            "<class 'numpy.ndarray'>\n"
          ]
        }
      ]
    },
    {
      "cell_type": "code",
      "source": [
        "from_list = np.array([[1,2,3], [4,5,6]], dtype = np.int8)\n",
        "array_2d = np.array((np.arange(0,8,2), np.arange(1,8,2)))\n",
        "array_2d = array_2d.reshape((4,2))\n",
        "print(array_2d)\n",
        "#print(\"1D shape:\", my_array.shape)\n",
        "print(\"2D shape:\", array_2d.shape)\n"
      ],
      "metadata": {
        "id": "cT3IAFaSB2Uj",
        "colab": {
          "base_uri": "https://localhost:8080/"
        },
        "outputId": "be17f39e-3b64-4970-e7d5-38f0ac2f9964"
      },
      "execution_count": null,
      "outputs": [
        {
          "output_type": "stream",
          "name": "stdout",
          "text": [
            "[[0 2]\n",
            " [4 6]\n",
            " [1 3]\n",
            " [5 7]]\n",
            "2D shape: (4, 2)\n"
          ]
        }
      ]
    },
    {
      "cell_type": "code",
      "source": [
        "!pip install pandas"
      ],
      "metadata": {
        "id": "VPPu1133OSJO",
        "colab": {
          "base_uri": "https://localhost:8080/"
        },
        "outputId": "bd344b62-8545-45b8-8305-ff55b1c5b574"
      },
      "execution_count": null,
      "outputs": [
        {
          "output_type": "stream",
          "name": "stdout",
          "text": [
            "Requirement already satisfied: pandas in /usr/local/lib/python3.10/dist-packages (1.5.3)\n",
            "Requirement already satisfied: python-dateutil>=2.8.1 in /usr/local/lib/python3.10/dist-packages (from pandas) (2.8.2)\n",
            "Requirement already satisfied: pytz>=2020.1 in /usr/local/lib/python3.10/dist-packages (from pandas) (2023.3.post1)\n",
            "Requirement already satisfied: numpy>=1.21.0 in /usr/local/lib/python3.10/dist-packages (from pandas) (1.23.5)\n",
            "Requirement already satisfied: six>=1.5 in /usr/local/lib/python3.10/dist-packages (from python-dateutil>=2.8.1->pandas) (1.16.0)\n"
          ]
        }
      ]
    },
    {
      "cell_type": "code",
      "source": [],
      "metadata": {
        "id": "lchBt-3AaewD"
      },
      "execution_count": null,
      "outputs": []
    },
    {
      "cell_type": "code",
      "source": [
        "\n",
        "#Given a string s, find the first non-repeating character in it and return its index. If it does not exist, return -1. #"
      ],
      "metadata": {
        "id": "NJ3--uGcbfzZ"
      },
      "execution_count": null,
      "outputs": []
    },
    {
      "cell_type": "code",
      "source": [
        "#Operating overloading in python\n",
        "import numpy as np\n",
        "x = np.arange(0,10).reshape(2,5)\n",
        "y = np.random.random((2,5))\n",
        "\n",
        "print(x)\n",
        "print(y)"
      ],
      "metadata": {
        "colab": {
          "base_uri": "https://localhost:8080/"
        },
        "id": "-Zzn5UMh-abr",
        "outputId": "14646301-88e4-4c01-98d8-db1f09a339a1"
      },
      "execution_count": null,
      "outputs": [
        {
          "output_type": "stream",
          "name": "stdout",
          "text": [
            "[[0 1 2 3 4]\n",
            " [5 6 7 8 9]]\n",
            "[[0.40593034 0.82960176 0.89025338 0.45572372 0.67434433]\n",
            " [0.61354586 0.51132802 0.07579497 0.66481872 0.59835959]]\n"
          ]
        }
      ]
    },
    {
      "cell_type": "code",
      "source": [
        "x + y"
      ],
      "metadata": {
        "colab": {
          "base_uri": "https://localhost:8080/"
        },
        "id": "qXiFqfkx-6p1",
        "outputId": "9328f7e0-f92f-4651-cf17-1256295b96f0"
      },
      "execution_count": null,
      "outputs": [
        {
          "output_type": "execute_result",
          "data": {
            "text/plain": [
              "array([[0.40593034, 1.82960176, 2.89025338, 3.45572372, 4.67434433],\n",
              "       [5.61354586, 6.51132802, 7.07579497, 8.66481872, 9.59835959]])"
            ]
          },
          "metadata": {},
          "execution_count": 216
        }
      ]
    },
    {
      "cell_type": "code",
      "source": [
        "# Adding two arrays of different shape\n",
        "x = np.arange(0,10).reshape(2,5)\n",
        "y = np.arange(5)\n",
        "\n",
        "print(x)\n",
        "print(y)"
      ],
      "metadata": {
        "colab": {
          "base_uri": "https://localhost:8080/"
        },
        "id": "cm1vOAQd_J6h",
        "outputId": "06be581d-4cc5-4148-9d8e-266dfda21b84"
      },
      "execution_count": null,
      "outputs": [
        {
          "output_type": "stream",
          "name": "stdout",
          "text": [
            "[[0 1 2 3 4]\n",
            " [5 6 7 8 9]]\n",
            "[0 1 2 3 4]\n"
          ]
        }
      ]
    },
    {
      "cell_type": "code",
      "source": [
        "x+y"
      ],
      "metadata": {
        "colab": {
          "base_uri": "https://localhost:8080/"
        },
        "id": "ntKIrmMI_lYA",
        "outputId": "f9b39b27-dc74-401a-c1ed-84734c0742b6"
      },
      "execution_count": null,
      "outputs": [
        {
          "output_type": "execute_result",
          "data": {
            "text/plain": [
              "array([[ 0,  2,  4,  6,  8],\n",
              "       [ 5,  7,  9, 11, 13]])"
            ]
          },
          "metadata": {},
          "execution_count": 218
        }
      ]
    },
    {
      "cell_type": "code",
      "source": [
        "x = np.arange(0,10).reshape(2,5)\n",
        "y = np.arange(2)\n",
        "\n",
        "print(x)\n",
        "print(y)"
      ],
      "metadata": {
        "colab": {
          "base_uri": "https://localhost:8080/"
        },
        "id": "wLmwvso9_r3a",
        "outputId": "25031443-960b-4388-dfee-b0598c206e75"
      },
      "execution_count": null,
      "outputs": [
        {
          "output_type": "stream",
          "name": "stdout",
          "text": [
            "[[0 1 2 3 4]\n",
            " [5 6 7 8 9]]\n",
            "[0 1]\n"
          ]
        }
      ]
    },
    {
      "cell_type": "markdown",
      "source": [
        "## Rules of Broadcasting\n",
        "Rule 1 says : If the two arraysdiffer in their number of dimnesions, then the shape of thje one with fewer dimension is padded with ones on its leading left side\n",
        "\n",
        "Rule 2 : If the shape of the two arrays does not match in any dimension, the array with shape equal to 1 in that dimension is streched to match the other shape.\n",
        "\n",
        "Rule3: If in any dimension , the size disagree and neither is equal to 1, an error is raised, that means broadcasting is not possible.\n"
      ],
      "metadata": {
        "id": "qFhfUe2mADII"
      }
    },
    {
      "cell_type": "code",
      "source": [
        "x = np.random.random((5,3))\n",
        "y = np.arange(3)\n",
        "\n",
        "print(x.shape)\n",
        "print(y.shape)"
      ],
      "metadata": {
        "colab": {
          "base_uri": "https://localhost:8080/"
        },
        "id": "6Sh7OO_aBXVV",
        "outputId": "4578cfc7-0dd6-4a54-f82e-4e31985c5590"
      },
      "execution_count": null,
      "outputs": [
        {
          "output_type": "stream",
          "name": "stdout",
          "text": [
            "(5, 3)\n",
            "(3,)\n"
          ]
        }
      ]
    },
    {
      "cell_type": "markdown",
      "source": [
        "# Applying Rule 1 : (5,3) and (1,3) case 2 ()\n",
        "## R2:(5,3)(5,3)"
      ],
      "metadata": {
        "id": "t05uM78JCVrz"
      }
    },
    {
      "cell_type": "code",
      "source": [],
      "metadata": {
        "id": "KmRiRaTECMtr"
      },
      "execution_count": null,
      "outputs": []
    },
    {
      "cell_type": "markdown",
      "source": [],
      "metadata": {
        "id": "GHeQWMgTCNtY"
      }
    },
    {
      "cell_type": "code",
      "source": [
        "#Given an integer array nums, find the subarray with the largest sum, and return its sum.\n",
        "# Write a program to print Fibonacci series of n terms where n is input by user -->> 0 1 1 2 3 5 8 13 21 ....\n",
        "# Check whether a given string is palindrome or not.\n",
        "#  Check whether the given number is Armstrong or not.\n",
        "\n",
        "# An Armstrong number is one whose sum of digits raised to the power three equals the number itself.(371)\n",
        "# Palindrome.\n",
        "#factorail of a number\n",
        "# Given an array Arr of size N containing positive integers. Find the maximum sum of a subsequence such that no two numbers in the sequence should be adjacent in the array.\n",
        "# input: N = 4, Arr[] = {3, 2, 7, 10}\n",
        "# Output: 13\n",
        "# Explanation: 3 and 10 forms a non continuous subsequence with maximum sum.\n",
        "# Create a function that takes two lists as input and returns a new list containing the common elements of the two input lists in sorted order.\n",
        "# Input: list1=[6, 7, 8, 0, -9, 1], list2=[1, 6, 0, 3, 4, 5, 7, 6]\n",
        "# Output: [0, 1, 6, 7]\n",
        "#  Given a string s containing just the characters '(', ')', '{', '}', '[' and ']', determine if the input string is valid.\n",
        "\n",
        "# An input string is valid if:\n",
        "\n",
        "# Open brackets must be closed by the same type of brackets.\n",
        "\n",
        "# Open brackets must be closed in the correct order.\n",
        "\n",
        "# Every close bracket has a corresponding open bracket of the same type.\n",
        "# Input: s = \"()\"\n",
        "# Output: true\n",
        "# Input: s = \"()[]{}\"\n",
        "# Output: true\n",
        "# Input: s = \"(]\"\n",
        "# Output: false\n",
        "# Input: s = \"([)]\"\n",
        "# Output: false\n",
        "# Input: s = \"{[]}\"\n",
        "# Output: true\n",
        "\n",
        "\n",
        "\n",
        "\n"
      ],
      "metadata": {
        "id": "NR0YNgqKsJFl"
      },
      "execution_count": null,
      "outputs": []
    },
    {
      "cell_type": "code",
      "source": [],
      "metadata": {
        "id": "ClMXDATA_25U"
      },
      "execution_count": null,
      "outputs": []
    },
    {
      "cell_type": "code",
      "source": [],
      "metadata": {
        "id": "eODSUKx0L-WV"
      },
      "execution_count": null,
      "outputs": []
    },
    {
      "cell_type": "code",
      "source": [
        "import numpy as np"
      ],
      "metadata": {
        "id": "ACPVWNvvL-Zl"
      },
      "execution_count": null,
      "outputs": []
    },
    {
      "cell_type": "code",
      "source": [
        "# numpy array"
      ],
      "metadata": {
        "id": "m0Zlu3DMMIEu"
      },
      "execution_count": null,
      "outputs": []
    },
    {
      "cell_type": "code",
      "source": [
        "a = np.array([1,2,3],dtype=np.int64)\n",
        "a"
      ],
      "metadata": {
        "colab": {
          "base_uri": "https://localhost:8080/"
        },
        "id": "E0YUmUKfM3N4",
        "outputId": "e63498e2-f21f-48d6-a154-2a8b8f020081"
      },
      "execution_count": null,
      "outputs": [
        {
          "output_type": "execute_result",
          "data": {
            "text/plain": [
              "array([1, 2, 3])"
            ]
          },
          "metadata": {},
          "execution_count": 7
        }
      ]
    },
    {
      "cell_type": "code",
      "source": [
        "a1 = np.array([1,2,4,'a'])\n",
        "a1"
      ],
      "metadata": {
        "colab": {
          "base_uri": "https://localhost:8080/"
        },
        "id": "NqID1Sc4NSvu",
        "outputId": "e985af93-42a4-47bf-a6f9-fc6e3f455781"
      },
      "execution_count": null,
      "outputs": [
        {
          "output_type": "execute_result",
          "data": {
            "text/plain": [
              "array(['1', '2', '4', 'a'], dtype='<U21')"
            ]
          },
          "metadata": {},
          "execution_count": 4
        }
      ]
    },
    {
      "cell_type": "code",
      "source": [
        "a.dtype"
      ],
      "metadata": {
        "colab": {
          "base_uri": "https://localhost:8080/"
        },
        "id": "l4c01umCOTx3",
        "outputId": "a78e14dd-6f32-4586-c903-001c15d2a99f"
      },
      "execution_count": null,
      "outputs": [
        {
          "output_type": "execute_result",
          "data": {
            "text/plain": [
              "dtype('int64')"
            ]
          },
          "metadata": {},
          "execution_count": 5
        }
      ]
    },
    {
      "cell_type": "code",
      "source": [
        "a1.dtype"
      ],
      "metadata": {
        "colab": {
          "base_uri": "https://localhost:8080/"
        },
        "id": "8db8vXj_OZ6W",
        "outputId": "55bebd0b-1081-461c-f706-a2359dd09745"
      },
      "execution_count": null,
      "outputs": [
        {
          "output_type": "execute_result",
          "data": {
            "text/plain": [
              "dtype('<U21')"
            ]
          },
          "metadata": {},
          "execution_count": 6
        }
      ]
    },
    {
      "cell_type": "code",
      "source": [
        "a2 = np.array([1,2,3],dtype=np.int32)\n",
        "a2"
      ],
      "metadata": {
        "colab": {
          "base_uri": "https://localhost:8080/"
        },
        "id": "6_5lyU92OxXr",
        "outputId": "73874036-63b6-491d-ab65-b62f0c095615"
      },
      "execution_count": null,
      "outputs": [
        {
          "output_type": "execute_result",
          "data": {
            "text/plain": [
              "array([1, 2, 3], dtype=int32)"
            ]
          },
          "metadata": {},
          "execution_count": 8
        }
      ]
    },
    {
      "cell_type": "code",
      "source": [
        "a2 = np.array([1,2,3],dtype=np.float64)\n",
        "a2"
      ],
      "metadata": {
        "colab": {
          "base_uri": "https://localhost:8080/"
        },
        "id": "XHQ6ooN-PQ8o",
        "outputId": "d0090ff8-acf1-441b-b0d1-ea5f161ce705"
      },
      "execution_count": null,
      "outputs": [
        {
          "output_type": "execute_result",
          "data": {
            "text/plain": [
              "array([1., 2., 3.])"
            ]
          },
          "metadata": {},
          "execution_count": 9
        }
      ]
    },
    {
      "cell_type": "code",
      "source": [
        "l = [9,8,7,[6,5,4]]\n",
        "l"
      ],
      "metadata": {
        "colab": {
          "base_uri": "https://localhost:8080/"
        },
        "id": "FQfdLqj-P-_n",
        "outputId": "5fdff090-b64b-4d78-e851-8a55bd935eaa"
      },
      "execution_count": null,
      "outputs": [
        {
          "output_type": "execute_result",
          "data": {
            "text/plain": [
              "[9, 8, 7, [6, 5, 4]]"
            ]
          },
          "metadata": {},
          "execution_count": 11
        }
      ]
    },
    {
      "cell_type": "code",
      "source": [
        "a3 = np.array([[1,2,3],[5,6,7]])\n",
        "a3"
      ],
      "metadata": {
        "colab": {
          "base_uri": "https://localhost:8080/"
        },
        "id": "CpzRzhw4PxZG",
        "outputId": "4630209a-984d-483b-b288-303f85b02bdb"
      },
      "execution_count": null,
      "outputs": [
        {
          "output_type": "execute_result",
          "data": {
            "text/plain": [
              "array([[1, 2, 3],\n",
              "       [5, 6, 7]])"
            ]
          },
          "metadata": {},
          "execution_count": 12
        }
      ]
    },
    {
      "cell_type": "code",
      "source": [
        "a3.shape"
      ],
      "metadata": {
        "colab": {
          "base_uri": "https://localhost:8080/"
        },
        "id": "zqbQzoQ8QLjh",
        "outputId": "12dcca7b-ab49-4a50-eb19-46ef64080d3b"
      },
      "execution_count": null,
      "outputs": [
        {
          "output_type": "execute_result",
          "data": {
            "text/plain": [
              "(2, 3)"
            ]
          },
          "metadata": {},
          "execution_count": 13
        }
      ]
    },
    {
      "cell_type": "code",
      "source": [
        "a2.shape"
      ],
      "metadata": {
        "colab": {
          "base_uri": "https://localhost:8080/"
        },
        "id": "0cpEohZwQPw5",
        "outputId": "4201dd07-6ca3-409a-8a73-65e02dc2e306"
      },
      "execution_count": null,
      "outputs": [
        {
          "output_type": "execute_result",
          "data": {
            "text/plain": [
              "(3,)"
            ]
          },
          "metadata": {},
          "execution_count": 14
        }
      ]
    },
    {
      "cell_type": "code",
      "source": [
        "dir(np)"
      ],
      "metadata": {
        "colab": {
          "base_uri": "https://localhost:8080/"
        },
        "id": "_2fxw7LMQRv-",
        "outputId": "8d48a7d4-b840-4411-c0b9-3eabfaac3baf"
      },
      "execution_count": null,
      "outputs": [
        {
          "output_type": "execute_result",
          "data": {
            "text/plain": [
              "['ALLOW_THREADS',\n",
              " 'AxisError',\n",
              " 'BUFSIZE',\n",
              " 'CLIP',\n",
              " 'ComplexWarning',\n",
              " 'DataSource',\n",
              " 'ERR_CALL',\n",
              " 'ERR_DEFAULT',\n",
              " 'ERR_IGNORE',\n",
              " 'ERR_LOG',\n",
              " 'ERR_PRINT',\n",
              " 'ERR_RAISE',\n",
              " 'ERR_WARN',\n",
              " 'FLOATING_POINT_SUPPORT',\n",
              " 'FPE_DIVIDEBYZERO',\n",
              " 'FPE_INVALID',\n",
              " 'FPE_OVERFLOW',\n",
              " 'FPE_UNDERFLOW',\n",
              " 'False_',\n",
              " 'Inf',\n",
              " 'Infinity',\n",
              " 'MAXDIMS',\n",
              " 'MAY_SHARE_BOUNDS',\n",
              " 'MAY_SHARE_EXACT',\n",
              " 'ModuleDeprecationWarning',\n",
              " 'NAN',\n",
              " 'NINF',\n",
              " 'NZERO',\n",
              " 'NaN',\n",
              " 'PINF',\n",
              " 'PZERO',\n",
              " 'RAISE',\n",
              " 'RankWarning',\n",
              " 'SHIFT_DIVIDEBYZERO',\n",
              " 'SHIFT_INVALID',\n",
              " 'SHIFT_OVERFLOW',\n",
              " 'SHIFT_UNDERFLOW',\n",
              " 'ScalarType',\n",
              " 'Tester',\n",
              " 'TooHardError',\n",
              " 'True_',\n",
              " 'UFUNC_BUFSIZE_DEFAULT',\n",
              " 'UFUNC_PYVALS_NAME',\n",
              " 'VisibleDeprecationWarning',\n",
              " 'WRAP',\n",
              " '_CopyMode',\n",
              " '_NoValue',\n",
              " '_UFUNC_API',\n",
              " '__NUMPY_SETUP__',\n",
              " '__all__',\n",
              " '__builtins__',\n",
              " '__cached__',\n",
              " '__config__',\n",
              " '__deprecated_attrs__',\n",
              " '__dir__',\n",
              " '__doc__',\n",
              " '__expired_functions__',\n",
              " '__file__',\n",
              " '__getattr__',\n",
              " '__git_version__',\n",
              " '__loader__',\n",
              " '__name__',\n",
              " '__package__',\n",
              " '__path__',\n",
              " '__spec__',\n",
              " '__version__',\n",
              " '_add_newdoc_ufunc',\n",
              " '_distributor_init',\n",
              " '_financial_names',\n",
              " '_globals',\n",
              " '_mat',\n",
              " '_pyinstaller_hooks_dir',\n",
              " '_pytesttester',\n",
              " '_version',\n",
              " 'abs',\n",
              " 'absolute',\n",
              " 'add',\n",
              " 'add_docstring',\n",
              " 'add_newdoc',\n",
              " 'add_newdoc_ufunc',\n",
              " 'all',\n",
              " 'allclose',\n",
              " 'alltrue',\n",
              " 'amax',\n",
              " 'amin',\n",
              " 'angle',\n",
              " 'any',\n",
              " 'append',\n",
              " 'apply_along_axis',\n",
              " 'apply_over_axes',\n",
              " 'arange',\n",
              " 'arccos',\n",
              " 'arccosh',\n",
              " 'arcsin',\n",
              " 'arcsinh',\n",
              " 'arctan',\n",
              " 'arctan2',\n",
              " 'arctanh',\n",
              " 'argmax',\n",
              " 'argmin',\n",
              " 'argpartition',\n",
              " 'argsort',\n",
              " 'argwhere',\n",
              " 'around',\n",
              " 'array',\n",
              " 'array2string',\n",
              " 'array_equal',\n",
              " 'array_equiv',\n",
              " 'array_repr',\n",
              " 'array_split',\n",
              " 'array_str',\n",
              " 'asanyarray',\n",
              " 'asarray',\n",
              " 'asarray_chkfinite',\n",
              " 'ascontiguousarray',\n",
              " 'asfarray',\n",
              " 'asfortranarray',\n",
              " 'asmatrix',\n",
              " 'atleast_1d',\n",
              " 'atleast_2d',\n",
              " 'atleast_3d',\n",
              " 'average',\n",
              " 'bartlett',\n",
              " 'base_repr',\n",
              " 'binary_repr',\n",
              " 'bincount',\n",
              " 'bitwise_and',\n",
              " 'bitwise_not',\n",
              " 'bitwise_or',\n",
              " 'bitwise_xor',\n",
              " 'blackman',\n",
              " 'block',\n",
              " 'bmat',\n",
              " 'bool8',\n",
              " 'bool_',\n",
              " 'broadcast',\n",
              " 'broadcast_arrays',\n",
              " 'broadcast_shapes',\n",
              " 'broadcast_to',\n",
              " 'busday_count',\n",
              " 'busday_offset',\n",
              " 'busdaycalendar',\n",
              " 'byte',\n",
              " 'byte_bounds',\n",
              " 'bytes0',\n",
              " 'bytes_',\n",
              " 'c_',\n",
              " 'can_cast',\n",
              " 'cast',\n",
              " 'cbrt',\n",
              " 'cdouble',\n",
              " 'ceil',\n",
              " 'cfloat',\n",
              " 'char',\n",
              " 'character',\n",
              " 'chararray',\n",
              " 'choose',\n",
              " 'clip',\n",
              " 'clongdouble',\n",
              " 'clongfloat',\n",
              " 'column_stack',\n",
              " 'common_type',\n",
              " 'compare_chararrays',\n",
              " 'compat',\n",
              " 'complex128',\n",
              " 'complex256',\n",
              " 'complex64',\n",
              " 'complex_',\n",
              " 'complexfloating',\n",
              " 'compress',\n",
              " 'concatenate',\n",
              " 'conj',\n",
              " 'conjugate',\n",
              " 'convolve',\n",
              " 'copy',\n",
              " 'copysign',\n",
              " 'copyto',\n",
              " 'core',\n",
              " 'corrcoef',\n",
              " 'correlate',\n",
              " 'cos',\n",
              " 'cosh',\n",
              " 'count_nonzero',\n",
              " 'cov',\n",
              " 'cross',\n",
              " 'csingle',\n",
              " 'ctypeslib',\n",
              " 'cumprod',\n",
              " 'cumproduct',\n",
              " 'cumsum',\n",
              " 'datetime64',\n",
              " 'datetime_as_string',\n",
              " 'datetime_data',\n",
              " 'deg2rad',\n",
              " 'degrees',\n",
              " 'delete',\n",
              " 'deprecate',\n",
              " 'deprecate_with_doc',\n",
              " 'diag',\n",
              " 'diag_indices',\n",
              " 'diag_indices_from',\n",
              " 'diagflat',\n",
              " 'diagonal',\n",
              " 'diff',\n",
              " 'digitize',\n",
              " 'disp',\n",
              " 'divide',\n",
              " 'divmod',\n",
              " 'dot',\n",
              " 'double',\n",
              " 'dsplit',\n",
              " 'dstack',\n",
              " 'dtype',\n",
              " 'e',\n",
              " 'ediff1d',\n",
              " 'einsum',\n",
              " 'einsum_path',\n",
              " 'emath',\n",
              " 'empty',\n",
              " 'empty_like',\n",
              " 'equal',\n",
              " 'errstate',\n",
              " 'euler_gamma',\n",
              " 'exp',\n",
              " 'exp2',\n",
              " 'expand_dims',\n",
              " 'expm1',\n",
              " 'expm1x',\n",
              " 'extract',\n",
              " 'eye',\n",
              " 'fabs',\n",
              " 'fastCopyAndTranspose',\n",
              " 'fft',\n",
              " 'fill_diagonal',\n",
              " 'find_common_type',\n",
              " 'finfo',\n",
              " 'fix',\n",
              " 'flatiter',\n",
              " 'flatnonzero',\n",
              " 'flexible',\n",
              " 'flip',\n",
              " 'fliplr',\n",
              " 'flipud',\n",
              " 'float128',\n",
              " 'float16',\n",
              " 'float32',\n",
              " 'float64',\n",
              " 'float_',\n",
              " 'float_power',\n",
              " 'floating',\n",
              " 'floor',\n",
              " 'floor_divide',\n",
              " 'fmax',\n",
              " 'fmin',\n",
              " 'fmod',\n",
              " 'format_float_positional',\n",
              " 'format_float_scientific',\n",
              " 'format_parser',\n",
              " 'frexp',\n",
              " 'from_dlpack',\n",
              " 'frombuffer',\n",
              " 'fromfile',\n",
              " 'fromfunction',\n",
              " 'fromiter',\n",
              " 'frompyfunc',\n",
              " 'fromregex',\n",
              " 'fromstring',\n",
              " 'full',\n",
              " 'full_like',\n",
              " 'gcd',\n",
              " 'generic',\n",
              " 'genfromtxt',\n",
              " 'geomspace',\n",
              " 'get_array_wrap',\n",
              " 'get_include',\n",
              " 'get_printoptions',\n",
              " 'getbufsize',\n",
              " 'geterr',\n",
              " 'geterrcall',\n",
              " 'geterrobj',\n",
              " 'gradient',\n",
              " 'greater',\n",
              " 'greater_equal',\n",
              " 'half',\n",
              " 'hamming',\n",
              " 'hanning',\n",
              " 'heaviside',\n",
              " 'histogram',\n",
              " 'histogram2d',\n",
              " 'histogram_bin_edges',\n",
              " 'histogramdd',\n",
              " 'hsplit',\n",
              " 'hstack',\n",
              " 'hypot',\n",
              " 'i0',\n",
              " 'identity',\n",
              " 'iinfo',\n",
              " 'imag',\n",
              " 'in1d',\n",
              " 'index_exp',\n",
              " 'indices',\n",
              " 'inexact',\n",
              " 'inf',\n",
              " 'info',\n",
              " 'infty',\n",
              " 'inner',\n",
              " 'insert',\n",
              " 'int0',\n",
              " 'int16',\n",
              " 'int32',\n",
              " 'int64',\n",
              " 'int8',\n",
              " 'int_',\n",
              " 'intc',\n",
              " 'integer',\n",
              " 'interp',\n",
              " 'intersect1d',\n",
              " 'intp',\n",
              " 'invert',\n",
              " 'is_busday',\n",
              " 'isclose',\n",
              " 'iscomplex',\n",
              " 'iscomplexobj',\n",
              " 'isfinite',\n",
              " 'isfortran',\n",
              " 'isin',\n",
              " 'isinf',\n",
              " 'isnan',\n",
              " 'isnat',\n",
              " 'isneginf',\n",
              " 'isposinf',\n",
              " 'isreal',\n",
              " 'isrealobj',\n",
              " 'isscalar',\n",
              " 'issctype',\n",
              " 'issubclass_',\n",
              " 'issubdtype',\n",
              " 'issubsctype',\n",
              " 'iterable',\n",
              " 'ix_',\n",
              " 'kaiser',\n",
              " 'kernel_version',\n",
              " 'kron',\n",
              " 'lcm',\n",
              " 'ldexp',\n",
              " 'left_shift',\n",
              " 'less',\n",
              " 'less_equal',\n",
              " 'lexsort',\n",
              " 'lib',\n",
              " 'linalg',\n",
              " 'linspace',\n",
              " 'little_endian',\n",
              " 'load',\n",
              " 'loadtxt',\n",
              " 'log',\n",
              " 'log10',\n",
              " 'log1p',\n",
              " 'log2',\n",
              " 'logaddexp',\n",
              " 'logaddexp2',\n",
              " 'logical_and',\n",
              " 'logical_not',\n",
              " 'logical_or',\n",
              " 'logical_xor',\n",
              " 'logspace',\n",
              " 'longcomplex',\n",
              " 'longdouble',\n",
              " 'longfloat',\n",
              " 'longlong',\n",
              " 'lookfor',\n",
              " 'ma',\n",
              " 'mask_indices',\n",
              " 'mat',\n",
              " 'math',\n",
              " 'matmul',\n",
              " 'matrix',\n",
              " 'matrixlib',\n",
              " 'max',\n",
              " 'maximum',\n",
              " 'maximum_sctype',\n",
              " 'may_share_memory',\n",
              " 'mean',\n",
              " 'median',\n",
              " 'memmap',\n",
              " 'meshgrid',\n",
              " 'mgrid',\n",
              " 'min',\n",
              " 'min_scalar_type',\n",
              " 'minimum',\n",
              " 'mintypecode',\n",
              " 'mod',\n",
              " 'modf',\n",
              " 'moveaxis',\n",
              " 'msort',\n",
              " 'multiply',\n",
              " 'nan',\n",
              " 'nan_to_num',\n",
              " 'nanargmax',\n",
              " 'nanargmin',\n",
              " 'nancumprod',\n",
              " 'nancumsum',\n",
              " 'nanmax',\n",
              " 'nanmean',\n",
              " 'nanmedian',\n",
              " 'nanmin',\n",
              " 'nanpercentile',\n",
              " 'nanprod',\n",
              " 'nanquantile',\n",
              " 'nanstd',\n",
              " 'nansum',\n",
              " 'nanvar',\n",
              " 'nbytes',\n",
              " 'ndarray',\n",
              " 'ndenumerate',\n",
              " 'ndim',\n",
              " 'ndindex',\n",
              " 'nditer',\n",
              " 'negative',\n",
              " 'nested_iters',\n",
              " 'newaxis',\n",
              " 'nextafter',\n",
              " 'nonzero',\n",
              " 'not_equal',\n",
              " 'numarray',\n",
              " 'number',\n",
              " 'obj2sctype',\n",
              " 'object0',\n",
              " 'object_',\n",
              " 'ogrid',\n",
              " 'oldnumeric',\n",
              " 'ones',\n",
              " 'ones_like',\n",
              " 'os',\n",
              " 'outer',\n",
              " 'packbits',\n",
              " 'pad',\n",
              " 'partition',\n",
              " 'percentile',\n",
              " 'pi',\n",
              " 'piecewise',\n",
              " 'place',\n",
              " 'poly',\n",
              " 'poly1d',\n",
              " 'polyadd',\n",
              " 'polyder',\n",
              " 'polydiv',\n",
              " 'polyfit',\n",
              " 'polyint',\n",
              " 'polymul',\n",
              " 'polynomial',\n",
              " 'polysub',\n",
              " 'polyval',\n",
              " 'positive',\n",
              " 'power',\n",
              " 'printoptions',\n",
              " 'prod',\n",
              " 'product',\n",
              " 'promote_types',\n",
              " 'ptp',\n",
              " 'put',\n",
              " 'put_along_axis',\n",
              " 'putmask',\n",
              " 'quantile',\n",
              " 'r_',\n",
              " 'rad2deg',\n",
              " 'radians',\n",
              " 'random',\n",
              " 'ravel',\n",
              " 'ravel_multi_index',\n",
              " 'real',\n",
              " 'real_if_close',\n",
              " 'rec',\n",
              " 'recarray',\n",
              " 'recfromcsv',\n",
              " 'recfromtxt',\n",
              " 'reciprocal',\n",
              " 'record',\n",
              " 'remainder',\n",
              " 'repeat',\n",
              " 'require',\n",
              " 'reshape',\n",
              " 'resize',\n",
              " 'result_type',\n",
              " 'right_shift',\n",
              " 'rint',\n",
              " 'roll',\n",
              " 'rollaxis',\n",
              " 'roots',\n",
              " 'rot90',\n",
              " 'round',\n",
              " 'round_',\n",
              " 'row_stack',\n",
              " 's_',\n",
              " 'safe_eval',\n",
              " 'save',\n",
              " 'savetxt',\n",
              " 'savez',\n",
              " 'savez_compressed',\n",
              " 'sctype2char',\n",
              " 'sctypeDict',\n",
              " 'sctypes',\n",
              " 'searchsorted',\n",
              " 'select',\n",
              " 'set_numeric_ops',\n",
              " 'set_printoptions',\n",
              " 'set_string_function',\n",
              " 'setbufsize',\n",
              " 'setdiff1d',\n",
              " 'seterr',\n",
              " 'seterrcall',\n",
              " 'seterrobj',\n",
              " 'setxor1d',\n",
              " 'shape',\n",
              " 'shares_memory',\n",
              " 'short',\n",
              " 'show_config',\n",
              " 'sign',\n",
              " 'signbit',\n",
              " 'signedinteger',\n",
              " 'sin',\n",
              " 'sinc',\n",
              " 'single',\n",
              " 'singlecomplex',\n",
              " 'sinh',\n",
              " 'size',\n",
              " 'sometrue',\n",
              " 'sort',\n",
              " 'sort_complex',\n",
              " 'source',\n",
              " 'spacing',\n",
              " 'split',\n",
              " 'sqrt',\n",
              " 'square',\n",
              " 'squeeze',\n",
              " 'stack',\n",
              " 'std',\n",
              " 'str0',\n",
              " 'str_',\n",
              " 'string_',\n",
              " 'subtract',\n",
              " 'sum',\n",
              " 'swapaxes',\n",
              " 'sys',\n",
              " 'take',\n",
              " 'take_along_axis',\n",
              " 'tan',\n",
              " 'tanh',\n",
              " 'tensordot',\n",
              " 'test',\n",
              " 'testing',\n",
              " 'tile',\n",
              " 'timedelta64',\n",
              " 'trace',\n",
              " 'tracemalloc_domain',\n",
              " 'transpose',\n",
              " 'trapz',\n",
              " 'tri',\n",
              " 'tril',\n",
              " 'tril_indices',\n",
              " 'tril_indices_from',\n",
              " 'trim_zeros',\n",
              " 'triu',\n",
              " 'triu_indices',\n",
              " 'triu_indices_from',\n",
              " 'true_divide',\n",
              " 'trunc',\n",
              " 'typecodes',\n",
              " 'typename',\n",
              " 'ubyte',\n",
              " 'ufunc',\n",
              " 'uint',\n",
              " 'uint0',\n",
              " 'uint16',\n",
              " 'uint32',\n",
              " 'uint64',\n",
              " 'uint8',\n",
              " 'uintc',\n",
              " 'uintp',\n",
              " 'ulonglong',\n",
              " 'unicode_',\n",
              " 'union1d',\n",
              " 'unique',\n",
              " 'unpackbits',\n",
              " 'unravel_index',\n",
              " 'unsignedinteger',\n",
              " 'unwrap',\n",
              " 'use_hugepage',\n",
              " 'ushort',\n",
              " 'vander',\n",
              " 'var',\n",
              " 'vdot',\n",
              " 'vectorize',\n",
              " 'version',\n",
              " 'void',\n",
              " 'void0',\n",
              " 'vsplit',\n",
              " 'vstack',\n",
              " 'warnings',\n",
              " 'where',\n",
              " 'who',\n",
              " 'zeros',\n",
              " 'zeros_like']"
            ]
          },
          "metadata": {},
          "execution_count": 15
        }
      ]
    },
    {
      "cell_type": "code",
      "source": [
        "a3.ndim"
      ],
      "metadata": {
        "colab": {
          "base_uri": "https://localhost:8080/"
        },
        "id": "ju3rajEAQnKW",
        "outputId": "5e1466b8-090c-477e-9a79-25c4ae2eb3fb"
      },
      "execution_count": null,
      "outputs": [
        {
          "output_type": "execute_result",
          "data": {
            "text/plain": [
              "2"
            ]
          },
          "metadata": {},
          "execution_count": 16
        }
      ]
    },
    {
      "cell_type": "code",
      "source": [
        "a2.ndim"
      ],
      "metadata": {
        "colab": {
          "base_uri": "https://localhost:8080/"
        },
        "id": "WXuO9Kq8QxS7",
        "outputId": "dc53e079-a6be-4d95-c78e-189461287f87"
      },
      "execution_count": null,
      "outputs": [
        {
          "output_type": "execute_result",
          "data": {
            "text/plain": [
              "1"
            ]
          },
          "metadata": {},
          "execution_count": 17
        }
      ]
    },
    {
      "cell_type": "code",
      "source": [
        "a3"
      ],
      "metadata": {
        "colab": {
          "base_uri": "https://localhost:8080/"
        },
        "id": "XRFnwejBQzKX",
        "outputId": "1352fe8c-412f-4777-85d2-934622ff3d0a"
      },
      "execution_count": null,
      "outputs": [
        {
          "output_type": "execute_result",
          "data": {
            "text/plain": [
              "array([[1, 2, 3],\n",
              "       [5, 6, 7]])"
            ]
          },
          "metadata": {},
          "execution_count": 18
        }
      ]
    },
    {
      "cell_type": "code",
      "source": [
        "a2"
      ],
      "metadata": {
        "colab": {
          "base_uri": "https://localhost:8080/"
        },
        "id": "zG6A6dXuQ0YO",
        "outputId": "6f4956cc-7bf1-4001-f964-5020ec877399"
      },
      "execution_count": null,
      "outputs": [
        {
          "output_type": "execute_result",
          "data": {
            "text/plain": [
              "array([1., 2., 3.])"
            ]
          },
          "metadata": {},
          "execution_count": 19
        }
      ]
    },
    {
      "cell_type": "code",
      "source": [
        "# create a 3d array"
      ],
      "metadata": {
        "id": "FE45IUTGQ0vM"
      },
      "execution_count": null,
      "outputs": []
    },
    {
      "cell_type": "code",
      "source": [
        "arr_3d = np.array([[[1, 2, 3], [4, 5, 6]], [[7, 8, 9], [10, 11, 12]], [[13, 14, 15], [16, 17, 18]]])\n",
        "arr_3d"
      ],
      "metadata": {
        "colab": {
          "base_uri": "https://localhost:8080/"
        },
        "id": "Wl_nybnDRNB6",
        "outputId": "7aae715f-b3bd-47c3-a9f6-aaafeaf4f165"
      },
      "execution_count": null,
      "outputs": [
        {
          "output_type": "execute_result",
          "data": {
            "text/plain": [
              "array([[[ 1,  2,  3],\n",
              "        [ 4,  5,  6]],\n",
              "\n",
              "       [[ 7,  8,  9],\n",
              "        [10, 11, 12]],\n",
              "\n",
              "       [[13, 14, 15],\n",
              "        [16, 17, 18]]])"
            ]
          },
          "metadata": {},
          "execution_count": 21
        }
      ]
    },
    {
      "cell_type": "code",
      "source": [
        "arr_3d.ndim"
      ],
      "metadata": {
        "colab": {
          "base_uri": "https://localhost:8080/"
        },
        "id": "CBU2EG5DSsz3",
        "outputId": "30459280-93c4-4647-b22f-c281f6dd6f55"
      },
      "execution_count": null,
      "outputs": [
        {
          "output_type": "execute_result",
          "data": {
            "text/plain": [
              "3"
            ]
          },
          "metadata": {},
          "execution_count": 22
        }
      ]
    },
    {
      "cell_type": "code",
      "source": [
        "a3"
      ],
      "metadata": {
        "colab": {
          "base_uri": "https://localhost:8080/"
        },
        "id": "8Ja2UWX7SxY-",
        "outputId": "fddccd9a-c02d-42e3-f7ba-de7a257e4b41"
      },
      "execution_count": null,
      "outputs": [
        {
          "output_type": "execute_result",
          "data": {
            "text/plain": [
              "array([[1, 2, 3],\n",
              "       [5, 6, 7]])"
            ]
          },
          "metadata": {},
          "execution_count": 24
        }
      ]
    },
    {
      "cell_type": "code",
      "source": [
        "a3[0,1]"
      ],
      "metadata": {
        "colab": {
          "base_uri": "https://localhost:8080/"
        },
        "id": "5mwwwyLZTEDF",
        "outputId": "ac4f65a7-d5eb-4864-effe-3563be0372a3"
      },
      "execution_count": null,
      "outputs": [
        {
          "output_type": "execute_result",
          "data": {
            "text/plain": [
              "2"
            ]
          },
          "metadata": {},
          "execution_count": 25
        }
      ]
    },
    {
      "cell_type": "code",
      "source": [
        "arr_3d[1,1,1]"
      ],
      "metadata": {
        "colab": {
          "base_uri": "https://localhost:8080/"
        },
        "id": "mqMjxoy6TMtz",
        "outputId": "312a4fb2-5ae1-4822-861c-f3e9d819eb24"
      },
      "execution_count": null,
      "outputs": [
        {
          "output_type": "execute_result",
          "data": {
            "text/plain": [
              "11"
            ]
          },
          "metadata": {},
          "execution_count": 27
        }
      ]
    },
    {
      "cell_type": "code",
      "source": [
        "arr_3d[2,0,2]"
      ],
      "metadata": {
        "colab": {
          "base_uri": "https://localhost:8080/"
        },
        "id": "y9M_h4UPT4gU",
        "outputId": "48e16b70-442a-4d8f-8ee5-abccc6c32a66"
      },
      "execution_count": null,
      "outputs": [
        {
          "output_type": "execute_result",
          "data": {
            "text/plain": [
              "15"
            ]
          },
          "metadata": {},
          "execution_count": 28
        }
      ]
    },
    {
      "cell_type": "code",
      "source": [
        "a4 = np.array([5,6,7,8,3,2])\n",
        "a4"
      ],
      "metadata": {
        "colab": {
          "base_uri": "https://localhost:8080/"
        },
        "id": "vCbdKgqcUdhE",
        "outputId": "313e7c4b-3192-49d5-b903-5f54bb9962e3"
      },
      "execution_count": null,
      "outputs": [
        {
          "output_type": "execute_result",
          "data": {
            "text/plain": [
              "array([5, 6, 7, 8, 3, 2])"
            ]
          },
          "metadata": {},
          "execution_count": 29
        }
      ]
    },
    {
      "cell_type": "code",
      "source": [
        "a4[:3]"
      ],
      "metadata": {
        "colab": {
          "base_uri": "https://localhost:8080/"
        },
        "id": "LiniiTn9VTPc",
        "outputId": "fe6fffa9-0477-4e4d-b0a6-702c1567c77b"
      },
      "execution_count": null,
      "outputs": [
        {
          "output_type": "execute_result",
          "data": {
            "text/plain": [
              "array([5, 6, 7])"
            ]
          },
          "metadata": {},
          "execution_count": 31
        }
      ]
    },
    {
      "cell_type": "code",
      "source": [
        "a4[1:5]"
      ],
      "metadata": {
        "colab": {
          "base_uri": "https://localhost:8080/"
        },
        "id": "GPSZZJEoVZhy",
        "outputId": "f080d144-5790-45fb-cd1d-382fbe7537d9"
      },
      "execution_count": null,
      "outputs": [
        {
          "output_type": "execute_result",
          "data": {
            "text/plain": [
              "array([6, 7, 8, 3])"
            ]
          },
          "metadata": {},
          "execution_count": 32
        }
      ]
    },
    {
      "cell_type": "code",
      "source": [
        "a4[-2:-4:-1]"
      ],
      "metadata": {
        "colab": {
          "base_uri": "https://localhost:8080/"
        },
        "id": "DMS7AKE-VuGS",
        "outputId": "93911227-393c-416d-b928-2ef931251050"
      },
      "execution_count": null,
      "outputs": [
        {
          "output_type": "execute_result",
          "data": {
            "text/plain": [
              "array([3, 8])"
            ]
          },
          "metadata": {},
          "execution_count": 36
        }
      ]
    },
    {
      "cell_type": "code",
      "source": [
        "a4[-4:-2]"
      ],
      "metadata": {
        "colab": {
          "base_uri": "https://localhost:8080/"
        },
        "id": "L200kbMxV8rG",
        "outputId": "e94451bd-4648-4bd7-9ffe-6f6e5a22f2cb"
      },
      "execution_count": null,
      "outputs": [
        {
          "output_type": "execute_result",
          "data": {
            "text/plain": [
              "array([7, 8])"
            ]
          },
          "metadata": {},
          "execution_count": 35
        }
      ]
    },
    {
      "cell_type": "code",
      "source": [
        "a5 = np.arange(0,10,2)\n",
        "a5"
      ],
      "metadata": {
        "colab": {
          "base_uri": "https://localhost:8080/"
        },
        "id": "jGeDAiTQWUen",
        "outputId": "851a7299-86a8-430b-c4ca-d18244e21170"
      },
      "execution_count": null,
      "outputs": [
        {
          "output_type": "execute_result",
          "data": {
            "text/plain": [
              "array([0, 2, 4, 6, 8])"
            ]
          },
          "metadata": {},
          "execution_count": 39
        }
      ]
    },
    {
      "cell_type": "code",
      "source": [
        "# Create a 1D array with values from 1 to 5.\n",
        "a = np.arange(1,6)\n",
        "a"
      ],
      "metadata": {
        "id": "6nonerIhXXyw",
        "colab": {
          "base_uri": "https://localhost:8080/"
        },
        "outputId": "d6d4c1f7-dd43-4ef6-dbfa-358de2c2042f"
      },
      "execution_count": null,
      "outputs": [
        {
          "output_type": "execute_result",
          "data": {
            "text/plain": [
              "array([1, 2, 3, 4, 5])"
            ]
          },
          "metadata": {},
          "execution_count": 3
        }
      ]
    },
    {
      "cell_type": "code",
      "source": [
        "# Create a 2x3 array filled with zeros\n",
        "b = np.array([[0,0,0],[0,0,0]])\n",
        "b"
      ],
      "metadata": {
        "colab": {
          "base_uri": "https://localhost:8080/"
        },
        "id": "69lLLjrCRSAV",
        "outputId": "44b70ce0-06f5-45fd-da08-677077bf30db"
      },
      "execution_count": null,
      "outputs": [
        {
          "output_type": "execute_result",
          "data": {
            "text/plain": [
              "array([[0, 0, 0],\n",
              "       [0, 0, 0]])"
            ]
          },
          "metadata": {},
          "execution_count": 4
        }
      ]
    },
    {
      "cell_type": "code",
      "source": [
        "b = np.zeros((2,3), dtype = int)\n",
        "b"
      ],
      "metadata": {
        "colab": {
          "base_uri": "https://localhost:8080/"
        },
        "id": "nGH3POS4RtnU",
        "outputId": "2138004e-2ac4-4de8-ff7d-fe8ec68566e1"
      },
      "execution_count": null,
      "outputs": [
        {
          "output_type": "execute_result",
          "data": {
            "text/plain": [
              "array([[0, 0, 0],\n",
              "       [0, 0, 0]])"
            ]
          },
          "metadata": {},
          "execution_count": 6
        }
      ]
    },
    {
      "cell_type": "code",
      "source": [
        "c = np.ones((3,3), dtype = int)\n",
        "c"
      ],
      "metadata": {
        "colab": {
          "base_uri": "https://localhost:8080/"
        },
        "id": "i_pUIwoFR5Hf",
        "outputId": "0673e45a-f2b3-4cdd-cd90-71964ba82cfd"
      },
      "execution_count": null,
      "outputs": [
        {
          "output_type": "execute_result",
          "data": {
            "text/plain": [
              "array([[1, 1, 1],\n",
              "       [1, 1, 1],\n",
              "       [1, 1, 1]])"
            ]
          },
          "metadata": {},
          "execution_count": 7
        }
      ]
    },
    {
      "cell_type": "code",
      "source": [
        "# Create a 3x3 identity matrix\n",
        "np.identity(3)"
      ],
      "metadata": {
        "colab": {
          "base_uri": "https://localhost:8080/"
        },
        "id": "AW5xdyeuSOMg",
        "outputId": "ba3f7ff9-753d-4830-8671-77c6c84b5a1c"
      },
      "execution_count": null,
      "outputs": [
        {
          "output_type": "execute_result",
          "data": {
            "text/plain": [
              "array([[1., 0., 0.],\n",
              "       [0., 1., 0.],\n",
              "       [0., 0., 1.]])"
            ]
          },
          "metadata": {},
          "execution_count": 8
        }
      ]
    },
    {
      "cell_type": "code",
      "source": [
        "np.eye(3)"
      ],
      "metadata": {
        "colab": {
          "base_uri": "https://localhost:8080/"
        },
        "id": "5vg__Jm2SnB_",
        "outputId": "201c75ef-2808-4851-a314-7c09ffb48a69"
      },
      "execution_count": null,
      "outputs": [
        {
          "output_type": "execute_result",
          "data": {
            "text/plain": [
              "array([[1., 0., 0.],\n",
              "       [0., 1., 0.],\n",
              "       [0., 0., 1.]])"
            ]
          },
          "metadata": {},
          "execution_count": 9
        }
      ]
    },
    {
      "cell_type": "code",
      "source": [
        "np.eye(2,3)"
      ],
      "metadata": {
        "colab": {
          "base_uri": "https://localhost:8080/"
        },
        "id": "YgN9zAyESuGr",
        "outputId": "1c8392f5-d16b-43cb-c355-4bdcc20f4e91"
      },
      "execution_count": null,
      "outputs": [
        {
          "output_type": "execute_result",
          "data": {
            "text/plain": [
              "array([[1., 0., 0.],\n",
              "       [0., 1., 0.]])"
            ]
          },
          "metadata": {},
          "execution_count": 10
        }
      ]
    },
    {
      "cell_type": "code",
      "source": [
        "[ 2 0 0\n",
        " 0 2 0\n",
        "0 0 2]"
      ],
      "metadata": {
        "colab": {
          "base_uri": "https://localhost:8080/",
          "height": 143
        },
        "id": "dvn1DdyNTXhO",
        "outputId": "6cb6c66b-8e8d-43b1-a5e5-d64b46c0aba9"
      },
      "execution_count": null,
      "outputs": [
        {
          "output_type": "error",
          "ename": "SyntaxError",
          "evalue": "invalid syntax. Perhaps you forgot a comma? (<ipython-input-11-150d01cf3ed4>, line 1)",
          "traceback": [
            "\u001b[0;36m  File \u001b[0;32m\"<ipython-input-11-150d01cf3ed4>\"\u001b[0;36m, line \u001b[0;32m1\u001b[0m\n\u001b[0;31m    [ 2 0 0]\u001b[0m\n\u001b[0m      ^\u001b[0m\n\u001b[0;31mSyntaxError\u001b[0m\u001b[0;31m:\u001b[0m invalid syntax. Perhaps you forgot a comma?\n"
          ]
        }
      ]
    },
    {
      "cell_type": "code",
      "source": [
        "np.identity(3, dtype = int) *2"
      ],
      "metadata": {
        "colab": {
          "base_uri": "https://localhost:8080/"
        },
        "id": "m6hUDNkbTwkW",
        "outputId": "4fd34695-cb3b-4f98-e195-8535d469f192"
      },
      "execution_count": null,
      "outputs": [
        {
          "output_type": "execute_result",
          "data": {
            "text/plain": [
              "array([[2, 0, 0],\n",
              "       [0, 2, 0],\n",
              "       [0, 0, 2]])"
            ]
          },
          "metadata": {},
          "execution_count": 13
        }
      ]
    },
    {
      "cell_type": "code",
      "source": [
        "np.diag([2,2,2])"
      ],
      "metadata": {
        "colab": {
          "base_uri": "https://localhost:8080/"
        },
        "id": "0QQsfH7ZUCZM",
        "outputId": "079a0724-3771-4c7e-99fe-be973dfcdba8"
      },
      "execution_count": null,
      "outputs": [
        {
          "output_type": "execute_result",
          "data": {
            "text/plain": [
              "array([[2, 0, 0],\n",
              "       [0, 2, 0],\n",
              "       [0, 0, 2]])"
            ]
          },
          "metadata": {},
          "execution_count": 16
        }
      ]
    },
    {
      "cell_type": "code",
      "source": [
        "np.full((3,3),2)"
      ],
      "metadata": {
        "colab": {
          "base_uri": "https://localhost:8080/"
        },
        "id": "3nwg40g6UVNm",
        "outputId": "458143cf-4beb-45a0-9ace-ef36dd7d02e1"
      },
      "execution_count": null,
      "outputs": [
        {
          "output_type": "execute_result",
          "data": {
            "text/plain": [
              "array([[2, 2, 2],\n",
              "       [2, 2, 2],\n",
              "       [2, 2, 2]])"
            ]
          },
          "metadata": {},
          "execution_count": 17
        }
      ]
    },
    {
      "cell_type": "code",
      "source": [
        "np.diag([2,2,2])[::-1]"
      ],
      "metadata": {
        "colab": {
          "base_uri": "https://localhost:8080/"
        },
        "id": "-TM7SrLqUyzh",
        "outputId": "722021e2-6401-4ba8-bda9-b62de33dd2cd"
      },
      "execution_count": null,
      "outputs": [
        {
          "output_type": "execute_result",
          "data": {
            "text/plain": [
              "array([[0, 0, 2],\n",
              "       [0, 2, 0],\n",
              "       [2, 0, 0]])"
            ]
          },
          "metadata": {},
          "execution_count": 18
        }
      ]
    },
    {
      "cell_type": "code",
      "source": [
        "l = [9,7,6,5,4]\n",
        "l"
      ],
      "metadata": {
        "colab": {
          "base_uri": "https://localhost:8080/"
        },
        "id": "B4UpKoYWWNpk",
        "outputId": "ff12c712-cc38-4a54-cf6c-e7e1ce0f3b74"
      },
      "execution_count": null,
      "outputs": [
        {
          "output_type": "execute_result",
          "data": {
            "text/plain": [
              "[9, 7, 6, 5, 4]"
            ]
          },
          "metadata": {},
          "execution_count": 19
        }
      ]
    },
    {
      "cell_type": "code",
      "source": [
        "l[::-1]"
      ],
      "metadata": {
        "colab": {
          "base_uri": "https://localhost:8080/"
        },
        "id": "pZI7Yl4CWZL_",
        "outputId": "c5e8c483-905a-4b15-f299-77c22b3d1c78"
      },
      "execution_count": null,
      "outputs": [
        {
          "output_type": "execute_result",
          "data": {
            "text/plain": [
              "[4, 5, 6, 7, 9]"
            ]
          },
          "metadata": {},
          "execution_count": 20
        }
      ]
    },
    {
      "cell_type": "code",
      "source": [
        "arr_3d = np.array([[[1, 2, 3], [4, 5, 6]], [[7, 8, 9], [10, 11, 12]], [[13, 14, 15], [16, 17, 18]]])\n",
        "arr_3d"
      ],
      "metadata": {
        "colab": {
          "base_uri": "https://localhost:8080/"
        },
        "id": "Zdvz88dEWbEU",
        "outputId": "35e140d7-2878-4fa5-a557-18b16de0f395"
      },
      "execution_count": null,
      "outputs": [
        {
          "output_type": "execute_result",
          "data": {
            "text/plain": [
              "array([[[ 1,  2,  3],\n",
              "        [ 4,  5,  6]],\n",
              "\n",
              "       [[ 7,  8,  9],\n",
              "        [10, 11, 12]],\n",
              "\n",
              "       [[13, 14, 15],\n",
              "        [16, 17, 18]]])"
            ]
          },
          "metadata": {},
          "execution_count": 21
        }
      ]
    },
    {
      "cell_type": "code",
      "source": [
        "arr_3d[::-1,::-1,::-1]"
      ],
      "metadata": {
        "colab": {
          "base_uri": "https://localhost:8080/"
        },
        "id": "4_4vneXaWtDA",
        "outputId": "0ee6f0d5-f5da-4826-ba5a-136156c387d4"
      },
      "execution_count": null,
      "outputs": [
        {
          "output_type": "execute_result",
          "data": {
            "text/plain": [
              "array([[[18, 17, 16],\n",
              "        [15, 14, 13]],\n",
              "\n",
              "       [[12, 11, 10],\n",
              "        [ 9,  8,  7]],\n",
              "\n",
              "       [[ 6,  5,  4],\n",
              "        [ 3,  2,  1]]])"
            ]
          },
          "metadata": {},
          "execution_count": 24
        }
      ]
    },
    {
      "cell_type": "code",
      "source": [
        "np.linspace(0,1,5)"
      ],
      "metadata": {
        "colab": {
          "base_uri": "https://localhost:8080/"
        },
        "id": "81ZFGNFXW5vb",
        "outputId": "0e9e9b65-a976-4bb4-b87b-ae29a51b8ce5"
      },
      "execution_count": null,
      "outputs": [
        {
          "output_type": "execute_result",
          "data": {
            "text/plain": [
              "array([0.  , 0.25, 0.5 , 0.75, 1.  ])"
            ]
          },
          "metadata": {},
          "execution_count": 25
        }
      ]
    },
    {
      "cell_type": "code",
      "source": [
        "np.linspace(1,11,7)"
      ],
      "metadata": {
        "colab": {
          "base_uri": "https://localhost:8080/"
        },
        "id": "5K7StR_9Xxp3",
        "outputId": "6695b407-9441-477e-c7fe-21364a98fc2c"
      },
      "execution_count": null,
      "outputs": [
        {
          "output_type": "execute_result",
          "data": {
            "text/plain": [
              "array([ 1.        ,  2.66666667,  4.33333333,  6.        ,  7.66666667,\n",
              "        9.33333333, 11.        ])"
            ]
          },
          "metadata": {},
          "execution_count": 27
        }
      ]
    },
    {
      "cell_type": "code",
      "source": [
        "# random values"
      ],
      "metadata": {
        "id": "NqkXiVjLX2fp"
      },
      "execution_count": null,
      "outputs": []
    },
    {
      "cell_type": "code",
      "source": [
        "np.random.rand(3,4)"
      ],
      "metadata": {
        "colab": {
          "base_uri": "https://localhost:8080/"
        },
        "id": "xmU_A7aBYSDn",
        "outputId": "8902ffa6-7ceb-4164-a64c-fbe6b70f1759"
      },
      "execution_count": null,
      "outputs": [
        {
          "output_type": "execute_result",
          "data": {
            "text/plain": [
              "array([[0.46868025, 0.11038983, 0.60113273, 0.54447078],\n",
              "       [0.86664469, 0.64366437, 0.59674824, 0.94804424],\n",
              "       [0.97742906, 0.45349917, 0.42458481, 0.09392635]])"
            ]
          },
          "metadata": {},
          "execution_count": 35
        }
      ]
    },
    {
      "cell_type": "code",
      "source": [
        "np.random.seed(1)\n",
        "np.random.rand(3,3)"
      ],
      "metadata": {
        "colab": {
          "base_uri": "https://localhost:8080/"
        },
        "id": "YXDexSu8Ycso",
        "outputId": "3ae86da9-7306-4120-bfb6-ad0eb6269d07"
      },
      "execution_count": null,
      "outputs": [
        {
          "output_type": "execute_result",
          "data": {
            "text/plain": [
              "array([[4.17022005e-01, 7.20324493e-01, 1.14374817e-04],\n",
              "       [3.02332573e-01, 1.46755891e-01, 9.23385948e-02],\n",
              "       [1.86260211e-01, 3.45560727e-01, 3.96767474e-01]])"
            ]
          },
          "metadata": {},
          "execution_count": 37
        }
      ]
    },
    {
      "cell_type": "code",
      "source": [
        "np.random.randn(3,2)"
      ],
      "metadata": {
        "colab": {
          "base_uri": "https://localhost:8080/"
        },
        "id": "ZLS0WOYPZHWg",
        "outputId": "d78416e9-86f1-4fb8-9ee5-eb05f2cc951f"
      },
      "execution_count": null,
      "outputs": [
        {
          "output_type": "execute_result",
          "data": {
            "text/plain": [
              "array([[-2.3634686 ,  1.13534535],\n",
              "       [-1.01701414,  0.63736181],\n",
              "       [-0.85990661,  1.77260763]])"
            ]
          },
          "metadata": {},
          "execution_count": 38
        }
      ]
    },
    {
      "cell_type": "code",
      "source": [
        "np.random.randint(2,10, size = (3,4))"
      ],
      "metadata": {
        "colab": {
          "base_uri": "https://localhost:8080/"
        },
        "id": "WrDBOXyCbLYZ",
        "outputId": "0601b4ad-acbf-452c-ad03-6c2b489e4f7d"
      },
      "execution_count": null,
      "outputs": [
        {
          "output_type": "execute_result",
          "data": {
            "text/plain": [
              "array([[3, 3, 9, 8],\n",
              "       [2, 8, 7, 3],\n",
              "       [3, 9, 9, 7]])"
            ]
          },
          "metadata": {},
          "execution_count": 39
        }
      ]
    },
    {
      "cell_type": "code",
      "source": [
        "# matrice operations"
      ],
      "metadata": {
        "id": "fr67GFYdb1j3"
      },
      "execution_count": null,
      "outputs": []
    },
    {
      "cell_type": "code",
      "source": [
        "a = np.array([[2,3],[9,8]])\n",
        "b = np.array([[4,5],[5,6]])\n"
      ],
      "metadata": {
        "id": "OrkghC24cLqq"
      },
      "execution_count": null,
      "outputs": []
    },
    {
      "cell_type": "code",
      "source": [
        "a"
      ],
      "metadata": {
        "colab": {
          "base_uri": "https://localhost:8080/"
        },
        "id": "MWf2WA0wcTaJ",
        "outputId": "5ed5d8a6-4f16-4c94-b440-f658efd19518"
      },
      "execution_count": null,
      "outputs": [
        {
          "output_type": "execute_result",
          "data": {
            "text/plain": [
              "array([[2, 3],\n",
              "       [9, 8]])"
            ]
          },
          "metadata": {},
          "execution_count": 42
        }
      ]
    },
    {
      "cell_type": "code",
      "source": [
        "b"
      ],
      "metadata": {
        "colab": {
          "base_uri": "https://localhost:8080/"
        },
        "id": "WNIkDCItcUFN",
        "outputId": "74f20ba2-e8aa-4c18-d736-d0f4e2ef3c7a"
      },
      "execution_count": null,
      "outputs": [
        {
          "output_type": "execute_result",
          "data": {
            "text/plain": [
              "array([[4, 5],\n",
              "       [5, 6]])"
            ]
          },
          "metadata": {},
          "execution_count": 43
        }
      ]
    },
    {
      "cell_type": "code",
      "source": [
        "a+b"
      ],
      "metadata": {
        "colab": {
          "base_uri": "https://localhost:8080/"
        },
        "id": "M_Eav58xcUcF",
        "outputId": "d5206bf1-cd2a-496e-a7b8-993cc09a8086"
      },
      "execution_count": null,
      "outputs": [
        {
          "output_type": "execute_result",
          "data": {
            "text/plain": [
              "array([[ 6,  8],\n",
              "       [14, 14]])"
            ]
          },
          "metadata": {},
          "execution_count": 44
        }
      ]
    },
    {
      "cell_type": "code",
      "source": [
        "a-b"
      ],
      "metadata": {
        "colab": {
          "base_uri": "https://localhost:8080/"
        },
        "id": "f8ZhqOf8cYc_",
        "outputId": "6671e7da-13f2-4522-8d28-a564402af698"
      },
      "execution_count": null,
      "outputs": [
        {
          "output_type": "execute_result",
          "data": {
            "text/plain": [
              "array([[-2, -2],\n",
              "       [ 4,  2]])"
            ]
          },
          "metadata": {},
          "execution_count": 45
        }
      ]
    },
    {
      "cell_type": "code",
      "source": [
        "a*b"
      ],
      "metadata": {
        "colab": {
          "base_uri": "https://localhost:8080/"
        },
        "id": "XF53iV-ZcgsD",
        "outputId": "e06f2d9b-f1ce-4c79-a42a-b9ab54bbb800"
      },
      "execution_count": null,
      "outputs": [
        {
          "output_type": "execute_result",
          "data": {
            "text/plain": [
              "array([[ 8, 15],\n",
              "       [45, 48]])"
            ]
          },
          "metadata": {},
          "execution_count": 46
        }
      ]
    },
    {
      "cell_type": "code",
      "source": [
        "c = np.array([[3,4,6],[9,5,4]])\n",
        "a = np.array([[2,3],[9,8]])\n",
        "c"
      ],
      "metadata": {
        "colab": {
          "base_uri": "https://localhost:8080/"
        },
        "id": "_ibD30Zwci3j",
        "outputId": "82634b3a-f6e0-4bd8-c623-ba0fe580cda6"
      },
      "execution_count": null,
      "outputs": [
        {
          "output_type": "execute_result",
          "data": {
            "text/plain": [
              "array([[3, 4, 6],\n",
              "       [9, 5, 4]])"
            ]
          },
          "metadata": {},
          "execution_count": 47
        }
      ]
    },
    {
      "cell_type": "code",
      "source": [
        "a"
      ],
      "metadata": {
        "colab": {
          "base_uri": "https://localhost:8080/"
        },
        "id": "aot_Yql0coCB",
        "outputId": "c04c09ca-a55f-493a-b68d-6540f6be0184"
      },
      "execution_count": null,
      "outputs": [
        {
          "output_type": "execute_result",
          "data": {
            "text/plain": [
              "array([[2, 3],\n",
              "       [9, 8]])"
            ]
          },
          "metadata": {},
          "execution_count": 48
        }
      ]
    },
    {
      "cell_type": "code",
      "source": [
        "a+c"
      ],
      "metadata": {
        "colab": {
          "base_uri": "https://localhost:8080/",
          "height": 179
        },
        "id": "muFd1Gjpco2s",
        "outputId": "a2141cc8-01e0-4902-fd4f-b8b0a8c336c7"
      },
      "execution_count": null,
      "outputs": [
        {
          "output_type": "error",
          "ename": "ValueError",
          "evalue": "operands could not be broadcast together with shapes (2,2) (2,3) ",
          "traceback": [
            "\u001b[0;31m---------------------------------------------------------------------------\u001b[0m",
            "\u001b[0;31mValueError\u001b[0m                                Traceback (most recent call last)",
            "\u001b[0;32m<ipython-input-49-e200917bc55f>\u001b[0m in \u001b[0;36m<cell line: 1>\u001b[0;34m()\u001b[0m\n\u001b[0;32m----> 1\u001b[0;31m \u001b[0ma\u001b[0m\u001b[0;34m+\u001b[0m\u001b[0mc\u001b[0m\u001b[0;34m\u001b[0m\u001b[0;34m\u001b[0m\u001b[0m\n\u001b[0m",
            "\u001b[0;31mValueError\u001b[0m: operands could not be broadcast together with shapes (2,2) (2,3) "
          ]
        }
      ]
    },
    {
      "cell_type": "code",
      "source": [
        "s = 5\n",
        "a = np.array([3,4,5])\n",
        "a"
      ],
      "metadata": {
        "colab": {
          "base_uri": "https://localhost:8080/"
        },
        "id": "ZHgtyys4c8M4",
        "outputId": "a4530c32-3b40-424c-abee-aa2cbaec9492"
      },
      "execution_count": null,
      "outputs": [
        {
          "output_type": "execute_result",
          "data": {
            "text/plain": [
              "array([3, 4, 5])"
            ]
          },
          "metadata": {},
          "execution_count": 50
        }
      ]
    },
    {
      "cell_type": "code",
      "source": [
        "a+s"
      ],
      "metadata": {
        "colab": {
          "base_uri": "https://localhost:8080/"
        },
        "id": "hLwP9OdTdoFk",
        "outputId": "862008dd-a54e-4851-ba3e-1e3e177d28f0"
      },
      "execution_count": null,
      "outputs": [
        {
          "output_type": "execute_result",
          "data": {
            "text/plain": [
              "array([ 8,  9, 10])"
            ]
          },
          "metadata": {},
          "execution_count": 51
        }
      ]
    },
    {
      "cell_type": "code",
      "source": [
        "s+a"
      ],
      "metadata": {
        "colab": {
          "base_uri": "https://localhost:8080/"
        },
        "id": "Eui1nyjtdrxz",
        "outputId": "e27a4171-33d9-4c61-9b47-ead59e72d319"
      },
      "execution_count": null,
      "outputs": [
        {
          "output_type": "execute_result",
          "data": {
            "text/plain": [
              "array([ 8,  9, 10])"
            ]
          },
          "metadata": {},
          "execution_count": 52
        }
      ]
    },
    {
      "cell_type": "code",
      "source": [
        "array_1d = np.array([1, 2, 3])\n",
        "array_2d = np.array([[4, 5, 6], [7, 8, 9]])"
      ],
      "metadata": {
        "id": "sP4Ue4eudtF6"
      },
      "execution_count": null,
      "outputs": []
    },
    {
      "cell_type": "code",
      "source": [
        "array_1d"
      ],
      "metadata": {
        "colab": {
          "base_uri": "https://localhost:8080/"
        },
        "id": "4Kj4BbjTd9Gz",
        "outputId": "69f26c93-9536-43e9-bd6d-3b9cc07ef425"
      },
      "execution_count": null,
      "outputs": [
        {
          "output_type": "execute_result",
          "data": {
            "text/plain": [
              "array([1, 2, 3])"
            ]
          },
          "metadata": {},
          "execution_count": 54
        }
      ]
    },
    {
      "cell_type": "code",
      "source": [
        "array_2d"
      ],
      "metadata": {
        "colab": {
          "base_uri": "https://localhost:8080/"
        },
        "id": "u8UlwmWdd-0V",
        "outputId": "dbf863ef-4b7e-4b37-e71a-48c36b226f6f"
      },
      "execution_count": null,
      "outputs": [
        {
          "output_type": "execute_result",
          "data": {
            "text/plain": [
              "array([[4, 5, 6],\n",
              "       [7, 8, 9]])"
            ]
          },
          "metadata": {},
          "execution_count": 55
        }
      ]
    },
    {
      "cell_type": "code",
      "source": [
        "array_1d + array_2d"
      ],
      "metadata": {
        "colab": {
          "base_uri": "https://localhost:8080/"
        },
        "id": "KFomZKDNeANC",
        "outputId": "0fd1abb7-e03f-417d-c0be-c794d8263417"
      },
      "execution_count": null,
      "outputs": [
        {
          "output_type": "execute_result",
          "data": {
            "text/plain": [
              "array([[ 5,  7,  9],\n",
              "       [ 8, 10, 12]])"
            ]
          },
          "metadata": {},
          "execution_count": 56
        }
      ]
    },
    {
      "cell_type": "code",
      "source": [
        "# [ 1 2 3\n",
        "#   1 2 3]"
      ],
      "metadata": {
        "id": "5ZNmBFhOeH7f"
      },
      "execution_count": null,
      "outputs": []
    },
    {
      "cell_type": "code",
      "source": [
        "array_2d + array_1d"
      ],
      "metadata": {
        "colab": {
          "base_uri": "https://localhost:8080/"
        },
        "id": "wAhsjxuAeck9",
        "outputId": "a0ca1125-44cd-4a28-e917-27f4a7aa1644"
      },
      "execution_count": null,
      "outputs": [
        {
          "output_type": "execute_result",
          "data": {
            "text/plain": [
              "array([[ 5,  7,  9],\n",
              "       [ 8, 10, 12]])"
            ]
          },
          "metadata": {},
          "execution_count": 58
        }
      ]
    },
    {
      "cell_type": "code",
      "source": [
        "array_a = np.array([[1, 2], [3, 4]])\n",
        "array_b = np.array([[5, 6, 7,7], [4,5,6,7]])"
      ],
      "metadata": {
        "id": "tjKHvHNFegjT"
      },
      "execution_count": null,
      "outputs": []
    },
    {
      "cell_type": "code",
      "source": [
        "array_a"
      ],
      "metadata": {
        "colab": {
          "base_uri": "https://localhost:8080/"
        },
        "id": "S2YAmOlxevFF",
        "outputId": "2cc3586c-af36-479b-8547-bbf53bcd1efe"
      },
      "execution_count": null,
      "outputs": [
        {
          "output_type": "execute_result",
          "data": {
            "text/plain": [
              "array([[1, 2],\n",
              "       [3, 4]])"
            ]
          },
          "metadata": {},
          "execution_count": 68
        }
      ]
    },
    {
      "cell_type": "code",
      "source": [
        "array_b"
      ],
      "metadata": {
        "colab": {
          "base_uri": "https://localhost:8080/"
        },
        "id": "kqm4oie0ewLN",
        "outputId": "a0f727b2-3884-4d6e-dcda-8dfc3b3af225"
      },
      "execution_count": null,
      "outputs": [
        {
          "output_type": "execute_result",
          "data": {
            "text/plain": [
              "array([[5, 6, 7, 7],\n",
              "       [4, 5, 6, 7]])"
            ]
          },
          "metadata": {},
          "execution_count": 69
        }
      ]
    },
    {
      "cell_type": "code",
      "source": [
        "array_a + array_b"
      ],
      "metadata": {
        "colab": {
          "base_uri": "https://localhost:8080/",
          "height": 179
        },
        "id": "kkHHlZ4HexZI",
        "outputId": "858f1841-9a68-49d4-a1a9-9feeb4e6ce3c"
      },
      "execution_count": null,
      "outputs": [
        {
          "output_type": "error",
          "ename": "ValueError",
          "evalue": "operands could not be broadcast together with shapes (2,2) (2,4) ",
          "traceback": [
            "\u001b[0;31m---------------------------------------------------------------------------\u001b[0m",
            "\u001b[0;31mValueError\u001b[0m                                Traceback (most recent call last)",
            "\u001b[0;32m<ipython-input-70-6c0c2030b7c6>\u001b[0m in \u001b[0;36m<cell line: 1>\u001b[0;34m()\u001b[0m\n\u001b[0;32m----> 1\u001b[0;31m \u001b[0marray_a\u001b[0m \u001b[0;34m+\u001b[0m \u001b[0marray_b\u001b[0m\u001b[0;34m\u001b[0m\u001b[0;34m\u001b[0m\u001b[0m\n\u001b[0m",
            "\u001b[0;31mValueError\u001b[0m: operands could not be broadcast together with shapes (2,2) (2,4) "
          ]
        }
      ]
    },
    {
      "cell_type": "code",
      "source": [
        "s = np.array([6,7,8,9,4,2,3,4])\n",
        "s"
      ],
      "metadata": {
        "colab": {
          "base_uri": "https://localhost:8080/"
        },
        "id": "ViA0BGXFe2dG",
        "outputId": "eadc9439-ee2b-480a-f3f1-1c8b301abad7"
      },
      "execution_count": null,
      "outputs": [
        {
          "output_type": "execute_result",
          "data": {
            "text/plain": [
              "array([6, 7, 8, 9, 4, 2, 3, 4])"
            ]
          },
          "metadata": {},
          "execution_count": 72
        }
      ]
    },
    {
      "cell_type": "code",
      "source": [
        "np.sum(s)"
      ],
      "metadata": {
        "colab": {
          "base_uri": "https://localhost:8080/"
        },
        "id": "AGRm5-Odgh4g",
        "outputId": "42a9a51f-9092-49c3-d090-ba7c981b4407"
      },
      "execution_count": null,
      "outputs": [
        {
          "output_type": "execute_result",
          "data": {
            "text/plain": [
              "43"
            ]
          },
          "metadata": {},
          "execution_count": 74
        }
      ]
    },
    {
      "cell_type": "code",
      "source": [
        "np.mean(s)"
      ],
      "metadata": {
        "colab": {
          "base_uri": "https://localhost:8080/"
        },
        "id": "-iSinuyfgnJF",
        "outputId": "09e6b0eb-9deb-4f5d-b799-fd1f9d7cffc4"
      },
      "execution_count": null,
      "outputs": [
        {
          "output_type": "execute_result",
          "data": {
            "text/plain": [
              "5.375"
            ]
          },
          "metadata": {},
          "execution_count": 75
        }
      ]
    },
    {
      "cell_type": "code",
      "source": [
        "np.max(s)"
      ],
      "metadata": {
        "colab": {
          "base_uri": "https://localhost:8080/"
        },
        "id": "cXf6WNdDgqV5",
        "outputId": "22f2ce23-2cca-4a4d-9c46-f5009803d705"
      },
      "execution_count": null,
      "outputs": [
        {
          "output_type": "execute_result",
          "data": {
            "text/plain": [
              "9"
            ]
          },
          "metadata": {},
          "execution_count": 76
        }
      ]
    },
    {
      "cell_type": "code",
      "source": [
        "np.min(s)"
      ],
      "metadata": {
        "colab": {
          "base_uri": "https://localhost:8080/"
        },
        "id": "kpfE-I0ags8H",
        "outputId": "a7da5d80-87a5-4d1c-faf6-0612a93d4457"
      },
      "execution_count": null,
      "outputs": [
        {
          "output_type": "execute_result",
          "data": {
            "text/plain": [
              "2"
            ]
          },
          "metadata": {},
          "execution_count": 77
        }
      ]
    },
    {
      "cell_type": "code",
      "source": [
        "arr_2d = np.array([[1, 2, 3], [4, 5, 6], [7, 8, 9]])\n",
        "arr_2d"
      ],
      "metadata": {
        "colab": {
          "base_uri": "https://localhost:8080/"
        },
        "id": "oppF8b63gusv",
        "outputId": "02c787c3-b9a1-42b6-bdde-53d76b8a5180"
      },
      "execution_count": null,
      "outputs": [
        {
          "output_type": "execute_result",
          "data": {
            "text/plain": [
              "array([[1, 2, 3],\n",
              "       [4, 5, 6],\n",
              "       [7, 8, 9]])"
            ]
          },
          "metadata": {},
          "execution_count": 78
        }
      ]
    },
    {
      "cell_type": "code",
      "source": [
        "arr_2d[1,2]"
      ],
      "metadata": {
        "colab": {
          "base_uri": "https://localhost:8080/"
        },
        "id": "NABx4JLWg7UU",
        "outputId": "ad3ce07c-9f50-4c14-f3fa-3a2f759677c9"
      },
      "execution_count": null,
      "outputs": [
        {
          "output_type": "execute_result",
          "data": {
            "text/plain": [
              "6"
            ]
          },
          "metadata": {},
          "execution_count": 79
        }
      ]
    },
    {
      "cell_type": "code",
      "source": [
        "s"
      ],
      "metadata": {
        "colab": {
          "base_uri": "https://localhost:8080/"
        },
        "id": "x0F2pOpbhJw1",
        "outputId": "50803d20-a4aa-4a17-ea60-33ad783e234a"
      },
      "execution_count": null,
      "outputs": [
        {
          "output_type": "execute_result",
          "data": {
            "text/plain": [
              "array([6, 7, 8, 9, 4, 2, 3, 4])"
            ]
          },
          "metadata": {},
          "execution_count": 80
        }
      ]
    },
    {
      "cell_type": "code",
      "source": [
        "# from array 's' return elements > 3"
      ],
      "metadata": {
        "id": "YorrDDv7hLFf"
      },
      "execution_count": null,
      "outputs": []
    },
    {
      "cell_type": "code",
      "source": [
        "s[s>3]\n",
        "# boolean indexing"
      ],
      "metadata": {
        "colab": {
          "base_uri": "https://localhost:8080/"
        },
        "id": "BQhZqpvDhPIz",
        "outputId": "9d3260a6-f306-4ef8-ecda-cb1b29564a3a"
      },
      "execution_count": null,
      "outputs": [
        {
          "output_type": "execute_result",
          "data": {
            "text/plain": [
              "array([6, 7, 8, 9, 4, 4])"
            ]
          },
          "metadata": {},
          "execution_count": 83
        }
      ]
    },
    {
      "cell_type": "code",
      "source": [
        "# from array 's' return elements > 3 and < 7"
      ],
      "metadata": {
        "id": "NvNKhgbFh9qs"
      },
      "execution_count": null,
      "outputs": []
    },
    {
      "cell_type": "code",
      "source": [
        "s[(s>3) & (s<7)]"
      ],
      "metadata": {
        "colab": {
          "base_uri": "https://localhost:8080/"
        },
        "id": "QijB4RmViMr0",
        "outputId": "0d67230a-bc2d-411f-b4d4-cc8494033958"
      },
      "execution_count": null,
      "outputs": [
        {
          "output_type": "execute_result",
          "data": {
            "text/plain": [
              "array([6, 4, 4])"
            ]
          },
          "metadata": {},
          "execution_count": 89
        }
      ]
    },
    {
      "cell_type": "code",
      "source": [
        "# from array 's' return elements > 3\n",
        "a = s[s>3]\n",
        "a"
      ],
      "metadata": {
        "colab": {
          "base_uri": "https://localhost:8080/"
        },
        "id": "-FmCQHRHiVIA",
        "outputId": "ff352f36-5876-494f-e9dd-fce2e0a7d740"
      },
      "execution_count": null,
      "outputs": [
        {
          "output_type": "execute_result",
          "data": {
            "text/plain": [
              "array([6, 7, 8, 9, 4, 4])"
            ]
          },
          "metadata": {},
          "execution_count": 90
        }
      ]
    },
    {
      "cell_type": "code",
      "source": [
        "s"
      ],
      "metadata": {
        "colab": {
          "base_uri": "https://localhost:8080/"
        },
        "id": "0cIoQ0u-i9gb",
        "outputId": "900dfef7-5cb9-4cf2-9ecd-d25c2db31d7c"
      },
      "execution_count": null,
      "outputs": [
        {
          "output_type": "execute_result",
          "data": {
            "text/plain": [
              "array([6, 7, 8, 9, 4, 2, 3, 4])"
            ]
          },
          "metadata": {},
          "execution_count": 91
        }
      ]
    },
    {
      "cell_type": "code",
      "source": [
        "# replace them by 10"
      ],
      "metadata": {
        "id": "Egyg1pC1i-yC"
      },
      "execution_count": null,
      "outputs": []
    },
    {
      "cell_type": "code",
      "source": [
        "# m = s>3\n",
        "s[s>3] = 10\n",
        "s"
      ],
      "metadata": {
        "colab": {
          "base_uri": "https://localhost:8080/"
        },
        "id": "9vPMKbeljCBD",
        "outputId": "131099ad-27a7-40d9-d4a9-435eb8b12d3f"
      },
      "execution_count": null,
      "outputs": [
        {
          "output_type": "execute_result",
          "data": {
            "text/plain": [
              "array([10, 10, 10, 10, 10,  2,  3, 10])"
            ]
          },
          "metadata": {},
          "execution_count": 94
        }
      ]
    },
    {
      "cell_type": "code",
      "source": [
        "import numpy as np"
      ],
      "metadata": {
        "id": "IclmaPfPjOjB"
      },
      "execution_count": null,
      "outputs": []
    },
    {
      "cell_type": "code",
      "source": [
        "l = np.array(input(\"Enter elements with comma as separator\").split(','), dtype = 'int')\n",
        "l"
      ],
      "metadata": {
        "colab": {
          "base_uri": "https://localhost:8080/"
        },
        "id": "gqzlFSSFlpjV",
        "outputId": "7ff09f47-d895-4d73-8775-0d39fce7b32a"
      },
      "execution_count": null,
      "outputs": [
        {
          "name": "stdout",
          "output_type": "stream",
          "text": [
            "Enter elements with comma as separator1,2,3,4,5\n"
          ]
        },
        {
          "output_type": "execute_result",
          "data": {
            "text/plain": [
              "array([1, 2, 3, 4, 5])"
            ]
          },
          "metadata": {},
          "execution_count": 5
        }
      ]
    },
    {
      "cell_type": "code",
      "source": [
        "a1 = np.array(input(\"Enter elements with comma as separator\").split(','), dtype = 'int')\n",
        "a2 = np.array(input(\"Enter elements with comma as separator\").split(','), dtype = 'int')\n",
        "\n",
        "op = input(\"Enter the operation you want to perform :\")\n",
        "# k = { '+':a1+a2,}\n",
        "if op == '+':\n",
        "  r = a1+a2\n",
        "elif op == '-':\n",
        "  r = a1-a2\n",
        "elif op == '*':\n",
        "  r = a1*a2\n",
        "elif op == '/':\n",
        "  r = a1/a2\n",
        "\n",
        "else:\n",
        "  print(\"Not available\")\n",
        "\n",
        "print(r)"
      ],
      "metadata": {
        "colab": {
          "base_uri": "https://localhost:8080/"
        },
        "id": "cyCjZK9ul1p5",
        "outputId": "087f1266-cf77-4ca6-852c-b14f080314b7"
      },
      "execution_count": null,
      "outputs": [
        {
          "output_type": "stream",
          "name": "stdout",
          "text": [
            "Enter elements with comma as separator1,2,3,4,5\n",
            "Enter elements with comma as separator4,5,6,7,8\n",
            "Enter the operation you want to perform :+\n",
            "[ 5  7  9 11 13]\n"
          ]
        }
      ]
    },
    {
      "cell_type": "code",
      "source": [
        "a = np.random.randint(1,11,(3,4))\n",
        "a"
      ],
      "metadata": {
        "colab": {
          "base_uri": "https://localhost:8080/"
        },
        "id": "iw1Qly6wnILk",
        "outputId": "317e07e0-1cd2-428a-e59e-8e5562c6e92c"
      },
      "execution_count": null,
      "outputs": [
        {
          "output_type": "execute_result",
          "data": {
            "text/plain": [
              "array([[ 2,  3,  2,  2],\n",
              "       [10,  1,  1,  9],\n",
              "       [ 1,  4,  9,  1]])"
            ]
          },
          "metadata": {},
          "execution_count": 8
        }
      ]
    },
    {
      "cell_type": "code",
      "source": [
        "a1 = a - np.mean(a , axis = 0)\n",
        "a1"
      ],
      "metadata": {
        "colab": {
          "base_uri": "https://localhost:8080/"
        },
        "id": "iYzdmMqhnyfA",
        "outputId": "2b20b6cf-41fa-438f-a0b8-a4df381b1e9b"
      },
      "execution_count": null,
      "outputs": [
        {
          "output_type": "execute_result",
          "data": {
            "text/plain": [
              "array([[-2.33333333,  0.33333333, -2.        , -2.        ],\n",
              "       [ 5.66666667, -1.66666667, -3.        ,  5.        ],\n",
              "       [-3.33333333,  1.33333333,  5.        , -3.        ]])"
            ]
          },
          "metadata": {},
          "execution_count": 9
        }
      ]
    },
    {
      "cell_type": "code",
      "source": [
        "np.mean(a , axis = 0)\n"
      ],
      "metadata": {
        "colab": {
          "base_uri": "https://localhost:8080/"
        },
        "id": "8LUoiMRLoCdJ",
        "outputId": "4fc7bf52-e6b4-46a0-f75f-3da2863c3e46"
      },
      "execution_count": null,
      "outputs": [
        {
          "output_type": "execute_result",
          "data": {
            "text/plain": [
              "array([4.33333333, 2.66666667, 4.        , 4.        ])"
            ]
          },
          "metadata": {},
          "execution_count": 10
        }
      ]
    },
    {
      "cell_type": "code",
      "source": [
        "# reshaping - allows us to reshape the array while maintaing the data (reshape())"
      ],
      "metadata": {
        "id": "jxkRTNx_oPJp"
      },
      "execution_count": null,
      "outputs": []
    },
    {
      "cell_type": "code",
      "source": [
        "# np.reshape(array,newshape,order = 'C')"
      ],
      "metadata": {
        "id": "jW8oYs-vpJSV"
      },
      "execution_count": null,
      "outputs": []
    },
    {
      "cell_type": "code",
      "source": [
        "a1 = np.array([1,2,3,4,5,6])\n",
        "a1"
      ],
      "metadata": {
        "colab": {
          "base_uri": "https://localhost:8080/"
        },
        "id": "pqXNMm70p5hq",
        "outputId": "181ca99d-fd86-4dc4-8ef7-567bb98d5603"
      },
      "execution_count": null,
      "outputs": [
        {
          "output_type": "execute_result",
          "data": {
            "text/plain": [
              "array([1, 2, 3, 4, 5, 6])"
            ]
          },
          "metadata": {},
          "execution_count": 13
        }
      ]
    },
    {
      "cell_type": "code",
      "source": [
        "a2 = np.reshape(a1,(2,3))\n",
        "a2"
      ],
      "metadata": {
        "colab": {
          "base_uri": "https://localhost:8080/"
        },
        "id": "jXa76EbBqBj1",
        "outputId": "0363016c-3f49-4551-bbff-c1ce08308c9c"
      },
      "execution_count": null,
      "outputs": [
        {
          "output_type": "execute_result",
          "data": {
            "text/plain": [
              "array([[1, 2, 3],\n",
              "       [4, 5, 6]])"
            ]
          },
          "metadata": {},
          "execution_count": 14
        }
      ]
    },
    {
      "cell_type": "code",
      "source": [
        "a3 = np.array([[2,3,4],[8,9,10]])\n",
        "a3"
      ],
      "metadata": {
        "colab": {
          "base_uri": "https://localhost:8080/"
        },
        "id": "WL2_E3E5qHEI",
        "outputId": "6e292661-0877-4911-ae5c-41954b2cfbd9"
      },
      "execution_count": null,
      "outputs": [
        {
          "output_type": "execute_result",
          "data": {
            "text/plain": [
              "array([[ 2,  3,  4],\n",
              "       [ 8,  9, 10]])"
            ]
          },
          "metadata": {},
          "execution_count": 16
        }
      ]
    },
    {
      "cell_type": "code",
      "source": [
        "np.reshape(a3,6)"
      ],
      "metadata": {
        "colab": {
          "base_uri": "https://localhost:8080/"
        },
        "id": "TWT9MfQPqZ3M",
        "outputId": "df17953c-d3b4-4f1c-9868-8432685a1241"
      },
      "execution_count": null,
      "outputs": [
        {
          "output_type": "execute_result",
          "data": {
            "text/plain": [
              "array([ 2,  3,  4,  8,  9, 10])"
            ]
          },
          "metadata": {},
          "execution_count": 17
        }
      ]
    },
    {
      "cell_type": "code",
      "source": [
        "a4 = np.random.randint(1,11, (2,3,4))\n",
        "a4"
      ],
      "metadata": {
        "colab": {
          "base_uri": "https://localhost:8080/"
        },
        "id": "hh8evmEWq1n5",
        "outputId": "64ca74eb-505e-4efc-eda2-64216fb49d89"
      },
      "execution_count": null,
      "outputs": [
        {
          "output_type": "execute_result",
          "data": {
            "text/plain": [
              "array([[[ 3,  8,  7,  8],\n",
              "        [10,  1,  9,  9],\n",
              "        [ 4,  2,  7,  6]],\n",
              "\n",
              "       [[ 3,  1,  7,  2],\n",
              "        [ 8,  2,  6,  4],\n",
              "        [ 2,  4,  2, 10]]])"
            ]
          },
          "metadata": {},
          "execution_count": 18
        }
      ]
    },
    {
      "cell_type": "code",
      "source": [
        "np.reshape(a4,(3,2,4))"
      ],
      "metadata": {
        "colab": {
          "base_uri": "https://localhost:8080/"
        },
        "id": "-Uyu6oL5sTcL",
        "outputId": "2434ce92-411b-4549-d4b3-f7457d378bc4"
      },
      "execution_count": null,
      "outputs": [
        {
          "output_type": "execute_result",
          "data": {
            "text/plain": [
              "array([[[ 3,  8,  7,  8],\n",
              "        [10,  1,  9,  9]],\n",
              "\n",
              "       [[ 4,  2,  7,  6],\n",
              "        [ 3,  1,  7,  2]],\n",
              "\n",
              "       [[ 8,  2,  6,  4],\n",
              "        [ 2,  4,  2, 10]]])"
            ]
          },
          "metadata": {},
          "execution_count": 19
        }
      ]
    },
    {
      "cell_type": "code",
      "source": [
        "a5 = np.arange(12)\n",
        "a5"
      ],
      "metadata": {
        "colab": {
          "base_uri": "https://localhost:8080/"
        },
        "id": "VOtMlAWkslPq",
        "outputId": "18c65e44-f2a9-47f6-bd38-a473f532aee3"
      },
      "execution_count": null,
      "outputs": [
        {
          "output_type": "execute_result",
          "data": {
            "text/plain": [
              "array([ 0,  1,  2,  3,  4,  5,  6,  7,  8,  9, 10, 11])"
            ]
          },
          "metadata": {},
          "execution_count": 20
        }
      ]
    },
    {
      "cell_type": "code",
      "source": [
        "np.reshape(a5,(3,4),order = 'C')"
      ],
      "metadata": {
        "colab": {
          "base_uri": "https://localhost:8080/"
        },
        "id": "DFRSzh2mtFtD",
        "outputId": "6b171be1-5539-473b-cc47-e6b6d751f24b"
      },
      "execution_count": null,
      "outputs": [
        {
          "output_type": "execute_result",
          "data": {
            "text/plain": [
              "array([[ 0,  1,  2,  3],\n",
              "       [ 4,  5,  6,  7],\n",
              "       [ 8,  9, 10, 11]])"
            ]
          },
          "metadata": {},
          "execution_count": 21
        }
      ]
    },
    {
      "cell_type": "code",
      "source": [
        "np.reshape(a5,(3,4),order = 'F')"
      ],
      "metadata": {
        "colab": {
          "base_uri": "https://localhost:8080/"
        },
        "id": "2BdPm99FtPOE",
        "outputId": "9004e076-e4d8-4025-d16f-f398cea5aafc"
      },
      "execution_count": null,
      "outputs": [
        {
          "output_type": "execute_result",
          "data": {
            "text/plain": [
              "array([[ 0,  3,  6,  9],\n",
              "       [ 1,  4,  7, 10],\n",
              "       [ 2,  5,  8, 11]])"
            ]
          },
          "metadata": {},
          "execution_count": 22
        }
      ]
    },
    {
      "cell_type": "code",
      "source": [
        "a6 = np.array([1,2,3,4,5,6])\n",
        "a6"
      ],
      "metadata": {
        "colab": {
          "base_uri": "https://localhost:8080/"
        },
        "id": "T5U5q_MZtbY7",
        "outputId": "2dd6578a-0753-4070-cc7f-e785d1ec1aef"
      },
      "execution_count": null,
      "outputs": [
        {
          "output_type": "execute_result",
          "data": {
            "text/plain": [
              "array([1, 2, 3, 4, 5, 6])"
            ]
          },
          "metadata": {},
          "execution_count": 33
        }
      ]
    },
    {
      "cell_type": "code",
      "source": [
        "np.reshape(a6,(2,-1))"
      ],
      "metadata": {
        "colab": {
          "base_uri": "https://localhost:8080/"
        },
        "id": "Hwi5drHytxDK",
        "outputId": "51a77864-fe02-4e7c-af94-183665b38db0"
      },
      "execution_count": null,
      "outputs": [
        {
          "output_type": "execute_result",
          "data": {
            "text/plain": [
              "array([[1, 2, 3],\n",
              "       [4, 5, 6]])"
            ]
          },
          "metadata": {},
          "execution_count": 34
        }
      ]
    },
    {
      "cell_type": "code",
      "source": [
        "# create a 2d numpy array with user input and print the sum of elements for each column and each row"
      ],
      "metadata": {
        "id": "cwtu3XnjuPtW"
      },
      "execution_count": null,
      "outputs": []
    },
    {
      "cell_type": "code",
      "source": [
        "\n",
        "rows = int(input(\"Enter the number of rows: \"))\n",
        "columns = int(input(\"Enter the number of columns: \"))\n",
        "\n",
        "flat_array = np.array([float(input(\"Enter element at position {i+1}: \")) for i in range(rows*columns)], dtype = int)\n",
        "print(flat_array)\n",
        "array_2d = flat_array.reshape((rows, columns))\n",
        "print(\"Reshaped :\",array_2d)\n",
        "print(np.sum(array_2d, axis = 0))\n",
        "print(p.sum(array_2d , axis = 1))"
      ],
      "metadata": {
        "colab": {
          "base_uri": "https://localhost:8080/"
        },
        "id": "pKI2sVpxw2ab",
        "outputId": "7329c7a7-e701-48ce-a937-3dda03b49175"
      },
      "execution_count": null,
      "outputs": [
        {
          "output_type": "stream",
          "name": "stdout",
          "text": [
            "Enter the number of rows: 2\n",
            "Enter the number of columns: 3\n",
            "Enter element at position {i+1}: 1\n",
            "Enter element at position {i+1}: 2\n",
            "Enter element at position {i+1}: 3\n",
            "Enter element at position {i+1}: 4\n",
            "Enter element at position {i+1}: 5\n",
            "Enter element at position {i+1}: 6\n",
            "[1 2 3 4 5 6]\n"
          ]
        },
        {
          "output_type": "execute_result",
          "data": {
            "text/plain": [
              "array([[1, 2, 3],\n",
              "       [4, 5, 6]])"
            ]
          },
          "metadata": {},
          "execution_count": 39
        }
      ]
    },
    {
      "cell_type": "code",
      "source": [
        "array_2d"
      ],
      "metadata": {
        "colab": {
          "base_uri": "https://localhost:8080/"
        },
        "id": "E0aPzCplxj-Q",
        "outputId": "2efc091a-54e0-4686-e3b5-4cb3c9ae1408"
      },
      "execution_count": null,
      "outputs": [
        {
          "output_type": "execute_result",
          "data": {
            "text/plain": [
              "array([[1., 2., 3.],\n",
              "       [4., 5., 6.]])"
            ]
          },
          "metadata": {},
          "execution_count": 38
        }
      ]
    },
    {
      "cell_type": "code",
      "source": [
        "print(np.sum(array_2d, axis = 0))\n",
        "# print(p.sum(array_2d , axis = 1))"
      ],
      "metadata": {
        "colab": {
          "base_uri": "https://localhost:8080/"
        },
        "id": "bJBX9Djjxzb3",
        "outputId": "88315252-4654-43a0-880e-ff4f85c9c489"
      },
      "execution_count": null,
      "outputs": [
        {
          "output_type": "execute_result",
          "data": {
            "text/plain": [
              "array([5, 7, 9])"
            ]
          },
          "metadata": {},
          "execution_count": 40
        }
      ]
    },
    {
      "cell_type": "code",
      "source": [
        "print(p.sum(array_2d , axis = 1))"
      ],
      "metadata": {
        "colab": {
          "base_uri": "https://localhost:8080/"
        },
        "id": "ea90MdFTyZB_",
        "outputId": "2f64d0ca-128d-4df0-ab74-30d337fcb6ee"
      },
      "execution_count": null,
      "outputs": [
        {
          "output_type": "execute_result",
          "data": {
            "text/plain": [
              "array([ 6, 15])"
            ]
          },
          "metadata": {},
          "execution_count": 41
        }
      ]
    },
    {
      "cell_type": "code",
      "source": [
        "# create 2 1d nupy arrays and concatenate them horizontally"
      ],
      "metadata": {
        "id": "jGKvURUGyi4F"
      },
      "execution_count": null,
      "outputs": []
    },
    {
      "cell_type": "code",
      "source": [
        "array1 = np.array([1, 2, 3])\n",
        "array2 = np.array([4, 5, 6])\n",
        "concatenated_array = np.concatenate((array1, array2))\n",
        "concatenated_array"
      ],
      "metadata": {
        "colab": {
          "base_uri": "https://localhost:8080/"
        },
        "id": "f2WR8_cqy8H0",
        "outputId": "7942798c-b3fa-44c5-a3e8-8cde27f92717"
      },
      "execution_count": null,
      "outputs": [
        {
          "output_type": "execute_result",
          "data": {
            "text/plain": [
              "array([1, 2, 3, 4, 5, 6])"
            ]
          },
          "metadata": {},
          "execution_count": 44
        }
      ]
    },
    {
      "cell_type": "code",
      "source": [
        "concatenated_array.dtype"
      ],
      "metadata": {
        "colab": {
          "base_uri": "https://localhost:8080/"
        },
        "id": "xeS0Vzvxzgx8",
        "outputId": "bd2704ea-1f73-4d16-e6b9-0b365f4d9646"
      },
      "execution_count": null,
      "outputs": [
        {
          "output_type": "execute_result",
          "data": {
            "text/plain": [
              "dtype('int64')"
            ]
          },
          "metadata": {},
          "execution_count": 45
        }
      ]
    },
    {
      "cell_type": "code",
      "source": [
        "np.linspace(1,2,10)"
      ],
      "metadata": {
        "colab": {
          "base_uri": "https://localhost:8080/"
        },
        "id": "nrn0YLCKz10B",
        "outputId": "3fd68041-5ce1-4e01-b898-b5e7bb055144"
      },
      "execution_count": null,
      "outputs": [
        {
          "output_type": "execute_result",
          "data": {
            "text/plain": [
              "array([1.        , 1.11111111, 1.22222222, 1.33333333, 1.44444444,\n",
              "       1.55555556, 1.66666667, 1.77777778, 1.88888889, 2.        ])"
            ]
          },
          "metadata": {},
          "execution_count": 46
        }
      ]
    },
    {
      "cell_type": "code",
      "source": [
        "a = np.array([1,2,3])\n",
        "b = np.array([9,8,7])\n"
      ],
      "metadata": {
        "id": "twX39oVW0Lgq"
      },
      "execution_count": null,
      "outputs": []
    },
    {
      "cell_type": "code",
      "source": [
        "np.dot(a,b)"
      ],
      "metadata": {
        "id": "cX7P7Oek0a0U",
        "outputId": "2532e1a9-7ebc-4790-8790-34f075f5b868",
        "colab": {
          "base_uri": "https://localhost:8080/"
        }
      },
      "execution_count": null,
      "outputs": [
        {
          "output_type": "execute_result",
          "data": {
            "text/plain": [
              "46"
            ]
          },
          "metadata": {},
          "execution_count": 48
        }
      ]
    },
    {
      "cell_type": "code",
      "source": [],
      "metadata": {
        "id": "RaioTmWM0eUu"
      },
      "execution_count": null,
      "outputs": []
    }
  ]
}