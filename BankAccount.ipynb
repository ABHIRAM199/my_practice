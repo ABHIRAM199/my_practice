{
  "nbformat": 4,
  "nbformat_minor": 0,
  "metadata": {
    "colab": {
      "provenance": [],
      "authorship_tag": "ABX9TyMPA08M9EnAKN6r4z/fB+N5",
      "include_colab_link": true
    },
    "kernelspec": {
      "name": "python3",
      "display_name": "Python 3"
    },
    "language_info": {
      "name": "python"
    }
  },
  "cells": [
    {
      "cell_type": "markdown",
      "metadata": {
        "id": "view-in-github",
        "colab_type": "text"
      },
      "source": [
        "<a href=\"https://colab.research.google.com/github/ABHIRAM199/my_practice/blob/main/BankAccount.ipynb\" target=\"_parent\"><img src=\"https://colab.research.google.com/assets/colab-badge.svg\" alt=\"Open In Colab\"/></a>"
      ]
    },
    {
      "cell_type": "code",
      "execution_count": 17,
      "metadata": {
        "colab": {
          "base_uri": "https://localhost:8080/"
        },
        "id": "LhI-jT1FTZR1",
        "outputId": "c332daac-7343-405b-f853-78ce968db8af"
      },
      "outputs": [
        {
          "output_type": "stream",
          "name": "stdout",
          "text": [
            "10\n",
            "20\n"
          ]
        }
      ],
      "source": [
        "class Myclass:\n",
        "  def __init__(self):\n",
        "    self._protected_var =10\n",
        "    self.test = 100\n",
        "    self.__key=1000\n",
        "  def get_protected_var(self):\n",
        "    return self._protected_var\n",
        "  def set_protected_var(self,value):\n",
        "    if value>0:\n",
        "      self._protected_var =value\n",
        "    else:\n",
        "      print(\"value must be greater than 0\")\n",
        "\n",
        "obj=Myclass()\n",
        "print(obj.get_protected_var())\n",
        "obj.set_protected_var(20)\n",
        "print(obj._protected_var)\n",
        ""
      ]
    },
    {
      "cell_type": "code",
      "source": [
        "#_protected_variable,__private_variable,public_variable\n",
        "class BankAccount:\n",
        "  def __init__(self,opening_balance):\n",
        "    self.__balance=opening_balance\n",
        "\n",
        "  def show_balance(self):\n",
        "    print(self.__balance)\n",
        "  def withdraw(self,amount):\n",
        "    self.__balance -= amount\n",
        "  def deposit(self,amount):\n",
        "    self.__balance += amount\n",
        "\n",
        "Abhiram_Acc=BankAccount(10000)\n",
        "Abhiram_Acc.show_balance()\n",
        "Abhiram_Acc.withdraw(5000)\n",
        "Abhiram_Acc.deposit(30000)\n",
        "Abhiram_Acc.show_balance()\n",
        "\n",
        "\n",
        ""
      ],
      "metadata": {
        "colab": {
          "base_uri": "https://localhost:8080/"
        },
        "id": "hiCy5V2ZZEex",
        "outputId": "c2e210ce-d63e-46bd-ae5c-4fb406e92168"
      },
      "execution_count": 31,
      "outputs": [
        {
          "output_type": "stream",
          "name": "stdout",
          "text": [
            "10000\n",
            "35000\n"
          ]
        }
      ]
    }
  ]
}