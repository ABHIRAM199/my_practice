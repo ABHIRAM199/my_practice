{
  "nbformat": 4,
  "nbformat_minor": 0,
  "metadata": {
    "colab": {
      "provenance": [],
      "authorship_tag": "ABX9TyNOJMkdSoPyR3906FJ7B2eF",
      "include_colab_link": true
    },
    "kernelspec": {
      "name": "python3",
      "display_name": "Python 3"
    },
    "language_info": {
      "name": "python"
    }
  },
  "cells": [
    {
      "cell_type": "markdown",
      "metadata": {
        "id": "view-in-github",
        "colab_type": "text"
      },
      "source": [
        "<a href=\"https://colab.research.google.com/github/ABHIRAM199/my_practice/blob/main/DSA_BINARY_SEARCH.ipynb\" target=\"_parent\"><img src=\"https://colab.research.google.com/assets/colab-badge.svg\" alt=\"Open In Colab\"/></a>"
      ]
    },
    {
      "cell_type": "code",
      "execution_count": 93,
      "metadata": {
        "id": "YSGupXgtl4Ko"
      },
      "outputs": [],
      "source": [
        "#1. State the problem, identify the inputs and outputs\n",
        "#cards: A list of numbers sorted in decreasing order. E.g. [13, 11, 10, 7, 4, 3, 1, 0]/input\n",
        "#query: A number, whose position in the array is to be determined. E.g. 7\n",
        "#position: The position of query in the list cards. E.g. 3 in the above case (counting from 0)/output"
      ]
    },
    {
      "cell_type": "code",
      "source": [
        "def locate_card(cards,query):\n",
        "  pass"
      ],
      "metadata": {
        "id": "Du5tEwLenDXz"
      },
      "execution_count": 94,
      "outputs": []
    },
    {
      "cell_type": "code",
      "source": [
        "#2. Come up with some example inputs & outputs. Try to cover all edge cases."
      ],
      "metadata": {
        "id": "lPhnW1ltnh0S"
      },
      "execution_count": 95,
      "outputs": []
    },
    {
      "cell_type": "code",
      "source": [
        "cards = [13,11,10,7,4,3,1,0]\n",
        "query =  7\n",
        "output = 3\n"
      ],
      "metadata": {
        "id": "ZJ_j3lqMnq1G"
      },
      "execution_count": 96,
      "outputs": []
    },
    {
      "cell_type": "code",
      "source": [
        "result = locate_card(cards,query)\n",
        "print(result)"
      ],
      "metadata": {
        "colab": {
          "base_uri": "https://localhost:8080/"
        },
        "id": "9UqVSwQOn4gC",
        "outputId": "c33b23e3-8376-43ff-8bbe-0a19b951d85c"
      },
      "execution_count": 97,
      "outputs": [
        {
          "output_type": "stream",
          "name": "stdout",
          "text": [
            "None\n"
          ]
        }
      ]
    },
    {
      "cell_type": "code",
      "source": [
        "result == output"
      ],
      "metadata": {
        "colab": {
          "base_uri": "https://localhost:8080/"
        },
        "id": "37UZ3vc1n9pC",
        "outputId": "f8e1785c-95d3-48f5-9b61-3fb8c489aa6f"
      },
      "execution_count": 98,
      "outputs": [
        {
          "output_type": "execute_result",
          "data": {
            "text/plain": [
              "False"
            ]
          },
          "metadata": {},
          "execution_count": 98
        }
      ]
    },
    {
      "cell_type": "code",
      "source": [
        "#We'll represent our test cases as dictionaries to make it easier to test them once we write implement our function"
      ],
      "metadata": {
        "id": "uMChn4FmoEv1"
      },
      "execution_count": 99,
      "outputs": []
    },
    {
      "cell_type": "code",
      "source": [
        "test = {\n",
        "    'input' :{\n",
        "        'cards' : [13,11,10,7,4,3,1,0],\n",
        "        'query' : 7\n",
        "    },\n",
        "    'output' : 3\n",
        "}"
      ],
      "metadata": {
        "id": "POK15sANoTxs"
      },
      "execution_count": 100,
      "outputs": []
    },
    {
      "cell_type": "code",
      "source": [
        "locate_card(**test['input']) == test['output'] #testing of the funcion"
      ],
      "metadata": {
        "colab": {
          "base_uri": "https://localhost:8080/"
        },
        "id": "BUb6xTvopxBn",
        "outputId": "1c224c12-45ec-41e3-f34f-d516aafd0678"
      },
      "execution_count": 101,
      "outputs": [
        {
          "output_type": "execute_result",
          "data": {
            "text/plain": [
              "False"
            ]
          },
          "metadata": {},
          "execution_count": 101
        }
      ]
    },
    {
      "cell_type": "code",
      "source": [
        "#Our function should be able to handle any set of valid inputs we pass into it. Here's a list of some possible variations we might encounter:\n",
        "\n",
        "#The number query occurs somewhere in the middle of the list cards.\n",
        "#query is the first element in cards.\n",
        "#query is the last element in cards.\n",
        "#The list cards contains just one element, which is query.\n",
        "#The list cards does not contain number query.\n",
        "#The list cards is empty.\n",
        "#The list cards contains repeating numbers.\n",
        "#The number query occurs at more than one position in cards."
      ],
      "metadata": {
        "id": "vRT5o6gJqBv1"
      },
      "execution_count": 102,
      "outputs": []
    },
    {
      "cell_type": "code",
      "source": [
        "tests = []\n"
      ],
      "metadata": {
        "id": "VOOwuumitGAQ"
      },
      "execution_count": 103,
      "outputs": []
    },
    {
      "cell_type": "code",
      "source": [
        "# query occurs in the middle\n",
        "tests.append(test)\n",
        "\n",
        "tests.append({\n",
        "    'input': {\n",
        "        'cards': [13, 11, 10, 7, 4, 3, 1, 0],\n",
        "        'query': 1\n",
        "    },\n",
        "    'output': 6\n",
        "})"
      ],
      "metadata": {
        "id": "4TEEscwxutcX"
      },
      "execution_count": 104,
      "outputs": []
    },
    {
      "cell_type": "code",
      "source": [
        "# query is the first element\n",
        "tests.append({\n",
        "    'input': {\n",
        "        'cards': [4, 2, 1, -1],\n",
        "        'query': 4\n",
        "    },\n",
        "    'output': 0\n",
        "})"
      ],
      "metadata": {
        "id": "H3iBOD3ZvSNS"
      },
      "execution_count": 105,
      "outputs": []
    },
    {
      "cell_type": "code",
      "source": [
        "# query is the last element\n",
        "tests.append({\n",
        "    'input': {\n",
        "        'cards': [3, -1, -9, -127],\n",
        "        'query': -127\n",
        "    },\n",
        "    'output': 3\n",
        "})"
      ],
      "metadata": {
        "id": "zdj9pCX8vo_A"
      },
      "execution_count": 106,
      "outputs": []
    },
    {
      "cell_type": "code",
      "source": [
        "# cards contains just one element, query\n",
        "tests.append({\n",
        "    'input': {\n",
        "        'cards': [6],\n",
        "        'query': 6\n",
        "    },\n",
        "    'output': 0\n",
        "})"
      ],
      "metadata": {
        "id": "Q1HRsoFywSS1"
      },
      "execution_count": 107,
      "outputs": []
    },
    {
      "cell_type": "code",
      "source": [
        "#The problem statement does not specify what to do if the list cards does not contain the number query,We will assume that our function will return -1 in case cards does not contain query"
      ],
      "metadata": {
        "id": "T7R8sApOwaK9"
      },
      "execution_count": 108,
      "outputs": []
    },
    {
      "cell_type": "code",
      "source": [
        "# cards does not contain query\n",
        "tests.append({\n",
        "    'input': {\n",
        "        'cards': [9, 7, 5, 2, -9],\n",
        "        'query': 4\n",
        "    },\n",
        "    'output': -1\n",
        "})"
      ],
      "metadata": {
        "id": "6bi2Y54Fw2PU"
      },
      "execution_count": 109,
      "outputs": []
    },
    {
      "cell_type": "code",
      "source": [
        "# cards is empty\n",
        "tests.append({\n",
        "    'input': {\n",
        "        'cards': [],\n",
        "        'query': 7\n",
        "    },\n",
        "    'output': -1\n",
        "})"
      ],
      "metadata": {
        "id": "oRpBUyoyxMc6"
      },
      "execution_count": 110,
      "outputs": []
    },
    {
      "cell_type": "code",
      "source": [
        "#numbers can repeat in cards\n",
        "\n",
        "tests.append({\n",
        "    'input': {\n",
        "        'cards': [8, 8, 6, 6, 6, 6, 6, 3, 2, 2, 2, 0, 0, 0],\n",
        "        'query': 3\n",
        "    },\n",
        "    'output': 7\n",
        "})"
      ],
      "metadata": {
        "id": "jY4rUNjyxcZT"
      },
      "execution_count": 111,
      "outputs": []
    },
    {
      "cell_type": "code",
      "source": [
        "#query can repeat: In the case where query occurs multiple times in cards, we'll expect our function to return the first occurrence of query\n",
        "\n",
        "tests.append({\n",
        "    'input': {\n",
        "        'cards': [8, 8, 6, 6, 6, 6, 6, 6, 3, 2, 2, 2, 0, 0, 0],\n",
        "        'query': 6\n",
        "    },\n",
        "    'output': 2\n",
        "})\n"
      ],
      "metadata": {
        "id": "ShNEwWs8x2ti"
      },
      "execution_count": 112,
      "outputs": []
    },
    {
      "cell_type": "code",
      "source": [
        "#Let's look at the full set of test cases we have created so far.\n",
        "\n",
        "tests"
      ],
      "metadata": {
        "colab": {
          "base_uri": "https://localhost:8080/"
        },
        "id": "Ov3QjjUwyEcj",
        "outputId": "b343d46b-5388-439b-810d-179618ac0c78"
      },
      "execution_count": 113,
      "outputs": [
        {
          "output_type": "execute_result",
          "data": {
            "text/plain": [
              "[{'input': {'cards': [13, 11, 10, 7, 4, 3, 1, 0], 'query': 7}, 'output': 3},\n",
              " {'input': {'cards': [13, 11, 10, 7, 4, 3, 1, 0], 'query': 1}, 'output': 6},\n",
              " {'input': {'cards': [4, 2, 1, -1], 'query': 4}, 'output': 0},\n",
              " {'input': {'cards': [3, -1, -9, -127], 'query': -127}, 'output': 3},\n",
              " {'input': {'cards': [6], 'query': 6}, 'output': 0},\n",
              " {'input': {'cards': [9, 7, 5, 2, -9], 'query': 4}, 'output': -1},\n",
              " {'input': {'cards': [], 'query': 7}, 'output': -1},\n",
              " {'input': {'cards': [8, 8, 6, 6, 6, 6, 6, 3, 2, 2, 2, 0, 0, 0], 'query': 3},\n",
              "  'output': 7},\n",
              " {'input': {'cards': [8, 8, 6, 6, 6, 6, 6, 6, 3, 2, 2, 2, 0, 0, 0],\n",
              "   'query': 6},\n",
              "  'output': 2}]"
            ]
          },
          "metadata": {},
          "execution_count": 113
        }
      ]
    },
    {
      "cell_type": "code",
      "source": [
        "#Come up with a correct solution for the problem. State it in plain English"
      ],
      "metadata": {
        "id": "C2GwtRotyPYY"
      },
      "execution_count": 114,
      "outputs": []
    },
    {
      "cell_type": "code",
      "source": [
        "def locate_card(cards,query):\n",
        "  #create a variable position with the value zero\n",
        "  position = 0\n",
        "\n",
        "  #set a loop for repetition\n",
        "  while True:\n",
        "    #check the query is in current postion\n",
        "    if cards[position] == query:\n",
        "      #Answer found return and exit\n",
        "      return position\n",
        "\n",
        "    #increment the postion\n",
        "    position += 1\n",
        "\n",
        "    #check if we reached end of the list\n",
        "\n",
        "    if position == len(cards):\n",
        "\n",
        "      #number not found return -1\n",
        "      return -1\n",
        "  # If the loop completes without finding the query, return -1\n",
        "  return -1\n"
      ],
      "metadata": {
        "id": "0CBgxisP2xuA"
      },
      "execution_count": 115,
      "outputs": []
    },
    {
      "cell_type": "code",
      "source": [
        "test"
      ],
      "metadata": {
        "colab": {
          "base_uri": "https://localhost:8080/"
        },
        "id": "G2RhEIij3plg",
        "outputId": "0be476be-c453-43b0-bf2d-046f20930ce8"
      },
      "execution_count": 116,
      "outputs": [
        {
          "output_type": "execute_result",
          "data": {
            "text/plain": [
              "{'input': {'cards': [13, 11, 10, 7, 4, 3, 1, 0], 'query': 7}, 'output': 3}"
            ]
          },
          "metadata": {},
          "execution_count": 116
        }
      ]
    },
    {
      "cell_type": "code",
      "source": [
        "result = locate_card(test['input']['cards'],test['input']['query'])\n",
        "result"
      ],
      "metadata": {
        "colab": {
          "base_uri": "https://localhost:8080/"
        },
        "id": "YT1ajeYr3tpB",
        "outputId": "f5989101-e10d-4388-e439-19c42e678469"
      },
      "execution_count": 117,
      "outputs": [
        {
          "output_type": "execute_result",
          "data": {
            "text/plain": [
              "3"
            ]
          },
          "metadata": {},
          "execution_count": 117
        }
      ]
    },
    {
      "cell_type": "code",
      "source": [
        "result == output"
      ],
      "metadata": {
        "colab": {
          "base_uri": "https://localhost:8080/"
        },
        "id": "QP1YuUCV4Cpk",
        "outputId": "de93e0c8-3bbe-4b0e-b5f5-823781f51a0c"
      },
      "execution_count": 118,
      "outputs": [
        {
          "output_type": "execute_result",
          "data": {
            "text/plain": [
              "True"
            ]
          },
          "metadata": {},
          "execution_count": 118
        }
      ]
    },
    {
      "cell_type": "code",
      "source": [
        "#To help you test your functions easily the jovian Python library provides a helper function evalute_test_case. Apart from checking whether the function produces the expected result, it also displays the input, expected output, actual output from the function, and the execution time of the function.\n"
      ],
      "metadata": {
        "id": "FiV7BpK44G_T"
      },
      "execution_count": 119,
      "outputs": []
    },
    {
      "cell_type": "code",
      "source": [
        "!pip install jovian --upgrade --quiet"
      ],
      "metadata": {
        "id": "EyWqY49a4N2Y"
      },
      "execution_count": 120,
      "outputs": []
    },
    {
      "cell_type": "code",
      "source": [
        "from jovian.pythondsa import evaluate_test_case"
      ],
      "metadata": {
        "id": "yxr489tq4Z0e"
      },
      "execution_count": 121,
      "outputs": []
    },
    {
      "cell_type": "code",
      "source": [
        "evaluate_test_case(locate_card,test)"
      ],
      "metadata": {
        "colab": {
          "base_uri": "https://localhost:8080/"
        },
        "id": "Wvj6YBO84nyB",
        "outputId": "31710187-71d3-45e2-8aca-03b0706399e9"
      },
      "execution_count": 122,
      "outputs": [
        {
          "output_type": "stream",
          "name": "stdout",
          "text": [
            "\n",
            "Input:\n",
            "{'cards': [13, 11, 10, 7, 4, 3, 1, 0], 'query': 7}\n",
            "\n",
            "Expected Output:\n",
            "3\n",
            "\n",
            "\n",
            "Actual Output:\n",
            "3\n",
            "\n",
            "Execution Time:\n",
            "0.006 ms\n",
            "\n",
            "Test Result:\n",
            "\u001b[92mPASSED\u001b[0m\n",
            "\n"
          ]
        },
        {
          "output_type": "execute_result",
          "data": {
            "text/plain": [
              "(3, True, 0.006)"
            ]
          },
          "metadata": {},
          "execution_count": 122
        }
      ]
    },
    {
      "cell_type": "code",
      "source": [
        "#We can use the evaluate_test_cases (plural) function from the jovian library to test our function on all the test cases with a single line of cod"
      ],
      "metadata": {
        "id": "Xf_Zr0e54xlD"
      },
      "execution_count": 123,
      "outputs": []
    },
    {
      "cell_type": "code",
      "source": [
        "from jovian.pythondsa import evaluate_test_cases"
      ],
      "metadata": {
        "id": "rj__z3W-48Gh"
      },
      "execution_count": 124,
      "outputs": []
    },
    {
      "cell_type": "code",
      "source": [
        "evaluate_test_cases(locate_card,tests)"
      ],
      "metadata": {
        "colab": {
          "base_uri": "https://localhost:8080/",
          "height": 1000
        },
        "id": "0vuZ_iwV5DlR",
        "outputId": "e19293f8-3c8e-471b-92fa-b51234a51c77"
      },
      "execution_count": 125,
      "outputs": [
        {
          "output_type": "stream",
          "name": "stdout",
          "text": [
            "\n",
            "\u001b[1mTEST CASE #0\u001b[0m\n",
            "\n",
            "Input:\n",
            "{'cards': [13, 11, 10, 7, 4, 3, 1, 0], 'query': 7}\n",
            "\n",
            "Expected Output:\n",
            "3\n",
            "\n",
            "\n",
            "Actual Output:\n",
            "3\n",
            "\n",
            "Execution Time:\n",
            "0.006 ms\n",
            "\n",
            "Test Result:\n",
            "\u001b[92mPASSED\u001b[0m\n",
            "\n",
            "\n",
            "\u001b[1mTEST CASE #1\u001b[0m\n",
            "\n",
            "Input:\n",
            "{'cards': [13, 11, 10, 7, 4, 3, 1, 0], 'query': 1}\n",
            "\n",
            "Expected Output:\n",
            "6\n",
            "\n",
            "\n",
            "Actual Output:\n",
            "6\n",
            "\n",
            "Execution Time:\n",
            "0.004 ms\n",
            "\n",
            "Test Result:\n",
            "\u001b[92mPASSED\u001b[0m\n",
            "\n",
            "\n",
            "\u001b[1mTEST CASE #2\u001b[0m\n",
            "\n",
            "Input:\n",
            "{'cards': [4, 2, 1, -1], 'query': 4}\n",
            "\n",
            "Expected Output:\n",
            "0\n",
            "\n",
            "\n",
            "Actual Output:\n",
            "0\n",
            "\n",
            "Execution Time:\n",
            "0.002 ms\n",
            "\n",
            "Test Result:\n",
            "\u001b[92mPASSED\u001b[0m\n",
            "\n",
            "\n",
            "\u001b[1mTEST CASE #3\u001b[0m\n",
            "\n",
            "Input:\n",
            "{'cards': [3, -1, -9, -127], 'query': -127}\n",
            "\n",
            "Expected Output:\n",
            "3\n",
            "\n",
            "\n",
            "Actual Output:\n",
            "3\n",
            "\n",
            "Execution Time:\n",
            "0.016 ms\n",
            "\n",
            "Test Result:\n",
            "\u001b[92mPASSED\u001b[0m\n",
            "\n",
            "\n",
            "\u001b[1mTEST CASE #4\u001b[0m\n",
            "\n",
            "Input:\n",
            "{'cards': [6], 'query': 6}\n",
            "\n",
            "Expected Output:\n",
            "0\n",
            "\n",
            "\n",
            "Actual Output:\n",
            "0\n",
            "\n",
            "Execution Time:\n",
            "0.002 ms\n",
            "\n",
            "Test Result:\n",
            "\u001b[92mPASSED\u001b[0m\n",
            "\n",
            "\n",
            "\u001b[1mTEST CASE #5\u001b[0m\n",
            "\n",
            "Input:\n",
            "{'cards': [9, 7, 5, 2, -9], 'query': 4}\n",
            "\n",
            "Expected Output:\n",
            "-1\n",
            "\n",
            "\n",
            "Actual Output:\n",
            "-1\n",
            "\n",
            "Execution Time:\n",
            "0.004 ms\n",
            "\n",
            "Test Result:\n",
            "\u001b[92mPASSED\u001b[0m\n",
            "\n",
            "\n",
            "\u001b[1mTEST CASE #6\u001b[0m\n"
          ]
        },
        {
          "output_type": "error",
          "ename": "IndexError",
          "evalue": "list index out of range",
          "traceback": [
            "\u001b[0;31m---------------------------------------------------------------------------\u001b[0m",
            "\u001b[0;31mIndexError\u001b[0m                                Traceback (most recent call last)",
            "\u001b[0;32m<ipython-input-125-275d4bea57c8>\u001b[0m in \u001b[0;36m<cell line: 1>\u001b[0;34m()\u001b[0m\n\u001b[0;32m----> 1\u001b[0;31m \u001b[0mevaluate_test_cases\u001b[0m\u001b[0;34m(\u001b[0m\u001b[0mlocate_card\u001b[0m\u001b[0;34m,\u001b[0m\u001b[0mtests\u001b[0m\u001b[0;34m)\u001b[0m\u001b[0;34m\u001b[0m\u001b[0;34m\u001b[0m\u001b[0m\n\u001b[0m",
            "\u001b[0;32m/usr/local/lib/python3.10/dist-packages/jovian/pythondsa/__init__.py\u001b[0m in \u001b[0;36mevaluate_test_cases\u001b[0;34m(function, test_cases, error_only, summary_only)\u001b[0m\n\u001b[1;32m     85\u001b[0m         \u001b[0;32mif\u001b[0m \u001b[0;32mnot\u001b[0m \u001b[0merror_only\u001b[0m\u001b[0;34m:\u001b[0m\u001b[0;34m\u001b[0m\u001b[0;34m\u001b[0m\u001b[0m\n\u001b[1;32m     86\u001b[0m             \u001b[0mprint\u001b[0m\u001b[0;34m(\u001b[0m\u001b[0;34m\"\\n\\033[1mTEST CASE #{}\\033[0m\"\u001b[0m\u001b[0;34m.\u001b[0m\u001b[0mformat\u001b[0m\u001b[0;34m(\u001b[0m\u001b[0mi\u001b[0m\u001b[0;34m)\u001b[0m\u001b[0;34m)\u001b[0m\u001b[0;34m\u001b[0m\u001b[0;34m\u001b[0m\u001b[0m\n\u001b[0;32m---> 87\u001b[0;31m         \u001b[0mresult\u001b[0m \u001b[0;34m=\u001b[0m \u001b[0mevaluate_test_case\u001b[0m\u001b[0;34m(\u001b[0m\u001b[0mfunction\u001b[0m\u001b[0;34m,\u001b[0m \u001b[0mtest_case\u001b[0m\u001b[0;34m,\u001b[0m \u001b[0mdisplay\u001b[0m\u001b[0;34m=\u001b[0m\u001b[0;32mFalse\u001b[0m\u001b[0;34m)\u001b[0m\u001b[0;34m\u001b[0m\u001b[0;34m\u001b[0m\u001b[0m\n\u001b[0m\u001b[1;32m     88\u001b[0m         \u001b[0mresults\u001b[0m\u001b[0;34m.\u001b[0m\u001b[0mappend\u001b[0m\u001b[0;34m(\u001b[0m\u001b[0mresult\u001b[0m\u001b[0;34m)\u001b[0m\u001b[0;34m\u001b[0m\u001b[0;34m\u001b[0m\u001b[0m\n\u001b[1;32m     89\u001b[0m         \u001b[0;32mif\u001b[0m \u001b[0merror_only\u001b[0m \u001b[0;32mand\u001b[0m \u001b[0;32mnot\u001b[0m \u001b[0mresult\u001b[0m\u001b[0;34m[\u001b[0m\u001b[0;36m1\u001b[0m\u001b[0;34m]\u001b[0m\u001b[0;34m:\u001b[0m\u001b[0;34m\u001b[0m\u001b[0;34m\u001b[0m\u001b[0m\n",
            "\u001b[0;32m/usr/local/lib/python3.10/dist-packages/jovian/pythondsa/__init__.py\u001b[0m in \u001b[0;36mevaluate_test_case\u001b[0;34m(function, test_case, display)\u001b[0m\n\u001b[1;32m     63\u001b[0m \u001b[0;34m\u001b[0m\u001b[0m\n\u001b[1;32m     64\u001b[0m     \u001b[0mstart\u001b[0m \u001b[0;34m=\u001b[0m \u001b[0mtimer\u001b[0m\u001b[0;34m(\u001b[0m\u001b[0;34m)\u001b[0m\u001b[0;34m\u001b[0m\u001b[0;34m\u001b[0m\u001b[0m\n\u001b[0;32m---> 65\u001b[0;31m     \u001b[0mactual_output\u001b[0m \u001b[0;34m=\u001b[0m \u001b[0mfunction\u001b[0m\u001b[0;34m(\u001b[0m\u001b[0;34m**\u001b[0m\u001b[0minputs\u001b[0m\u001b[0;34m)\u001b[0m\u001b[0;34m\u001b[0m\u001b[0;34m\u001b[0m\u001b[0m\n\u001b[0m\u001b[1;32m     66\u001b[0m     \u001b[0mend\u001b[0m \u001b[0;34m=\u001b[0m \u001b[0mtimer\u001b[0m\u001b[0;34m(\u001b[0m\u001b[0;34m)\u001b[0m\u001b[0;34m\u001b[0m\u001b[0;34m\u001b[0m\u001b[0m\n\u001b[1;32m     67\u001b[0m \u001b[0;34m\u001b[0m\u001b[0m\n",
            "\u001b[0;32m<ipython-input-115-3b61cce8b5b0>\u001b[0m in \u001b[0;36mlocate_card\u001b[0;34m(cards, query)\u001b[0m\n\u001b[1;32m      6\u001b[0m   \u001b[0;32mwhile\u001b[0m \u001b[0;32mTrue\u001b[0m\u001b[0;34m:\u001b[0m\u001b[0;34m\u001b[0m\u001b[0;34m\u001b[0m\u001b[0m\n\u001b[1;32m      7\u001b[0m     \u001b[0;31m#check the query is in current postion\u001b[0m\u001b[0;34m\u001b[0m\u001b[0;34m\u001b[0m\u001b[0m\n\u001b[0;32m----> 8\u001b[0;31m     \u001b[0;32mif\u001b[0m \u001b[0mcards\u001b[0m\u001b[0;34m[\u001b[0m\u001b[0mposition\u001b[0m\u001b[0;34m]\u001b[0m \u001b[0;34m==\u001b[0m \u001b[0mquery\u001b[0m\u001b[0;34m:\u001b[0m\u001b[0;34m\u001b[0m\u001b[0;34m\u001b[0m\u001b[0m\n\u001b[0m\u001b[1;32m      9\u001b[0m       \u001b[0;31m#Answer found return and exit\u001b[0m\u001b[0;34m\u001b[0m\u001b[0;34m\u001b[0m\u001b[0m\n\u001b[1;32m     10\u001b[0m       \u001b[0;32mreturn\u001b[0m \u001b[0mposition\u001b[0m\u001b[0;34m\u001b[0m\u001b[0;34m\u001b[0m\u001b[0m\n",
            "\u001b[0;31mIndexError\u001b[0m: list index out of range"
          ]
        }
      ]
    },
    {
      "cell_type": "code",
      "source": [
        "def locate_card(cards,query):\n",
        "  position = 0\n",
        "\n",
        "  print('cards: ', cards)\n",
        "  print('query: ',query)\n",
        "\n",
        "  while True:\n",
        "    print('position: ',position)\n",
        "\n",
        "    if cards[position] == query:\n",
        "      return position\n",
        "    position +=1\n",
        "    if position == len(cards):\n",
        "      return -1\n"
      ],
      "metadata": {
        "id": "RmIFzcbv5I2p"
      },
      "execution_count": 126,
      "outputs": []
    },
    {
      "cell_type": "code",
      "source": [
        "cards6 = tests[6]['input']['cards']\n",
        "query6 = tests[6]['input']['query']\n",
        "\n",
        "locate_card(cards6,query6)"
      ],
      "metadata": {
        "colab": {
          "base_uri": "https://localhost:8080/",
          "height": 358
        },
        "id": "UUvahgj332wL",
        "outputId": "893af114-b3f5-4b99-e666-44b9b2bc2996"
      },
      "execution_count": 127,
      "outputs": [
        {
          "output_type": "stream",
          "name": "stdout",
          "text": [
            "cards:  []\n",
            "query:  7\n",
            "position:  0\n"
          ]
        },
        {
          "output_type": "error",
          "ename": "IndexError",
          "evalue": "list index out of range",
          "traceback": [
            "\u001b[0;31m---------------------------------------------------------------------------\u001b[0m",
            "\u001b[0;31mIndexError\u001b[0m                                Traceback (most recent call last)",
            "\u001b[0;32m<ipython-input-127-3c5a44650f0c>\u001b[0m in \u001b[0;36m<cell line: 4>\u001b[0;34m()\u001b[0m\n\u001b[1;32m      2\u001b[0m \u001b[0mquery6\u001b[0m \u001b[0;34m=\u001b[0m \u001b[0mtests\u001b[0m\u001b[0;34m[\u001b[0m\u001b[0;36m6\u001b[0m\u001b[0;34m]\u001b[0m\u001b[0;34m[\u001b[0m\u001b[0;34m'input'\u001b[0m\u001b[0;34m]\u001b[0m\u001b[0;34m[\u001b[0m\u001b[0;34m'query'\u001b[0m\u001b[0;34m]\u001b[0m\u001b[0;34m\u001b[0m\u001b[0;34m\u001b[0m\u001b[0m\n\u001b[1;32m      3\u001b[0m \u001b[0;34m\u001b[0m\u001b[0m\n\u001b[0;32m----> 4\u001b[0;31m \u001b[0mlocate_card\u001b[0m\u001b[0;34m(\u001b[0m\u001b[0mcards6\u001b[0m\u001b[0;34m,\u001b[0m\u001b[0mquery6\u001b[0m\u001b[0;34m)\u001b[0m\u001b[0;34m\u001b[0m\u001b[0;34m\u001b[0m\u001b[0m\n\u001b[0m",
            "\u001b[0;32m<ipython-input-126-e1bace0f45e0>\u001b[0m in \u001b[0;36mlocate_card\u001b[0;34m(cards, query)\u001b[0m\n\u001b[1;32m      8\u001b[0m     \u001b[0mprint\u001b[0m\u001b[0;34m(\u001b[0m\u001b[0;34m'position: '\u001b[0m\u001b[0;34m,\u001b[0m\u001b[0mposition\u001b[0m\u001b[0;34m)\u001b[0m\u001b[0;34m\u001b[0m\u001b[0;34m\u001b[0m\u001b[0m\n\u001b[1;32m      9\u001b[0m \u001b[0;34m\u001b[0m\u001b[0m\n\u001b[0;32m---> 10\u001b[0;31m     \u001b[0;32mif\u001b[0m \u001b[0mcards\u001b[0m\u001b[0;34m[\u001b[0m\u001b[0mposition\u001b[0m\u001b[0;34m]\u001b[0m \u001b[0;34m==\u001b[0m \u001b[0mquery\u001b[0m\u001b[0;34m:\u001b[0m\u001b[0;34m\u001b[0m\u001b[0;34m\u001b[0m\u001b[0m\n\u001b[0m\u001b[1;32m     11\u001b[0m       \u001b[0;32mreturn\u001b[0m \u001b[0mposition\u001b[0m\u001b[0;34m\u001b[0m\u001b[0;34m\u001b[0m\u001b[0m\n\u001b[1;32m     12\u001b[0m     \u001b[0mposition\u001b[0m \u001b[0;34m+=\u001b[0m\u001b[0;36m1\u001b[0m\u001b[0;34m\u001b[0m\u001b[0;34m\u001b[0m\u001b[0m\n",
            "\u001b[0;31mIndexError\u001b[0m: list index out of range"
          ]
        }
      ]
    },
    {
      "cell_type": "code",
      "source": [
        "def locate_card(cards,query):\n",
        "  position = 0\n",
        "\n",
        "  while position <len(cards):\n",
        "    if cards[position] == query:\n",
        "      return position\n",
        "    position += 1\n",
        "  return -1\n"
      ],
      "metadata": {
        "id": "hUwUYsTw4G0P"
      },
      "execution_count": 128,
      "outputs": []
    },
    {
      "cell_type": "code",
      "source": [
        "tests[6]"
      ],
      "metadata": {
        "colab": {
          "base_uri": "https://localhost:8080/"
        },
        "id": "gWeIj8J86MQZ",
        "outputId": "7d828249-97a7-4080-aa4e-32285246ad4f"
      },
      "execution_count": 129,
      "outputs": [
        {
          "output_type": "execute_result",
          "data": {
            "text/plain": [
              "{'input': {'cards': [], 'query': 7}, 'output': -1}"
            ]
          },
          "metadata": {},
          "execution_count": 129
        }
      ]
    },
    {
      "cell_type": "code",
      "source": [
        "locate_card(cards6,query6)"
      ],
      "metadata": {
        "colab": {
          "base_uri": "https://localhost:8080/"
        },
        "id": "GuT9huSh6Qsd",
        "outputId": "e5c906e6-9af9-4375-b677-3686f2d15891"
      },
      "execution_count": 130,
      "outputs": [
        {
          "output_type": "execute_result",
          "data": {
            "text/plain": [
              "-1"
            ]
          },
          "metadata": {},
          "execution_count": 130
        }
      ]
    },
    {
      "cell_type": "code",
      "source": [
        "evaluate_test_cases(locate_card,tests)"
      ],
      "metadata": {
        "colab": {
          "base_uri": "https://localhost:8080/"
        },
        "id": "fANQBuQe6aXO",
        "outputId": "a31bc17b-7c5d-4ad1-8713-0732b55a9e39"
      },
      "execution_count": 131,
      "outputs": [
        {
          "output_type": "stream",
          "name": "stdout",
          "text": [
            "\n",
            "\u001b[1mTEST CASE #0\u001b[0m\n",
            "\n",
            "Input:\n",
            "{'cards': [13, 11, 10, 7, 4, 3, 1, 0], 'query': 7}\n",
            "\n",
            "Expected Output:\n",
            "3\n",
            "\n",
            "\n",
            "Actual Output:\n",
            "3\n",
            "\n",
            "Execution Time:\n",
            "0.006 ms\n",
            "\n",
            "Test Result:\n",
            "\u001b[92mPASSED\u001b[0m\n",
            "\n",
            "\n",
            "\u001b[1mTEST CASE #1\u001b[0m\n",
            "\n",
            "Input:\n",
            "{'cards': [13, 11, 10, 7, 4, 3, 1, 0], 'query': 1}\n",
            "\n",
            "Expected Output:\n",
            "6\n",
            "\n",
            "\n",
            "Actual Output:\n",
            "6\n",
            "\n",
            "Execution Time:\n",
            "0.005 ms\n",
            "\n",
            "Test Result:\n",
            "\u001b[92mPASSED\u001b[0m\n",
            "\n",
            "\n",
            "\u001b[1mTEST CASE #2\u001b[0m\n",
            "\n",
            "Input:\n",
            "{'cards': [4, 2, 1, -1], 'query': 4}\n",
            "\n",
            "Expected Output:\n",
            "0\n",
            "\n",
            "\n",
            "Actual Output:\n",
            "0\n",
            "\n",
            "Execution Time:\n",
            "0.003 ms\n",
            "\n",
            "Test Result:\n",
            "\u001b[92mPASSED\u001b[0m\n",
            "\n",
            "\n",
            "\u001b[1mTEST CASE #3\u001b[0m\n",
            "\n",
            "Input:\n",
            "{'cards': [3, -1, -9, -127], 'query': -127}\n",
            "\n",
            "Expected Output:\n",
            "3\n",
            "\n",
            "\n",
            "Actual Output:\n",
            "3\n",
            "\n",
            "Execution Time:\n",
            "0.004 ms\n",
            "\n",
            "Test Result:\n",
            "\u001b[92mPASSED\u001b[0m\n",
            "\n",
            "\n",
            "\u001b[1mTEST CASE #4\u001b[0m\n",
            "\n",
            "Input:\n",
            "{'cards': [6], 'query': 6}\n",
            "\n",
            "Expected Output:\n",
            "0\n",
            "\n",
            "\n",
            "Actual Output:\n",
            "0\n",
            "\n",
            "Execution Time:\n",
            "0.003 ms\n",
            "\n",
            "Test Result:\n",
            "\u001b[92mPASSED\u001b[0m\n",
            "\n",
            "\n",
            "\u001b[1mTEST CASE #5\u001b[0m\n",
            "\n",
            "Input:\n",
            "{'cards': [9, 7, 5, 2, -9], 'query': 4}\n",
            "\n",
            "Expected Output:\n",
            "-1\n",
            "\n",
            "\n",
            "Actual Output:\n",
            "-1\n",
            "\n",
            "Execution Time:\n",
            "0.004 ms\n",
            "\n",
            "Test Result:\n",
            "\u001b[92mPASSED\u001b[0m\n",
            "\n",
            "\n",
            "\u001b[1mTEST CASE #6\u001b[0m\n",
            "\n",
            "Input:\n",
            "{'cards': [], 'query': 7}\n",
            "\n",
            "Expected Output:\n",
            "-1\n",
            "\n",
            "\n",
            "Actual Output:\n",
            "-1\n",
            "\n",
            "Execution Time:\n",
            "0.005 ms\n",
            "\n",
            "Test Result:\n",
            "\u001b[92mPASSED\u001b[0m\n",
            "\n",
            "\n",
            "\u001b[1mTEST CASE #7\u001b[0m\n",
            "\n",
            "Input:\n",
            "{'cards': [8, 8, 6, 6, 6, 6, 6, 3, 2, 2, 2, 0, 0, 0], 'query': 3}\n",
            "\n",
            "Expected Output:\n",
            "7\n",
            "\n",
            "\n",
            "Actual Output:\n",
            "7\n",
            "\n",
            "Execution Time:\n",
            "0.016 ms\n",
            "\n",
            "Test Result:\n",
            "\u001b[92mPASSED\u001b[0m\n",
            "\n",
            "\n",
            "\u001b[1mTEST CASE #8\u001b[0m\n",
            "\n",
            "Input:\n",
            "{'cards': [8, 8, 6, 6, 6, 6, 6, 6, 3, 2, 2, 2, 0, 0, 0], 'query': 6}\n",
            "\n",
            "Expected Output:\n",
            "2\n",
            "\n",
            "\n",
            "Actual Output:\n",
            "2\n",
            "\n",
            "Execution Time:\n",
            "0.003 ms\n",
            "\n",
            "Test Result:\n",
            "\u001b[92mPASSED\u001b[0m\n",
            "\n",
            "\n",
            "\u001b[1mSUMMARY\u001b[0m\n",
            "\n",
            "TOTAL: 9, \u001b[92mPASSED\u001b[0m: 9, \u001b[91mFAILED\u001b[0m: 0\n"
          ]
        },
        {
          "output_type": "execute_result",
          "data": {
            "text/plain": [
              "[(3, True, 0.006),\n",
              " (6, True, 0.005),\n",
              " (0, True, 0.003),\n",
              " (3, True, 0.004),\n",
              " (0, True, 0.003),\n",
              " (-1, True, 0.004),\n",
              " (-1, True, 0.005),\n",
              " (7, True, 0.016),\n",
              " (2, True, 0.003)]"
            ]
          },
          "metadata": {},
          "execution_count": 131
        }
      ]
    },
    {
      "cell_type": "code",
      "source": [
        "#Analyze the algorithms complexity and identify inefficiency if any\n",
        "#Apply the right technique to overcome the inefficiency\n",
        "\n",
        "!pip install jovian --upgrade --quiet\n",
        "import jovian\n",
        "jovian.commit(project='python-binary-search', environment=None)\n"
      ],
      "metadata": {
        "id": "4LKHxOe26la6",
        "colab": {
          "base_uri": "https://localhost:8080/"
        },
        "outputId": "17153d2f-bbf1-4e97-8481-b82bbe8bdd60"
      },
      "execution_count": 132,
      "outputs": [
        {
          "output_type": "stream",
          "name": "stdout",
          "text": [
            "[jovian] Detected Colab notebook...\u001b[0m\n",
            "[jovian] jovian.commit() is no longer required on Google Colab. If you ran this notebook from Jovian, \n",
            "then just save this file in Colab using Ctrl+S/Cmd+S and it will be updated on Jovian. \n",
            "Also, you can also delete this cell, it's no longer necessary.\u001b[0m\n"
          ]
        }
      ]
    },
    {
      "cell_type": "code",
      "source": [
        "#Binary Search\n",
        "#1)Find the middle element of the list.note:it should be a sorted array (Descenting order)\n",
        "#2)If middle element matches queried number, return the middle position as the answer.\n",
        "#3)If middle element is less than the queried number, then search the first half of the list\n",
        "#4)If middle element is greater than the queried number, then search the second half of the list\n",
        "#5)If no more elements remain, return -1.\n",
        "#6)opposite if the sorted array is in ascending order"
      ],
      "metadata": {
        "id": "Gq0LIcTX_-72"
      },
      "execution_count": 133,
      "outputs": []
    },
    {
      "cell_type": "code",
      "source": [
        "jovian.commit()"
      ],
      "metadata": {
        "id": "B7YOF21lBLwA"
      },
      "execution_count": null,
      "outputs": []
    },
    {
      "cell_type": "code",
      "source": [
        "def locate_card(cards, query):\n",
        "    lo, hi = 0, len(cards) - 1\n",
        "    while lo <= hi:\n",
        "        mid = (lo + hi) // 2\n",
        "        mid_number = cards[mid]\n",
        "\n",
        "        print(\"lo:\", lo, \", hi:\", hi, \", mid:\", mid, \", mid_number:\", mid_number)\n",
        "\n",
        "        if mid_number == query:\n",
        "            return mid\n",
        "        elif mid_number < query:\n",
        "            hi = mid - 1\n",
        "        elif mid_number > query:\n",
        "            lo = mid + 1\n",
        "\n",
        "    return -1"
      ],
      "metadata": {
        "id": "mtNN-0qMHlcq"
      },
      "execution_count": 135,
      "outputs": []
    },
    {
      "cell_type": "code",
      "source": [
        "evaluate_test_cases(locate_card, tests)"
      ],
      "metadata": {
        "colab": {
          "base_uri": "https://localhost:8080/"
        },
        "id": "j_hg9U9FHnGF",
        "outputId": "bf32b7d7-d57c-4bd4-b897-1c04e61bc892"
      },
      "execution_count": 136,
      "outputs": [
        {
          "output_type": "stream",
          "name": "stdout",
          "text": [
            "\n",
            "\u001b[1mTEST CASE #0\u001b[0m\n",
            "lo: 0 , hi: 7 , mid: 3 , mid_number: 7\n",
            "\n",
            "Input:\n",
            "{'cards': [13, 11, 10, 7, 4, 3, 1, 0], 'query': 7}\n",
            "\n",
            "Expected Output:\n",
            "3\n",
            "\n",
            "\n",
            "Actual Output:\n",
            "3\n",
            "\n",
            "Execution Time:\n",
            "2.866 ms\n",
            "\n",
            "Test Result:\n",
            "\u001b[92mPASSED\u001b[0m\n",
            "\n",
            "\n",
            "\u001b[1mTEST CASE #1\u001b[0m\n",
            "lo: 0 , hi: 7 , mid: 3 , mid_number: 7\n",
            "lo: 4 , hi: 7 , mid: 5 , mid_number: 3\n",
            "lo: 6 , hi: 7 , mid: 6 , mid_number: 1\n",
            "\n",
            "Input:\n",
            "{'cards': [13, 11, 10, 7, 4, 3, 1, 0], 'query': 1}\n",
            "\n",
            "Expected Output:\n",
            "6\n",
            "\n",
            "\n",
            "Actual Output:\n",
            "6\n",
            "\n",
            "Execution Time:\n",
            "0.325 ms\n",
            "\n",
            "Test Result:\n",
            "\u001b[92mPASSED\u001b[0m\n",
            "\n",
            "\n",
            "\u001b[1mTEST CASE #2\u001b[0m\n",
            "lo: 0 , hi: 3 , mid: 1 , mid_number: 2\n",
            "lo: 0 , hi: 0 , mid: 0 , mid_number: 4\n",
            "\n",
            "Input:\n",
            "{'cards': [4, 2, 1, -1], 'query': 4}\n",
            "\n",
            "Expected Output:\n",
            "0\n",
            "\n",
            "\n",
            "Actual Output:\n",
            "0\n",
            "\n",
            "Execution Time:\n",
            "0.225 ms\n",
            "\n",
            "Test Result:\n",
            "\u001b[92mPASSED\u001b[0m\n",
            "\n",
            "\n",
            "\u001b[1mTEST CASE #3\u001b[0m\n",
            "lo: 0 , hi: 3 , mid: 1 , mid_number: -1\n",
            "lo: 2 , hi: 3 , mid: 2 , mid_number: -9\n",
            "lo: 3 , hi: 3 , mid: 3 , mid_number: -127\n",
            "\n",
            "Input:\n",
            "{'cards': [3, -1, -9, -127], 'query': -127}\n",
            "\n",
            "Expected Output:\n",
            "3\n",
            "\n",
            "\n",
            "Actual Output:\n",
            "3\n",
            "\n",
            "Execution Time:\n",
            "0.315 ms\n",
            "\n",
            "Test Result:\n",
            "\u001b[92mPASSED\u001b[0m\n",
            "\n",
            "\n",
            "\u001b[1mTEST CASE #4\u001b[0m\n",
            "lo: 0 , hi: 0 , mid: 0 , mid_number: 6\n",
            "\n",
            "Input:\n",
            "{'cards': [6], 'query': 6}\n",
            "\n",
            "Expected Output:\n",
            "0\n",
            "\n",
            "\n",
            "Actual Output:\n",
            "0\n",
            "\n",
            "Execution Time:\n",
            "0.108 ms\n",
            "\n",
            "Test Result:\n",
            "\u001b[92mPASSED\u001b[0m\n",
            "\n",
            "\n",
            "\u001b[1mTEST CASE #5\u001b[0m\n",
            "lo: 0 , hi: 4 , mid: 2 , mid_number: 5\n",
            "lo: 3 , hi: 4 , mid: 3 , mid_number: 2\n",
            "\n",
            "Input:\n",
            "{'cards': [9, 7, 5, 2, -9], 'query': 4}\n",
            "\n",
            "Expected Output:\n",
            "-1\n",
            "\n",
            "\n",
            "Actual Output:\n",
            "-1\n",
            "\n",
            "Execution Time:\n",
            "32.553 ms\n",
            "\n",
            "Test Result:\n",
            "\u001b[92mPASSED\u001b[0m\n",
            "\n",
            "\n",
            "\u001b[1mTEST CASE #6\u001b[0m\n",
            "\n",
            "Input:\n",
            "{'cards': [], 'query': 7}\n",
            "\n",
            "Expected Output:\n",
            "-1\n",
            "\n",
            "\n",
            "Actual Output:\n",
            "-1\n",
            "\n",
            "Execution Time:\n",
            "0.004 ms\n",
            "\n",
            "Test Result:\n",
            "\u001b[92mPASSED\u001b[0m\n",
            "\n",
            "\n",
            "\u001b[1mTEST CASE #7\u001b[0m\n",
            "lo: 0 , hi: 13 , mid: 6 , mid_number: 6\n",
            "lo: 7 , hi: 13 , mid: 10 , mid_number: 2\n",
            "lo: 7 , hi: 9 , mid: 8 , mid_number: 2\n",
            "lo: 7 , hi: 7 , mid: 7 , mid_number: 3\n",
            "\n",
            "Input:\n",
            "{'cards': [8, 8, 6, 6, 6, 6, 6, 3, 2, 2, 2, 0, 0, 0], 'query': 3}\n",
            "\n",
            "Expected Output:\n",
            "7\n",
            "\n",
            "\n",
            "Actual Output:\n",
            "7\n",
            "\n",
            "Execution Time:\n",
            "0.302 ms\n",
            "\n",
            "Test Result:\n",
            "\u001b[92mPASSED\u001b[0m\n",
            "\n",
            "\n",
            "\u001b[1mTEST CASE #8\u001b[0m\n",
            "lo: 0 , hi: 14 , mid: 7 , mid_number: 6\n",
            "\n",
            "Input:\n",
            "{'cards': [8, 8, 6, 6, 6, 6, 6, 6, 3, 2, 2, 2, 0, 0, 0], 'query': 6}\n",
            "\n",
            "Expected Output:\n",
            "2\n",
            "\n",
            "\n",
            "Actual Output:\n",
            "7\n",
            "\n",
            "Execution Time:\n",
            "25.894 ms\n",
            "\n",
            "Test Result:\n",
            "\u001b[91mFAILED\u001b[0m\n",
            "\n",
            "\n",
            "\u001b[1mSUMMARY\u001b[0m\n",
            "\n",
            "TOTAL: 9, \u001b[92mPASSED\u001b[0m: 8, \u001b[91mFAILED\u001b[0m: 1\n"
          ]
        },
        {
          "output_type": "execute_result",
          "data": {
            "text/plain": [
              "[(3, True, 2.866),\n",
              " (6, True, 0.325),\n",
              " (0, True, 0.225),\n",
              " (3, True, 0.315),\n",
              " (0, True, 0.108),\n",
              " (-1, True, 32.553),\n",
              " (-1, True, 0.004),\n",
              " (7, True, 0.302),\n",
              " (7, False, 25.894)]"
            ]
          },
          "metadata": {},
          "execution_count": 136
        }
      ]
    },
    {
      "cell_type": "code",
      "source": [
        "def test_location(cards,query,mid):\n",
        "  mid_number = cards[mid]\n",
        "  print(\"mid: \",mid,\"mid_number: \",mid_number)\n",
        "\n",
        "  if mid_number == query:\n",
        "    if mid-1 >=0 and cards[mid-1]==query:\n",
        "      return \"left\"\n",
        "\n",
        "    else:\n",
        "      return \"found\"\n",
        "\n",
        "  elif mid_number < query:\n",
        "    return \"left\"\n",
        "\n",
        "  else:\n",
        "    return \"right\"\n",
        "\n",
        "\n",
        "def locate_card(cards,query):\n",
        "  lo =0\n",
        "  hi = len(cards)-1\n",
        "\n",
        "  while lo<= hi:\n",
        "    print(\"lo:\", lo, \", hi:\", hi)\n",
        "\n",
        "    mid = (lo+hi)//2\n",
        "    result = test_location(cards,query,mid)\n",
        "\n",
        "    if result == \"found\":\n",
        "      return mid\n",
        "\n",
        "    elif result == \"left\":\n",
        "      hi = mid-1\n",
        "\n",
        "    elif result == \"right\":\n",
        "      lo = mid+1\n",
        "\n",
        "  return -1\n",
        "\n",
        "\n",
        "\n",
        "\n",
        "\n",
        "\n"
      ],
      "metadata": {
        "id": "4O1HMfv2bWAJ"
      },
      "execution_count": 137,
      "outputs": []
    },
    {
      "cell_type": "code",
      "source": [
        "evaluate_test_case(locate_card,tests[8])"
      ],
      "metadata": {
        "colab": {
          "base_uri": "https://localhost:8080/"
        },
        "id": "HPV8e_PAd1si",
        "outputId": "637e4be6-1400-485e-e299-deb7bcd05737"
      },
      "execution_count": 138,
      "outputs": [
        {
          "output_type": "stream",
          "name": "stdout",
          "text": [
            "\n",
            "Input:\n",
            "{'cards': [8, 8, 6, 6, 6, 6, 6, 6, 3, 2, 2, 2, 0, 0, 0], 'query': 6}\n",
            "\n",
            "Expected Output:\n",
            "2\n",
            "\n",
            "lo: 0 , hi: 14\n",
            "mid:  7 mid_number:  6\n",
            "lo: 0 , hi: 6\n",
            "mid:  3 mid_number:  6\n",
            "lo: 0 , hi: 2\n",
            "mid:  1 mid_number:  8\n",
            "lo: 2 , hi: 2\n",
            "mid:  2 mid_number:  6\n",
            "\n",
            "Actual Output:\n",
            "2\n",
            "\n",
            "Execution Time:\n",
            "7.519 ms\n",
            "\n",
            "Test Result:\n",
            "\u001b[92mPASSED\u001b[0m\n",
            "\n"
          ]
        },
        {
          "output_type": "execute_result",
          "data": {
            "text/plain": [
              "(2, True, 7.519)"
            ]
          },
          "metadata": {},
          "execution_count": 138
        }
      ]
    },
    {
      "cell_type": "code",
      "source": [
        "evaluate_test_cases(locate_card,tests)"
      ],
      "metadata": {
        "colab": {
          "base_uri": "https://localhost:8080/"
        },
        "id": "CexcAW7OeE-D",
        "outputId": "e13f6912-bd43-40c0-fd13-34a3ed8ee8fb"
      },
      "execution_count": 140,
      "outputs": [
        {
          "output_type": "stream",
          "name": "stdout",
          "text": [
            "\n",
            "\u001b[1mTEST CASE #0\u001b[0m\n",
            "lo: 0 , hi: 7\n",
            "mid:  3 mid_number:  7\n",
            "\n",
            "Input:\n",
            "{'cards': [13, 11, 10, 7, 4, 3, 1, 0], 'query': 7}\n",
            "\n",
            "Expected Output:\n",
            "3\n",
            "\n",
            "\n",
            "Actual Output:\n",
            "3\n",
            "\n",
            "Execution Time:\n",
            "3.92 ms\n",
            "\n",
            "Test Result:\n",
            "\u001b[92mPASSED\u001b[0m\n",
            "\n",
            "\n",
            "\u001b[1mTEST CASE #1\u001b[0m\n",
            "lo: 0 , hi: 7\n",
            "mid:  3 mid_number:  7\n",
            "lo: 4 , hi: 7\n",
            "mid:  5 mid_number:  3\n",
            "lo: 6 , hi: 7\n",
            "mid:  6 mid_number:  1\n",
            "\n",
            "Input:\n",
            "{'cards': [13, 11, 10, 7, 4, 3, 1, 0], 'query': 1}\n",
            "\n",
            "Expected Output:\n",
            "6\n",
            "\n",
            "\n",
            "Actual Output:\n",
            "6\n",
            "\n",
            "Execution Time:\n",
            "0.336 ms\n",
            "\n",
            "Test Result:\n",
            "\u001b[92mPASSED\u001b[0m\n",
            "\n",
            "\n",
            "\u001b[1mTEST CASE #2\u001b[0m\n",
            "lo: 0 , hi: 3\n",
            "mid:  1 mid_number:  2\n",
            "lo: 0 , hi: 0\n",
            "mid:  0 mid_number:  4\n",
            "\n",
            "Input:\n",
            "{'cards': [4, 2, 1, -1], 'query': 4}\n",
            "\n",
            "Expected Output:\n",
            "0\n",
            "\n",
            "\n",
            "Actual Output:\n",
            "0\n",
            "\n",
            "Execution Time:\n",
            "0.235 ms\n",
            "\n",
            "Test Result:\n",
            "\u001b[92mPASSED\u001b[0m\n",
            "\n",
            "\n",
            "\u001b[1mTEST CASE #3\u001b[0m\n",
            "lo: 0 , hi: 3\n",
            "mid:  1 mid_number:  -1\n",
            "lo: 2 , hi: 3\n",
            "mid:  2 mid_number:  -9\n",
            "lo: 3 , hi: 3\n",
            "mid:  3 mid_number:  -127\n",
            "\n",
            "Input:\n",
            "{'cards': [3, -1, -9, -127], 'query': -127}\n",
            "\n",
            "Expected Output:\n",
            "3\n",
            "\n",
            "\n",
            "Actual Output:\n",
            "3\n",
            "\n",
            "Execution Time:\n",
            "0.405 ms\n",
            "\n",
            "Test Result:\n",
            "\u001b[92mPASSED\u001b[0m\n",
            "\n",
            "\n",
            "\u001b[1mTEST CASE #4\u001b[0m\n",
            "lo: 0 , hi: 0\n",
            "mid:  0 mid_number:  6\n",
            "\n",
            "Input:\n",
            "{'cards': [6], 'query': 6}\n",
            "\n",
            "Expected Output:\n",
            "0\n",
            "\n",
            "\n",
            "Actual Output:\n",
            "0\n",
            "\n",
            "Execution Time:\n",
            "0.105 ms\n",
            "\n",
            "Test Result:\n",
            "\u001b[92mPASSED\u001b[0m\n",
            "\n",
            "\n",
            "\u001b[1mTEST CASE #5\u001b[0m\n",
            "lo: 0 , hi: 4\n",
            "mid:  2 mid_number:  5\n",
            "lo: 3 , hi: 4\n",
            "mid:  3 mid_number:  2\n",
            "\n",
            "Input:\n",
            "{'cards': [9, 7, 5, 2, -9], 'query': 4}\n",
            "\n",
            "Expected Output:\n",
            "-1\n",
            "\n",
            "\n",
            "Actual Output:\n",
            "-1\n",
            "\n",
            "Execution Time:\n",
            "6.242 ms\n",
            "\n",
            "Test Result:\n",
            "\u001b[92mPASSED\u001b[0m\n",
            "\n",
            "\n",
            "\u001b[1mTEST CASE #6\u001b[0m\n",
            "\n",
            "Input:\n",
            "{'cards': [], 'query': 7}\n",
            "\n",
            "Expected Output:\n",
            "-1\n",
            "\n",
            "\n",
            "Actual Output:\n",
            "-1\n",
            "\n",
            "Execution Time:\n",
            "0.004 ms\n",
            "\n",
            "Test Result:\n",
            "\u001b[92mPASSED\u001b[0m\n",
            "\n",
            "\n",
            "\u001b[1mTEST CASE #7\u001b[0m\n",
            "lo: 0 , hi: 13\n",
            "mid:  6 mid_number:  6\n",
            "lo: 7 , hi: 13\n",
            "mid:  10 mid_number:  2\n",
            "lo: 7 , hi: 9\n",
            "mid:  8 mid_number:  2\n",
            "lo: 7 , hi: 7\n",
            "mid:  7 mid_number:  3\n",
            "\n",
            "Input:\n",
            "{'cards': [8, 8, 6, 6, 6, 6, 6, 3, 2, 2, 2, 0, 0, 0], 'query': 3}\n",
            "\n",
            "Expected Output:\n",
            "7\n",
            "\n",
            "\n",
            "Actual Output:\n",
            "7\n",
            "\n",
            "Execution Time:\n",
            "0.49 ms\n",
            "\n",
            "Test Result:\n",
            "\u001b[92mPASSED\u001b[0m\n",
            "\n",
            "\n",
            "\u001b[1mTEST CASE #8\u001b[0m\n",
            "lo: 0 , hi: 14\n",
            "mid:  7 mid_number:  6\n",
            "lo: 0 , hi: 6\n",
            "mid:  3 mid_number:  6\n",
            "lo: 0 , hi: 2\n",
            "mid:  1 mid_number:  8\n",
            "lo: 2 , hi: 2\n",
            "mid:  2 mid_number:  6\n",
            "\n",
            "Input:\n",
            "{'cards': [8, 8, 6, 6, 6, 6, 6, 6, 3, 2, 2, 2, 0, 0, 0], 'query': 6}\n",
            "\n",
            "Expected Output:\n",
            "2\n",
            "\n",
            "\n",
            "Actual Output:\n",
            "2\n",
            "\n",
            "Execution Time:\n",
            "0.633 ms\n",
            "\n",
            "Test Result:\n",
            "\u001b[92mPASSED\u001b[0m\n",
            "\n",
            "\n",
            "\u001b[1mSUMMARY\u001b[0m\n",
            "\n",
            "TOTAL: 9, \u001b[92mPASSED\u001b[0m: 9, \u001b[91mFAILED\u001b[0m: 0\n"
          ]
        },
        {
          "output_type": "execute_result",
          "data": {
            "text/plain": [
              "[(3, True, 3.92),\n",
              " (6, True, 0.336),\n",
              " (0, True, 0.235),\n",
              " (3, True, 0.405),\n",
              " (0, True, 0.105),\n",
              " (-1, True, 6.242),\n",
              " (-1, True, 0.004),\n",
              " (7, True, 0.49),\n",
              " (2, True, 0.633)]"
            ]
          },
          "metadata": {},
          "execution_count": 140
        }
      ]
    },
    {
      "cell_type": "code",
      "source": [
        "jovian.commit()"
      ],
      "metadata": {
        "colab": {
          "base_uri": "https://localhost:8080/"
        },
        "id": "MCiPzyybgmvZ",
        "outputId": "c17347e5-73db-496c-caed-cce84290b844"
      },
      "execution_count": 141,
      "outputs": [
        {
          "output_type": "stream",
          "name": "stdout",
          "text": [
            "[jovian] Detected Colab notebook...\u001b[0m\n",
            "[jovian] jovian.commit() is no longer required on Google Colab. If you ran this notebook from Jovian, \n",
            "then just save this file in Colab using Ctrl+S/Cmd+S and it will be updated on Jovian. \n",
            "Also, you can also delete this cell, it's no longer necessary.\u001b[0m\n"
          ]
        }
      ]
    },
    {
      "cell_type": "code",
      "source": [
        "#Binary Search vs. Linear Search\n",
        "def locate_card_linear(cards, query):\n",
        "    position = 0\n",
        "    while position < len(cards):\n",
        "        if cards[position] == query:\n",
        "            return position\n",
        "        position += 1\n",
        "    return -1"
      ],
      "metadata": {
        "id": "nbKqwWjFiO1Z"
      },
      "execution_count": 142,
      "outputs": []
    },
    {
      "cell_type": "code",
      "source": [
        "large_test = {\n",
        "    'input': {\n",
        "        'cards': list(range(10000000, 0, -1)),\n",
        "        'query': 2\n",
        "    },\n",
        "    'output': 9999998\n",
        "\n",
        "}"
      ],
      "metadata": {
        "id": "e0bwK9M5jCfY"
      },
      "execution_count": 143,
      "outputs": []
    },
    {
      "cell_type": "code",
      "source": [
        "result, passed, runtime = evaluate_test_case(locate_card_linear, large_test, display=False)\n",
        "\n",
        "print(\"Result: {}\\nPassed: {}\\nExecution Time: {} ms\".format(result, passed, runtime))"
      ],
      "metadata": {
        "colab": {
          "base_uri": "https://localhost:8080/"
        },
        "id": "FRRJoBw1jFXx",
        "outputId": "0b463086-fdf6-4714-f7ab-99672aba3868"
      },
      "execution_count": 146,
      "outputs": [
        {
          "output_type": "stream",
          "name": "stdout",
          "text": [
            "Result: 9999998\n",
            "Passed: True\n",
            "Execution Time: 1759.9 ms\n"
          ]
        }
      ]
    },
    {
      "cell_type": "code",
      "source": [
        "result, passed, runtime = evaluate_test_case(locate_card, large_test, display=False)\n",
        "\n",
        "print(\"Result: {}\\nPassed: {}\\nExecution Time: {} ms\".format(result, passed, runtime))"
      ],
      "metadata": {
        "colab": {
          "base_uri": "https://localhost:8080/"
        },
        "id": "6tB9_g_ojcVq",
        "outputId": "65c30849-4204-4481-b7c7-14847a40cba7"
      },
      "execution_count": 147,
      "outputs": [
        {
          "output_type": "stream",
          "name": "stdout",
          "text": [
            "lo: 0 , hi: 9999999\n",
            "mid:  4999999 mid_number:  5000001\n",
            "lo: 5000000 , hi: 9999999\n",
            "mid:  7499999 mid_number:  2500001\n",
            "lo: 7500000 , hi: 9999999\n",
            "mid:  8749999 mid_number:  1250001\n",
            "lo: 8750000 , hi: 9999999\n",
            "mid:  9374999 mid_number:  625001\n",
            "lo: 9375000 , hi: 9999999\n",
            "mid:  9687499 mid_number:  312501\n",
            "lo: 9687500 , hi: 9999999\n",
            "mid:  9843749 mid_number:  156251\n",
            "lo: 9843750 , hi: 9999999\n",
            "mid:  9921874 mid_number:  78126\n",
            "lo: 9921875 , hi: 9999999\n",
            "mid:  9960937 mid_number:  39063\n",
            "lo: 9960938 , hi: 9999999\n",
            "mid:  9980468 mid_number:  19532\n",
            "lo: 9980469 , hi: 9999999\n",
            "mid:  9990234 mid_number:  9766\n",
            "lo: 9990235 , hi: 9999999\n",
            "mid:  9995117 mid_number:  4883\n",
            "lo: 9995118 , hi: 9999999\n",
            "mid:  9997558 mid_number:  2442\n",
            "lo: 9997559 , hi: 9999999\n",
            "mid:  9998779 mid_number:  1221\n",
            "lo: 9998780 , hi: 9999999\n",
            "mid:  9999389 mid_number:  611\n",
            "lo: 9999390 , hi: 9999999\n",
            "mid:  9999694 mid_number:  306\n",
            "lo: 9999695 , hi: 9999999\n",
            "mid:  9999847 mid_number:  153\n",
            "lo: 9999848 , hi: 9999999\n",
            "mid:  9999923 mid_number:  77\n",
            "lo: 9999924 , hi: 9999999\n",
            "mid:  9999961 mid_number:  39\n",
            "lo: 9999962 , hi: 9999999\n",
            "mid:  9999980 mid_number:  20\n",
            "lo: 9999981 , hi: 9999999\n",
            "mid:  9999990 mid_number:  10\n",
            "lo: 9999991 , hi: 9999999\n",
            "mid:  9999995 mid_number:  5\n",
            "lo: 9999996 , hi: 9999999\n",
            "mid:  9999997 mid_number:  3\n",
            "lo: 9999998 , hi: 9999999\n",
            "mid:  9999998 mid_number:  2\n",
            "Result: 9999998\n",
            "Passed: True\n",
            "Execution Time: 174.53 ms\n"
          ]
        }
      ]
    },
    {
      "cell_type": "code",
      "source": [
        "#Generic Binary Search\n",
        "\n",
        "def binary_search(lo, hi, condition):\n",
        "    \"\"\"TODO - add docs\"\"\"\n",
        "    while lo <= hi:\n",
        "        mid = (lo + hi) // 2\n",
        "        result = condition(mid)\n",
        "        if result == 'found':\n",
        "            return mid\n",
        "        elif result == 'left':\n",
        "            hi = mid - 1\n",
        "        else:\n",
        "            lo = mid + 1\n",
        "    return -1\n",
        "\n"
      ],
      "metadata": {
        "id": "cGxBGKYrjjHh"
      },
      "execution_count": 148,
      "outputs": []
    },
    {
      "cell_type": "code",
      "source": [
        "def locate_card(cards, query):\n",
        "\n",
        "    def condition(mid):\n",
        "        if cards[mid] == query:\n",
        "            if mid > 0 and cards[mid-1] == query:\n",
        "                return 'left'\n",
        "            else:\n",
        "                return 'found'\n",
        "        elif cards[mid] < query:\n",
        "            return 'left'\n",
        "        else:\n",
        "            return 'right'\n",
        "\n",
        "    return binary_search(0, len(cards) - 1, condition)"
      ],
      "metadata": {
        "id": "Ndj0PUT0jp-T"
      },
      "execution_count": 149,
      "outputs": []
    },
    {
      "cell_type": "code",
      "source": [
        "evaluate_test_cases(locate_card, tests)"
      ],
      "metadata": {
        "colab": {
          "base_uri": "https://localhost:8080/"
        },
        "id": "U2bajeYfjtnl",
        "outputId": "cd4eda31-2bdf-41d6-8f8b-5236660e08d3"
      },
      "execution_count": 150,
      "outputs": [
        {
          "output_type": "stream",
          "name": "stdout",
          "text": [
            "\n",
            "\u001b[1mTEST CASE #0\u001b[0m\n",
            "\n",
            "Input:\n",
            "{'cards': [13, 11, 10, 7, 4, 3, 1, 0], 'query': 7}\n",
            "\n",
            "Expected Output:\n",
            "3\n",
            "\n",
            "\n",
            "Actual Output:\n",
            "3\n",
            "\n",
            "Execution Time:\n",
            "0.011 ms\n",
            "\n",
            "Test Result:\n",
            "\u001b[92mPASSED\u001b[0m\n",
            "\n",
            "\n",
            "\u001b[1mTEST CASE #1\u001b[0m\n",
            "\n",
            "Input:\n",
            "{'cards': [13, 11, 10, 7, 4, 3, 1, 0], 'query': 1}\n",
            "\n",
            "Expected Output:\n",
            "6\n",
            "\n",
            "\n",
            "Actual Output:\n",
            "6\n",
            "\n",
            "Execution Time:\n",
            "0.008 ms\n",
            "\n",
            "Test Result:\n",
            "\u001b[92mPASSED\u001b[0m\n",
            "\n",
            "\n",
            "\u001b[1mTEST CASE #2\u001b[0m\n",
            "\n",
            "Input:\n",
            "{'cards': [4, 2, 1, -1], 'query': 4}\n",
            "\n",
            "Expected Output:\n",
            "0\n",
            "\n",
            "\n",
            "Actual Output:\n",
            "0\n",
            "\n",
            "Execution Time:\n",
            "0.007 ms\n",
            "\n",
            "Test Result:\n",
            "\u001b[92mPASSED\u001b[0m\n",
            "\n",
            "\n",
            "\u001b[1mTEST CASE #3\u001b[0m\n",
            "\n",
            "Input:\n",
            "{'cards': [3, -1, -9, -127], 'query': -127}\n",
            "\n",
            "Expected Output:\n",
            "3\n",
            "\n",
            "\n",
            "Actual Output:\n",
            "3\n",
            "\n",
            "Execution Time:\n",
            "0.007 ms\n",
            "\n",
            "Test Result:\n",
            "\u001b[92mPASSED\u001b[0m\n",
            "\n",
            "\n",
            "\u001b[1mTEST CASE #4\u001b[0m\n",
            "\n",
            "Input:\n",
            "{'cards': [6], 'query': 6}\n",
            "\n",
            "Expected Output:\n",
            "0\n",
            "\n",
            "\n",
            "Actual Output:\n",
            "0\n",
            "\n",
            "Execution Time:\n",
            "0.004 ms\n",
            "\n",
            "Test Result:\n",
            "\u001b[92mPASSED\u001b[0m\n",
            "\n",
            "\n",
            "\u001b[1mTEST CASE #5\u001b[0m\n",
            "\n",
            "Input:\n",
            "{'cards': [9, 7, 5, 2, -9], 'query': 4}\n",
            "\n",
            "Expected Output:\n",
            "-1\n",
            "\n",
            "\n",
            "Actual Output:\n",
            "-1\n",
            "\n",
            "Execution Time:\n",
            "0.005 ms\n",
            "\n",
            "Test Result:\n",
            "\u001b[92mPASSED\u001b[0m\n",
            "\n",
            "\n",
            "\u001b[1mTEST CASE #6\u001b[0m\n",
            "\n",
            "Input:\n",
            "{'cards': [], 'query': 7}\n",
            "\n",
            "Expected Output:\n",
            "-1\n",
            "\n",
            "\n",
            "Actual Output:\n",
            "-1\n",
            "\n",
            "Execution Time:\n",
            "0.008 ms\n",
            "\n",
            "Test Result:\n",
            "\u001b[92mPASSED\u001b[0m\n",
            "\n",
            "\n",
            "\u001b[1mTEST CASE #7\u001b[0m\n",
            "\n",
            "Input:\n",
            "{'cards': [8, 8, 6, 6, 6, 6, 6, 3, 2, 2, 2, 0, 0, 0], 'query': 3}\n",
            "\n",
            "Expected Output:\n",
            "7\n",
            "\n",
            "\n",
            "Actual Output:\n",
            "7\n",
            "\n",
            "Execution Time:\n",
            "0.009 ms\n",
            "\n",
            "Test Result:\n",
            "\u001b[92mPASSED\u001b[0m\n",
            "\n",
            "\n",
            "\u001b[1mTEST CASE #8\u001b[0m\n",
            "\n",
            "Input:\n",
            "{'cards': [8, 8, 6, 6, 6, 6, 6, 6, 3, 2, 2, 2, 0, 0, 0], 'query': 6}\n",
            "\n",
            "Expected Output:\n",
            "2\n",
            "\n",
            "\n",
            "Actual Output:\n",
            "2\n",
            "\n",
            "Execution Time:\n",
            "0.007 ms\n",
            "\n",
            "Test Result:\n",
            "\u001b[92mPASSED\u001b[0m\n",
            "\n",
            "\n",
            "\u001b[1mSUMMARY\u001b[0m\n",
            "\n",
            "TOTAL: 9, \u001b[92mPASSED\u001b[0m: 9, \u001b[91mFAILED\u001b[0m: 0\n"
          ]
        },
        {
          "output_type": "execute_result",
          "data": {
            "text/plain": [
              "[(3, True, 0.011),\n",
              " (6, True, 0.008),\n",
              " (0, True, 0.007),\n",
              " (3, True, 0.007),\n",
              " (0, True, 0.004),\n",
              " (-1, True, 0.005),\n",
              " (-1, True, 0.008),\n",
              " (7, True, 0.009),\n",
              " (2, True, 0.007)]"
            ]
          },
          "metadata": {},
          "execution_count": 150
        }
      ]
    },
    {
      "cell_type": "code",
      "source": [
        "#Here's the full code for solving the question, obtained by making minor modifications to our previous function:\n",
        "\n",
        "def first_position(nums, target):\n",
        "    def condition(mid):\n",
        "        if nums[mid] == target:\n",
        "            if mid > 0 and nums[mid-1] == target:\n",
        "                return 'left'\n",
        "            return 'found'\n",
        "        elif nums[mid] < target:\n",
        "            return 'right'\n",
        "        else:\n",
        "            return 'left'\n",
        "    return binary_search(0, len(nums)-1, condition)\n",
        "\n",
        "def last_position(nums, target):\n",
        "    def condition(mid):\n",
        "        if nums[mid] == target:\n",
        "            if mid < len(nums)-1 and nums[mid+1] == target:\n",
        "                return 'right'\n",
        "            return 'found'\n",
        "        elif nums[mid] < target:\n",
        "            return 'right'\n",
        "        else:\n",
        "            return 'left'\n",
        "    return binary_search(0, len(nums)-1, condition)\n",
        "\n",
        "def first_and_last_position(nums, target):\n",
        "    return first_position(nums, target), last_position(nums, target)"
      ],
      "metadata": {
        "id": "gb_lKKILj2l6"
      },
      "execution_count": 151,
      "outputs": []
    },
    {
      "cell_type": "markdown",
      "source": [
        "# Assignment\n",
        "\n",
        "find the minimum number of rotations to get the given list from a sorted list\n",
        "rotation implies removing the last element in the list and add before the first element(or zeroth index)\n",
        "the function takes an input nums which is the given rotated list\n",
        "and return a single output value called rotations\n"
      ],
      "metadata": {
        "id": "F9cfnja2y-sl"
      }
    },
    {
      "cell_type": "code",
      "source": [
        "!pip install jovian --upgrade --quiet"
      ],
      "metadata": {
        "colab": {
          "base_uri": "https://localhost:8080/"
        },
        "id": "bqCqYkwNzngS",
        "outputId": "92bdbd37-0efd-44f6-807a-aa290b60ffc9"
      },
      "execution_count": 1,
      "outputs": [
        {
          "output_type": "stream",
          "name": "stdout",
          "text": [
            "\u001b[?25l     \u001b[90m━━━━━━━━━━━━━━━━━━━━━━━━━━━━━━━━━━━━━━━━\u001b[0m \u001b[32m0.0/68.6 kB\u001b[0m \u001b[31m?\u001b[0m eta \u001b[36m-:--:--\u001b[0m\r\u001b[2K     \u001b[91m━━━━━━━━━━━━━━━━━━━━━━━━━━━━━━━━━━━\u001b[0m\u001b[91m╸\u001b[0m\u001b[90m━━━━\u001b[0m \u001b[32m61.4/68.6 kB\u001b[0m \u001b[31m2.2 MB/s\u001b[0m eta \u001b[36m0:00:01\u001b[0m\r\u001b[2K     \u001b[90m━━━━━━━━━━━━━━━━━━━━━━━━━━━━━━━━━━━━━━━━\u001b[0m \u001b[32m68.6/68.6 kB\u001b[0m \u001b[31m1.5 MB/s\u001b[0m eta \u001b[36m0:00:00\u001b[0m\n",
            "\u001b[?25h  Preparing metadata (setup.py) ... \u001b[?25l\u001b[?25hdone\n",
            "  Building wheel for uuid (setup.py) ... \u001b[?25l\u001b[?25hdone\n"
          ]
        }
      ]
    },
    {
      "cell_type": "code",
      "source": [
        "import jovian"
      ],
      "metadata": {
        "id": "HsCB7MvezoM6"
      },
      "execution_count": 2,
      "outputs": []
    },
    {
      "cell_type": "code",
      "source": [
        "project='python-binary-search-assignment'"
      ],
      "metadata": {
        "id": "4FiCYpndzrSm"
      },
      "execution_count": 3,
      "outputs": []
    },
    {
      "cell_type": "code",
      "source": [
        "jovian.commit(project=project, privacy='secret', environment=None)"
      ],
      "metadata": {
        "colab": {
          "base_uri": "https://localhost:8080/"
        },
        "id": "JbV_qjxszuR_",
        "outputId": "2fd76138-eb81-4e2a-e820-3aa60771325b"
      },
      "execution_count": 4,
      "outputs": [
        {
          "output_type": "stream",
          "name": "stdout",
          "text": [
            "[jovian] Detected Colab notebook...\u001b[0m\n",
            "[jovian] jovian.commit() is no longer required on Google Colab. If you ran this notebook from Jovian, \n",
            "then just save this file in Colab using Ctrl+S/Cmd+S and it will be updated on Jovian. \n",
            "Also, you can also delete this cell, it's no longer necessary.\u001b[0m\n"
          ]
        }
      ]
    },
    {
      "cell_type": "code",
      "source": [
        "def count_rotations(nums):\n",
        "    pass"
      ],
      "metadata": {
        "id": "qiuwZV_yzzdS"
      },
      "execution_count": 5,
      "outputs": []
    },
    {
      "cell_type": "code",
      "source": [
        "jovian.commit(project=project)"
      ],
      "metadata": {
        "colab": {
          "base_uri": "https://localhost:8080/"
        },
        "id": "7FYwokOlz5JQ",
        "outputId": "3750da72-ad32-4883-f8e0-94c0a4900a8d"
      },
      "execution_count": 6,
      "outputs": [
        {
          "output_type": "stream",
          "name": "stdout",
          "text": [
            "[jovian] Detected Colab notebook...\u001b[0m\n",
            "[jovian] jovian.commit() is no longer required on Google Colab. If you ran this notebook from Jovian, \n",
            "then just save this file in Colab using Ctrl+S/Cmd+S and it will be updated on Jovian. \n",
            "Also, you can also delete this cell, it's no longer necessary.\u001b[0m\n"
          ]
        }
      ]
    },
    {
      "cell_type": "markdown",
      "source": [
        "# 2. Come up with some example inputs & outputs. Try to cover all edge cases.\n",
        "Our function should be able to handle any set of valid inputs we pass into it. Here's a list of some possible variations we might encounter:\n",
        "\n",
        "* A list of size 10 rotated 3 times.\n",
        "* A list of size 8 rotated 5 times.\n",
        "* A list that wasn't rotated at all.\n",
        "* A list that was rotated just once.\n",
        "* A list that was rotated n-1 times, where n is the size of the list.\n",
        "* A list that was rotated n times (do you get back the original list here?)\n",
        "An empty list.\n",
        "* A list containing just one element."
      ],
      "metadata": {
        "id": "nQmm8_mq0GWQ"
      }
    },
    {
      "cell_type": "code",
      "source": [
        "test = {\n",
        "    'input': {\n",
        "        'nums': [19, 25, 29, 3, 5, 6, 7, 9, 11, 14]\n",
        "    },\n",
        "    'output': 3\n",
        "}"
      ],
      "metadata": {
        "id": "RCGY0XMiz8NE"
      },
      "execution_count": 7,
      "outputs": []
    },
    {
      "cell_type": "code",
      "source": [
        "nums0 = test['input']['nums']\n",
        "output0 = test['input']['nums']\n",
        "result0 = count_rotations(nums0)\n",
        "\n",
        "result0, result0 == output0"
      ],
      "metadata": {
        "colab": {
          "base_uri": "https://localhost:8080/"
        },
        "id": "XV583AUl0lzb",
        "outputId": "38c6c505-c1f0-4cb5-c1de-baba50ea67ac"
      },
      "execution_count": 8,
      "outputs": [
        {
          "output_type": "execute_result",
          "data": {
            "text/plain": [
              "(None, False)"
            ]
          },
          "metadata": {},
          "execution_count": 8
        }
      ]
    },
    {
      "cell_type": "code",
      "source": [
        "from jovian.pythondsa import evaluate_test_case"
      ],
      "metadata": {
        "id": "WWTkTRnk0tWM"
      },
      "execution_count": 9,
      "outputs": []
    },
    {
      "cell_type": "code",
      "source": [
        "evaluate_test_case(count_rotations, test)"
      ],
      "metadata": {
        "colab": {
          "base_uri": "https://localhost:8080/"
        },
        "id": "jf6ErooI0ygk",
        "outputId": "25c4feb9-a93b-428e-cb9f-cda84ca32a36"
      },
      "execution_count": 10,
      "outputs": [
        {
          "output_type": "stream",
          "name": "stdout",
          "text": [
            "\n",
            "Input:\n",
            "{'nums': [19, 25, 29, 3, 5, 6, 7, 9, 11, 14]}\n",
            "\n",
            "Expected Output:\n",
            "3\n",
            "\n",
            "\n",
            "Actual Output:\n",
            "None\n",
            "\n",
            "Execution Time:\n",
            "0.003 ms\n",
            "\n",
            "Test Result:\n",
            "\u001b[91mFAILED\u001b[0m\n",
            "\n"
          ]
        },
        {
          "output_type": "execute_result",
          "data": {
            "text/plain": [
              "(None, False, 0.003)"
            ]
          },
          "metadata": {},
          "execution_count": 10
        }
      ]
    },
    {
      "cell_type": "code",
      "source": [
        "test0 = test"
      ],
      "metadata": {
        "id": "fL15d4sH00Iv"
      },
      "execution_count": 11,
      "outputs": []
    },
    {
      "cell_type": "code",
      "source": [
        "# A list of size 8 rotated 5 times.\n",
        "test1 = {\n",
        "    'input': {\n",
        "        'nums': [???]\n",
        "    },\n",
        "    'output': ???\n",
        "}"
      ],
      "metadata": {
        "id": "kK-ocUBB08-R"
      },
      "execution_count": null,
      "outputs": []
    }
  ]
}