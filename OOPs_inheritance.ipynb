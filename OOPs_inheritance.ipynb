{
  "nbformat": 4,
  "nbformat_minor": 0,
  "metadata": {
    "colab": {
      "provenance": [],
      "authorship_tag": "ABX9TyOKfHHgIKuFySQlxytcMuvG",
      "include_colab_link": true
    },
    "kernelspec": {
      "name": "python3",
      "display_name": "Python 3"
    },
    "language_info": {
      "name": "python"
    }
  },
  "cells": [
    {
      "cell_type": "markdown",
      "metadata": {
        "id": "view-in-github",
        "colab_type": "text"
      },
      "source": [
        "<a href=\"https://colab.research.google.com/github/ABHIRAM199/my_practice/blob/main/OOPs_inheritance.ipynb\" target=\"_parent\"><img src=\"https://colab.research.google.com/assets/colab-badge.svg\" alt=\"Open In Colab\"/></a>"
      ]
    },
    {
      "cell_type": "code",
      "execution_count": null,
      "metadata": {
        "id": "5cMwzCAzvQZn"
      },
      "outputs": [],
      "source": [
        "#OOPS\n"
      ]
    },
    {
      "cell_type": "code",
      "source": [
        "class student:\n",
        "  name=None\n",
        "  age=0\n",
        "  grade ='A'\n",
        "\n",
        "s1=student()\n",
        "s1.name='Abhiram'\n",
        "s1.age=26\n",
        "attributes=vars(s1)\n",
        "print(attributes)\n",
        "\n"
      ],
      "metadata": {
        "colab": {
          "base_uri": "https://localhost:8080/"
        },
        "id": "zQ_EfqgPvTEQ",
        "outputId": "755ecad6-b659-4fa9-8a49-e3fffecd3b29"
      },
      "execution_count": null,
      "outputs": [
        {
          "output_type": "stream",
          "name": "stdout",
          "text": [
            "{'name': 'Abhiram', 'age': 26}\n"
          ]
        }
      ]
    },
    {
      "cell_type": "code",
      "source": [
        "class student:\n",
        "  def __init__(self,name,age):\n",
        "    self.name=name\n",
        "    self.age=age\n",
        "\n",
        "s1=student(\"ABHIRAM\",26)\n",
        "print(s1.name)\n",
        "print(s1.age)"
      ],
      "metadata": {
        "colab": {
          "base_uri": "https://localhost:8080/"
        },
        "id": "Tg93cZLnxMCN",
        "outputId": "cc220eab-92a4-41a3-c931-7bbdd26a99fb"
      },
      "execution_count": null,
      "outputs": [
        {
          "output_type": "stream",
          "name": "stdout",
          "text": [
            "ABHIRAM\n",
            "26\n"
          ]
        }
      ]
    },
    {
      "cell_type": "code",
      "source": [
        "class Dog:\n",
        "  def __init__(self,name,age=2):\n",
        "    self.name=name\n",
        "    self.age=age\n",
        "\n",
        "dog1=Dog(name=\"Nimmy\",age=13)\n",
        "dog2=Dog(name=\"Tippu\")\n",
        "dog3=Dog(name=\"Bruno\",age=3)\n",
        "dog4=Dog(\"Max\",1)\n",
        "print(dog1.name,dog1.age)\n",
        "print(dog2.age)\n",
        "print(dog3.name)\n",
        "print(dog4.name)"
      ],
      "metadata": {
        "colab": {
          "base_uri": "https://localhost:8080/"
        },
        "id": "ksMZMTOyz3ks",
        "outputId": "3563f18e-3806-4e19-bbad-0161a99c9339"
      },
      "execution_count": null,
      "outputs": [
        {
          "output_type": "stream",
          "name": "stdout",
          "text": [
            "Nimmy 13\n",
            "2\n",
            "Bruno\n",
            "Max\n"
          ]
        }
      ]
    },
    {
      "cell_type": "code",
      "source": [
        "class Animal:\n",
        "  def __init__(self,species):\n",
        "    self.species=species\n",
        "\n",
        "  def eat():\n",
        "    print(\"i am eating...!\")\n",
        "\n",
        "class Cat(Animal):\n",
        "  def __init__(self,name):\n",
        "    Animal.__init__(self,\"Cat\")\n",
        "    self.name= name\n",
        "  def speak(self):\n",
        "     return (\"Meaowww!\")\n",
        "\n",
        "\n",
        "\n",
        "\n",
        "class Dog(Animal):\n",
        "  def __init__(self,name):\n",
        "    Animal.__init__(self,\"Dog\")\n",
        "    self.name =name\n",
        "  def speak(self):\n",
        "      return (\"Boww Boww!\")\n",
        "\n",
        "\n",
        "dog=Dog(\"scoobe doo!\")\n",
        "cat=Cat(\"Tom\")\n",
        "\n",
        "\n",
        "print(cat.name)\n",
        "print(dog.name)\n",
        "print(cat.speak())\n",
        "print(dog.speak())\n",
        "\n"
      ],
      "metadata": {
        "colab": {
          "base_uri": "https://localhost:8080/"
        },
        "id": "brq9f7r0Ccud",
        "outputId": "a48e4c94-bcb0-415f-d1eb-4ae6dd9dc3d3"
      },
      "execution_count": null,
      "outputs": [
        {
          "output_type": "stream",
          "name": "stdout",
          "text": [
            "Tom\n",
            "scoobe doo!\n",
            "Meaowww!\n",
            "Boww Boww!\n"
          ]
        }
      ]
    }
  ]
}