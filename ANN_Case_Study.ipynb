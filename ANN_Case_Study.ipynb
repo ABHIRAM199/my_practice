{
  "nbformat": 4,
  "nbformat_minor": 0,
  "metadata": {
    "colab": {
      "provenance": [],
      "include_colab_link": true
    },
    "kernelspec": {
      "name": "python3",
      "display_name": "Python 3"
    },
    "language_info": {
      "name": "python"
    }
  },
  "cells": [
    {
      "cell_type": "markdown",
      "metadata": {
        "id": "view-in-github",
        "colab_type": "text"
      },
      "source": [
        "<a href=\"https://colab.research.google.com/github/ABHIRAM199/my_practice/blob/main/ANN_Case_Study.ipynb\" target=\"_parent\"><img src=\"https://colab.research.google.com/assets/colab-badge.svg\" alt=\"Open In Colab\"/></a>"
      ]
    },
    {
      "cell_type": "markdown",
      "source": [
        "# ANN Case Study"
      ],
      "metadata": {
        "id": "KAuDAAFPyVro"
      }
    },
    {
      "cell_type": "markdown",
      "source": [
        "**Agenda**\n",
        "\n",
        "- ANN Introduction\n",
        "- Understanding the Architecture\n",
        "- Tools and Libraries\n",
        "- Regression with ANN\n",
        "  - Architecture\n",
        "  - Compiling the model\n",
        "  - Training the model\n",
        "  - Evaluating the model\n",
        "  - Visualizing Results\n",
        "- Classification with ANN\n",
        "  - Architecture\n",
        "  - Compiling the model\n",
        "  - Training the model\n",
        "  - Evaluating the model\n",
        "  - Visualizing Results\n",
        "- Batch Normalization in Artificial Neural Networks\n",
        "- Artificial Neural Networks (ANNs): Dropout and Loss Functions\n",
        "\n"
      ],
      "metadata": {
        "id": "1MNkLtQEyZqk"
      }
    },
    {
      "cell_type": "markdown",
      "source": [
        "#**ANN Introduction**"
      ],
      "metadata": {
        "id": "5jSeBmYAhZMc"
      }
    },
    {
      "cell_type": "markdown",
      "source": [
        "An Artificial Neural Network (ANN) is a computational model designed to simulate the way the human brain processes information. It is a cornerstone of deep learning and is used for a wide range of applications, including image and speech recognition, natural language processing, and game playing.\n",
        "\n",
        "\n",
        "\n",
        "**ANN Structure:**\n",
        "\n",
        "**1. Neurons (Nodes):**\n",
        "The basic units of an ANN, similar to biological neurons.\n",
        "Each neuron takes an input (or a set of inputs), processes it, and produces an output.\n",
        "\n",
        "**2. Layers:**\n",
        "- **Input Layer:** The first layer of the network that receives the raw input data.\n",
        "- **Hidden Layers:** Intermediate layers where computations are performed to extract features from the input data. There can be one or more hidden layers.\n",
        "- **Output Layer:** The final layer that produces the network's output, such as class labels for classification tasks or predicted values for regression tasks.\n",
        "\n",
        "**3. Weights and Biases:**\n",
        "- **Weights:** Parameters that determine the strength and direction of the connection between neurons. They are adjusted during the training process.\n",
        "- **Biases:** Additional parameters that allow the activation of neurons to be shifted up or down, improving the model's flexibility.\n",
        "\n",
        "**4. Activation Functions:**\n",
        "Functions that introduce non-linearity into the model, enabling the network to learn complex patterns.\n",
        "Common activation functions include:\n",
        "- $Sigmoid: σ(x) = \\frac{1}{1+ e^{-x}}$, outputs values between 0 and 1.\n",
        "- ReLU (Rectified Linear Unit): $f(x) = max(0,x)$, outputs 0 if the input is negative, otherwise outputs the input.\n",
        "- Tanh: $tanh(x)=\\frac{2}{1+ e^{-2x}}-1$, outputs values between -1 and 1.\n"
      ],
      "metadata": {
        "id": "Irw_2Kk_hhNe"
      }
    },
    {
      "cell_type": "markdown",
      "source": [
        "###**Understanding the Architecture**\n",
        "\n",
        "**Basic Structure:**\n",
        "\n",
        "- **Input Layer:** Takes the input features (data) and passes them to the next layer.\n",
        "- **Hidden Layers:** Intermediate layers that perform computations and extract features. An ANN can have one or more hidden layers.\n",
        "- **Output Layer:** Produces the final output, such as a classification label or a regression value.\n",
        "\n",
        "\n",
        "**Key Components:**\n",
        "\n",
        "- **Forward Propagation:** The process of passing input data through the network to obtain the output.\n",
        "- **Backpropagation:** A training algorithm used to update the weights by minimizing the error between the predicted output and the actual output.\n",
        "- **Loss Function:** Measures the difference between the predicted and actual outputs. Common loss functions include Mean Squared Error (MSE) for regression and Cross-Entropy Loss for classification."
      ],
      "metadata": {
        "id": "fVblC3KqqjUx"
      }
    },
    {
      "cell_type": "markdown",
      "source": [
        "###**Tools and Libraries**\n",
        "**Popular Libraries for ANN:**\n",
        "- **TensorFlow:** An open-source library by Google, widely used for building and training neural networks.\n",
        "- **Keras:** A high-level API for TensorFlow, which makes it easier to build and train models.\n",
        "- **PyTorch:** An open-source library by Facebook, known for its dynamic computation graph and ease of use.\n",
        "- **Scikit-learn:** A machine learning library in Python that provides simple tools for building neural networks and other models.\n",
        "\n",
        "###**Data Preparation:**\n",
        "- **Data Cleaning:** Remove or correct errors, handle missing values, and standardize data formats.\n",
        "- **Normalization/Standardization:** Scale features to a standard range (e.g., 0-1) or standard normal distribution (mean = 0, standard deviation = 1).\n",
        "- **Feature Engineering:** Create new features or transform existing ones to improve model performance.\n",
        "- **Train-Test Split:** Divide the data into training and testing sets to evaluate model performance."
      ],
      "metadata": {
        "id": "etznyOs7rGnp"
      }
    },
    {
      "cell_type": "markdown",
      "source": [
        "#### **Basic example of building and training a simple ANN using Keras:**"
      ],
      "metadata": {
        "id": "du7-PAQCsDQE"
      }
    },
    {
      "cell_type": "code",
      "execution_count": null,
      "metadata": {
        "colab": {
          "base_uri": "https://localhost:8080/"
        },
        "id": "bbVScPvWbPdb",
        "outputId": "9132c39a-3df3-4b92-8390-db087a9d8e66"
      },
      "outputs": [
        {
          "output_type": "stream",
          "name": "stdout",
          "text": [
            "Epoch 1/50\n",
            "64/64 [==============================] - 3s 15ms/step - loss: 0.7094 - accuracy: 0.5047 - val_loss: 0.6926 - val_accuracy: 0.5500\n",
            "Epoch 2/50\n",
            "64/64 [==============================] - 0s 8ms/step - loss: 0.6855 - accuracy: 0.5391 - val_loss: 0.6899 - val_accuracy: 0.5562\n",
            "Epoch 3/50\n",
            "64/64 [==============================] - 0s 7ms/step - loss: 0.6788 - accuracy: 0.5469 - val_loss: 0.6901 - val_accuracy: 0.5688\n",
            "Epoch 4/50\n",
            "64/64 [==============================] - 0s 7ms/step - loss: 0.6717 - accuracy: 0.5828 - val_loss: 0.6893 - val_accuracy: 0.5813\n",
            "Epoch 5/50\n",
            "64/64 [==============================] - 1s 8ms/step - loss: 0.6654 - accuracy: 0.5938 - val_loss: 0.6920 - val_accuracy: 0.5437\n",
            "Epoch 6/50\n",
            "64/64 [==============================] - 0s 7ms/step - loss: 0.6603 - accuracy: 0.6047 - val_loss: 0.6899 - val_accuracy: 0.5688\n",
            "Epoch 7/50\n",
            "64/64 [==============================] - 1s 9ms/step - loss: 0.6552 - accuracy: 0.6187 - val_loss: 0.6924 - val_accuracy: 0.5688\n",
            "Epoch 8/50\n",
            "64/64 [==============================] - 1s 8ms/step - loss: 0.6502 - accuracy: 0.6172 - val_loss: 0.6918 - val_accuracy: 0.5813\n",
            "Epoch 9/50\n",
            "64/64 [==============================] - 1s 10ms/step - loss: 0.6471 - accuracy: 0.6328 - val_loss: 0.6934 - val_accuracy: 0.5625\n",
            "Epoch 10/50\n",
            "64/64 [==============================] - 1s 9ms/step - loss: 0.6416 - accuracy: 0.6359 - val_loss: 0.6942 - val_accuracy: 0.5688\n",
            "Epoch 11/50\n",
            "64/64 [==============================] - 0s 5ms/step - loss: 0.6386 - accuracy: 0.6406 - val_loss: 0.6956 - val_accuracy: 0.5813\n",
            "Epoch 12/50\n",
            "64/64 [==============================] - 0s 7ms/step - loss: 0.6337 - accuracy: 0.6516 - val_loss: 0.6957 - val_accuracy: 0.5688\n",
            "Epoch 13/50\n",
            "64/64 [==============================] - 0s 5ms/step - loss: 0.6292 - accuracy: 0.6484 - val_loss: 0.6957 - val_accuracy: 0.5500\n",
            "Epoch 14/50\n",
            "64/64 [==============================] - 0s 4ms/step - loss: 0.6242 - accuracy: 0.6844 - val_loss: 0.6985 - val_accuracy: 0.5500\n",
            "Epoch 15/50\n",
            "64/64 [==============================] - 0s 5ms/step - loss: 0.6211 - accuracy: 0.6672 - val_loss: 0.7018 - val_accuracy: 0.5562\n",
            "Epoch 16/50\n",
            "64/64 [==============================] - 0s 6ms/step - loss: 0.6165 - accuracy: 0.6766 - val_loss: 0.6997 - val_accuracy: 0.5562\n",
            "Epoch 17/50\n",
            "64/64 [==============================] - 0s 3ms/step - loss: 0.6127 - accuracy: 0.6906 - val_loss: 0.7016 - val_accuracy: 0.5437\n",
            "Epoch 18/50\n",
            "64/64 [==============================] - 0s 2ms/step - loss: 0.6087 - accuracy: 0.6875 - val_loss: 0.7041 - val_accuracy: 0.5688\n",
            "Epoch 19/50\n",
            "64/64 [==============================] - 0s 2ms/step - loss: 0.6044 - accuracy: 0.6906 - val_loss: 0.7038 - val_accuracy: 0.5437\n",
            "Epoch 20/50\n",
            "64/64 [==============================] - 0s 3ms/step - loss: 0.5995 - accuracy: 0.6859 - val_loss: 0.7068 - val_accuracy: 0.5250\n",
            "Epoch 21/50\n",
            "64/64 [==============================] - 0s 2ms/step - loss: 0.5964 - accuracy: 0.7063 - val_loss: 0.7066 - val_accuracy: 0.5562\n",
            "Epoch 22/50\n",
            "64/64 [==============================] - 0s 2ms/step - loss: 0.5925 - accuracy: 0.7031 - val_loss: 0.7078 - val_accuracy: 0.5250\n",
            "Epoch 23/50\n",
            "64/64 [==============================] - 0s 2ms/step - loss: 0.5878 - accuracy: 0.7156 - val_loss: 0.7106 - val_accuracy: 0.5188\n",
            "Epoch 24/50\n",
            "64/64 [==============================] - 0s 2ms/step - loss: 0.5856 - accuracy: 0.7234 - val_loss: 0.7102 - val_accuracy: 0.5188\n",
            "Epoch 25/50\n",
            "64/64 [==============================] - 0s 2ms/step - loss: 0.5831 - accuracy: 0.7047 - val_loss: 0.7157 - val_accuracy: 0.5562\n",
            "Epoch 26/50\n",
            "64/64 [==============================] - 0s 2ms/step - loss: 0.5798 - accuracy: 0.7031 - val_loss: 0.7163 - val_accuracy: 0.5437\n",
            "Epoch 27/50\n",
            "64/64 [==============================] - 0s 3ms/step - loss: 0.5739 - accuracy: 0.7141 - val_loss: 0.7170 - val_accuracy: 0.5250\n",
            "Epoch 28/50\n",
            "64/64 [==============================] - 0s 2ms/step - loss: 0.5709 - accuracy: 0.7172 - val_loss: 0.7200 - val_accuracy: 0.5125\n",
            "Epoch 29/50\n",
            "64/64 [==============================] - 0s 2ms/step - loss: 0.5661 - accuracy: 0.7219 - val_loss: 0.7209 - val_accuracy: 0.5063\n",
            "Epoch 30/50\n",
            "64/64 [==============================] - 0s 2ms/step - loss: 0.5654 - accuracy: 0.7312 - val_loss: 0.7232 - val_accuracy: 0.5000\n",
            "Epoch 31/50\n",
            "64/64 [==============================] - 0s 2ms/step - loss: 0.5621 - accuracy: 0.7344 - val_loss: 0.7261 - val_accuracy: 0.5562\n",
            "Epoch 32/50\n",
            "64/64 [==============================] - 0s 2ms/step - loss: 0.5573 - accuracy: 0.7328 - val_loss: 0.7282 - val_accuracy: 0.5125\n",
            "Epoch 33/50\n",
            "64/64 [==============================] - 0s 3ms/step - loss: 0.5558 - accuracy: 0.7297 - val_loss: 0.7284 - val_accuracy: 0.5188\n",
            "Epoch 34/50\n",
            "64/64 [==============================] - 0s 2ms/step - loss: 0.5506 - accuracy: 0.7469 - val_loss: 0.7264 - val_accuracy: 0.5250\n",
            "Epoch 35/50\n",
            "64/64 [==============================] - 0s 3ms/step - loss: 0.5455 - accuracy: 0.7391 - val_loss: 0.7332 - val_accuracy: 0.5188\n",
            "Epoch 36/50\n",
            "64/64 [==============================] - 0s 2ms/step - loss: 0.5410 - accuracy: 0.7578 - val_loss: 0.7354 - val_accuracy: 0.5063\n",
            "Epoch 37/50\n",
            "64/64 [==============================] - 0s 2ms/step - loss: 0.5376 - accuracy: 0.7469 - val_loss: 0.7331 - val_accuracy: 0.5188\n",
            "Epoch 38/50\n",
            "64/64 [==============================] - 0s 2ms/step - loss: 0.5327 - accuracy: 0.7516 - val_loss: 0.7383 - val_accuracy: 0.5188\n",
            "Epoch 39/50\n",
            "64/64 [==============================] - 0s 3ms/step - loss: 0.5296 - accuracy: 0.7484 - val_loss: 0.7454 - val_accuracy: 0.5500\n",
            "Epoch 40/50\n",
            "64/64 [==============================] - 0s 2ms/step - loss: 0.5277 - accuracy: 0.7484 - val_loss: 0.7420 - val_accuracy: 0.5312\n",
            "Epoch 41/50\n",
            "64/64 [==============================] - 0s 2ms/step - loss: 0.5228 - accuracy: 0.7500 - val_loss: 0.7503 - val_accuracy: 0.5437\n",
            "Epoch 42/50\n",
            "64/64 [==============================] - 0s 2ms/step - loss: 0.5212 - accuracy: 0.7578 - val_loss: 0.7449 - val_accuracy: 0.5250\n",
            "Epoch 43/50\n",
            "64/64 [==============================] - 0s 2ms/step - loss: 0.5210 - accuracy: 0.7500 - val_loss: 0.7444 - val_accuracy: 0.5250\n",
            "Epoch 44/50\n",
            "64/64 [==============================] - 0s 2ms/step - loss: 0.5134 - accuracy: 0.7594 - val_loss: 0.7451 - val_accuracy: 0.5437\n",
            "Epoch 45/50\n",
            "64/64 [==============================] - 0s 3ms/step - loss: 0.5095 - accuracy: 0.7672 - val_loss: 0.7522 - val_accuracy: 0.5437\n",
            "Epoch 46/50\n",
            "64/64 [==============================] - 0s 3ms/step - loss: 0.5060 - accuracy: 0.7578 - val_loss: 0.7551 - val_accuracy: 0.5500\n",
            "Epoch 47/50\n",
            "64/64 [==============================] - 0s 2ms/step - loss: 0.5019 - accuracy: 0.7672 - val_loss: 0.7583 - val_accuracy: 0.5250\n",
            "Epoch 48/50\n",
            "64/64 [==============================] - 0s 2ms/step - loss: 0.4998 - accuracy: 0.7672 - val_loss: 0.7608 - val_accuracy: 0.5500\n",
            "Epoch 49/50\n",
            "64/64 [==============================] - 0s 2ms/step - loss: 0.4962 - accuracy: 0.7656 - val_loss: 0.7588 - val_accuracy: 0.5500\n",
            "Epoch 50/50\n",
            "64/64 [==============================] - 0s 2ms/step - loss: 0.4926 - accuracy: 0.7734 - val_loss: 0.7675 - val_accuracy: 0.5437\n",
            "7/7 [==============================] - 0s 2ms/step - loss: 0.8416 - accuracy: 0.4900\n",
            "Test accuracy: 0.49\n"
          ]
        }
      ],
      "source": [
        "import numpy as np\n",
        "from keras.models import Sequential\n",
        "from keras.layers import Dense\n",
        "from sklearn.model_selection import train_test_split\n",
        "from sklearn.preprocessing import StandardScaler\n",
        "\n",
        "# Sample data\n",
        "X = np.random.rand(1000, 10)  # 1000 samples, 10 features\n",
        "y = np.random.randint(2, size=(1000, 1))  # Binary classification labels\n",
        "\n",
        "# Data preparation\n",
        "scaler = StandardScaler()\n",
        "X_scaled = scaler.fit_transform(X)\n",
        "\n",
        "X_train, X_test, y_train, y_test = train_test_split(X_scaled, y, test_size=0.2, random_state=42)\n",
        "\n",
        "model = Sequential()  # Initializes a sequential model where layers are stacked linearly\n",
        "\n",
        "model.add(Dense(32, input_dim=10, activation='relu'))  # Adds a fully connected (Dense) layer with 32 neurons,\n",
        "                                                       # expects input vectors of size 10,\n",
        "                                                       # uses ReLU activation function\n",
        "\n",
        "model.add(Dense(16, activation='relu'))  # Adds another Dense layer with 16 neurons and ReLU activation\n",
        "\n",
        "model.add(Dense(1, activation='sigmoid'))  # Adds the output layer with 1 neuron,\n",
        "                                           # uses sigmoid activation for binary classification output (0 or 1)\n",
        "\n",
        "# Compile the model\n",
        "model.compile(optimizer='adam', loss='binary_crossentropy', metrics=['accuracy'])\n",
        "\n",
        "# Train the model\n",
        "model.fit(X_train, y_train, epochs=50, batch_size=10, validation_split=0.2)\n",
        "\n",
        "# Evaluate the model\n",
        "loss, accuracy = model.evaluate(X_test, y_test)\n",
        "print(f'Test accuracy: {accuracy:.2f}')\n"
      ]
    },
    {
      "cell_type": "markdown",
      "source": [
        "- This code creates a simple ANN for a binary classification task using Keras.\n",
        "- It includes data scaling, model building, training, and evaluation."
      ],
      "metadata": {
        "id": "Fsog58BGscAI"
      }
    },
    {
      "cell_type": "markdown",
      "source": [
        "#**Regression with Artificial Neural Networks (ANNs)**\n",
        "###**1. Introduction to Regression**\n",
        "- Regression is a type of supervised learning task where the goal is to predict a continuous output variable based on one or more input features. Common applications of regression include predicting house prices, stock prices, and temperatures.\n",
        "\n",
        "###**2. How ANNs Are Applied to Regression**\n",
        "ANNs can be effectively used for regression tasks due to their ability to model complex non-linear relationships between input features and output variables. The architecture of an ANN for regression is similar to that used for classification but with some key differences:\n",
        "\n",
        "- **Output Layer:** For regression, the output layer typically has a single neuron if predicting a single continuous value. The activation function of the output neuron is usually linear (no activation function) to allow the network to predict any real value.\n",
        "- **Loss Function:** Mean Squared Error (MSE) is commonly used as the loss function for regression tasks, as it measures the average squared difference between predicted and actual values.\n",
        "\n",
        "###**3. Architecture of an ANN for Regression**\n",
        "**A typical ANN architecture for regression includes:**\n",
        "\n",
        "- **Input Layer:** Takes the input features.\n",
        "- **Hidden Layers:** One or more layers with a certain number of neurons and activation functions (commonly ReLU).\n",
        "- **Output Layer:** A single neuron with a linear activation function.\n",
        "\n",
        "###**4. Training Process**\n",
        "**The training process involves the following steps:**\n",
        "\n",
        "- **Forward Propagation:** Input data is passed through the network to obtain the predicted output.\n",
        "- **Compute Loss:** The difference between the predicted output and the actual output is calculated using the loss function (e.g., MSE).\n",
        "- **Backpropagation:** The gradients of the loss with respect to the weights are computed, and the weights are updated to minimize the loss using optimization algorithms like gradient descent.\n",
        "- **Iteration:** Steps 1-3 are repeated for a specified number of epochs or until the loss converges.\n",
        "\n",
        "###**5. Evaluation Metrics**\n",
        "**Common evaluation metrics for regression tasks include:**\n",
        "\n",
        "- **Mean Squared Error (MSE):** Measures the average of the squares of the errors.\n",
        "- **Root Mean Squared Error (RMSE):** The square root of MSE, providing error in the same units as the target variable.\n",
        "- **Mean Absolute Error (MAE):** The average of the absolute errors.\n",
        "- **R-squared (R²):** Represents the proportion of variance in the dependent variable that is predictable from the independent variables."
      ],
      "metadata": {
        "id": "K_Uc53j2weVX"
      }
    },
    {
      "cell_type": "markdown",
      "source": [
        "### Dataset"
      ],
      "metadata": {
        "id": "LpZxFqW8OdoL"
      }
    },
    {
      "cell_type": "markdown",
      "source": [
        "[Download Dataset From Here](https://drive.google.com/file/d/1Dig6qUp7j5MivnT9Soiq0X0p34TmdOEE/view?usp=sharing)"
      ],
      "metadata": {
        "id": "rtNB_0RqOqww"
      }
    },
    {
      "cell_type": "markdown",
      "source": [
        "**Load and Display the Dataset:**\n",
        "- This step involves loading the dataset and printing out the first few rows to get an initial understanding of the data.\n",
        "\n",
        "**Summary Statistics:**\n",
        "- This step provides summary statistics of the dataset, such as mean, median, standard deviation, and other descriptive statistics.\n",
        "\n",
        "**Check for Missing Values:**\n",
        "- This step checks for the presence of any missing values in the dataset."
      ],
      "metadata": {
        "id": "WLA9_xLZOinc"
      }
    },
    {
      "cell_type": "markdown",
      "source": [
        "- The code to perform these steps:"
      ],
      "metadata": {
        "id": "auCy4K8kRydl"
      }
    },
    {
      "cell_type": "code",
      "source": [
        "import pandas as pd\n",
        "\n",
        "# Load the housing dataset from a CSV file\n",
        "data = pd.read_csv('/content/HousingData.csv')\n",
        "\n",
        "# Display the first few rows of the dataset\n",
        "print(\"First few rows of the dataset:\")\n",
        "print(data.head())\n",
        "\n",
        "# Display summary statistics of the dataset\n",
        "print(\"\\nSummary statistics of the dataset:\")\n",
        "print(data.describe())\n",
        "\n",
        "# Check for missing values\n",
        "print(\"\\nMissing values in the dataset:\")\n",
        "print(data.isnull().sum())\n",
        "\n",
        "# Display the column names and their data types\n",
        "print(\"\\nColumn names and data types:\")\n",
        "print(data.dtypes)\n"
      ],
      "metadata": {
        "colab": {
          "base_uri": "https://localhost:8080/"
        },
        "id": "ztv4WeLgOdYk",
        "outputId": "38a3eb56-80e5-4e68-f5e0-e4fdc69f3e57"
      },
      "execution_count": null,
      "outputs": [
        {
          "output_type": "stream",
          "name": "stdout",
          "text": [
            "First few rows of the dataset:\n",
            "      CRIM    ZN  INDUS  CHAS    NOX     RM   AGE     DIS  RAD  TAX  PTRATIO  \\\n",
            "0  0.00632  18.0   2.31   0.0  0.538  6.575  65.2  4.0900    1  296     15.3   \n",
            "1  0.02731   0.0   7.07   0.0  0.469  6.421  78.9  4.9671    2  242     17.8   \n",
            "2  0.02729   0.0   7.07   0.0  0.469  7.185  61.1  4.9671    2  242     17.8   \n",
            "3  0.03237   0.0   2.18   0.0  0.458  6.998  45.8  6.0622    3  222     18.7   \n",
            "4  0.06905   0.0   2.18   0.0  0.458  7.147  54.2  6.0622    3  222     18.7   \n",
            "\n",
            "        B  LSTAT  MEDV  \n",
            "0  396.90   4.98  24.0  \n",
            "1  396.90   9.14  21.6  \n",
            "2  392.83   4.03  34.7  \n",
            "3  394.63   2.94  33.4  \n",
            "4  396.90    NaN  36.2  \n",
            "\n",
            "Summary statistics of the dataset:\n",
            "             CRIM          ZN       INDUS        CHAS         NOX          RM  \\\n",
            "count  486.000000  486.000000  486.000000  486.000000  506.000000  506.000000   \n",
            "mean     3.611874   11.211934   11.083992    0.069959    0.554695    6.284634   \n",
            "std      8.720192   23.388876    6.835896    0.255340    0.115878    0.702617   \n",
            "min      0.006320    0.000000    0.460000    0.000000    0.385000    3.561000   \n",
            "25%      0.081900    0.000000    5.190000    0.000000    0.449000    5.885500   \n",
            "50%      0.253715    0.000000    9.690000    0.000000    0.538000    6.208500   \n",
            "75%      3.560263   12.500000   18.100000    0.000000    0.624000    6.623500   \n",
            "max     88.976200  100.000000   27.740000    1.000000    0.871000    8.780000   \n",
            "\n",
            "              AGE         DIS         RAD         TAX     PTRATIO           B  \\\n",
            "count  486.000000  506.000000  506.000000  506.000000  506.000000  506.000000   \n",
            "mean    68.518519    3.795043    9.549407  408.237154   18.455534  356.674032   \n",
            "std     27.999513    2.105710    8.707259  168.537116    2.164946   91.294864   \n",
            "min      2.900000    1.129600    1.000000  187.000000   12.600000    0.320000   \n",
            "25%     45.175000    2.100175    4.000000  279.000000   17.400000  375.377500   \n",
            "50%     76.800000    3.207450    5.000000  330.000000   19.050000  391.440000   \n",
            "75%     93.975000    5.188425   24.000000  666.000000   20.200000  396.225000   \n",
            "max    100.000000   12.126500   24.000000  711.000000   22.000000  396.900000   \n",
            "\n",
            "            LSTAT        MEDV  \n",
            "count  486.000000  506.000000  \n",
            "mean    12.715432   22.532806  \n",
            "std      7.155871    9.197104  \n",
            "min      1.730000    5.000000  \n",
            "25%      7.125000   17.025000  \n",
            "50%     11.430000   21.200000  \n",
            "75%     16.955000   25.000000  \n",
            "max     37.970000   50.000000  \n",
            "\n",
            "Missing values in the dataset:\n",
            "CRIM       20\n",
            "ZN         20\n",
            "INDUS      20\n",
            "CHAS       20\n",
            "NOX         0\n",
            "RM          0\n",
            "AGE        20\n",
            "DIS         0\n",
            "RAD         0\n",
            "TAX         0\n",
            "PTRATIO     0\n",
            "B           0\n",
            "LSTAT      20\n",
            "MEDV        0\n",
            "dtype: int64\n",
            "\n",
            "Column names and data types:\n",
            "CRIM       float64\n",
            "ZN         float64\n",
            "INDUS      float64\n",
            "CHAS       float64\n",
            "NOX        float64\n",
            "RM         float64\n",
            "AGE        float64\n",
            "DIS        float64\n",
            "RAD          int64\n",
            "TAX          int64\n",
            "PTRATIO    float64\n",
            "B          float64\n",
            "LSTAT      float64\n",
            "MEDV       float64\n",
            "dtype: object\n"
          ]
        }
      ]
    },
    {
      "cell_type": "markdown",
      "source": [
        "####**Step-by-step implementation of an ANN for a regression task using Keras:**"
      ],
      "metadata": {
        "id": "FLQezxG10ySz"
      }
    },
    {
      "cell_type": "code",
      "source": [
        "import numpy as np\n",
        "import pandas as pd\n",
        "from keras.models import Sequential\n",
        "from keras.layers import Dense\n",
        "from sklearn.model_selection import train_test_split\n",
        "from sklearn.preprocessing import StandardScaler\n",
        "from sklearn.metrics import mean_squared_error, mean_absolute_error, r2_score\n",
        "\n",
        "# Load the housing dataset from a CSV file\n",
        "data = pd.read_csv('/content/HousingData.csv')\n",
        "\n",
        "# Drop rows with missing values\n",
        "data = data.dropna()\n",
        "\n",
        "# Assuming the target variable is 'CRIM'\n",
        "X = data.drop('CRIM', axis=1).values\n",
        "y = data['CRIM'].values\n",
        "\n",
        "# Data preparation\n",
        "scaler = StandardScaler()\n",
        "X_scaled = scaler.fit_transform(X)\n",
        "\n",
        "X_train, X_test, y_train, y_test = train_test_split(X_scaled, y, test_size=0.2, random_state=42)\n",
        "\n",
        "# Build the model\n",
        "model = Sequential()\n",
        "model.add(Dense(64, input_dim=X_train.shape[1], activation='relu'))\n",
        "model.add(Dense(32, activation='relu'))\n",
        "model.add(Dense(1))  # Linear activation function for regression\n",
        "\n",
        "# Compile the model\n",
        "model.compile(optimizer='adam', loss='mean_squared_error')\n",
        "\n",
        "# Train the model\n",
        "model.fit(X_train, y_train, epochs=100, batch_size=32, validation_split=0.2)\n",
        "\n",
        "# Evaluate the model\n",
        "y_pred = model.predict(X_test)\n",
        "\n",
        "mse = mean_squared_error(y_test, y_pred)\n",
        "mae = mean_absolute_error(y_test, y_pred)\n",
        "r2 = r2_score(y_test, y_pred)\n",
        "\n",
        "print(f'MSE: {mse:.2f}')\n",
        "print(f'MAE: {mae:.2f}')\n",
        "print(f'R²: {r2:.2f}')\n"
      ],
      "metadata": {
        "colab": {
          "base_uri": "https://localhost:8080/"
        },
        "id": "Tv05f4gFsG4d",
        "outputId": "06b12778-55c2-46d9-8bad-02c8a8238774"
      },
      "execution_count": null,
      "outputs": [
        {
          "output_type": "stream",
          "name": "stdout",
          "text": [
            "Epoch 1/100\n",
            "8/8 [==============================] - 1s 25ms/step - loss: 119.8527 - val_loss: 44.5340\n",
            "Epoch 2/100\n",
            "8/8 [==============================] - 0s 6ms/step - loss: 112.2812 - val_loss: 39.9966\n",
            "Epoch 3/100\n",
            "8/8 [==============================] - 0s 6ms/step - loss: 104.7054 - val_loss: 35.3694\n",
            "Epoch 4/100\n",
            "8/8 [==============================] - 0s 9ms/step - loss: 96.6990 - val_loss: 30.5312\n",
            "Epoch 5/100\n",
            "8/8 [==============================] - 0s 11ms/step - loss: 89.1631 - val_loss: 25.9904\n",
            "Epoch 6/100\n",
            "8/8 [==============================] - 0s 10ms/step - loss: 83.1601 - val_loss: 21.8405\n",
            "Epoch 7/100\n",
            "8/8 [==============================] - 0s 11ms/step - loss: 76.8493 - val_loss: 18.8744\n",
            "Epoch 8/100\n",
            "8/8 [==============================] - 0s 13ms/step - loss: 73.8584 - val_loss: 16.9437\n",
            "Epoch 9/100\n",
            "8/8 [==============================] - 0s 11ms/step - loss: 70.2619 - val_loss: 16.1222\n",
            "Epoch 10/100\n",
            "8/8 [==============================] - 0s 11ms/step - loss: 69.2700 - val_loss: 15.6979\n",
            "Epoch 11/100\n",
            "8/8 [==============================] - 0s 12ms/step - loss: 68.1747 - val_loss: 15.2944\n",
            "Epoch 12/100\n",
            "8/8 [==============================] - 0s 9ms/step - loss: 67.5147 - val_loss: 14.8857\n",
            "Epoch 13/100\n",
            "8/8 [==============================] - 0s 11ms/step - loss: 66.9506 - val_loss: 14.7574\n",
            "Epoch 14/100\n",
            "8/8 [==============================] - 0s 13ms/step - loss: 66.5191 - val_loss: 14.7228\n",
            "Epoch 15/100\n",
            "8/8 [==============================] - 0s 14ms/step - loss: 65.5783 - val_loss: 14.4638\n",
            "Epoch 16/100\n",
            "8/8 [==============================] - 0s 11ms/step - loss: 64.9081 - val_loss: 14.1545\n",
            "Epoch 17/100\n",
            "8/8 [==============================] - 0s 9ms/step - loss: 64.6122 - val_loss: 13.9054\n",
            "Epoch 18/100\n",
            "8/8 [==============================] - 0s 9ms/step - loss: 63.9586 - val_loss: 13.9308\n",
            "Epoch 19/100\n",
            "8/8 [==============================] - 0s 8ms/step - loss: 63.7331 - val_loss: 13.7634\n",
            "Epoch 20/100\n",
            "8/8 [==============================] - 0s 8ms/step - loss: 62.9459 - val_loss: 13.9155\n",
            "Epoch 21/100\n",
            "8/8 [==============================] - 0s 10ms/step - loss: 63.1709 - val_loss: 13.7366\n",
            "Epoch 22/100\n",
            "8/8 [==============================] - 0s 12ms/step - loss: 62.1805 - val_loss: 14.0566\n",
            "Epoch 23/100\n",
            "8/8 [==============================] - 0s 9ms/step - loss: 62.3108 - val_loss: 14.2700\n",
            "Epoch 24/100\n",
            "8/8 [==============================] - 0s 9ms/step - loss: 61.5535 - val_loss: 13.8251\n",
            "Epoch 25/100\n",
            "8/8 [==============================] - 0s 12ms/step - loss: 61.5561 - val_loss: 13.4829\n",
            "Epoch 26/100\n",
            "8/8 [==============================] - 0s 13ms/step - loss: 61.0276 - val_loss: 13.5416\n",
            "Epoch 27/100\n",
            "8/8 [==============================] - 0s 11ms/step - loss: 60.5503 - val_loss: 13.7875\n",
            "Epoch 28/100\n",
            "8/8 [==============================] - 0s 9ms/step - loss: 60.1788 - val_loss: 13.7096\n",
            "Epoch 29/100\n",
            "8/8 [==============================] - 0s 11ms/step - loss: 59.8642 - val_loss: 13.6922\n",
            "Epoch 30/100\n",
            "8/8 [==============================] - 0s 13ms/step - loss: 60.0774 - val_loss: 13.9479\n",
            "Epoch 31/100\n",
            "8/8 [==============================] - 0s 9ms/step - loss: 59.2265 - val_loss: 13.4434\n",
            "Epoch 32/100\n",
            "8/8 [==============================] - 0s 10ms/step - loss: 58.8185 - val_loss: 13.3075\n",
            "Epoch 33/100\n",
            "8/8 [==============================] - 0s 8ms/step - loss: 58.7218 - val_loss: 13.7382\n",
            "Epoch 34/100\n",
            "8/8 [==============================] - 0s 8ms/step - loss: 58.2459 - val_loss: 13.5919\n",
            "Epoch 35/100\n",
            "8/8 [==============================] - 0s 13ms/step - loss: 57.9144 - val_loss: 13.3722\n",
            "Epoch 36/100\n",
            "8/8 [==============================] - 0s 10ms/step - loss: 58.0080 - val_loss: 13.0303\n",
            "Epoch 37/100\n",
            "8/8 [==============================] - 0s 12ms/step - loss: 57.4927 - val_loss: 13.8615\n",
            "Epoch 38/100\n",
            "8/8 [==============================] - 0s 13ms/step - loss: 57.1559 - val_loss: 13.7298\n",
            "Epoch 39/100\n",
            "8/8 [==============================] - 0s 13ms/step - loss: 56.6675 - val_loss: 13.8348\n",
            "Epoch 40/100\n",
            "8/8 [==============================] - 0s 12ms/step - loss: 56.3608 - val_loss: 13.6116\n",
            "Epoch 41/100\n",
            "8/8 [==============================] - 0s 12ms/step - loss: 56.0790 - val_loss: 13.6816\n",
            "Epoch 42/100\n",
            "8/8 [==============================] - 0s 10ms/step - loss: 55.8157 - val_loss: 13.9544\n",
            "Epoch 43/100\n",
            "8/8 [==============================] - 0s 9ms/step - loss: 55.3961 - val_loss: 13.7449\n",
            "Epoch 44/100\n",
            "8/8 [==============================] - 0s 9ms/step - loss: 55.0152 - val_loss: 13.9612\n",
            "Epoch 45/100\n",
            "8/8 [==============================] - 0s 8ms/step - loss: 54.9055 - val_loss: 14.1705\n",
            "Epoch 46/100\n",
            "8/8 [==============================] - 0s 6ms/step - loss: 54.4824 - val_loss: 13.7279\n",
            "Epoch 47/100\n",
            "8/8 [==============================] - 0s 9ms/step - loss: 54.3362 - val_loss: 14.3964\n",
            "Epoch 48/100\n",
            "8/8 [==============================] - 0s 8ms/step - loss: 53.8937 - val_loss: 14.3014\n",
            "Epoch 49/100\n",
            "8/8 [==============================] - 0s 10ms/step - loss: 53.6581 - val_loss: 14.2361\n",
            "Epoch 50/100\n",
            "8/8 [==============================] - 0s 8ms/step - loss: 53.4992 - val_loss: 14.8450\n",
            "Epoch 51/100\n",
            "8/8 [==============================] - 0s 7ms/step - loss: 53.0785 - val_loss: 14.1433\n",
            "Epoch 52/100\n",
            "8/8 [==============================] - 0s 6ms/step - loss: 52.9162 - val_loss: 14.4347\n",
            "Epoch 53/100\n",
            "8/8 [==============================] - 0s 9ms/step - loss: 52.6132 - val_loss: 14.1315\n",
            "Epoch 54/100\n",
            "8/8 [==============================] - 0s 6ms/step - loss: 52.1849 - val_loss: 14.6364\n",
            "Epoch 55/100\n",
            "8/8 [==============================] - 0s 6ms/step - loss: 51.7523 - val_loss: 15.5565\n",
            "Epoch 56/100\n",
            "8/8 [==============================] - 0s 9ms/step - loss: 52.0279 - val_loss: 14.9652\n",
            "Epoch 57/100\n",
            "8/8 [==============================] - 0s 6ms/step - loss: 51.2416 - val_loss: 15.6482\n",
            "Epoch 58/100\n",
            "8/8 [==============================] - 0s 8ms/step - loss: 50.8609 - val_loss: 15.1683\n",
            "Epoch 59/100\n",
            "8/8 [==============================] - 0s 6ms/step - loss: 50.6290 - val_loss: 15.1179\n",
            "Epoch 60/100\n",
            "8/8 [==============================] - 0s 6ms/step - loss: 50.3396 - val_loss: 15.2893\n",
            "Epoch 61/100\n",
            "8/8 [==============================] - 0s 8ms/step - loss: 50.3857 - val_loss: 16.1565\n",
            "Epoch 62/100\n",
            "8/8 [==============================] - 0s 6ms/step - loss: 49.7327 - val_loss: 15.4727\n",
            "Epoch 63/100\n",
            "8/8 [==============================] - 0s 6ms/step - loss: 49.5544 - val_loss: 15.8803\n",
            "Epoch 64/100\n",
            "8/8 [==============================] - 0s 11ms/step - loss: 49.1680 - val_loss: 16.0539\n",
            "Epoch 65/100\n",
            "8/8 [==============================] - 0s 10ms/step - loss: 48.9854 - val_loss: 15.8039\n",
            "Epoch 66/100\n",
            "8/8 [==============================] - 0s 8ms/step - loss: 48.6489 - val_loss: 15.5692\n",
            "Epoch 67/100\n",
            "8/8 [==============================] - 0s 10ms/step - loss: 48.3487 - val_loss: 16.7848\n",
            "Epoch 68/100\n",
            "8/8 [==============================] - 0s 9ms/step - loss: 48.0900 - val_loss: 16.6975\n",
            "Epoch 69/100\n",
            "8/8 [==============================] - 0s 8ms/step - loss: 47.8062 - val_loss: 16.2877\n",
            "Epoch 70/100\n",
            "8/8 [==============================] - 0s 10ms/step - loss: 47.7842 - val_loss: 16.4646\n",
            "Epoch 71/100\n",
            "8/8 [==============================] - 0s 9ms/step - loss: 47.2094 - val_loss: 17.1354\n",
            "Epoch 72/100\n",
            "8/8 [==============================] - 0s 6ms/step - loss: 47.1111 - val_loss: 16.5636\n",
            "Epoch 73/100\n",
            "8/8 [==============================] - 0s 8ms/step - loss: 46.6756 - val_loss: 16.9802\n",
            "Epoch 74/100\n",
            "8/8 [==============================] - 0s 6ms/step - loss: 46.4223 - val_loss: 17.8167\n",
            "Epoch 75/100\n",
            "8/8 [==============================] - 0s 6ms/step - loss: 46.0029 - val_loss: 16.9954\n",
            "Epoch 76/100\n",
            "8/8 [==============================] - 0s 6ms/step - loss: 45.8293 - val_loss: 17.0672\n",
            "Epoch 77/100\n",
            "8/8 [==============================] - 0s 6ms/step - loss: 45.6142 - val_loss: 18.2193\n",
            "Epoch 78/100\n",
            "8/8 [==============================] - 0s 6ms/step - loss: 45.7677 - val_loss: 17.9201\n",
            "Epoch 79/100\n",
            "8/8 [==============================] - 0s 6ms/step - loss: 45.9474 - val_loss: 16.3525\n",
            "Epoch 80/100\n",
            "8/8 [==============================] - 0s 8ms/step - loss: 44.8563 - val_loss: 18.1119\n",
            "Epoch 81/100\n",
            "8/8 [==============================] - 0s 7ms/step - loss: 46.0751 - val_loss: 18.9848\n",
            "Epoch 82/100\n",
            "8/8 [==============================] - 0s 7ms/step - loss: 44.5274 - val_loss: 17.0989\n",
            "Epoch 83/100\n",
            "8/8 [==============================] - 0s 10ms/step - loss: 45.8380 - val_loss: 19.5433\n",
            "Epoch 84/100\n",
            "8/8 [==============================] - 0s 7ms/step - loss: 43.4872 - val_loss: 17.8332\n",
            "Epoch 85/100\n",
            "8/8 [==============================] - 0s 6ms/step - loss: 44.9665 - val_loss: 16.8271\n",
            "Epoch 86/100\n",
            "8/8 [==============================] - 0s 8ms/step - loss: 44.4669 - val_loss: 20.1211\n",
            "Epoch 87/100\n",
            "8/8 [==============================] - 0s 8ms/step - loss: 43.4595 - val_loss: 18.1399\n",
            "Epoch 88/100\n",
            "8/8 [==============================] - 0s 6ms/step - loss: 44.3101 - val_loss: 16.8336\n",
            "Epoch 89/100\n",
            "8/8 [==============================] - 0s 9ms/step - loss: 42.2129 - val_loss: 19.1400\n",
            "Epoch 90/100\n",
            "8/8 [==============================] - 0s 9ms/step - loss: 42.8796 - val_loss: 19.9349\n",
            "Epoch 91/100\n",
            "8/8 [==============================] - 0s 8ms/step - loss: 42.2546 - val_loss: 18.6218\n",
            "Epoch 92/100\n",
            "8/8 [==============================] - 0s 8ms/step - loss: 42.4773 - val_loss: 18.4724\n",
            "Epoch 93/100\n",
            "8/8 [==============================] - 0s 6ms/step - loss: 41.6513 - val_loss: 19.0964\n",
            "Epoch 94/100\n",
            "8/8 [==============================] - 0s 6ms/step - loss: 41.7528 - val_loss: 18.9123\n",
            "Epoch 95/100\n",
            "8/8 [==============================] - 0s 6ms/step - loss: 41.3507 - val_loss: 19.8659\n",
            "Epoch 96/100\n",
            "8/8 [==============================] - 0s 8ms/step - loss: 41.0390 - val_loss: 19.3335\n",
            "Epoch 97/100\n",
            "8/8 [==============================] - 0s 8ms/step - loss: 41.9254 - val_loss: 20.2369\n",
            "Epoch 98/100\n",
            "8/8 [==============================] - 0s 10ms/step - loss: 41.0004 - val_loss: 18.2763\n",
            "Epoch 99/100\n",
            "8/8 [==============================] - 0s 8ms/step - loss: 40.6514 - val_loss: 20.0845\n",
            "Epoch 100/100\n",
            "8/8 [==============================] - 0s 10ms/step - loss: 40.9913 - val_loss: 20.2907\n",
            "3/3 [==============================] - 0s 4ms/step\n",
            "MSE: 13.35\n",
            "MAE: 1.60\n",
            "R²: 0.67\n"
          ]
        }
      ]
    },
    {
      "cell_type": "markdown",
      "source": [
        "\n",
        "###**Architecture**\n",
        "\n",
        "**Introduction to ANN Architecture for Regression:**\n",
        "- An Artificial Neural Network (ANN) consists of an input layer, one or more hidden layers, and an output layer. For regression tasks, the output layer usually has one neuron with a linear activation function to predict a continuous value.\n",
        "\n",
        "**Example Architecture:**\n",
        "- **Input Layer:** Number of neurons equal to the number of input features.\n",
        "- **Hidden Layers:** One or more layers with a varying number of neurons (e.g., 64, 32) and ReLU activation functions.\n",
        "- **Output Layer:** One neuron with a linear activation function."
      ],
      "metadata": {
        "id": "Ha6O0doDTfqR"
      }
    },
    {
      "cell_type": "code",
      "source": [
        "from keras.models import Sequential\n",
        "from keras.layers import Dense\n",
        "\n",
        "# Define the model architecture\n",
        "model = Sequential()\n",
        "model.add(Dense(64, input_dim=X_train.shape[1], activation='relu'))\n",
        "model.add(Dense(32, activation='relu'))\n",
        "model.add(Dense(1))  # Output layer with linear activation function\n"
      ],
      "metadata": {
        "id": "JGLKG5ZH3TXy"
      },
      "execution_count": null,
      "outputs": []
    },
    {
      "cell_type": "markdown",
      "source": [
        "###**Compiling the Model**\n",
        "\n",
        "**Compiling the Model:**\n",
        "- Compilation involves specifying the optimizer, loss function, and metrics. For regression, Mean Squared Error (MSE) is a common loss function, and Adam is a popular optimizer."
      ],
      "metadata": {
        "id": "QeYrwZoeT4KA"
      }
    },
    {
      "cell_type": "code",
      "source": [
        "# Compile the model\n",
        "model.compile(optimizer='adam', loss='mean_squared_error')\n"
      ],
      "metadata": {
        "id": "kgryAMb_T0UV"
      },
      "execution_count": null,
      "outputs": []
    },
    {
      "cell_type": "markdown",
      "source": [
        "###**Training the Model**\n",
        "**Training the Model:**\n",
        "- Training involves feeding the training data to the model and adjusting the weights to minimize the loss function. This is done over multiple epochs."
      ],
      "metadata": {
        "id": "Ln3k3AwxUJQS"
      }
    },
    {
      "cell_type": "code",
      "source": [
        "# Train the model\n",
        "history = model.fit(X_train, y_train, epochs=100, batch_size=32, validation_split=0.2)\n"
      ],
      "metadata": {
        "colab": {
          "base_uri": "https://localhost:8080/"
        },
        "id": "zQgdhdeTUFhd",
        "outputId": "ec634119-5719-43ae-9508-f2ac2d3cca92"
      },
      "execution_count": null,
      "outputs": [
        {
          "output_type": "stream",
          "name": "stdout",
          "text": [
            "Epoch 1/100\n",
            "8/8 [==============================] - 2s 26ms/step - loss: 123.4595 - val_loss: 46.7948\n",
            "Epoch 2/100\n",
            "8/8 [==============================] - 0s 6ms/step - loss: 117.9956 - val_loss: 43.5919\n",
            "Epoch 3/100\n",
            "8/8 [==============================] - 0s 7ms/step - loss: 113.1068 - val_loss: 40.5367\n",
            "Epoch 4/100\n",
            "8/8 [==============================] - 0s 8ms/step - loss: 108.0107 - val_loss: 37.1781\n",
            "Epoch 5/100\n",
            "8/8 [==============================] - 0s 9ms/step - loss: 103.1238 - val_loss: 33.2582\n",
            "Epoch 6/100\n",
            "8/8 [==============================] - 0s 8ms/step - loss: 96.6252 - val_loss: 29.0997\n",
            "Epoch 7/100\n",
            "8/8 [==============================] - 0s 8ms/step - loss: 90.4002 - val_loss: 24.8256\n",
            "Epoch 8/100\n",
            "8/8 [==============================] - 0s 9ms/step - loss: 83.8379 - val_loss: 21.2109\n",
            "Epoch 9/100\n",
            "8/8 [==============================] - 0s 6ms/step - loss: 78.2267 - val_loss: 18.6871\n",
            "Epoch 10/100\n",
            "8/8 [==============================] - 0s 7ms/step - loss: 74.1868 - val_loss: 17.2635\n",
            "Epoch 11/100\n",
            "8/8 [==============================] - 0s 6ms/step - loss: 72.7069 - val_loss: 16.6327\n",
            "Epoch 12/100\n",
            "8/8 [==============================] - 0s 8ms/step - loss: 70.6173 - val_loss: 16.3695\n",
            "Epoch 13/100\n",
            "8/8 [==============================] - 0s 8ms/step - loss: 69.8150 - val_loss: 16.0808\n",
            "Epoch 14/100\n",
            "8/8 [==============================] - 0s 9ms/step - loss: 69.1986 - val_loss: 15.9533\n",
            "Epoch 15/100\n",
            "8/8 [==============================] - 0s 6ms/step - loss: 68.4441 - val_loss: 15.5928\n",
            "Epoch 16/100\n",
            "8/8 [==============================] - 0s 8ms/step - loss: 67.8058 - val_loss: 15.3595\n",
            "Epoch 17/100\n",
            "8/8 [==============================] - 0s 8ms/step - loss: 66.9843 - val_loss: 15.2671\n",
            "Epoch 18/100\n",
            "8/8 [==============================] - 0s 8ms/step - loss: 66.2960 - val_loss: 15.1704\n",
            "Epoch 19/100\n",
            "8/8 [==============================] - 0s 12ms/step - loss: 65.7624 - val_loss: 15.0193\n",
            "Epoch 20/100\n",
            "8/8 [==============================] - 0s 10ms/step - loss: 65.0635 - val_loss: 14.9026\n",
            "Epoch 21/100\n",
            "8/8 [==============================] - 0s 7ms/step - loss: 64.4412 - val_loss: 14.9057\n",
            "Epoch 22/100\n",
            "8/8 [==============================] - 0s 8ms/step - loss: 63.9901 - val_loss: 14.5576\n",
            "Epoch 23/100\n",
            "8/8 [==============================] - 0s 6ms/step - loss: 63.5065 - val_loss: 14.7694\n",
            "Epoch 24/100\n",
            "8/8 [==============================] - 0s 6ms/step - loss: 62.9579 - val_loss: 14.8680\n",
            "Epoch 25/100\n",
            "8/8 [==============================] - 0s 6ms/step - loss: 62.5616 - val_loss: 14.7691\n",
            "Epoch 26/100\n",
            "8/8 [==============================] - 0s 9ms/step - loss: 62.3406 - val_loss: 14.4491\n",
            "Epoch 27/100\n",
            "8/8 [==============================] - 0s 6ms/step - loss: 61.5366 - val_loss: 14.6820\n",
            "Epoch 28/100\n",
            "8/8 [==============================] - 0s 8ms/step - loss: 61.1279 - val_loss: 14.8508\n",
            "Epoch 29/100\n",
            "8/8 [==============================] - 0s 6ms/step - loss: 60.7746 - val_loss: 14.7050\n",
            "Epoch 30/100\n",
            "8/8 [==============================] - 0s 9ms/step - loss: 60.6629 - val_loss: 14.9510\n",
            "Epoch 31/100\n",
            "8/8 [==============================] - 0s 6ms/step - loss: 59.9570 - val_loss: 14.6696\n",
            "Epoch 32/100\n",
            "8/8 [==============================] - 0s 7ms/step - loss: 59.5503 - val_loss: 14.6418\n",
            "Epoch 33/100\n",
            "8/8 [==============================] - 0s 6ms/step - loss: 59.0975 - val_loss: 14.5630\n",
            "Epoch 34/100\n",
            "8/8 [==============================] - 0s 10ms/step - loss: 58.7133 - val_loss: 14.5375\n",
            "Epoch 35/100\n",
            "8/8 [==============================] - 0s 11ms/step - loss: 58.3298 - val_loss: 14.4955\n",
            "Epoch 36/100\n",
            "8/8 [==============================] - 0s 8ms/step - loss: 58.0696 - val_loss: 14.6387\n",
            "Epoch 37/100\n",
            "8/8 [==============================] - 0s 9ms/step - loss: 57.6079 - val_loss: 14.4486\n",
            "Epoch 38/100\n",
            "8/8 [==============================] - 0s 8ms/step - loss: 57.2574 - val_loss: 14.3277\n",
            "Epoch 39/100\n",
            "8/8 [==============================] - 0s 9ms/step - loss: 56.9177 - val_loss: 14.1802\n",
            "Epoch 40/100\n",
            "8/8 [==============================] - 0s 6ms/step - loss: 56.3634 - val_loss: 14.5265\n",
            "Epoch 41/100\n",
            "8/8 [==============================] - 0s 10ms/step - loss: 56.4586 - val_loss: 15.4279\n",
            "Epoch 42/100\n",
            "8/8 [==============================] - 0s 6ms/step - loss: 55.6186 - val_loss: 14.8072\n",
            "Epoch 43/100\n",
            "8/8 [==============================] - 0s 6ms/step - loss: 55.3691 - val_loss: 14.5938\n",
            "Epoch 44/100\n",
            "8/8 [==============================] - 0s 8ms/step - loss: 55.4167 - val_loss: 15.1354\n",
            "Epoch 45/100\n",
            "8/8 [==============================] - 0s 9ms/step - loss: 54.5089 - val_loss: 14.5255\n",
            "Epoch 46/100\n",
            "8/8 [==============================] - 0s 9ms/step - loss: 54.3347 - val_loss: 14.8359\n",
            "Epoch 47/100\n",
            "8/8 [==============================] - 0s 9ms/step - loss: 53.9227 - val_loss: 14.9251\n",
            "Epoch 48/100\n",
            "8/8 [==============================] - 0s 9ms/step - loss: 53.6926 - val_loss: 14.3799\n",
            "Epoch 49/100\n",
            "8/8 [==============================] - 0s 10ms/step - loss: 53.1319 - val_loss: 15.0681\n",
            "Epoch 50/100\n",
            "8/8 [==============================] - 0s 11ms/step - loss: 52.9393 - val_loss: 15.1866\n",
            "Epoch 51/100\n",
            "8/8 [==============================] - 0s 7ms/step - loss: 52.7826 - val_loss: 14.7251\n",
            "Epoch 52/100\n",
            "8/8 [==============================] - 0s 9ms/step - loss: 52.2845 - val_loss: 16.1061\n",
            "Epoch 53/100\n",
            "8/8 [==============================] - 0s 9ms/step - loss: 51.7733 - val_loss: 15.4702\n",
            "Epoch 54/100\n",
            "8/8 [==============================] - 0s 6ms/step - loss: 51.5217 - val_loss: 15.0382\n",
            "Epoch 55/100\n",
            "8/8 [==============================] - 0s 6ms/step - loss: 50.9011 - val_loss: 15.9843\n",
            "Epoch 56/100\n",
            "8/8 [==============================] - 0s 6ms/step - loss: 50.5473 - val_loss: 15.8802\n",
            "Epoch 57/100\n",
            "8/8 [==============================] - 0s 9ms/step - loss: 50.1720 - val_loss: 15.9267\n",
            "Epoch 58/100\n",
            "8/8 [==============================] - 0s 8ms/step - loss: 49.9688 - val_loss: 15.5599\n",
            "Epoch 59/100\n",
            "8/8 [==============================] - 0s 6ms/step - loss: 49.5377 - val_loss: 16.3023\n",
            "Epoch 60/100\n",
            "8/8 [==============================] - 0s 8ms/step - loss: 49.2376 - val_loss: 16.0782\n",
            "Epoch 61/100\n",
            "8/8 [==============================] - 0s 6ms/step - loss: 49.3796 - val_loss: 16.6948\n",
            "Epoch 62/100\n",
            "8/8 [==============================] - 0s 8ms/step - loss: 48.4709 - val_loss: 15.1630\n",
            "Epoch 63/100\n",
            "8/8 [==============================] - 0s 6ms/step - loss: 48.5045 - val_loss: 15.4453\n",
            "Epoch 64/100\n",
            "8/8 [==============================] - 0s 8ms/step - loss: 47.6364 - val_loss: 16.3098\n",
            "Epoch 65/100\n",
            "8/8 [==============================] - 0s 10ms/step - loss: 47.4536 - val_loss: 16.5890\n",
            "Epoch 66/100\n",
            "8/8 [==============================] - 0s 11ms/step - loss: 47.4080 - val_loss: 17.4943\n",
            "Epoch 67/100\n",
            "8/8 [==============================] - 0s 7ms/step - loss: 47.3626 - val_loss: 16.2976\n",
            "Epoch 68/100\n",
            "8/8 [==============================] - 0s 8ms/step - loss: 46.4669 - val_loss: 16.7640\n",
            "Epoch 69/100\n",
            "8/8 [==============================] - 0s 6ms/step - loss: 46.0908 - val_loss: 16.8148\n",
            "Epoch 70/100\n",
            "8/8 [==============================] - 0s 8ms/step - loss: 45.8787 - val_loss: 17.0724\n",
            "Epoch 71/100\n",
            "8/8 [==============================] - 0s 8ms/step - loss: 45.4203 - val_loss: 17.0047\n",
            "Epoch 72/100\n",
            "8/8 [==============================] - 0s 6ms/step - loss: 45.1736 - val_loss: 16.3578\n",
            "Epoch 73/100\n",
            "8/8 [==============================] - 0s 8ms/step - loss: 44.7522 - val_loss: 17.3712\n",
            "Epoch 74/100\n",
            "8/8 [==============================] - 0s 6ms/step - loss: 44.5013 - val_loss: 17.7184\n",
            "Epoch 75/100\n",
            "8/8 [==============================] - 0s 8ms/step - loss: 44.0413 - val_loss: 16.9743\n",
            "Epoch 76/100\n",
            "8/8 [==============================] - 0s 9ms/step - loss: 43.8758 - val_loss: 17.9383\n",
            "Epoch 77/100\n",
            "8/8 [==============================] - 0s 9ms/step - loss: 43.5575 - val_loss: 18.1826\n",
            "Epoch 78/100\n",
            "8/8 [==============================] - 0s 6ms/step - loss: 43.4155 - val_loss: 17.3042\n",
            "Epoch 79/100\n",
            "8/8 [==============================] - 0s 8ms/step - loss: 43.5085 - val_loss: 18.4852\n",
            "Epoch 80/100\n",
            "8/8 [==============================] - 0s 8ms/step - loss: 43.4521 - val_loss: 17.4732\n",
            "Epoch 81/100\n",
            "8/8 [==============================] - 0s 7ms/step - loss: 42.4156 - val_loss: 17.7909\n",
            "Epoch 82/100\n",
            "8/8 [==============================] - 0s 10ms/step - loss: 41.9359 - val_loss: 17.2760\n",
            "Epoch 83/100\n",
            "8/8 [==============================] - 0s 6ms/step - loss: 41.7706 - val_loss: 18.1657\n",
            "Epoch 84/100\n",
            "8/8 [==============================] - 0s 6ms/step - loss: 41.8699 - val_loss: 18.9026\n",
            "Epoch 85/100\n",
            "8/8 [==============================] - 0s 6ms/step - loss: 42.2116 - val_loss: 16.8364\n",
            "Epoch 86/100\n",
            "8/8 [==============================] - 0s 8ms/step - loss: 41.1606 - val_loss: 19.4940\n",
            "Epoch 87/100\n",
            "8/8 [==============================] - 0s 6ms/step - loss: 41.0282 - val_loss: 17.7074\n",
            "Epoch 88/100\n",
            "8/8 [==============================] - 0s 6ms/step - loss: 40.1874 - val_loss: 19.4421\n",
            "Epoch 89/100\n",
            "8/8 [==============================] - 0s 6ms/step - loss: 40.4146 - val_loss: 18.7386\n",
            "Epoch 90/100\n",
            "8/8 [==============================] - 0s 8ms/step - loss: 39.8423 - val_loss: 17.8336\n",
            "Epoch 91/100\n",
            "8/8 [==============================] - 0s 6ms/step - loss: 39.8186 - val_loss: 19.6123\n",
            "Epoch 92/100\n",
            "8/8 [==============================] - 0s 9ms/step - loss: 39.1903 - val_loss: 19.5031\n",
            "Epoch 93/100\n",
            "8/8 [==============================] - 0s 6ms/step - loss: 38.3988 - val_loss: 18.4275\n",
            "Epoch 94/100\n",
            "8/8 [==============================] - 0s 6ms/step - loss: 38.6566 - val_loss: 18.9679\n",
            "Epoch 95/100\n",
            "8/8 [==============================] - 0s 8ms/step - loss: 38.1953 - val_loss: 19.0491\n",
            "Epoch 96/100\n",
            "8/8 [==============================] - 0s 10ms/step - loss: 38.0352 - val_loss: 19.3050\n",
            "Epoch 97/100\n",
            "8/8 [==============================] - 0s 8ms/step - loss: 37.7836 - val_loss: 18.8097\n",
            "Epoch 98/100\n",
            "8/8 [==============================] - 0s 8ms/step - loss: 38.3260 - val_loss: 20.2072\n",
            "Epoch 99/100\n",
            "8/8 [==============================] - 0s 10ms/step - loss: 37.1185 - val_loss: 19.4105\n",
            "Epoch 100/100\n",
            "8/8 [==============================] - 0s 6ms/step - loss: 36.6975 - val_loss: 19.4862\n"
          ]
        }
      ]
    },
    {
      "cell_type": "markdown",
      "source": [
        "\n",
        "###Evaluating the Model\n",
        "\n",
        "**Model Evaluation:**\n",
        "After training, the model's performance is evaluated using the test set. Common metrics include Mean Squared Error (MSE), Mean Absolute Error (MAE), and R-squared (R²)."
      ],
      "metadata": {
        "id": "4Zu06QbcUaZ8"
      }
    },
    {
      "cell_type": "code",
      "source": [
        "from sklearn.metrics import mean_squared_error, mean_absolute_error, r2_score\n",
        "\n",
        "# Predict on the test set\n",
        "y_pred = model.predict(X_test)\n",
        "\n",
        "# Calculate evaluation metrics\n",
        "mse = mean_squared_error(y_test, y_pred)\n",
        "mae = mean_absolute_error(y_test, y_pred)\n",
        "r2 = r2_score(y_test, y_pred)\n",
        "\n",
        "print(f'MSE: {mse:.2f}')\n",
        "print(f'MAE: {mae:.2f}')\n",
        "print(f'R²: {r2:.2f}')\n"
      ],
      "metadata": {
        "colab": {
          "base_uri": "https://localhost:8080/"
        },
        "id": "fDzCrFk1UOka",
        "outputId": "5493ac8e-c93e-4829-8931-67f261f2f3bc"
      },
      "execution_count": null,
      "outputs": [
        {
          "output_type": "stream",
          "name": "stdout",
          "text": [
            "3/3 [==============================] - 0s 5ms/step\n",
            "MSE: 12.46\n",
            "MAE: 1.55\n",
            "R²: 0.69\n"
          ]
        }
      ]
    },
    {
      "cell_type": "markdown",
      "source": [
        "###Visualizing Results\n",
        "**Visualizing Training History:**\n",
        "\n",
        "- It's important to visualize the training and validation loss over epochs to understand if the model is overfitting or underfitting."
      ],
      "metadata": {
        "id": "ekSZTdHfU41W"
      }
    },
    {
      "cell_type": "code",
      "source": [
        "import matplotlib.pyplot as plt\n",
        "\n",
        "# Plot training & validation loss values\n",
        "plt.figure(figsize=(12, 6))\n",
        "plt.plot(history.history['loss'], label='Train Loss')\n",
        "plt.plot(history.history['val_loss'], label='Validation Loss')\n",
        "plt.title('Model Loss')\n",
        "plt.xlabel('Epochs')\n",
        "plt.ylabel('Loss')\n",
        "plt.legend(loc='upper right')\n",
        "plt.show()\n"
      ],
      "metadata": {
        "colab": {
          "base_uri": "https://localhost:8080/",
          "height": 564
        },
        "id": "R3XjiUFZUuNC",
        "outputId": "a8573002-d392-4b26-d9e0-0c94e970dbbe"
      },
      "execution_count": null,
      "outputs": [
        {
          "output_type": "display_data",
          "data": {
            "text/plain": [
              "<Figure size 1200x600 with 1 Axes>"
            ],
            "image/png": "[encoded data removed]"
          },
          "metadata": {}
        }
      ]
    },
    {
      "cell_type": "markdown",
      "source": [
        "**Visualizing Predictions:**\n",
        "Plot the predicted vs actual values to visually assess the model's performance."
      ],
      "metadata": {
        "id": "yBRX1GyEVBYe"
      }
    },
    {
      "cell_type": "code",
      "source": [
        "# Scatter plot of predicted vs actual values\n",
        "plt.figure(figsize=(12, 6))\n",
        "plt.scatter(y_test, y_pred)\n",
        "plt.xlabel('Actual Values')\n",
        "plt.ylabel('Predicted Values')\n",
        "plt.title('Actual vs Predicted Values')\n",
        "plt.show()\n"
      ],
      "metadata": {
        "colab": {
          "base_uri": "https://localhost:8080/",
          "height": 564
        },
        "id": "3gLmpbTEU8mk",
        "outputId": "afa13c6c-a859-4683-c2c2-1fe06c95ba94"
      },
      "execution_count": null,
      "outputs": [
        {
          "output_type": "display_data",
          "data": {
            "text/plain": [
              "<Figure size 1200x600 with 1 Axes>"
            ],
            "image/png": "[encoded data removed]"
          },
          "metadata": {}
        }
      ]
    },
    {
      "cell_type": "markdown",
      "source": [
        "#**Classification with Artificial Neural Networks (ANNs)**"
      ],
      "metadata": {
        "id": "XJpl9Fd4Xsl0"
      }
    },
    {
      "cell_type": "markdown",
      "source": [
        "**Introduction to Classification with ANN**\n",
        "- Classification is a supervised learning technique used to predict the categorical labels of new observations based on past observations. It involves training a model on a dataset where the input features are known and the output labels are categorical.\n",
        "- The model learns from this data and applies the learned rules to classify new data points into predefined categories.\n",
        "\n",
        "\n"
      ],
      "metadata": {
        "id": "2ITbS1hubAYX"
      }
    },
    {
      "cell_type": "markdown",
      "source": [
        "**Building Blocks of ANN for Classification**\n",
        "\n",
        "**Data Preparation:**\n",
        "- Discuss the importance of data preprocessing (e.g., normalization, handling missing values, encoding categorical variables).\n",
        "- Provide code examples using Python libraries like pandas and scikit-learn for data preprocessing.\n",
        "\n"
      ],
      "metadata": {
        "id": "h4wqlicIk_MS"
      }
    },
    {
      "cell_type": "markdown",
      "source": [
        "###**Dataset**"
      ],
      "metadata": {
        "id": "_KrDrPSPmCOD"
      }
    },
    {
      "cell_type": "markdown",
      "source": [
        "[Download Dataset from here](https://drive.google.com/file/d/1-9mKF6a9w5J1iFMA4teF2CdGQ9O936lg/view?usp=sharing)"
      ],
      "metadata": {
        "id": "Ctcs26WumGMM"
      }
    },
    {
      "cell_type": "markdown",
      "source": [
        "**Description**\n",
        "\n",
        "A clear understanding of the dataset is essential for building an effective classification model. We'll use a common example, the Iris dataset, for this guide. The Iris dataset contains features of iris flowers and the goal is to classify them into three species.\n",
        "\n",
        "\n",
        "**Dataset Details:**\n",
        "- **Features:** Sepal length, Sepal width, Petal length, Petal width\n",
        "- **Target:** Species (Setosa, Versicolor, Virginica)\n",
        "Sample Size: 150 instances"
      ],
      "metadata": {
        "id": "5aR0YulkggXM"
      }
    },
    {
      "cell_type": "markdown",
      "source": [
        "**Import necessary libraries**"
      ],
      "metadata": {
        "id": "2zKlwZVfkFPQ"
      }
    },
    {
      "cell_type": "code",
      "source": [
        "import numpy as np\n",
        "import pandas as pd\n",
        "from sklearn.model_selection import train_test_split\n",
        "from sklearn.preprocessing import StandardScaler\n",
        "from tensorflow.keras.models import Sequential\n",
        "from tensorflow.keras.layers import Dense\n",
        "from tensorflow.keras.optimizers import Adam\n",
        "from tensorflow.keras.utils import to_categorical\n"
      ],
      "metadata": {
        "id": "sqoaItloCvfD"
      },
      "execution_count": null,
      "outputs": []
    },
    {
      "cell_type": "code",
      "source": [
        "import pandas as pd\n",
        "import numpy as np\n",
        "from sklearn.model_selection import train_test_split\n",
        "from sklearn.preprocessing import StandardScaler, LabelEncoder\n",
        "from tensorflow.keras.utils import to_categorical\n",
        "from tensorflow.keras.models import Sequential\n",
        "from tensorflow.keras.layers import Dense\n",
        "\n",
        "# Load data\n",
        "data = pd.read_csv('/content/Iris.csv')\n",
        "\n",
        "# Separate features and target\n",
        "X = data.drop('Species', axis=1).values\n",
        "y = data['Species'].values\n",
        "\n",
        "# Convert labels to numeric values\n",
        "label_encoder = LabelEncoder()\n",
        "y = label_encoder.fit_transform(y)  # Convert string labels to integers\n",
        "\n",
        "# Split data into training and testing sets\n",
        "X_train, X_test, y_train, y_test = train_test_split(X, y, test_size=0.2, random_state=42)\n",
        "\n",
        "# Standardize features (optional but recommended for neural networks)\n",
        "scaler = StandardScaler()\n",
        "X_train = scaler.fit_transform(X_train)\n",
        "X_test = scaler.transform(X_test)\n",
        "\n",
        "# Convert numeric labels to categorical one-hot encoding\n",
        "num_classes = len(np.unique(y))\n",
        "y_train = to_categorical(y_train, num_classes)\n",
        "y_test = to_categorical(y_test, num_classes)\n",
        "\n",
        "# Build the ANN model\n",
        "model = Sequential()\n",
        "model.add(Dense(10, input_dim=X_train.shape[1], activation='relu'))  # Input layer\n",
        "model.add(Dense(8, activation='relu'))               # Hidden layer\n",
        "model.add(Dense(num_classes, activation='softmax'))  # Output layer\n"
      ],
      "metadata": {
        "colab": {
          "base_uri": "https://localhost:8080/"
        },
        "id": "6A1AWMknDIo8",
        "outputId": "7cb95a5a-d264-439f-e0a5-adc73972e9da"
      },
      "execution_count": null,
      "outputs": [
        {
          "output_type": "stream",
          "name": "stderr",
          "text": [
            "/usr/local/lib/python3.10/dist-packages/keras/src/layers/core/dense.py:87: UserWarning: Do not pass an `input_shape`/`input_dim` argument to a layer. When using Sequential models, prefer using an `Input(shape)` object as the first layer in the model instead.\n",
            "  super().__init__(activity_regularizer=activity_regularizer, **kwargs)\n"
          ]
        }
      ]
    },
    {
      "cell_type": "markdown",
      "source": [
        "###**Architecture of the ANN**\n",
        "\n",
        "**Defining the Model Architecture:**\n",
        "- The architecture of an ANN consists of an input layer, one or more hidden layers, and an output layer. For the Iris dataset, a simple architecture might include:\n",
        "\n",
        "- **Input Layer:** Number of neurons equal to the number of features.\n",
        "- **Hidden Layers:** Two hidden layers with 64 and 32 neurons, respectively, using ReLU activation.\n",
        "- **Output Layer:** Three neurons with softmax activation for multi-class classification."
      ],
      "metadata": {
        "id": "FizQ9P4oih5L"
      }
    },
    {
      "cell_type": "code",
      "source": [
        "# Define the model architecture\n",
        "model = Sequential([\n",
        "    Dense(64, input_dim=X_train.shape[1], activation='relu'),\n",
        "    Dense(32, activation='relu'),\n",
        "    Dense(num_classes, activation='softmax')  # 3 output classes for Iris dataset\n",
        "])\n"
      ],
      "metadata": {
        "id": "rDrV_Ottidyc",
        "colab": {
          "base_uri": "https://localhost:8080/"
        },
        "outputId": "9707c2ae-bb55-4c1b-cb68-10da951ae191"
      },
      "execution_count": null,
      "outputs": [
        {
          "output_type": "stream",
          "name": "stderr",
          "text": [
            "/usr/local/lib/python3.10/dist-packages/keras/src/layers/core/dense.py:87: UserWarning: Do not pass an `input_shape`/`input_dim` argument to a layer. When using Sequential models, prefer using an `Input(shape)` object as the first layer in the model instead.\n",
            "  super().__init__(activity_regularizer=activity_regularizer, **kwargs)\n"
          ]
        }
      ]
    },
    {
      "cell_type": "markdown",
      "source": [
        "###**Compiling the ANN Model**\n",
        "**Compiling the Model:**\n",
        "- Compiling involves specifying the optimizer, loss function, and metrics. For classification, we'll use categorical cross-entropy loss and the Adam optimizer."
      ],
      "metadata": {
        "id": "sxTuvRAPi7DJ"
      }
    },
    {
      "cell_type": "code",
      "source": [
        "# Compile the model\n",
        "model.compile(loss='categorical_crossentropy',\n",
        "              optimizer='adam',\n",
        "              metrics=['accuracy'])\n"
      ],
      "metadata": {
        "id": "l1f4S2g2i3Wh"
      },
      "execution_count": null,
      "outputs": []
    },
    {
      "cell_type": "markdown",
      "source": [
        "###**Training the ANN Model**\n",
        "**Training the Model:**\n",
        "- Training the model involves feeding the training data into the model, specifying the number of epochs and batch size, and optionally using a validation set."
      ],
      "metadata": {
        "id": "3m3kayYhjF8k"
      }
    },
    {
      "cell_type": "code",
      "source": [
        "# Train the model\n",
        "history = model.fit(X_train, y_train,\n",
        "                    epochs=50,\n",
        "                    batch_size=10,\n",
        "                    validation_data=(X_test, y_test))"
      ],
      "metadata": {
        "colab": {
          "base_uri": "https://localhost:8080/"
        },
        "id": "BDSJ9QKdjBra",
        "outputId": "ba4ff59b-a67e-47cf-a1ce-b2c9ed6269ff"
      },
      "execution_count": null,
      "outputs": [
        {
          "output_type": "stream",
          "name": "stdout",
          "text": [
            "Epoch 1/50\n",
            "\u001b[1m12/12\u001b[0m \u001b[32m━━━━━━━━━━━━━━━━━━━━\u001b[0m\u001b[37m\u001b[0m \u001b[1m2s\u001b[0m 33ms/step - accuracy: 0.2293 - loss: 1.1180 - val_accuracy: 0.3667 - val_loss: 1.0768\n",
            "Epoch 2/50\n",
            "\u001b[1m12/12\u001b[0m \u001b[32m━━━━━━━━━━━━━━━━━━━━\u001b[0m\u001b[37m\u001b[0m \u001b[1m0s\u001b[0m 7ms/step - accuracy: 0.3128 - loss: 1.0783 - val_accuracy: 0.4667 - val_loss: 1.0416\n",
            "Epoch 3/50\n",
            "\u001b[1m12/12\u001b[0m \u001b[32m━━━━━━━━━━━━━━━━━━━━\u001b[0m\u001b[37m\u001b[0m \u001b[1m0s\u001b[0m 8ms/step - accuracy: 0.5788 - loss: 1.0382 - val_accuracy: 0.6333 - val_loss: 1.0061\n",
            "Epoch 4/50\n",
            "\u001b[1m12/12\u001b[0m \u001b[32m━━━━━━━━━━━━━━━━━━━━\u001b[0m\u001b[37m\u001b[0m \u001b[1m0s\u001b[0m 8ms/step - accuracy: 0.6206 - loss: 0.9948 - val_accuracy: 0.8333 - val_loss: 0.9653\n",
            "Epoch 5/50\n",
            "\u001b[1m12/12\u001b[0m \u001b[32m━━━━━━━━━━━━━━━━━━━━\u001b[0m\u001b[37m\u001b[0m \u001b[1m0s\u001b[0m 8ms/step - accuracy: 0.6785 - loss: 0.9678 - val_accuracy: 0.8667 - val_loss: 0.9236\n",
            "Epoch 6/50\n",
            "\u001b[1m12/12\u001b[0m \u001b[32m━━━━━━━━━━━━━━━━━━━━\u001b[0m\u001b[37m\u001b[0m \u001b[1m0s\u001b[0m 8ms/step - accuracy: 0.7699 - loss: 0.9337 - val_accuracy: 0.8667 - val_loss: 0.8821\n",
            "Epoch 7/50\n",
            "\u001b[1m12/12\u001b[0m \u001b[32m━━━━━━━━━━━━━━━━━━━━\u001b[0m\u001b[37m\u001b[0m \u001b[1m0s\u001b[0m 5ms/step - accuracy: 0.8197 - loss: 0.9133 - val_accuracy: 0.8667 - val_loss: 0.8378\n",
            "Epoch 8/50\n",
            "\u001b[1m12/12\u001b[0m \u001b[32m━━━━━━━━━━━━━━━━━━━━\u001b[0m\u001b[37m\u001b[0m \u001b[1m0s\u001b[0m 6ms/step - accuracy: 0.8040 - loss: 0.8714 - val_accuracy: 0.9000 - val_loss: 0.7912\n",
            "Epoch 9/50\n",
            "\u001b[1m12/12\u001b[0m \u001b[32m━━━━━━━━━━━━━━━━━━━━\u001b[0m\u001b[37m\u001b[0m \u001b[1m0s\u001b[0m 4ms/step - accuracy: 0.8947 - loss: 0.7918 - val_accuracy: 0.9000 - val_loss: 0.7423\n",
            "Epoch 10/50\n",
            "\u001b[1m12/12\u001b[0m \u001b[32m━━━━━━━━━━━━━━━━━━━━\u001b[0m\u001b[37m\u001b[0m \u001b[1m0s\u001b[0m 5ms/step - accuracy: 0.9121 - loss: 0.7987 - val_accuracy: 0.9333 - val_loss: 0.6948\n",
            "Epoch 11/50\n",
            "\u001b[1m12/12\u001b[0m \u001b[32m━━━━━━━━━━━━━━━━━━━━\u001b[0m\u001b[37m\u001b[0m \u001b[1m0s\u001b[0m 5ms/step - accuracy: 0.8998 - loss: 0.7113 - val_accuracy: 0.9333 - val_loss: 0.6465\n",
            "Epoch 12/50\n",
            "\u001b[1m12/12\u001b[0m \u001b[32m━━━━━━━━━━━━━━━━━━━━\u001b[0m\u001b[37m\u001b[0m \u001b[1m0s\u001b[0m 5ms/step - accuracy: 0.8628 - loss: 0.6648 - val_accuracy: 0.9333 - val_loss: 0.6008\n",
            "Epoch 13/50\n",
            "\u001b[1m12/12\u001b[0m \u001b[32m━━━━━━━━━━━━━━━━━━━━\u001b[0m\u001b[37m\u001b[0m \u001b[1m0s\u001b[0m 5ms/step - accuracy: 0.8852 - loss: 0.6230 - val_accuracy: 0.9333 - val_loss: 0.5524\n",
            "Epoch 14/50\n",
            "\u001b[1m12/12\u001b[0m \u001b[32m━━━━━━━━━━━━━━━━━━━━\u001b[0m\u001b[37m\u001b[0m \u001b[1m0s\u001b[0m 5ms/step - accuracy: 0.8949 - loss: 0.5778 - val_accuracy: 0.9667 - val_loss: 0.5060\n",
            "Epoch 15/50\n",
            "\u001b[1m12/12\u001b[0m \u001b[32m━━━━━━━━━━━━━━━━━━━━\u001b[0m\u001b[37m\u001b[0m \u001b[1m0s\u001b[0m 6ms/step - accuracy: 0.8986 - loss: 0.5435 - val_accuracy: 0.9667 - val_loss: 0.4620\n",
            "Epoch 16/50\n",
            "\u001b[1m12/12\u001b[0m \u001b[32m━━━━━━━━━━━━━━━━━━━━\u001b[0m\u001b[37m\u001b[0m \u001b[1m0s\u001b[0m 4ms/step - accuracy: 0.8743 - loss: 0.5382 - val_accuracy: 1.0000 - val_loss: 0.4224\n",
            "Epoch 17/50\n",
            "\u001b[1m12/12\u001b[0m \u001b[32m━━━━━━━━━━━━━━━━━━━━\u001b[0m\u001b[37m\u001b[0m \u001b[1m0s\u001b[0m 4ms/step - accuracy: 0.8958 - loss: 0.4317 - val_accuracy: 1.0000 - val_loss: 0.3847\n",
            "Epoch 18/50\n",
            "\u001b[1m12/12\u001b[0m \u001b[32m━━━━━━━━━━━━━━━━━━━━\u001b[0m\u001b[37m\u001b[0m \u001b[1m0s\u001b[0m 4ms/step - accuracy: 0.9047 - loss: 0.4268 - val_accuracy: 1.0000 - val_loss: 0.3524\n",
            "Epoch 19/50\n",
            "\u001b[1m12/12\u001b[0m \u001b[32m━━━━━━━━━━━━━━━━━━━━\u001b[0m\u001b[37m\u001b[0m \u001b[1m0s\u001b[0m 4ms/step - accuracy: 0.9144 - loss: 0.4366 - val_accuracy: 1.0000 - val_loss: 0.3232\n",
            "Epoch 20/50\n",
            "\u001b[1m12/12\u001b[0m \u001b[32m━━━━━━━━━━━━━━━━━━━━\u001b[0m\u001b[37m\u001b[0m \u001b[1m0s\u001b[0m 4ms/step - accuracy: 0.9348 - loss: 0.3600 - val_accuracy: 1.0000 - val_loss: 0.2955\n",
            "Epoch 21/50\n",
            "\u001b[1m12/12\u001b[0m \u001b[32m━━━━━━━━━━━━━━━━━━━━\u001b[0m\u001b[37m\u001b[0m \u001b[1m0s\u001b[0m 6ms/step - accuracy: 0.8924 - loss: 0.3636 - val_accuracy: 1.0000 - val_loss: 0.2708\n",
            "Epoch 22/50\n",
            "\u001b[1m12/12\u001b[0m \u001b[32m━━━━━━━━━━━━━━━━━━━━\u001b[0m\u001b[37m\u001b[0m \u001b[1m0s\u001b[0m 6ms/step - accuracy: 0.9164 - loss: 0.3478 - val_accuracy: 1.0000 - val_loss: 0.2495\n",
            "Epoch 23/50\n",
            "\u001b[1m12/12\u001b[0m \u001b[32m━━━━━━━━━━━━━━━━━━━━\u001b[0m\u001b[37m\u001b[0m \u001b[1m0s\u001b[0m 5ms/step - accuracy: 0.9217 - loss: 0.3260 - val_accuracy: 1.0000 - val_loss: 0.2295\n",
            "Epoch 24/50\n",
            "\u001b[1m12/12\u001b[0m \u001b[32m━━━━━━━━━━━━━━━━━━━━\u001b[0m\u001b[37m\u001b[0m \u001b[1m0s\u001b[0m 6ms/step - accuracy: 0.8990 - loss: 0.2830 - val_accuracy: 1.0000 - val_loss: 0.2133\n",
            "Epoch 25/50\n",
            "\u001b[1m12/12\u001b[0m \u001b[32m━━━━━━━━━━━━━━━━━━━━\u001b[0m\u001b[37m\u001b[0m \u001b[1m0s\u001b[0m 5ms/step - accuracy: 0.9378 - loss: 0.2424 - val_accuracy: 1.0000 - val_loss: 0.1969\n",
            "Epoch 26/50\n",
            "\u001b[1m12/12\u001b[0m \u001b[32m━━━━━━━━━━━━━━━━━━━━\u001b[0m\u001b[37m\u001b[0m \u001b[1m0s\u001b[0m 4ms/step - accuracy: 0.9335 - loss: 0.2222 - val_accuracy: 1.0000 - val_loss: 0.1821\n",
            "Epoch 27/50\n",
            "\u001b[1m12/12\u001b[0m \u001b[32m━━━━━━━━━━━━━━━━━━━━\u001b[0m\u001b[37m\u001b[0m \u001b[1m0s\u001b[0m 4ms/step - accuracy: 0.9679 - loss: 0.2181 - val_accuracy: 1.0000 - val_loss: 0.1681\n",
            "Epoch 28/50\n",
            "\u001b[1m12/12\u001b[0m \u001b[32m━━━━━━━━━━━━━━━━━━━━\u001b[0m\u001b[37m\u001b[0m \u001b[1m0s\u001b[0m 6ms/step - accuracy: 0.9506 - loss: 0.2322 - val_accuracy: 1.0000 - val_loss: 0.1552\n",
            "Epoch 29/50\n",
            "\u001b[1m12/12\u001b[0m \u001b[32m━━━━━━━━━━━━━━━━━━━━\u001b[0m\u001b[37m\u001b[0m \u001b[1m0s\u001b[0m 6ms/step - accuracy: 0.9297 - loss: 0.2307 - val_accuracy: 1.0000 - val_loss: 0.1445\n",
            "Epoch 30/50\n",
            "\u001b[1m12/12\u001b[0m \u001b[32m━━━━━━━━━━━━━━━━━━━━\u001b[0m\u001b[37m\u001b[0m \u001b[1m0s\u001b[0m 4ms/step - accuracy: 0.9770 - loss: 0.1903 - val_accuracy: 1.0000 - val_loss: 0.1351\n",
            "Epoch 31/50\n",
            "\u001b[1m12/12\u001b[0m \u001b[32m━━━━━━━━━━━━━━━━━━━━\u001b[0m\u001b[37m\u001b[0m \u001b[1m0s\u001b[0m 4ms/step - accuracy: 0.9334 - loss: 0.2143 - val_accuracy: 1.0000 - val_loss: 0.1255\n",
            "Epoch 32/50\n",
            "\u001b[1m12/12\u001b[0m \u001b[32m━━━━━━━━━━━━━━━━━━━━\u001b[0m\u001b[37m\u001b[0m \u001b[1m0s\u001b[0m 4ms/step - accuracy: 0.9340 - loss: 0.1763 - val_accuracy: 1.0000 - val_loss: 0.1161\n",
            "Epoch 33/50\n",
            "\u001b[1m12/12\u001b[0m \u001b[32m━━━━━━━━━━━━━━━━━━━━\u001b[0m\u001b[37m\u001b[0m \u001b[1m0s\u001b[0m 5ms/step - accuracy: 0.9591 - loss: 0.1613 - val_accuracy: 1.0000 - val_loss: 0.1077\n",
            "Epoch 34/50\n",
            "\u001b[1m12/12\u001b[0m \u001b[32m━━━━━━━━━━━━━━━━━━━━\u001b[0m\u001b[37m\u001b[0m \u001b[1m0s\u001b[0m 4ms/step - accuracy: 0.9879 - loss: 0.1787 - val_accuracy: 1.0000 - val_loss: 0.1022\n",
            "Epoch 35/50\n",
            "\u001b[1m12/12\u001b[0m \u001b[32m━━━━━━━━━━━━━━━━━━━━\u001b[0m\u001b[37m\u001b[0m \u001b[1m0s\u001b[0m 4ms/step - accuracy: 0.9687 - loss: 0.1592 - val_accuracy: 1.0000 - val_loss: 0.0945\n",
            "Epoch 36/50\n",
            "\u001b[1m12/12\u001b[0m \u001b[32m━━━━━━━━━━━━━━━━━━━━\u001b[0m\u001b[37m\u001b[0m \u001b[1m0s\u001b[0m 4ms/step - accuracy: 0.9905 - loss: 0.1382 - val_accuracy: 1.0000 - val_loss: 0.0887\n",
            "Epoch 37/50\n",
            "\u001b[1m12/12\u001b[0m \u001b[32m━━━━━━━━━━━━━━━━━━━━\u001b[0m\u001b[37m\u001b[0m \u001b[1m0s\u001b[0m 4ms/step - accuracy: 0.9715 - loss: 0.1475 - val_accuracy: 1.0000 - val_loss: 0.0836\n",
            "Epoch 38/50\n",
            "\u001b[1m12/12\u001b[0m \u001b[32m━━━━━━━━━━━━━━━━━━━━\u001b[0m\u001b[37m\u001b[0m \u001b[1m0s\u001b[0m 5ms/step - accuracy: 0.9605 - loss: 0.1388 - val_accuracy: 1.0000 - val_loss: 0.0776\n",
            "Epoch 39/50\n",
            "\u001b[1m12/12\u001b[0m \u001b[32m━━━━━━━━━━━━━━━━━━━━\u001b[0m\u001b[37m\u001b[0m \u001b[1m0s\u001b[0m 6ms/step - accuracy: 0.9791 - loss: 0.1151 - val_accuracy: 1.0000 - val_loss: 0.0724\n",
            "Epoch 40/50\n",
            "\u001b[1m12/12\u001b[0m \u001b[32m━━━━━━━━━━━━━━━━━━━━\u001b[0m\u001b[37m\u001b[0m \u001b[1m0s\u001b[0m 4ms/step - accuracy: 0.9843 - loss: 0.1164 - val_accuracy: 1.0000 - val_loss: 0.0677\n",
            "Epoch 41/50\n",
            "\u001b[1m12/12\u001b[0m \u001b[32m━━━━━━━━━━━━━━━━━━━━\u001b[0m\u001b[37m\u001b[0m \u001b[1m0s\u001b[0m 4ms/step - accuracy: 0.9702 - loss: 0.1258 - val_accuracy: 1.0000 - val_loss: 0.0647\n",
            "Epoch 42/50\n",
            "\u001b[1m12/12\u001b[0m \u001b[32m━━━━━━━━━━━━━━━━━━━━\u001b[0m\u001b[37m\u001b[0m \u001b[1m0s\u001b[0m 4ms/step - accuracy: 0.9742 - loss: 0.1262 - val_accuracy: 1.0000 - val_loss: 0.0598\n",
            "Epoch 43/50\n",
            "\u001b[1m12/12\u001b[0m \u001b[32m━━━━━━━━━━━━━━━━━━━━\u001b[0m\u001b[37m\u001b[0m \u001b[1m0s\u001b[0m 7ms/step - accuracy: 0.9944 - loss: 0.0886 - val_accuracy: 1.0000 - val_loss: 0.0563\n",
            "Epoch 44/50\n",
            "\u001b[1m12/12\u001b[0m \u001b[32m━━━━━━━━━━━━━━━━━━━━\u001b[0m\u001b[37m\u001b[0m \u001b[1m0s\u001b[0m 7ms/step - accuracy: 0.9918 - loss: 0.0778 - val_accuracy: 1.0000 - val_loss: 0.0529\n",
            "Epoch 45/50\n",
            "\u001b[1m12/12\u001b[0m \u001b[32m━━━━━━━━━━━━━━━━━━━━\u001b[0m\u001b[37m\u001b[0m \u001b[1m0s\u001b[0m 6ms/step - accuracy: 0.9685 - loss: 0.1063 - val_accuracy: 1.0000 - val_loss: 0.0498\n",
            "Epoch 46/50\n",
            "\u001b[1m12/12\u001b[0m \u001b[32m━━━━━━━━━━━━━━━━━━━━\u001b[0m\u001b[37m\u001b[0m \u001b[1m0s\u001b[0m 8ms/step - accuracy: 0.9964 - loss: 0.0772 - val_accuracy: 1.0000 - val_loss: 0.0470\n",
            "Epoch 47/50\n",
            "\u001b[1m12/12\u001b[0m \u001b[32m━━━━━━━━━━━━━━━━━━━━\u001b[0m\u001b[37m\u001b[0m \u001b[1m0s\u001b[0m 8ms/step - accuracy: 0.9980 - loss: 0.1008 - val_accuracy: 1.0000 - val_loss: 0.0435\n",
            "Epoch 48/50\n",
            "\u001b[1m12/12\u001b[0m \u001b[32m━━━━━━━━━━━━━━━━━━━━\u001b[0m\u001b[37m\u001b[0m \u001b[1m0s\u001b[0m 7ms/step - accuracy: 0.9870 - loss: 0.0774 - val_accuracy: 1.0000 - val_loss: 0.0413\n",
            "Epoch 49/50\n",
            "\u001b[1m12/12\u001b[0m \u001b[32m━━━━━━━━━━━━━━━━━━━━\u001b[0m\u001b[37m\u001b[0m \u001b[1m0s\u001b[0m 7ms/step - accuracy: 1.0000 - loss: 0.0794 - val_accuracy: 1.0000 - val_loss: 0.0385\n",
            "Epoch 50/50\n",
            "\u001b[1m12/12\u001b[0m \u001b[32m━━━━━━━━━━━━━━━━━━━━\u001b[0m\u001b[37m\u001b[0m \u001b[1m0s\u001b[0m 7ms/step - accuracy: 1.0000 - loss: 0.0691 - val_accuracy: 1.0000 - val_loss: 0.0368\n"
          ]
        }
      ]
    },
    {
      "cell_type": "markdown",
      "source": [
        "###**Evaluation of the ANN Model**\n",
        "**Evaluating the Model:**\n",
        "- After training, evaluate the model on the test set to measure its performance."
      ],
      "metadata": {
        "id": "bPEeVU9xjaJc"
      }
    },
    {
      "cell_type": "code",
      "source": [
        "# Evaluate the model\n",
        "loss, accuracy = model.evaluate(X_test, y_test)\n",
        "print(f'Test Loss: {loss}')\n",
        "print(f'Test Accuracy: {accuracy}')"
      ],
      "metadata": {
        "colab": {
          "base_uri": "https://localhost:8080/"
        },
        "id": "04U7rRCDjSPR",
        "outputId": "447d28eb-93ae-4d82-8748-89789b05874e"
      },
      "execution_count": null,
      "outputs": [
        {
          "output_type": "stream",
          "name": "stdout",
          "text": [
            "\u001b[1m1/1\u001b[0m \u001b[32m━━━━━━━━━━━━━━━━━━━━\u001b[0m\u001b[37m\u001b[0m \u001b[1m0s\u001b[0m 260ms/step - accuracy: 1.0000 - loss: 0.0368\n",
            "Test Loss: 0.03679357469081879\n",
            "Test Accuracy: 1.0\n"
          ]
        }
      ]
    },
    {
      "cell_type": "markdown",
      "source": [
        "- The high test accuracy obtained initially indicates overfitting, likely due to the simplicity and small size of the Iris dataset combined with a relatively complex model.\n",
        "- By simplifying the model, incorporating dropout layers, and using early stopping, you can mitigate overfitting and build a more robust classification model that generalizes better to unseen data."
      ],
      "metadata": {
        "id": "x3DP_EvIzvHn"
      }
    },
    {
      "cell_type": "markdown",
      "source": [
        "###**Visualizing Results**\n",
        "**Learning Curves:**\n",
        "- Plot training and validation accuracy to visualize model performance over epochs."
      ],
      "metadata": {
        "id": "r0Jzz5aNjyOr"
      }
    },
    {
      "cell_type": "code",
      "source": [
        "# Visualize training history\n",
        "import matplotlib.pyplot as plt\n",
        "\n",
        "plt.plot(history.history['accuracy'])\n",
        "plt.plot(history.history['val_accuracy'])\n",
        "plt.title('Model accuracy')\n",
        "plt.xlabel('Epoch')\n",
        "plt.ylabel('Accuracy')\n",
        "plt.legend(['Train', 'Test'], loc='upper left')\n",
        "plt.show()"
      ],
      "metadata": {
        "colab": {
          "base_uri": "https://localhost:8080/",
          "height": 472
        },
        "id": "0fPAACv7jqGD",
        "outputId": "967f631d-6396-4152-c441-bf5543535019"
      },
      "execution_count": null,
      "outputs": [
        {
          "output_type": "display_data",
          "data": {
            "text/plain": [
              "<Figure size 640x480 with 1 Axes>"
            ],
            "image/png": "[encoded data removed]"
          },
          "metadata": {}
        }
      ]
    },
    {
      "cell_type": "markdown",
      "source": [
        "# Batch Normalization in Artificial Neural Networks"
      ],
      "metadata": {
        "id": "tk1fXwK-P9H5"
      }
    },
    {
      "cell_type": "markdown",
      "source": [
        "Batch normalization is a technique to improve the training of deep neural networks. It normalizes the inputs of each layer, maintaining the mean output close to 0 and the output standard deviation close to 1. This helps in stabilizing the learning process and dramatically reducing the number of training epochs required to train deep networks."
      ],
      "metadata": {
        "id": "09jbRo7XQK_G"
      }
    },
    {
      "cell_type": "markdown",
      "source": [
        "**Objectives**\n",
        "- Understand the concept and benefits of batch normalization.\n",
        "- Implement batch normalization in an Artificial Neural Network (ANN) using a real-world dataset.\n",
        "- Analyze the impact of batch normalization on the model's performance.\n",
        "\n",
        "\n",
        "**Why Batch Normalization?**\n",
        "- **Accelerates Training:** By normalizing the inputs of each layer, the training process becomes faster.\n",
        "- **Improves Stability:** Helps in reducing internal covariate shift, making the network more stable during training.\n",
        "- **Allows Higher Learning Rates:** Enables the use of higher learning rates, which speeds up the training process.\n",
        "- **Acts as a Regularizer:** Provides regularization, reducing the need for other regularization techniques like dropout.\n"
      ],
      "metadata": {
        "id": "eZX4DMkGQVEr"
      }
    },
    {
      "cell_type": "markdown",
      "source": [
        "**Key Concepts:**\n",
        "- **Internal Covariate Shift:** The change in the distribution of network activations due to the change in network parameters during training.\n",
        "Normalization: Batch normalization normalizes the input of each layer to have zero mean and unit variance.\n",
        "- **Learnable Parameters:** It includes two learnable parameters, scale (gamma) and shift (beta), which allow the model to undo the normalization if necessary.\n",
        "\n",
        "**Benefits:**\n",
        "- Faster training\n",
        "- Higher learning rates\n",
        "- Reduced sensitivity to initialization\n",
        "- Regularization effect\n",
        "\n",
        "\n",
        "\n"
      ],
      "metadata": {
        "id": "oCHNb9_mRKCv"
      }
    },
    {
      "cell_type": "markdown",
      "source": [
        "###Dataset"
      ],
      "metadata": {
        "id": "njHSHECrRfDP"
      }
    },
    {
      "cell_type": "markdown",
      "source": [
        "[Download Dataset From Here](https://drive.google.com/file/d/1Dig6qUp7j5MivnT9Soiq0X0p34TmdOEE/view?usp=sharing)"
      ],
      "metadata": {
        "id": "Hp61aXIyS8oA"
      }
    },
    {
      "cell_type": "markdown",
      "source": [
        "**Overview:**\n",
        "- The housing dataset contains various attributes of houses and their prices. It is commonly used for regression tasks where the goal is to predict the price of a house based on its features.\n",
        "\n",
        "\n",
        "Features:\n",
        "- **CRIM:** Per capita crime rate by town\n",
        "- **ZN:** Proportion of residential land zoned for lots over 25,000 sq. ft.\n",
        "- **INDUS:** Proportion of non-retail business acres per town\n",
        "- **CHAS:** Charles River dummy variable (1 if tract bounds river; 0 otherwise)\n",
        "- **NOX:** Nitric oxide concentration (parts per 10 million)\n",
        "- **RM:** Average number of rooms per dwelling\n",
        "- **AGE:** Proportion of owner-occupied units built before 1940\n",
        "- **DIS:** Weighted distances to five Boston employment centers\n",
        "- **RAD:** Index of accessibility to radial highways\n",
        "- **TAX:** Full-value property tax rate per ${$10,000}$\n",
        "- **PTRATIO:** Pupil-teacher ratio by town\n",
        "- **B:** 1000(Bk - 0.63)^2 where Bk is the proportion of Black residents by town\n",
        "- **LSTAT:** Percentage of lower status of the population\n",
        "- **MEDV:** Median value of owner-occupied homes in $1000s (target variable)"
      ],
      "metadata": {
        "id": "Dbh9IY0YRhmA"
      }
    },
    {
      "cell_type": "markdown",
      "source": [
        "###**Building the ANN Model with Batch Normalization**\n",
        "\n",
        "**Data Preprocessing:**\n",
        "\n",
        "- **Normalization:** Scale the input features using StandardScaler to ensure that they have zero mean and unit variance.\n",
        "- **Train-Test Split:** Split the dataset into training and testing sets, typically with a ratio of 80:20.\n"
      ],
      "metadata": {
        "id": "j3PO1hlMSc50"
      }
    },
    {
      "cell_type": "markdown",
      "source": [
        "**Model Architecture:**"
      ],
      "metadata": {
        "id": "Kg2L7ZaESn8T"
      }
    },
    {
      "cell_type": "code",
      "source": [
        "import pandas as pd\n",
        "\n",
        "# Load the dataset\n",
        "data = pd.read_csv('/content/HousingData.csv')\n",
        "\n",
        "# Check for missing values\n",
        "print(\"Checking for missing values in each column:\")\n",
        "print(data.isnull().sum())\n"
      ],
      "metadata": {
        "colab": {
          "base_uri": "https://localhost:8080/"
        },
        "id": "eSB9ZUlOSpHH",
        "outputId": "8db7e035-4633-4af8-e07c-77f0d7573cee"
      },
      "execution_count": null,
      "outputs": [
        {
          "output_type": "stream",
          "name": "stdout",
          "text": [
            "Checking for missing values in each column:\n",
            "CRIM       20\n",
            "ZN         20\n",
            "INDUS      20\n",
            "CHAS       20\n",
            "NOX         0\n",
            "RM          0\n",
            "AGE        20\n",
            "DIS         0\n",
            "RAD         0\n",
            "TAX         0\n",
            "PTRATIO     0\n",
            "B           0\n",
            "LSTAT      20\n",
            "MEDV        0\n",
            "dtype: int64\n"
          ]
        }
      ]
    },
    {
      "cell_type": "markdown",
      "source": [
        "- A summary of the number of missing values in each column."
      ],
      "metadata": {
        "id": "mWiI_MwiUZ_v"
      }
    },
    {
      "cell_type": "markdown",
      "source": [
        "**Handling Missing Values**"
      ],
      "metadata": {
        "id": "vIBF8D98UhpW"
      }
    },
    {
      "cell_type": "code",
      "source": [
        "from sklearn.impute import SimpleImputer\n",
        "\n",
        "# Handle missing values by imputing with the mean\n",
        "imputer = SimpleImputer(strategy='mean')\n",
        "data_imputed = pd.DataFrame(imputer.fit_transform(data), columns=data.columns)\n",
        "\n",
        "# Verify that there are no more missing values\n",
        "print(\"Checking for missing values after imputation:\")\n",
        "print(data_imputed.isnull().sum())\n"
      ],
      "metadata": {
        "colab": {
          "base_uri": "https://localhost:8080/"
        },
        "id": "PGHddMnyUjQc",
        "outputId": "9b103c68-13a3-4716-a6e2-fb13ce895e38"
      },
      "execution_count": null,
      "outputs": [
        {
          "output_type": "stream",
          "name": "stdout",
          "text": [
            "Checking for missing values after imputation:\n",
            "CRIM       0\n",
            "ZN         0\n",
            "INDUS      0\n",
            "CHAS       0\n",
            "NOX        0\n",
            "RM         0\n",
            "AGE        0\n",
            "DIS        0\n",
            "RAD        0\n",
            "TAX        0\n",
            "PTRATIO    0\n",
            "B          0\n",
            "LSTAT      0\n",
            "MEDV       0\n",
            "dtype: int64\n"
          ]
        }
      ]
    },
    {
      "cell_type": "markdown",
      "source": [
        "- A summary showing zero missing values in each column after imputation."
      ],
      "metadata": {
        "id": "Cs8dGLXMUoOa"
      }
    },
    {
      "cell_type": "markdown",
      "source": [
        "**Feature Scaling and Train-Test Split**"
      ],
      "metadata": {
        "id": "fd9Rzf-wUqQY"
      }
    },
    {
      "cell_type": "code",
      "source": [
        "from sklearn.preprocessing import StandardScaler\n",
        "from sklearn.model_selection import train_test_split\n",
        "\n",
        "# Split features and target variable\n",
        "X = data_imputed.drop(columns=['MEDV'])\n",
        "y = data_imputed['MEDV']\n",
        "\n",
        "# Scale the features\n",
        "scaler = StandardScaler()\n",
        "X_scaled = scaler.fit_transform(X)\n",
        "\n",
        "# Train-test split\n",
        "X_train, X_test, y_train, y_test = train_test_split(X_scaled, y, test_size=0.2, random_state=42)\n",
        "\n",
        "# Verify the shape of the datasets\n",
        "print(\"Training features shape:\", X_train.shape)\n",
        "print(\"Testing features shape:\", X_test.shape)\n",
        "print(\"Training labels shape:\", y_train.shape)\n",
        "print(\"Testing labels shape:\", y_test.shape)\n"
      ],
      "metadata": {
        "colab": {
          "base_uri": "https://localhost:8080/"
        },
        "id": "-ZNeRVnOUqrc",
        "outputId": "80c5b438-4a04-42fe-8e0a-7a1ad68ef91d"
      },
      "execution_count": null,
      "outputs": [
        {
          "output_type": "stream",
          "name": "stdout",
          "text": [
            "Training features shape: (404, 13)\n",
            "Testing features shape: (102, 13)\n",
            "Training labels shape: (404,)\n",
            "Testing labels shape: (102,)\n"
          ]
        }
      ]
    },
    {
      "cell_type": "markdown",
      "source": [
        "- The shapes of the training and testing datasets."
      ],
      "metadata": {
        "id": "9TAis4CmUz3c"
      }
    },
    {
      "cell_type": "markdown",
      "source": [
        "**Model Definition and Compilation**"
      ],
      "metadata": {
        "id": "rTggGVoYU4f2"
      }
    },
    {
      "cell_type": "code",
      "source": [
        "from tensorflow.keras.models import Sequential\n",
        "from tensorflow.keras.layers import Dense, BatchNormalization, Activation\n",
        "\n",
        "# Define the model\n",
        "model = Sequential([\n",
        "    Dense(64, input_shape=(X_train.shape[1],)),\n",
        "    BatchNormalization(),\n",
        "    Activation('relu'),\n",
        "    Dense(64),\n",
        "    BatchNormalization(),\n",
        "    Activation('relu'),\n",
        "    Dense(1)\n",
        "])\n",
        "\n",
        "# Compile the model\n",
        "model.compile(optimizer='adam', loss='mean_squared_error')\n",
        "\n",
        "# Print the model summary\n",
        "model.summary()\n"
      ],
      "metadata": {
        "colab": {
          "base_uri": "https://localhost:8080/"
        },
        "id": "77RZ03dDU5kC",
        "outputId": "8074abeb-e293-4241-eeb9-5fcfc3ad50ee"
      },
      "execution_count": null,
      "outputs": [
        {
          "output_type": "stream",
          "name": "stdout",
          "text": [
            "Model: \"sequential_1\"\n",
            "_________________________________________________________________\n",
            " Layer (type)                Output Shape              Param #   \n",
            "=================================================================\n",
            " dense_3 (Dense)             (None, 64)                896       \n",
            "                                                                 \n",
            " batch_normalization_2 (Bat  (None, 64)                256       \n",
            " chNormalization)                                                \n",
            "                                                                 \n",
            " activation_2 (Activation)   (None, 64)                0         \n",
            "                                                                 \n",
            " dense_4 (Dense)             (None, 64)                4160      \n",
            "                                                                 \n",
            " batch_normalization_3 (Bat  (None, 64)                256       \n",
            " chNormalization)                                                \n",
            "                                                                 \n",
            " activation_3 (Activation)   (None, 64)                0         \n",
            "                                                                 \n",
            " dense_5 (Dense)             (None, 1)                 65        \n",
            "                                                                 \n",
            "=================================================================\n",
            "Total params: 5633 (22.00 KB)\n",
            "Trainable params: 5377 (21.00 KB)\n",
            "Non-trainable params: 256 (1.00 KB)\n",
            "_________________________________________________________________\n"
          ]
        }
      ]
    },
    {
      "cell_type": "markdown",
      "source": [
        "- A summary of the model architecture."
      ],
      "metadata": {
        "id": "z7LZ21cRU-5d"
      }
    },
    {
      "cell_type": "markdown",
      "source": [
        "###**Training and Evaluation**\n",
        "\n",
        "**Training Process:**\n",
        "- Train the model using the training dataset.\n",
        "- Monitor the training and validation loss to ensure proper training.\n",
        "\n",
        "**Evaluation Metrics:**\n",
        "- Mean Squared Error (MSE)\n",
        "- Mean Absolute Error (MAE)\n",
        "-R-squared (R²) score"
      ],
      "metadata": {
        "id": "X43yHzhGTNiC"
      }
    },
    {
      "cell_type": "code",
      "source": [
        "# Train the model\n",
        "history = model.fit(X_train, y_train, epochs=100, validation_split=0.2, batch_size=32)\n"
      ],
      "metadata": {
        "colab": {
          "base_uri": "https://localhost:8080/"
        },
        "id": "6cUvkhh-TWRX",
        "outputId": "7370b0ee-0c84-4b66-c77b-1d82be3b8dd4"
      },
      "execution_count": null,
      "outputs": [
        {
          "output_type": "stream",
          "name": "stdout",
          "text": [
            "Epoch 1/100\n",
            "11/11 [==============================] - 3s 34ms/step - loss: 569.1348 - val_loss: 533.6353\n",
            "Epoch 2/100\n",
            "11/11 [==============================] - 0s 7ms/step - loss: 538.0479 - val_loss: 521.5856\n",
            "Epoch 3/100\n",
            "11/11 [==============================] - 0s 7ms/step - loss: 511.5545 - val_loss: 507.0916\n",
            "Epoch 4/100\n",
            "11/11 [==============================] - 0s 5ms/step - loss: 486.4277 - val_loss: 489.5323\n",
            "Epoch 5/100\n",
            "11/11 [==============================] - 0s 5ms/step - loss: 461.9758 - val_loss: 471.6022\n",
            "Epoch 6/100\n",
            "11/11 [==============================] - 0s 7ms/step - loss: 440.1729 - val_loss: 451.4230\n",
            "Epoch 7/100\n",
            "11/11 [==============================] - 0s 5ms/step - loss: 417.9393 - val_loss: 429.2428\n",
            "Epoch 8/100\n",
            "11/11 [==============================] - 0s 7ms/step - loss: 395.8788 - val_loss: 404.3204\n",
            "Epoch 9/100\n",
            "11/11 [==============================] - 0s 7ms/step - loss: 375.8459 - val_loss: 382.8000\n",
            "Epoch 10/100\n",
            "11/11 [==============================] - 0s 8ms/step - loss: 357.7367 - val_loss: 361.2587\n",
            "Epoch 11/100\n",
            "11/11 [==============================] - 0s 7ms/step - loss: 339.7248 - val_loss: 341.5750\n",
            "Epoch 12/100\n",
            "11/11 [==============================] - 0s 6ms/step - loss: 320.5762 - val_loss: 321.1051\n",
            "Epoch 13/100\n",
            "11/11 [==============================] - 0s 5ms/step - loss: 301.4367 - val_loss: 303.2117\n",
            "Epoch 14/100\n",
            "11/11 [==============================] - 0s 7ms/step - loss: 282.8306 - val_loss: 284.3668\n",
            "Epoch 15/100\n",
            "11/11 [==============================] - 0s 6ms/step - loss: 264.6592 - val_loss: 269.3587\n",
            "Epoch 16/100\n",
            "11/11 [==============================] - 0s 7ms/step - loss: 248.3965 - val_loss: 249.9508\n",
            "Epoch 17/100\n",
            "11/11 [==============================] - 0s 7ms/step - loss: 231.7978 - val_loss: 238.2554\n",
            "Epoch 18/100\n",
            "11/11 [==============================] - 0s 7ms/step - loss: 214.8785 - val_loss: 227.2980\n",
            "Epoch 19/100\n",
            "11/11 [==============================] - 0s 5ms/step - loss: 198.1043 - val_loss: 214.5745\n",
            "Epoch 20/100\n",
            "11/11 [==============================] - 0s 5ms/step - loss: 185.0757 - val_loss: 213.9446\n",
            "Epoch 21/100\n",
            "11/11 [==============================] - 0s 5ms/step - loss: 168.5515 - val_loss: 200.6124\n",
            "Epoch 22/100\n",
            "11/11 [==============================] - 0s 7ms/step - loss: 155.5373 - val_loss: 179.5140\n",
            "Epoch 23/100\n",
            "11/11 [==============================] - 0s 8ms/step - loss: 139.1873 - val_loss: 164.4735\n",
            "Epoch 24/100\n",
            "11/11 [==============================] - 0s 8ms/step - loss: 126.9823 - val_loss: 149.8310\n",
            "Epoch 25/100\n",
            "11/11 [==============================] - 0s 7ms/step - loss: 118.8953 - val_loss: 142.3341\n",
            "Epoch 26/100\n",
            "11/11 [==============================] - 0s 7ms/step - loss: 105.2151 - val_loss: 130.2604\n",
            "Epoch 27/100\n",
            "11/11 [==============================] - 0s 7ms/step - loss: 94.2975 - val_loss: 122.9426\n",
            "Epoch 28/100\n",
            "11/11 [==============================] - 0s 7ms/step - loss: 81.5297 - val_loss: 108.2081\n",
            "Epoch 29/100\n",
            "11/11 [==============================] - 0s 6ms/step - loss: 76.0018 - val_loss: 93.3838\n",
            "Epoch 30/100\n",
            "11/11 [==============================] - 0s 5ms/step - loss: 68.0617 - val_loss: 84.2136\n",
            "Epoch 31/100\n",
            "11/11 [==============================] - 0s 7ms/step - loss: 59.9636 - val_loss: 82.6869\n",
            "Epoch 32/100\n",
            "11/11 [==============================] - 0s 7ms/step - loss: 52.2011 - val_loss: 76.3250\n",
            "Epoch 33/100\n",
            "11/11 [==============================] - 0s 5ms/step - loss: 48.2765 - val_loss: 65.9213\n",
            "Epoch 34/100\n",
            "11/11 [==============================] - 0s 7ms/step - loss: 42.1898 - val_loss: 58.3402\n",
            "Epoch 35/100\n",
            "11/11 [==============================] - 0s 7ms/step - loss: 42.5206 - val_loss: 51.6318\n",
            "Epoch 36/100\n",
            "11/11 [==============================] - 0s 9ms/step - loss: 33.7938 - val_loss: 44.9571\n",
            "Epoch 37/100\n",
            "11/11 [==============================] - 0s 6ms/step - loss: 29.1482 - val_loss: 42.2666\n",
            "Epoch 38/100\n",
            "11/11 [==============================] - 0s 5ms/step - loss: 28.2484 - val_loss: 38.0485\n",
            "Epoch 39/100\n",
            "11/11 [==============================] - 0s 7ms/step - loss: 25.1263 - val_loss: 33.9767\n",
            "Epoch 40/100\n",
            "11/11 [==============================] - 0s 5ms/step - loss: 24.5980 - val_loss: 33.4828\n",
            "Epoch 41/100\n",
            "11/11 [==============================] - 0s 7ms/step - loss: 22.0347 - val_loss: 30.8407\n",
            "Epoch 42/100\n",
            "11/11 [==============================] - 0s 7ms/step - loss: 16.7847 - val_loss: 28.4241\n",
            "Epoch 43/100\n",
            "11/11 [==============================] - 0s 5ms/step - loss: 16.0743 - val_loss: 26.7429\n",
            "Epoch 44/100\n",
            "11/11 [==============================] - 0s 7ms/step - loss: 14.8132 - val_loss: 24.0092\n",
            "Epoch 45/100\n",
            "11/11 [==============================] - 0s 7ms/step - loss: 15.9615 - val_loss: 21.4573\n",
            "Epoch 46/100\n",
            "11/11 [==============================] - 0s 7ms/step - loss: 15.0535 - val_loss: 18.3069\n",
            "Epoch 47/100\n",
            "11/11 [==============================] - 0s 7ms/step - loss: 14.1559 - val_loss: 17.9634\n",
            "Epoch 48/100\n",
            "11/11 [==============================] - 0s 7ms/step - loss: 13.2887 - val_loss: 17.6108\n",
            "Epoch 49/100\n",
            "11/11 [==============================] - 0s 8ms/step - loss: 13.8247 - val_loss: 16.7063\n",
            "Epoch 50/100\n",
            "11/11 [==============================] - 0s 7ms/step - loss: 13.4968 - val_loss: 15.0735\n",
            "Epoch 51/100\n",
            "11/11 [==============================] - 0s 6ms/step - loss: 10.7779 - val_loss: 14.6505\n",
            "Epoch 52/100\n",
            "11/11 [==============================] - 0s 5ms/step - loss: 12.0281 - val_loss: 14.1900\n",
            "Epoch 53/100\n",
            "11/11 [==============================] - 0s 7ms/step - loss: 10.2121 - val_loss: 12.9877\n",
            "Epoch 54/100\n",
            "11/11 [==============================] - 0s 6ms/step - loss: 11.3454 - val_loss: 13.4492\n",
            "Epoch 55/100\n",
            "11/11 [==============================] - 0s 6ms/step - loss: 11.8215 - val_loss: 12.9553\n",
            "Epoch 56/100\n",
            "11/11 [==============================] - 0s 5ms/step - loss: 13.6216 - val_loss: 13.0969\n",
            "Epoch 57/100\n",
            "11/11 [==============================] - 0s 7ms/step - loss: 9.7283 - val_loss: 11.7633\n",
            "Epoch 58/100\n",
            "11/11 [==============================] - 0s 6ms/step - loss: 10.0085 - val_loss: 11.3007\n",
            "Epoch 59/100\n",
            "11/11 [==============================] - 0s 7ms/step - loss: 10.3567 - val_loss: 10.8419\n",
            "Epoch 60/100\n",
            "11/11 [==============================] - 0s 5ms/step - loss: 11.7899 - val_loss: 11.7664\n",
            "Epoch 61/100\n",
            "11/11 [==============================] - 0s 8ms/step - loss: 10.8541 - val_loss: 12.1268\n",
            "Epoch 62/100\n",
            "11/11 [==============================] - 0s 7ms/step - loss: 9.2721 - val_loss: 11.0318\n",
            "Epoch 63/100\n",
            "11/11 [==============================] - 0s 9ms/step - loss: 13.5216 - val_loss: 10.5790\n",
            "Epoch 64/100\n",
            "11/11 [==============================] - 0s 5ms/step - loss: 9.8756 - val_loss: 10.3623\n",
            "Epoch 65/100\n",
            "11/11 [==============================] - 0s 5ms/step - loss: 11.3216 - val_loss: 10.9278\n",
            "Epoch 66/100\n",
            "11/11 [==============================] - 0s 5ms/step - loss: 9.1821 - val_loss: 10.9324\n",
            "Epoch 67/100\n",
            "11/11 [==============================] - 0s 5ms/step - loss: 10.0588 - val_loss: 12.1148\n",
            "Epoch 68/100\n",
            "11/11 [==============================] - 0s 8ms/step - loss: 10.8661 - val_loss: 10.6552\n",
            "Epoch 69/100\n",
            "11/11 [==============================] - 0s 7ms/step - loss: 10.5283 - val_loss: 11.0117\n",
            "Epoch 70/100\n",
            "11/11 [==============================] - 0s 6ms/step - loss: 9.6529 - val_loss: 10.5804\n",
            "Epoch 71/100\n",
            "11/11 [==============================] - 0s 6ms/step - loss: 10.8669 - val_loss: 9.8025\n",
            "Epoch 72/100\n",
            "11/11 [==============================] - 0s 7ms/step - loss: 11.4098 - val_loss: 9.5161\n",
            "Epoch 73/100\n",
            "11/11 [==============================] - 0s 5ms/step - loss: 11.0747 - val_loss: 10.7626\n",
            "Epoch 74/100\n",
            "11/11 [==============================] - 0s 6ms/step - loss: 9.0688 - val_loss: 11.3975\n",
            "Epoch 75/100\n",
            "11/11 [==============================] - 0s 7ms/step - loss: 8.7745 - val_loss: 10.8765\n",
            "Epoch 76/100\n",
            "11/11 [==============================] - 0s 9ms/step - loss: 11.5482 - val_loss: 9.2462\n",
            "Epoch 77/100\n",
            "11/11 [==============================] - 0s 7ms/step - loss: 11.2970 - val_loss: 10.4426\n",
            "Epoch 78/100\n",
            "11/11 [==============================] - 0s 7ms/step - loss: 10.1070 - val_loss: 10.7101\n",
            "Epoch 79/100\n",
            "11/11 [==============================] - 0s 6ms/step - loss: 10.2540 - val_loss: 11.8791\n",
            "Epoch 80/100\n",
            "11/11 [==============================] - 0s 5ms/step - loss: 12.4471 - val_loss: 10.1354\n",
            "Epoch 81/100\n",
            "11/11 [==============================] - 0s 7ms/step - loss: 10.3204 - val_loss: 9.2200\n",
            "Epoch 82/100\n",
            "11/11 [==============================] - 0s 5ms/step - loss: 9.3799 - val_loss: 11.2530\n",
            "Epoch 83/100\n",
            "11/11 [==============================] - 0s 6ms/step - loss: 11.8052 - val_loss: 10.3959\n",
            "Epoch 84/100\n",
            "11/11 [==============================] - 0s 6ms/step - loss: 6.9690 - val_loss: 9.0009\n",
            "Epoch 85/100\n",
            "11/11 [==============================] - 0s 10ms/step - loss: 10.5805 - val_loss: 8.9448\n",
            "Epoch 86/100\n",
            "11/11 [==============================] - 0s 9ms/step - loss: 11.1980 - val_loss: 10.4562\n",
            "Epoch 87/100\n",
            "11/11 [==============================] - 0s 12ms/step - loss: 9.5687 - val_loss: 9.6237\n",
            "Epoch 88/100\n",
            "11/11 [==============================] - 0s 10ms/step - loss: 10.0439 - val_loss: 9.8304\n",
            "Epoch 89/100\n",
            "11/11 [==============================] - 0s 11ms/step - loss: 9.8291 - val_loss: 11.3108\n",
            "Epoch 90/100\n",
            "11/11 [==============================] - 0s 9ms/step - loss: 10.2139 - val_loss: 11.5342\n",
            "Epoch 91/100\n",
            "11/11 [==============================] - 0s 9ms/step - loss: 11.3666 - val_loss: 10.7573\n",
            "Epoch 92/100\n",
            "11/11 [==============================] - 0s 9ms/step - loss: 10.2783 - val_loss: 11.9876\n",
            "Epoch 93/100\n",
            "11/11 [==============================] - 0s 7ms/step - loss: 8.7170 - val_loss: 15.9703\n",
            "Epoch 94/100\n",
            "11/11 [==============================] - 0s 9ms/step - loss: 10.0299 - val_loss: 14.1392\n",
            "Epoch 95/100\n",
            "11/11 [==============================] - 0s 8ms/step - loss: 10.4452 - val_loss: 12.2315\n",
            "Epoch 96/100\n",
            "11/11 [==============================] - 0s 11ms/step - loss: 9.9095 - val_loss: 11.5089\n",
            "Epoch 97/100\n",
            "11/11 [==============================] - 0s 10ms/step - loss: 9.1174 - val_loss: 11.1417\n",
            "Epoch 98/100\n",
            "11/11 [==============================] - 0s 7ms/step - loss: 8.3470 - val_loss: 12.9085\n",
            "Epoch 99/100\n",
            "11/11 [==============================] - 0s 10ms/step - loss: 8.3733 - val_loss: 11.5641\n",
            "Epoch 100/100\n",
            "11/11 [==============================] - 0s 9ms/step - loss: 8.6130 - val_loss: 10.0327\n"
          ]
        }
      ]
    },
    {
      "cell_type": "markdown",
      "source": [
        "- Training and validation loss values for each epoch."
      ],
      "metadata": {
        "id": "wZoUVMKBVJaY"
      }
    },
    {
      "cell_type": "code",
      "source": [
        "# Evaluate the model\n",
        "loss = model.evaluate(X_test, y_test)\n",
        "print(f'Test Loss: {loss}')\n",
        "\n",
        "# Make predictions\n",
        "y_pred = model.predict(X_test)\n",
        "\n",
        "# Calculate additional metrics\n",
        "from sklearn.metrics import mean_squared_error, mean_absolute_error, r2_score\n",
        "\n",
        "mse = mean_squared_error(y_test, y_pred)\n",
        "mae = mean_absolute_error(y_test, y_pred)\n",
        "r2 = r2_score(y_test, y_pred)\n",
        "\n",
        "print(f'MSE: {mse}, MAE: {mae}, R²: {r2}')\n"
      ],
      "metadata": {
        "colab": {
          "base_uri": "https://localhost:8080/"
        },
        "id": "ngy_Pp_5TWlR",
        "outputId": "25595383-5cec-4c66-e31b-52613493c847"
      },
      "execution_count": null,
      "outputs": [
        {
          "output_type": "stream",
          "name": "stdout",
          "text": [
            "4/4 [==============================] - 0s 5ms/step - loss: 15.1745\n",
            "Test Loss: 15.174484252929688\n",
            "4/4 [==============================] - 0s 6ms/step\n",
            "MSE: 15.174483338451303, MAE: 2.5017156432656678, R²: 0.7930764964726187\n"
          ]
        }
      ]
    },
    {
      "cell_type": "markdown",
      "source": [
        "- Test loss, MSE, MAE, and R² values."
      ],
      "metadata": {
        "id": "N_z7uTE7VQZP"
      }
    },
    {
      "cell_type": "markdown",
      "source": [
        "###**Visualization of Results**"
      ],
      "metadata": {
        "id": "44OQK8t9VYe8"
      }
    },
    {
      "cell_type": "markdown",
      "source": [
        "**Learning Curves:**\n",
        "- We plot the training and validation loss over epochs to visualize the training process.\n",
        "- This helps us see if the model is overfitting or underfitting.\n",
        "\n",
        "**Predicted vs. Actual:**\n",
        "- We plot the predicted values against the actual values to visually assess the model’s performance.\n",
        "- Ideally, the points should lie close to a 45-degree line indicating accurate predictions.\n"
      ],
      "metadata": {
        "id": "uRyqf3KfWIjB"
      }
    },
    {
      "cell_type": "code",
      "source": [
        "import matplotlib.pyplot as plt\n",
        "\n",
        "# Plot the training and validation loss over epochs\n",
        "plt.plot(history.history['loss'], label='Train Loss')\n",
        "plt.plot(history.history['val_loss'], label='Validation Loss')\n",
        "plt.xlabel('Epochs')\n",
        "plt.ylabel('Loss')\n",
        "plt.legend()\n",
        "plt.title('Training and Validation Loss')\n",
        "plt.show()\n",
        "\n",
        "# Plot predicted vs. actual values\n",
        "plt.scatter(y_test, y_pred)\n",
        "plt.xlabel('Actual Values')\n",
        "plt.ylabel('Predicted Values')\n",
        "plt.title('Actual vs. Predicted Values')\n",
        "plt.show()\n"
      ],
      "metadata": {
        "colab": {
          "base_uri": "https://localhost:8080/",
          "height": 927
        },
        "id": "uSX67TG1VNuu",
        "outputId": "45b833fd-45d6-40c2-dad7-d30d6649a970"
      },
      "execution_count": null,
      "outputs": [
        {
          "output_type": "display_data",
          "data": {
            "text/plain": [
              "<Figure size 640x480 with 1 Axes>"
            ],
            "image/png": "[encoded data removed]"
          },
          "metadata": {}
        },
        {
          "output_type": "display_data",
          "data": {
            "text/plain": [
              "<Figure size 640x480 with 1 Axes>"
            ],
            "image/png": "[encoded data removed]"
          },
          "metadata": {}
        }
      ]
    },
    {
      "cell_type": "markdown",
      "source": [
        "- Plots showing training/validation loss over epochs and predicted vs. actual values, which help in assessing the training process and model performance visually."
      ],
      "metadata": {
        "id": "0HpIu9pvWcrS"
      }
    },
    {
      "cell_type": "markdown",
      "source": [
        "#Artificial Neural Networks (ANNs): Dropout and Loss Functions"
      ],
      "metadata": {
        "id": "CHimor9MYGuf"
      }
    },
    {
      "cell_type": "markdown",
      "source": [
        "###**Understanding Dropout in Neural Networks**\n"
      ],
      "metadata": {
        "id": "9NV7mwRsYd8J"
      }
    },
    {
      "cell_type": "markdown",
      "source": [
        "Dropout is a regularization technique used to prevent overfitting in neural networks by randomly setting a fraction of the neurons to zero during training. This prevents the network from becoming too reliant on any particular neurons and forces it to learn more robust features that generalize better to unseen data."
      ],
      "metadata": {
        "id": "VzVqmIyGYgkJ"
      }
    },
    {
      "cell_type": "markdown",
      "source": [
        "###**Mechanism:**\n",
        "\n",
        "**How Dropout Works:**\n",
        "- During each training iteration, a random subset of neurons is chosen to be \"dropped out\" or set to zero.\n",
        "- This means these neurons do not contribute to the forward pass (output) and do not participate in backpropagation.\n",
        "- The fraction of neurons to drop is determined by a hyperparameter, usually denoted as the dropout rate (e.g., 0.5 means 50% of neurons are dropped out)."
      ],
      "metadata": {
        "id": "XxIYBDCPYkhy"
      }
    },
    {
      "cell_type": "markdown",
      "source": [
        "**Benefits:**\n",
        "\n",
        "- **Improved Generalization:** Dropout helps the model generalize better to new data by reducing overfitting.\n",
        "- **Reduced Overfitting:** By not relying on specific neurons, the network is less likely to memorize the training data.\n",
        "- **Enhanced Model Robustness:** Dropout forces the network to learn redundant representations, making it more robust to variations in the input data."
      ],
      "metadata": {
        "id": "2VaPiLelY0G7"
      }
    },
    {
      "cell_type": "markdown",
      "source": [
        "- **Implementation:**\n",
        "Code Examples Using Frameworks Like TensorFlow/Keras and PyTorch:"
      ],
      "metadata": {
        "id": "Dsn8hJn1Y9ls"
      }
    },
    {
      "cell_type": "markdown",
      "source": [
        "###**Dataset Loading and Preprocessing**\n",
        "- First, we load the housing dataset and preprocess it by handling missing values, scaling features, and splitting the data into training and testing sets."
      ],
      "metadata": {
        "id": "p23b6gbOaImQ"
      }
    },
    {
      "cell_type": "markdown",
      "source": [
        "[Download Dataset From Here](https://drive.google.com/file/d/1Dig6qUp7j5MivnT9Soiq0X0p34TmdOEE/view?usp=sharing)"
      ],
      "metadata": {
        "id": "hNjfWThwcV_K"
      }
    },
    {
      "cell_type": "code",
      "source": [
        "import pandas as pd\n",
        "from sklearn.impute import SimpleImputer\n",
        "from sklearn.preprocessing import StandardScaler\n",
        "from sklearn.model_selection import train_test_split\n",
        "\n",
        "# Load the dataset\n",
        "data = pd.read_csv('/content/HousingData.csv')\n",
        "\n",
        "# Handle missing values\n",
        "imputer = SimpleImputer(strategy='mean')\n",
        "data_imputed = pd.DataFrame(imputer.fit_transform(data), columns=data.columns)\n",
        "\n",
        "# Split features and target variable\n",
        "X = data_imputed.drop(columns=['MEDV'])\n",
        "y = data_imputed['MEDV']\n",
        "\n",
        "# Scale the features\n",
        "scaler = StandardScaler()\n",
        "X_scaled = scaler.fit_transform(X)\n",
        "\n",
        "# Train-test split\n",
        "X_train, X_test, y_train, y_test = train_test_split(X_scaled, y, test_size=0.2, random_state=42)\n"
      ],
      "metadata": {
        "id": "w1GJucQdaNh1"
      },
      "execution_count": null,
      "outputs": []
    },
    {
      "cell_type": "markdown",
      "source": [
        "**Model Definition with Dropout Layers**\n",
        "- Define a neural network model that includes dropout layers to prevent overfitting."
      ],
      "metadata": {
        "id": "T-Y3Em3SacWC"
      }
    },
    {
      "cell_type": "code",
      "source": [
        "from tensorflow.keras.models import Sequential\n",
        "from tensorflow.keras.layers import Dense, Dropout, Activation\n",
        "\n",
        "# Define the model with dropout layers\n",
        "model = Sequential([\n",
        "    Dense(64, input_shape=(X_train.shape[1],)),\n",
        "    Activation('relu'),\n",
        "    Dropout(0.5),\n",
        "    Dense(64),\n",
        "    Activation('relu'),\n",
        "    Dropout(0.5),\n",
        "    Dense(1)  # For regression, single output neuron\n",
        "])\n",
        "\n",
        "# Compile the model\n",
        "model.compile(optimizer='adam', loss='mean_squared_error')\n",
        "\n",
        "# Print the model summary\n",
        "model.summary()\n"
      ],
      "metadata": {
        "colab": {
          "base_uri": "https://localhost:8080/"
        },
        "id": "FWvAk163ai-D",
        "outputId": "be5b4c8c-5b41-4c22-b335-964e9a5ffb8d"
      },
      "execution_count": null,
      "outputs": [
        {
          "output_type": "stream",
          "name": "stdout",
          "text": [
            "Model: \"sequential_2\"\n",
            "_________________________________________________________________\n",
            " Layer (type)                Output Shape              Param #   \n",
            "=================================================================\n",
            " dense_6 (Dense)             (None, 64)                896       \n",
            "                                                                 \n",
            " activation_4 (Activation)   (None, 64)                0         \n",
            "                                                                 \n",
            " dropout (Dropout)           (None, 64)                0         \n",
            "                                                                 \n",
            " dense_7 (Dense)             (None, 64)                4160      \n",
            "                                                                 \n",
            " activation_5 (Activation)   (None, 64)                0         \n",
            "                                                                 \n",
            " dropout_1 (Dropout)         (None, 64)                0         \n",
            "                                                                 \n",
            " dense_8 (Dense)             (None, 1)                 65        \n",
            "                                                                 \n",
            "=================================================================\n",
            "Total params: 5121 (20.00 KB)\n",
            "Trainable params: 5121 (20.00 KB)\n",
            "Non-trainable params: 0 (0.00 Byte)\n",
            "_________________________________________________________________\n"
          ]
        }
      ]
    },
    {
      "cell_type": "markdown",
      "source": [
        "###**Model Training**\n",
        "- Train the neural network model on the training data."
      ],
      "metadata": {
        "id": "Fr2aiRBAamO1"
      }
    },
    {
      "cell_type": "code",
      "source": [
        "# Train the model\n",
        "history = model.fit(X_train, y_train, epochs=100, validation_split=0.2, batch_size=32)\n"
      ],
      "metadata": {
        "colab": {
          "base_uri": "https://localhost:8080/"
        },
        "id": "jbMBqcrOai1o",
        "outputId": "805f8b17-8686-4356-c65b-c5b2f1c3d126"
      },
      "execution_count": null,
      "outputs": [
        {
          "output_type": "stream",
          "name": "stdout",
          "text": [
            "Epoch 1/100\n",
            "11/11 [==============================] - 2s 50ms/step - loss: 599.6768 - val_loss: 524.5751\n",
            "Epoch 2/100\n",
            "11/11 [==============================] - 0s 20ms/step - loss: 554.8402 - val_loss: 484.4423\n",
            "Epoch 3/100\n",
            "11/11 [==============================] - 0s 15ms/step - loss: 511.2788 - val_loss: 436.8463\n",
            "Epoch 4/100\n",
            "11/11 [==============================] - 0s 15ms/step - loss: 456.9050 - val_loss: 379.5091\n",
            "Epoch 5/100\n",
            "11/11 [==============================] - 0s 20ms/step - loss: 400.0733 - val_loss: 312.4283\n",
            "Epoch 6/100\n",
            "11/11 [==============================] - 0s 16ms/step - loss: 313.6824 - val_loss: 236.1446\n",
            "Epoch 7/100\n",
            "11/11 [==============================] - 0s 17ms/step - loss: 245.5427 - val_loss: 160.3790\n",
            "Epoch 8/100\n",
            "11/11 [==============================] - 0s 20ms/step - loss: 186.8587 - val_loss: 101.8148\n",
            "Epoch 9/100\n",
            "11/11 [==============================] - 0s 15ms/step - loss: 136.0645 - val_loss: 68.6263\n",
            "Epoch 10/100\n",
            "11/11 [==============================] - 0s 16ms/step - loss: 110.1615 - val_loss: 51.7507\n",
            "Epoch 11/100\n",
            "11/11 [==============================] - 0s 17ms/step - loss: 93.6591 - val_loss: 42.1423\n",
            "Epoch 12/100\n",
            "11/11 [==============================] - 0s 17ms/step - loss: 94.4196 - val_loss: 35.8817\n",
            "Epoch 13/100\n",
            "11/11 [==============================] - 0s 22ms/step - loss: 71.8260 - val_loss: 32.7628\n",
            "Epoch 14/100\n",
            "11/11 [==============================] - 0s 15ms/step - loss: 75.8708 - val_loss: 32.1890\n",
            "Epoch 15/100\n",
            "11/11 [==============================] - 0s 19ms/step - loss: 65.4270 - val_loss: 30.1787\n",
            "Epoch 16/100\n",
            "11/11 [==============================] - 0s 19ms/step - loss: 66.9224 - val_loss: 27.8303\n",
            "Epoch 17/100\n",
            "11/11 [==============================] - 0s 15ms/step - loss: 73.6320 - val_loss: 27.8615\n",
            "Epoch 18/100\n",
            "11/11 [==============================] - 0s 39ms/step - loss: 69.8162 - val_loss: 27.2302\n",
            "Epoch 19/100\n",
            "11/11 [==============================] - 0s 47ms/step - loss: 62.3271 - val_loss: 26.3712\n",
            "Epoch 20/100\n",
            "11/11 [==============================] - 0s 29ms/step - loss: 61.1997 - val_loss: 25.5166\n",
            "Epoch 21/100\n",
            "11/11 [==============================] - 0s 21ms/step - loss: 58.3233 - val_loss: 25.3030\n",
            "Epoch 22/100\n",
            "11/11 [==============================] - 0s 9ms/step - loss: 51.8691 - val_loss: 25.2702\n",
            "Epoch 23/100\n",
            "11/11 [==============================] - 0s 14ms/step - loss: 57.3607 - val_loss: 24.8026\n",
            "Epoch 24/100\n",
            "11/11 [==============================] - 0s 10ms/step - loss: 60.4552 - val_loss: 24.2840\n",
            "Epoch 25/100\n",
            "11/11 [==============================] - 0s 9ms/step - loss: 53.2169 - val_loss: 24.6083\n",
            "Epoch 26/100\n",
            "11/11 [==============================] - 0s 8ms/step - loss: 49.4686 - val_loss: 25.0455\n",
            "Epoch 27/100\n",
            "11/11 [==============================] - 0s 11ms/step - loss: 61.2191 - val_loss: 25.0021\n",
            "Epoch 28/100\n",
            "11/11 [==============================] - 0s 9ms/step - loss: 48.9225 - val_loss: 25.0284\n",
            "Epoch 29/100\n",
            "11/11 [==============================] - 0s 12ms/step - loss: 53.0688 - val_loss: 24.6018\n",
            "Epoch 30/100\n",
            "11/11 [==============================] - 0s 9ms/step - loss: 56.5057 - val_loss: 23.2614\n",
            "Epoch 31/100\n",
            "11/11 [==============================] - 0s 11ms/step - loss: 51.9436 - val_loss: 22.4198\n",
            "Epoch 32/100\n",
            "11/11 [==============================] - 0s 11ms/step - loss: 52.3193 - val_loss: 21.4458\n",
            "Epoch 33/100\n",
            "11/11 [==============================] - 0s 11ms/step - loss: 55.0694 - val_loss: 22.2752\n",
            "Epoch 34/100\n",
            "11/11 [==============================] - 0s 11ms/step - loss: 60.2053 - val_loss: 22.0660\n",
            "Epoch 35/100\n",
            "11/11 [==============================] - 0s 6ms/step - loss: 53.1172 - val_loss: 22.0076\n",
            "Epoch 36/100\n",
            "11/11 [==============================] - 0s 7ms/step - loss: 52.1978 - val_loss: 22.5009\n",
            "Epoch 37/100\n",
            "11/11 [==============================] - 0s 7ms/step - loss: 43.5862 - val_loss: 21.9940\n",
            "Epoch 38/100\n",
            "11/11 [==============================] - 0s 7ms/step - loss: 52.3900 - val_loss: 21.9701\n",
            "Epoch 39/100\n",
            "11/11 [==============================] - 0s 7ms/step - loss: 49.2133 - val_loss: 21.1167\n",
            "Epoch 40/100\n",
            "11/11 [==============================] - 0s 7ms/step - loss: 46.4007 - val_loss: 20.5606\n",
            "Epoch 41/100\n",
            "11/11 [==============================] - 0s 5ms/step - loss: 47.3351 - val_loss: 20.6552\n",
            "Epoch 42/100\n",
            "11/11 [==============================] - 0s 9ms/step - loss: 44.5406 - val_loss: 20.7491\n",
            "Epoch 43/100\n",
            "11/11 [==============================] - 0s 8ms/step - loss: 48.7967 - val_loss: 20.1854\n",
            "Epoch 44/100\n",
            "11/11 [==============================] - 0s 5ms/step - loss: 47.0918 - val_loss: 21.0666\n",
            "Epoch 45/100\n",
            "11/11 [==============================] - 0s 6ms/step - loss: 46.2034 - val_loss: 21.8071\n",
            "Epoch 46/100\n",
            "11/11 [==============================] - 0s 8ms/step - loss: 47.2476 - val_loss: 21.3115\n",
            "Epoch 47/100\n",
            "11/11 [==============================] - 0s 7ms/step - loss: 45.4094 - val_loss: 20.9502\n",
            "Epoch 48/100\n",
            "11/11 [==============================] - 0s 8ms/step - loss: 41.5490 - val_loss: 21.2891\n",
            "Epoch 49/100\n",
            "11/11 [==============================] - 0s 8ms/step - loss: 51.9939 - val_loss: 21.1749\n",
            "Epoch 50/100\n",
            "11/11 [==============================] - 0s 8ms/step - loss: 44.4837 - val_loss: 21.0764\n",
            "Epoch 51/100\n",
            "11/11 [==============================] - 0s 9ms/step - loss: 42.9823 - val_loss: 21.0465\n",
            "Epoch 52/100\n",
            "11/11 [==============================] - 0s 9ms/step - loss: 51.2396 - val_loss: 20.7265\n",
            "Epoch 53/100\n",
            "11/11 [==============================] - 0s 7ms/step - loss: 41.5050 - val_loss: 20.9611\n",
            "Epoch 54/100\n",
            "11/11 [==============================] - 0s 9ms/step - loss: 51.8341 - val_loss: 20.5682\n",
            "Epoch 55/100\n",
            "11/11 [==============================] - 0s 7ms/step - loss: 41.2619 - val_loss: 20.5173\n",
            "Epoch 56/100\n",
            "11/11 [==============================] - 0s 6ms/step - loss: 41.4744 - val_loss: 20.9603\n",
            "Epoch 57/100\n",
            "11/11 [==============================] - 0s 7ms/step - loss: 38.2417 - val_loss: 21.2624\n",
            "Epoch 58/100\n",
            "11/11 [==============================] - 0s 5ms/step - loss: 43.0524 - val_loss: 21.0445\n",
            "Epoch 59/100\n",
            "11/11 [==============================] - 0s 5ms/step - loss: 43.9918 - val_loss: 20.4716\n",
            "Epoch 60/100\n",
            "11/11 [==============================] - 0s 5ms/step - loss: 52.2775 - val_loss: 21.7914\n",
            "Epoch 61/100\n",
            "11/11 [==============================] - 0s 5ms/step - loss: 48.5920 - val_loss: 21.5840\n",
            "Epoch 62/100\n",
            "11/11 [==============================] - 0s 7ms/step - loss: 43.0232 - val_loss: 20.7387\n",
            "Epoch 63/100\n",
            "11/11 [==============================] - 0s 7ms/step - loss: 44.4960 - val_loss: 19.7036\n",
            "Epoch 64/100\n",
            "11/11 [==============================] - 0s 6ms/step - loss: 42.6698 - val_loss: 19.8397\n",
            "Epoch 65/100\n",
            "11/11 [==============================] - 0s 5ms/step - loss: 46.7065 - val_loss: 20.4103\n",
            "Epoch 66/100\n",
            "11/11 [==============================] - 0s 5ms/step - loss: 46.0027 - val_loss: 20.5240\n",
            "Epoch 67/100\n",
            "11/11 [==============================] - 0s 7ms/step - loss: 49.6529 - val_loss: 21.3569\n",
            "Epoch 68/100\n",
            "11/11 [==============================] - 0s 6ms/step - loss: 46.9129 - val_loss: 21.3921\n",
            "Epoch 69/100\n",
            "11/11 [==============================] - 0s 9ms/step - loss: 47.8817 - val_loss: 21.0487\n",
            "Epoch 70/100\n",
            "11/11 [==============================] - 0s 5ms/step - loss: 47.5831 - val_loss: 19.9665\n",
            "Epoch 71/100\n",
            "11/11 [==============================] - 0s 5ms/step - loss: 49.1746 - val_loss: 19.0412\n",
            "Epoch 72/100\n",
            "11/11 [==============================] - 0s 6ms/step - loss: 41.2199 - val_loss: 19.6778\n",
            "Epoch 73/100\n",
            "11/11 [==============================] - 0s 7ms/step - loss: 35.6544 - val_loss: 19.0992\n",
            "Epoch 74/100\n",
            "11/11 [==============================] - 0s 6ms/step - loss: 39.3030 - val_loss: 19.3759\n",
            "Epoch 75/100\n",
            "11/11 [==============================] - 0s 7ms/step - loss: 43.1800 - val_loss: 19.5277\n",
            "Epoch 76/100\n",
            "11/11 [==============================] - 0s 5ms/step - loss: 38.3449 - val_loss: 21.4230\n",
            "Epoch 77/100\n",
            "11/11 [==============================] - 0s 5ms/step - loss: 50.2916 - val_loss: 20.7406\n",
            "Epoch 78/100\n",
            "11/11 [==============================] - 0s 7ms/step - loss: 48.1525 - val_loss: 20.1834\n",
            "Epoch 79/100\n",
            "11/11 [==============================] - 0s 5ms/step - loss: 47.9391 - val_loss: 20.6358\n",
            "Epoch 80/100\n",
            "11/11 [==============================] - 0s 7ms/step - loss: 39.6225 - val_loss: 18.9886\n",
            "Epoch 81/100\n",
            "11/11 [==============================] - 0s 7ms/step - loss: 37.9420 - val_loss: 18.4159\n",
            "Epoch 82/100\n",
            "11/11 [==============================] - 0s 8ms/step - loss: 42.8054 - val_loss: 18.6563\n",
            "Epoch 83/100\n",
            "11/11 [==============================] - 0s 8ms/step - loss: 41.5803 - val_loss: 18.7617\n",
            "Epoch 84/100\n",
            "11/11 [==============================] - 0s 6ms/step - loss: 40.1539 - val_loss: 19.1993\n",
            "Epoch 85/100\n",
            "11/11 [==============================] - 0s 7ms/step - loss: 47.1435 - val_loss: 19.0974\n",
            "Epoch 86/100\n",
            "11/11 [==============================] - 0s 7ms/step - loss: 41.5208 - val_loss: 18.7192\n",
            "Epoch 87/100\n",
            "11/11 [==============================] - 0s 6ms/step - loss: 42.1892 - val_loss: 20.4274\n",
            "Epoch 88/100\n",
            "11/11 [==============================] - 0s 8ms/step - loss: 43.8265 - val_loss: 20.0983\n",
            "Epoch 89/100\n",
            "11/11 [==============================] - 0s 7ms/step - loss: 45.2998 - val_loss: 19.3924\n",
            "Epoch 90/100\n",
            "11/11 [==============================] - 0s 6ms/step - loss: 39.8683 - val_loss: 19.4377\n",
            "Epoch 91/100\n",
            "11/11 [==============================] - 0s 8ms/step - loss: 37.9004 - val_loss: 18.9339\n",
            "Epoch 92/100\n",
            "11/11 [==============================] - 0s 8ms/step - loss: 42.0460 - val_loss: 18.2998\n",
            "Epoch 93/100\n",
            "11/11 [==============================] - 0s 7ms/step - loss: 46.0132 - val_loss: 17.6350\n",
            "Epoch 94/100\n",
            "11/11 [==============================] - 0s 8ms/step - loss: 46.4279 - val_loss: 18.1751\n",
            "Epoch 95/100\n",
            "11/11 [==============================] - 0s 5ms/step - loss: 43.5446 - val_loss: 17.9555\n",
            "Epoch 96/100\n",
            "11/11 [==============================] - 0s 8ms/step - loss: 45.0672 - val_loss: 18.3689\n",
            "Epoch 97/100\n",
            "11/11 [==============================] - 0s 6ms/step - loss: 41.2420 - val_loss: 18.4090\n",
            "Epoch 98/100\n",
            "11/11 [==============================] - 0s 7ms/step - loss: 41.7355 - val_loss: 18.1905\n",
            "Epoch 99/100\n",
            "11/11 [==============================] - 0s 5ms/step - loss: 38.0935 - val_loss: 18.3683\n",
            "Epoch 100/100\n",
            "11/11 [==============================] - 0s 6ms/step - loss: 37.1505 - val_loss: 18.1357\n"
          ]
        }
      ]
    },
    {
      "cell_type": "markdown",
      "source": [
        "###**Model Evaluation**\n",
        "- Evaluate the model on the testing data to assess its performance.\n",
        "\n"
      ],
      "metadata": {
        "id": "hvgqfUYUayKk"
      }
    },
    {
      "cell_type": "code",
      "source": [
        "# Evaluate the model\n",
        "loss = model.evaluate(X_test, y_test)\n",
        "print(f'Test Loss: {loss}')\n"
      ],
      "metadata": {
        "colab": {
          "base_uri": "https://localhost:8080/"
        },
        "id": "MEMlJWSbapYi",
        "outputId": "188c06e1-633c-4aec-8ab0-399db4cb35bb"
      },
      "execution_count": null,
      "outputs": [
        {
          "output_type": "stream",
          "name": "stdout",
          "text": [
            "4/4 [==============================] - 0s 5ms/step - loss: 16.1496\n",
            "Test Loss: 16.14959144592285\n"
          ]
        }
      ]
    },
    {
      "cell_type": "markdown",
      "source": [
        "**Making Predictions and Additional Metrics**\n",
        "- Make predictions on the testing data and calculate additional evaluation metrics.\n",
        "\n"
      ],
      "metadata": {
        "id": "nMtv8dXYa-jb"
      }
    },
    {
      "cell_type": "code",
      "source": [
        "# Make predictions\n",
        "y_pred = model.predict(X_test)\n",
        "\n",
        "# Calculate additional metrics\n",
        "from sklearn.metrics import mean_squared_error, mean_absolute_error, r2_score\n",
        "\n",
        "mse = mean_squared_error(y_test, y_pred)\n",
        "mae = mean_absolute_error(y_test, y_pred)\n",
        "r2 = r2_score(y_test, y_pred)\n",
        "\n",
        "print(f'MSE: {mse}, MAE: {mae}, R²: {r2}')\n"
      ],
      "metadata": {
        "colab": {
          "base_uri": "https://localhost:8080/"
        },
        "id": "9-uRp426a17_",
        "outputId": "b5f23c68-024b-4394-eabc-bb8ec0efcbd7"
      },
      "execution_count": null,
      "outputs": [
        {
          "output_type": "stream",
          "name": "stdout",
          "text": [
            "4/4 [==============================] - 0s 6ms/step\n",
            "MSE: 16.14959074989554, MAE: 2.510767206491209, R²: 0.7797796587885127\n"
          ]
        }
      ]
    },
    {
      "cell_type": "markdown",
      "source": [
        "###**Visualization of Training Process**\n",
        "- Visualize the training and validation loss over epochs to understand the model's learning behavior.\n",
        "\n"
      ],
      "metadata": {
        "id": "WMvE3FfhbLEX"
      }
    },
    {
      "cell_type": "code",
      "source": [
        "import matplotlib.pyplot as plt\n",
        "\n",
        "# Plot the training and validation loss over epochs\n",
        "plt.plot(history.history['loss'], label='Train Loss')\n",
        "plt.plot(history.history['val_loss'], label='Validation Loss')\n",
        "plt.xlabel('Epochs')\n",
        "plt.ylabel('Loss')\n",
        "plt.legend()\n",
        "plt.title('Training and Validation Loss')\n",
        "plt.show()\n"
      ],
      "metadata": {
        "colab": {
          "base_uri": "https://localhost:8080/",
          "height": 472
        },
        "id": "n9yiPIFRbDMd",
        "outputId": "489e2849-7639-4cba-c43c-f9d5766610c0"
      },
      "execution_count": null,
      "outputs": [
        {
          "output_type": "display_data",
          "data": {
            "text/plain": [
              "<Figure size 640x480 with 1 Axes>"
            ],
            "image/png": "[encoded data removed]"
          },
          "metadata": {}
        }
      ]
    },
    {
      "cell_type": "markdown",
      "source": [
        "- **Plot loss curves:** Visualize the training and validation loss over epochs to see how the model's performance evolves during training.\n",
        "- **Identify overfitting:** This plot helps identify if and when the model starts overfitting, indicated by a divergence between training and validation loss."
      ],
      "metadata": {
        "id": "YmqoqkFNbf-G"
      }
    }
  ]
}