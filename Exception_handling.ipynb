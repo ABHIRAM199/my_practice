{
  "nbformat": 4,
  "nbformat_minor": 0,
  "metadata": {
    "colab": {
      "provenance": [],
      "authorship_tag": "ABX9TyPmJ5gtYV/GspbZRFg4Asks",
      "include_colab_link": true
    },
    "kernelspec": {
      "name": "python3",
      "display_name": "Python 3"
    },
    "language_info": {
      "name": "python"
    }
  },
  "cells": [
    {
      "cell_type": "markdown",
      "metadata": {
        "id": "view-in-github",
        "colab_type": "text"
      },
      "source": [
        "<a href=\"https://colab.research.google.com/github/ABHIRAM199/my_practice/blob/main/Exception_handling.ipynb\" target=\"_parent\"><img src=\"https://colab.research.google.com/assets/colab-badge.svg\" alt=\"Open In Colab\"/></a>"
      ]
    },
    {
      "cell_type": "code",
      "execution_count": 3,
      "metadata": {
        "colab": {
          "base_uri": "https://localhost:8080/"
        },
        "id": "K-2vcJzupQpy",
        "outputId": "d5bd83d6-aa22-48e3-c0cc-a260a29432cb"
      },
      "outputs": [
        {
          "output_type": "stream",
          "name": "stdout",
          "text": [
            "Enter Numerator: 400\n",
            "Enter denominator: 0\n",
            "denominator can't be zero! try again \n",
            "program ends\n"
          ]
        }
      ],
      "source": [
        "try :\n",
        "  num = int(input(\"Enter Numerator: \"))\n",
        "  den = int(input(\"Enter denominator: \"))\n",
        "  res = num/den\n",
        "  print(res)\n",
        "except ZeroDivisionError:\n",
        "  print(\"denominator can't be zero! try again \")\n",
        "except IndexError:\n",
        "  print(\"Index out of bound\")\n",
        "except ValueError:\n",
        "  print(\"Input must be a number\")\n",
        "except :\n",
        "  print(\"something went wrong! try again\")\n",
        "else:                                          #else will execute only if there is no error in the program\n",
        "  print(\"conditions applied, no error :) \")\n",
        "\n",
        "print(\"program ends\")"
      ]
    }
  ]
}