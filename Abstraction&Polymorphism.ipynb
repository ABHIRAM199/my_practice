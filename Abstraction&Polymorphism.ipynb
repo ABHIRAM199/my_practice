{
  "nbformat": 4,
  "nbformat_minor": 0,
  "metadata": {
    "colab": {
      "provenance": [],
      "authorship_tag": "ABX9TyNVKyJOkXf0stLCTike14vG",
      "include_colab_link": true
    },
    "kernelspec": {
      "name": "python3",
      "display_name": "Python 3"
    },
    "language_info": {
      "name": "python"
    }
  },
  "cells": [
    {
      "cell_type": "markdown",
      "metadata": {
        "id": "view-in-github",
        "colab_type": "text"
      },
      "source": [
        "<a href=\"https://colab.research.google.com/github/ABHIRAM199/my_practice/blob/main/Abstraction%26Polymorphism.ipynb\" target=\"_parent\"><img src=\"https://colab.research.google.com/assets/colab-badge.svg\" alt=\"Open In Colab\"/></a>"
      ]
    },
    {
      "cell_type": "code",
      "execution_count": 1,
      "metadata": {
        "id": "2qEXi4jo6nyw"
      },
      "outputs": [],
      "source": [
        "#Abstraction - hiding the complex implementation details and showing user with simple details\n",
        ""
      ]
    },
    {
      "cell_type": "markdown",
      "source": [
        "**Abstract class**\n",
        "\n",
        "\n",
        "**Interface**\n"
      ],
      "metadata": {
        "id": "g9Bsk8Z27QLs"
      }
    },
    {
      "cell_type": "code",
      "source": [
        "#Abstract Class\n",
        "\n",
        "from abc import ABC, abstractmethod\n",
        "\n",
        "#This abstract method provide all functionalities of vehicles in the world\n",
        "\n",
        "class Vehicle(ABC):\n",
        "  @abstractmethod\n",
        "  def start_engine(self):\n",
        "    pass\n",
        "  @abstractmethod\n",
        "  def stop_engine(self):\n",
        "    pass\n",
        "  @abstractmethod\n",
        "  def accelerate(self):\n",
        "    pass\n",
        "  @abstractmethod\n",
        "  def brake(self):\n",
        "    pass\n",
        "\n"
      ],
      "metadata": {
        "id": "F_hSQ8Gb7C-8"
      },
      "execution_count": 2,
      "outputs": []
    },
    {
      "cell_type": "code",
      "source": [
        "class car(Vehicle):\n",
        "   def start_engine(self):\n",
        "      print(\"Engine starts! \")\n",
        "\n",
        "   def stop_engine(self):\n",
        "     print(\"Engine stops! \")\n",
        "\n",
        "   def accelerate(self):\n",
        "     print(\"car Accelerated! \")\n",
        "\n",
        "   def brake(self):\n",
        "      print(\"Break Applied! \")\n",
        "\n",
        "Bmw= car()\n",
        "Bmw.start_engine()\n",
        "Bmw.accelerate()\n",
        "Bmw.brake()\n",
        "Bmw.stop_engine()"
      ],
      "metadata": {
        "colab": {
          "base_uri": "https://localhost:8080/"
        },
        "id": "YYpZwMtBBhE5",
        "outputId": "ae10f3b6-367f-4642-f013-d6c868792297"
      },
      "execution_count": 7,
      "outputs": [
        {
          "output_type": "stream",
          "name": "stdout",
          "text": [
            "Engine starts! \n",
            "car Accelerated! \n",
            "Break Applied! \n",
            "Engine stops! \n"
          ]
        }
      ]
    },
    {
      "cell_type": "markdown",
      "source": [
        "Subclass must implement all the abstract methods\n"
      ],
      "metadata": {
        "id": "3aThnzZsDADg"
      }
    },
    {
      "cell_type": "code",
      "source": [
        "#Interface\n",
        "\n",
        "from abc import ABC, abstractmethod\n",
        "\n",
        "class SHAPE(ABC):\n",
        "  @abstractmethod\n",
        "  def AREA(self):\n",
        "    pass"
      ],
      "metadata": {
        "id": "4PaeRpHDExXO"
      },
      "execution_count": 10,
      "outputs": []
    },
    {
      "cell_type": "code",
      "source": [
        "class Rectangle:\n",
        "  def __init__(self,width,breadth):\n",
        "    self.width=width\n",
        "    self.breadth=breadth\n",
        "\n",
        "  def AREA(self):\n",
        "    return self.width*self.breadth\n",
        "\n",
        "class Circle:\n",
        "  def __init__(self,radius):\n",
        "    self.radius = radius\n",
        "\n",
        "  def AREA(self):\n",
        "    return 3.14*self.radius*self.radius\n",
        "#Implemented Rectangle,circle without explicitly inheriting interface"
      ],
      "metadata": {
        "id": "T-o2ICktG6Qq"
      },
      "execution_count": 9,
      "outputs": []
    },
    {
      "cell_type": "code",
      "source": [
        "RectABCD=Rectangle(5,7)\n",
        "circ1=Circle(5)\n",
        "\n",
        "print(RectABCD.AREA())\n",
        "print(circ1.AREA())"
      ],
      "metadata": {
        "colab": {
          "base_uri": "https://localhost:8080/"
        },
        "id": "bmgzRpVeIY3o",
        "outputId": "3018fbd1-b6e4-4829-cca3-7fd69ab14de6"
      },
      "execution_count": 14,
      "outputs": [
        {
          "output_type": "stream",
          "name": "stdout",
          "text": [
            "35\n",
            "78.5\n"
          ]
        }
      ]
    },
    {
      "cell_type": "code",
      "source": [
        "#POLYMORPHISM --> MANY SHAPES\n"
      ],
      "metadata": {
        "id": "8kUjlehxKsUK"
      },
      "execution_count": 15,
      "outputs": []
    },
    {
      "cell_type": "code",
      "source": [
        "class BIRDS:\n",
        "  def fly(self):\n",
        "    return \"some birds can fly\"\n",
        "\n",
        "class SPARROW(BIRDS):\n",
        "    def fly(self):\n",
        "      return \"sparrow can fly\"\n",
        "\n",
        "class OSTRICH(BIRDS):\n",
        "  def fly(self):\n",
        "    return \"ostrich can't fly\"\n",
        "\n",
        "sparrow=SPARROW()\n",
        "ostrich = OSTRICH()\n",
        "\n",
        "print(sparrow.fly())\n",
        "print(ostrich.fly())"
      ],
      "metadata": {
        "colab": {
          "base_uri": "https://localhost:8080/"
        },
        "id": "8ekM3pb-K5mJ",
        "outputId": "f08a2efb-3983-46fe-c23f-2feb5c1b4f4b"
      },
      "execution_count": 18,
      "outputs": [
        {
          "output_type": "stream",
          "name": "stdout",
          "text": [
            "sparrow can fly\n",
            "ostrich can't fly\n"
          ]
        }
      ]
    },
    {
      "cell_type": "code",
      "source": [
        "#Method overloading\n",
        "\n",
        "class Calculator:\n",
        "  def add(self,a,b=0,c=0):\n",
        "    return a+b+c\n",
        "\n",
        "calc=Calculator\n",
        "res1=calc.add(2,4)\n",
        "res2=calc.add(2,5,7)"
      ],
      "metadata": {
        "id": "bHofaMgXOIp_"
      },
      "execution_count": 19,
      "outputs": []
    }
  ]
}