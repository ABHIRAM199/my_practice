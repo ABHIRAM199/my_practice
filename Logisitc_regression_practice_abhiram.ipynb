{
  "nbformat": 4,
  "nbformat_minor": 0,
  "metadata": {
    "colab": {
      "provenance": [],
      "authorship_tag": "ABX9TyMRGo9TLRpeGBJ6sG8JjP5S",
      "include_colab_link": true
    },
    "kernelspec": {
      "name": "python3",
      "display_name": "Python 3"
    },
    "language_info": {
      "name": "python"
    }
  },
  "cells": [
    {
      "cell_type": "markdown",
      "metadata": {
        "id": "view-in-github",
        "colab_type": "text"
      },
      "source": [
        "<a href=\"https://colab.research.google.com/github/ABHIRAM199/my_practice/blob/main/Logisitc_regression_practice_abhiram.ipynb\" target=\"_parent\"><img src=\"https://colab.research.google.com/assets/colab-badge.svg\" alt=\"Open In Colab\"/></a>"
      ]
    },
    {
      "cell_type": "markdown",
      "source": [
        "**SIMULATION OF LOGISTIC FUNCTION**"
      ],
      "metadata": {
        "id": "HPjXSYSm9w2O"
      }
    },
    {
      "cell_type": "code",
      "source": [
        "import numpy as np\n",
        "import pandas as pd\n",
        "import matplotlib.pyplot as plt\n",
        "\n",
        "\n",
        "\n"
      ],
      "metadata": {
        "id": "PapNBYpG90tX"
      },
      "execution_count": 33,
      "outputs": []
    },
    {
      "cell_type": "code",
      "source": [
        "def sigmoid(x):\n",
        "  return 1/(1+np.e**-x)\n"
      ],
      "metadata": {
        "id": "S5QXF81j-byR"
      },
      "execution_count": 34,
      "outputs": []
    },
    {
      "cell_type": "code",
      "source": [
        "#Generate data for plotting sigmoid function\n",
        "\n",
        "x = np.linspace(-10,10,100)\n",
        "z = sigmoid(x)\n",
        "\n",
        "#Plot sigmoid function\n",
        "plt.plot(x,z,label =\"sigmoid function\")\n",
        "\n",
        "#Plot a vertical line at zero\n",
        "plt.axvline(x=0,color='r',linestyle='--',label ='vertical line at zero')\n",
        "\n",
        "#labelling the plot\n",
        "plt.xlabel(\"x\")\n",
        "plt.ylabel(\"sigmoid(x)\")\n",
        "plt.legend\n",
        "plt.show()"
      ],
      "metadata": {
        "colab": {
          "base_uri": "https://localhost:8080/",
          "height": 449
        },
        "id": "jklderZf-dYA",
        "outputId": "33763531-3453-42f4-c66a-8833465d34ba"
      },
      "execution_count": 35,
      "outputs": [
        {
          "output_type": "display_data",
          "data": {
            "text/plain": [
              "<Figure size 640x480 with 1 Axes>"
            ],
            "image/png": "[encoded data removed]"
          },
          "metadata": {}
        }
      ]
    },
    {
      "cell_type": "markdown",
      "source": [
        "**Negative Log Likelihood**\n",
        "\n",
        "Negative Log Likelihood = -(Y.log(y_hat) + (1-Y).log(1-Y_hat))\n",
        "\n",
        "\n",
        "*   The negative log likelihood (NLL) is a measure of how well a logistic regression model predicts the probabilities of different classes.\n",
        "*   It's derived from the likelihood function, which represents the probability of observing the given data under the model.\n",
        "\n",
        "\n",
        "*   The NLL is the negative of the log likelihood, and it's used as the cost function to be minimized during the training of the logistic regression model.\n",
        "*   By using the negative log likelihood, we aim to find model parameters (such as coefficients in logistic regression) that minimize the discrepancy between the predicted probabilities and the actual outcomes. This optimization process ensures that our model provides the best fit to the observed data.\n",
        "\n",
        "\n",
        "\n",
        "\n",
        "\n"
      ],
      "metadata": {
        "id": "E2PNf2jbwhqz"
      }
    },
    {
      "cell_type": "markdown",
      "source": [
        "*Negative loglikelihood Function***"
      ],
      "metadata": {
        "id": "bHyHMx7qxOh0"
      }
    },
    {
      "cell_type": "code",
      "source": [
        "def Negloglikelihood(y,y_hat):\n",
        "    \"\"\"\n",
        "    Calculate the negative log-likelihood loss function for binary classification.\n",
        "\n",
        "    Parameters:\n",
        "    y (array-like): True binary labels (0 or 1).\n",
        "    y_hat (array-like): Predicted probabilities of the positive class.\n",
        "\n",
        "    Returns:\n",
        "    float: Negative log-likelihood loss.\n",
        "    \"\"\"\n",
        "    #compute the negative log likelihood\n",
        "    loss = -(np.sum(y * np.log(y_hat)+(1-y) * np.log(1-y_hat)))\n",
        "    return loss"
      ],
      "metadata": {
        "id": "rgD729cBxJp4"
      },
      "execution_count": 36,
      "outputs": []
    },
    {
      "cell_type": "markdown",
      "source": [
        "When comparing different lines (or decision boundaries) for separating classes in a logistic regression model, the negative log likelihood (NLL) serves as a crucial metric for evaluating their performance. Each line is represented by a set of parameters θ, which determine its position and orientation in the feature space. The logistic regression model assigns probabilities to each data point belonging to a particular class based on its position relative to the decision boundary represented by the line.\n",
        "\n",
        "To compute the NLL for each line, we first use the logistic regression model to predict the probabilities of the data points belonging to the positive class (class 1). Then, we compare these predicted probabilities to the actual class labels in the dataset. The NLL quantifies the discrepancy between the predicted probabilities and the true labels. Specifically, it penalizes the model more heavily for making inaccurate predictions with higher confidence (i.e., assigning a high probability to the wrong class).\n",
        "\n",
        "The line that minimizes the negative log likelihood is considered the best line for separating the classes because it maximizes the likelihood of observing the given dataset under the logistic regression model. In other words, it provides the most accurate representation of the relationship between the features and the class labels. Therefore, in your example, the green line, which corresponds to the set of parameters θ that yield the minimum NLL, is identified as the best line for the given dataset. This line optimally separates the classes based on the logistic regression model's estimation of the class probabilities, offering the most effective decision boundary for classification.\n",
        "\n"
      ],
      "metadata": {
        "id": "86zRVG2Zyz14"
      }
    },
    {
      "cell_type": "markdown",
      "source": [
        "**SIMULATION**\n",
        "\n"
      ],
      "metadata": {
        "id": "MWgeEindI-jD"
      }
    },
    {
      "cell_type": "code",
      "source": [
        "#DEFINE SIGMOID FUNCTION\n",
        "\n",
        "def sigmoid(z):\n",
        "  result = 1.0/(1.0+np.exp(-1.0*z))\n",
        "  return result"
      ],
      "metadata": {
        "id": "DFd8-nNv_Tge"
      },
      "execution_count": 37,
      "outputs": []
    },
    {
      "cell_type": "code",
      "source": [
        "#DEFINE HYPOTHESIS\n",
        "\n",
        "def hypothesis(X,theta):\n",
        "  '''\n",
        "  X(array-like) : input features matrix of shape(m,n)\n",
        "  theta(array-like) : Model parameters(coefficients) of shape(n,1)\n",
        "  returns : predicted probabilities of the positive class\n",
        "  '''\n",
        "  #compute the dot product of X and theta ad pass it through the sigmoid function\n",
        "\n",
        "  z = np.dot(X,theta)\n",
        "  return sigmoid(z)\n",
        ""
      ],
      "metadata": {
        "id": "KD6CRrFOJYJ2"
      },
      "execution_count": 38,
      "outputs": []
    },
    {
      "cell_type": "code",
      "source": [
        "#DEFINE ERROR(COST FUNCTION)\n",
        "\n",
        "def  error(X,y,theta):\n",
        "  '''\n",
        "  X : (m,n)\n",
        "  y : (m,1)            (binary labels)\n",
        "  theta: (n,1)         (model parameter/coefficients)\n",
        "  return : (n,1)       (cross-entropy error(float))\n",
        "  '''\n",
        "\n",
        "  #calculate the predicted probabilities using the hypothesis function\n",
        "  hypo = hypothesis(X,theta)\n",
        "\n",
        "  #compute the cross-entropy error\n",
        "  err = np.mean((y*np.log(hypo)+(1-y)*np.log(1-hypo)))\n",
        "\n",
        "  return -err"
      ],
      "metadata": {
        "id": "uwu23UlUKC8w"
      },
      "execution_count": 39,
      "outputs": []
    },
    {
      "cell_type": "code",
      "source": [
        "#DEFINE GRADIENT\n",
        "\n",
        "def gradient(X,y,theta):\n",
        "\n",
        "  #compute gradient of the cross-entropy error with respect to the model parameter(n,1)\n",
        "  #calculate the predicted probabilities using the hypothesis function\n",
        "  hypo = hypothesis(X,theta)\n",
        "\n",
        "  #compute the gradient\n",
        "  grad = np.dot(X.T,(hypo-y))\n",
        "\n",
        "  #normalize the gradient by the number of samples\n",
        "  grad /= X.shape[0]\n",
        "\n",
        "  return grad"
      ],
      "metadata": {
        "id": "rgywDig-K--H"
      },
      "execution_count": 40,
      "outputs": []
    },
    {
      "cell_type": "code",
      "source": [
        "#DEFINE GRADIENT DESCENT\n",
        "\n",
        "import numpy as np\n",
        "def gradient_descent(X,y,lr=0.5,max_iter=30):\n",
        "  '''\n",
        "  perform gradient descent to optimise the parameters for logistic regression\n",
        "  lr : learning rate(default is 0.5)\n",
        "  returns: tuple containing optimized parameter(Theta)and a list of errors during optimization\n",
        "  '''\n",
        "  #Initialize parameters theta with zeros\n",
        "  theta = np.zeros((X.shape[1],1))\n",
        "\n",
        "  #List to store errors during optimization\n",
        "  error_list = []\n",
        "\n",
        "  #gradient descent loop\n",
        "  for _ in range(max_iter):\n",
        "\n",
        "    #compute the errror\n",
        "    e = error(X,y,theta)\n",
        "\n",
        "    error_list.append(e)\n",
        "\n",
        "    #compute the gradient\n",
        "    grad = gradient(X,y,theta)\n",
        "\n",
        "    #update the parameters using the update rule\n",
        "    theta = theta-lr*grad\n",
        "\n",
        "  return theta,error_list\n",
        "\n",
        "\n",
        "\n",
        "\n"
      ],
      "metadata": {
        "id": "L10CIyCKLtFX"
      },
      "execution_count": 41,
      "outputs": []
    },
    {
      "cell_type": "code",
      "source": [
        "from sklearn.datasets import make_classification\n",
        "\n",
        "#generate synthetic data for binary classification\n",
        "X,y = make_classification(n_samples = 500,\n",
        "                          n_features = 2,\n",
        "                          n_redundant = 0,\n",
        "                          n_clusters_per_class = 1,\n",
        "                          random_state = 5)"
      ],
      "metadata": {
        "id": "xtNK99_MNUqK"
      },
      "execution_count": 42,
      "outputs": []
    },
    {
      "cell_type": "code",
      "source": [
        "theta = np.zeros((X.shape[1],1))\n",
        "theta"
      ],
      "metadata": {
        "colab": {
          "base_uri": "https://localhost:8080/"
        },
        "id": "hj88roHfL7D3",
        "outputId": "0106d42c-f0b9-41a3-d5ca-4064b5573c12"
      },
      "execution_count": 43,
      "outputs": [
        {
          "output_type": "execute_result",
          "data": {
            "text/plain": [
              "array([[0.],\n",
              "       [0.]])"
            ]
          },
          "metadata": {},
          "execution_count": 43
        }
      ]
    },
    {
      "cell_type": "code",
      "source": [
        "X.shape"
      ],
      "metadata": {
        "colab": {
          "base_uri": "https://localhost:8080/"
        },
        "id": "hCOMbvMDEiyY",
        "outputId": "2e2fa719-7043-4245-a5e0-5327eff5e5b9"
      },
      "execution_count": 44,
      "outputs": [
        {
          "output_type": "execute_result",
          "data": {
            "text/plain": [
              "(500, 2)"
            ]
          },
          "metadata": {},
          "execution_count": 44
        }
      ]
    },
    {
      "cell_type": "code",
      "source": [
        "y.shape"
      ],
      "metadata": {
        "colab": {
          "base_uri": "https://localhost:8080/"
        },
        "id": "VqVvni4VEk8C",
        "outputId": "5b60b579-9d3f-4349-9938-a841e6cab35d"
      },
      "execution_count": 45,
      "outputs": [
        {
          "output_type": "execute_result",
          "data": {
            "text/plain": [
              "(500,)"
            ]
          },
          "metadata": {},
          "execution_count": 45
        }
      ]
    },
    {
      "cell_type": "code",
      "source": [
        "y"
      ],
      "metadata": {
        "colab": {
          "base_uri": "https://localhost:8080/"
        },
        "id": "os3M12oNEm8a",
        "outputId": "e7879622-9876-4cea-a288-3aad87d5e4d6"
      },
      "execution_count": 46,
      "outputs": [
        {
          "output_type": "execute_result",
          "data": {
            "text/plain": [
              "array([1, 0, 0, 1, 1, 0, 0, 0, 0, 1, 1, 1, 0, 1, 1, 0, 1, 0, 0, 0, 0, 1,\n",
              "       0, 1, 1, 0, 0, 0, 0, 1, 1, 0, 1, 0, 0, 1, 1, 1, 0, 0, 1, 1, 0, 0,\n",
              "       1, 0, 1, 0, 1, 1, 1, 0, 0, 1, 1, 1, 0, 1, 1, 1, 1, 0, 0, 0, 1, 1,\n",
              "       1, 1, 0, 1, 1, 0, 0, 1, 1, 0, 1, 0, 0, 0, 1, 0, 0, 1, 1, 1, 0, 0,\n",
              "       1, 0, 0, 0, 1, 1, 0, 1, 0, 1, 0, 0, 1, 0, 1, 1, 0, 0, 1, 0, 0, 0,\n",
              "       1, 0, 0, 0, 0, 1, 1, 0, 1, 0, 0, 1, 0, 1, 1, 0, 0, 0, 0, 0, 1, 0,\n",
              "       0, 1, 1, 1, 1, 0, 0, 0, 1, 0, 0, 1, 0, 0, 0, 0, 1, 0, 0, 1, 0, 0,\n",
              "       1, 0, 0, 0, 0, 0, 0, 1, 0, 1, 1, 1, 0, 1, 0, 1, 1, 0, 1, 1, 0, 0,\n",
              "       0, 1, 1, 1, 1, 1, 1, 1, 0, 0, 0, 0, 0, 0, 1, 1, 1, 1, 1, 1, 0, 1,\n",
              "       1, 0, 0, 1, 0, 1, 1, 1, 1, 1, 1, 0, 1, 1, 0, 0, 0, 1, 1, 1, 1, 1,\n",
              "       0, 1, 0, 0, 0, 0, 0, 0, 0, 1, 1, 1, 0, 1, 0, 1, 1, 1, 0, 0, 1, 0,\n",
              "       0, 0, 0, 1, 1, 1, 0, 1, 0, 1, 0, 0, 1, 1, 0, 1, 1, 1, 0, 1, 0, 1,\n",
              "       1, 0, 1, 1, 0, 1, 0, 0, 0, 0, 1, 1, 0, 0, 0, 1, 1, 0, 1, 1, 0, 0,\n",
              "       1, 1, 0, 1, 1, 0, 0, 1, 0, 0, 1, 1, 1, 0, 1, 0, 0, 0, 0, 0, 1, 0,\n",
              "       0, 0, 0, 0, 0, 1, 1, 0, 0, 1, 1, 1, 1, 1, 1, 0, 0, 0, 0, 0, 1, 1,\n",
              "       0, 1, 0, 1, 0, 0, 1, 0, 0, 0, 0, 1, 0, 1, 1, 1, 0, 0, 1, 0, 1, 1,\n",
              "       0, 1, 1, 0, 0, 0, 1, 1, 0, 1, 1, 1, 0, 1, 1, 0, 0, 0, 1, 0, 1, 1,\n",
              "       1, 0, 0, 0, 0, 0, 1, 0, 0, 1, 1, 1, 1, 1, 0, 1, 0, 0, 0, 0, 0, 1,\n",
              "       0, 1, 0, 1, 0, 0, 1, 0, 1, 0, 1, 0, 0, 1, 1, 0, 1, 0, 1, 1, 1, 0,\n",
              "       1, 0, 1, 1, 0, 1, 0, 0, 0, 1, 0, 0, 1, 1, 0, 0, 0, 1, 1, 0, 1, 0,\n",
              "       1, 1, 1, 1, 0, 0, 0, 1, 1, 1, 1, 0, 0, 1, 1, 1, 1, 0, 1, 1, 1, 1,\n",
              "       1, 0, 0, 0, 0, 0, 1, 1, 0, 1, 0, 1, 0, 1, 0, 1, 0, 0, 1, 1, 1, 1,\n",
              "       1, 1, 1, 1, 1, 0, 1, 0, 0, 0, 0, 0, 1, 0, 1, 0])"
            ]
          },
          "metadata": {},
          "execution_count": 46
        }
      ]
    },
    {
      "cell_type": "code",
      "source": [
        "import matplotlib.pyplot as plt\n",
        "\n",
        "#create a scatter plot of the feature values,coloring points based on class labels\n",
        "plt.scatter(X[:,0],X[:,1],c=y)\n",
        "\n",
        "plt.xlabel(\"x1\")\n",
        "plt.ylabel(\"x2\")\n",
        "plt.show()"
      ],
      "metadata": {
        "colab": {
          "base_uri": "https://localhost:8080/",
          "height": 449
        },
        "id": "PTihAzEVEoAo",
        "outputId": "fe8d737f-34c1-4314-82b1-ef72f8eeeaf8"
      },
      "execution_count": 47,
      "outputs": [
        {
          "output_type": "display_data",
          "data": {
            "text/plain": [
              "<Figure size 640x480 with 1 Axes>"
            ],
            "image/png": "[encoded data removed]"
          },
          "metadata": {}
        }
      ]
    },
    {
      "cell_type": "code",
      "source": [
        "import numpy as np\n",
        "\n",
        "#create a column vector of ones with shape(500,1)\n",
        "ones = np.ones((500,1))\n",
        "\n",
        "#stack the column vector of ones horizontally (along axis 1) with the original feature matrix x\n",
        "X_ = np.hstack((ones,X))\n",
        "\n",
        "#print the first 5 rows of the modified feature matrix\n",
        "print(X_[:5])"
      ],
      "metadata": {
        "colab": {
          "base_uri": "https://localhost:8080/"
        },
        "id": "dERQA3I2E-N2",
        "outputId": "172b1dc0-129b-4589-fc56-9e2e8e4fc5a8"
      },
      "execution_count": 17,
      "outputs": [
        {
          "output_type": "stream",
          "name": "stdout",
          "text": [
            "[[ 1.          1.22167239 -0.4757541 ]\n",
            " [ 1.         -0.2292072  -1.85663378]\n",
            " [ 1.         -1.34913896  0.50458721]\n",
            " [ 1.          0.31402206 -1.62029248]\n",
            " [ 1.          1.13807877 -0.99148158]]\n"
          ]
        }
      ]
    },
    {
      "cell_type": "code",
      "source": [
        "from sklearn.model_selection import train_test_split\n",
        "\n",
        "X_train,X_test,y_train,y_test = train_test_split(X_,y,test_size = 0.2,random_state = 42)\n",
        "\n",
        "#use gradient_descent funtion to optimize parameters for logistic regression\n",
        "opt_theta, error_list = gradient_descent(X_train,y_train)\n",
        "\n",
        "#Display the optimized parameters\n",
        "opt_theta"
      ],
      "metadata": {
        "colab": {
          "base_uri": "https://localhost:8080/"
        },
        "id": "pVZl2SAQFTHv",
        "outputId": "f2168455-d353-4985-d5f3-0eff00b06078"
      },
      "execution_count": 18,
      "outputs": [
        {
          "output_type": "execute_result",
          "data": {
            "text/plain": [
              "array([[ 1.97220933, -1.97220933, -1.97220933, ...,  1.97220933,\n",
              "         1.97220933,  1.97220933],\n",
              "       [-0.17941749,  0.17941749,  0.17941749, ..., -0.17941749,\n",
              "        -0.17941749, -0.17941749],\n",
              "       [-1.35149631,  1.35149631,  1.35149631, ..., -1.35149631,\n",
              "        -1.35149631, -1.35149631]])"
            ]
          },
          "metadata": {},
          "execution_count": 18
        }
      ]
    },
    {
      "cell_type": "markdown",
      "source": [
        "**SIMULATION USING SKLEARN**"
      ],
      "metadata": {
        "id": "2d_DEt-6wtle"
      }
    },
    {
      "cell_type": "code",
      "source": [
        "from sklearn.linear_model import LogisticRegression\n",
        "\n",
        "#create a logistic model instance\n",
        "logistic = LogisticRegression()\n",
        "\n",
        "#fit the model to the training data\n",
        "logistic.fit(X_train,y_train)"
      ],
      "metadata": {
        "colab": {
          "base_uri": "https://localhost:8080/",
          "height": 75
        },
        "id": "5m8MKDPKwqTp",
        "outputId": "28ff55b1-3507-476c-ad6c-eb4549f22a9e"
      },
      "execution_count": 49,
      "outputs": [
        {
          "output_type": "execute_result",
          "data": {
            "text/plain": [
              "LogisticRegression()"
            ],
            "text/html": [
              "<style>#sk-container-id-1 {color: black;background-color: white;}#sk-container-id-1 pre{padding: 0;}#sk-container-id-1 div.sk-toggleable {background-color: white;}#sk-container-id-1 label.sk-toggleable__label {cursor: pointer;display: block;width: 100%;margin-bottom: 0;padding: 0.3em;box-sizing: border-box;text-align: center;}#sk-container-id-1 label.sk-toggleable__label-arrow:before {content: \"▸\";float: left;margin-right: 0.25em;color: #696969;}#sk-container-id-1 label.sk-toggleable__label-arrow:hover:before {color: black;}#sk-container-id-1 div.sk-estimator:hover label.sk-toggleable__label-arrow:before {color: black;}#sk-container-id-1 div.sk-toggleable__content {max-height: 0;max-width: 0;overflow: hidden;text-align: left;background-color: #f0f8ff;}#sk-container-id-1 div.sk-toggleable__content pre {margin: 0.2em;color: black;border-radius: 0.25em;background-color: #f0f8ff;}#sk-container-id-1 input.sk-toggleable__control:checked~div.sk-toggleable__content {max-height: 200px;max-width: 100%;overflow: auto;}#sk-container-id-1 input.sk-toggleable__control:checked~label.sk-toggleable__label-arrow:before {content: \"▾\";}#sk-container-id-1 div.sk-estimator input.sk-toggleable__control:checked~label.sk-toggleable__label {background-color: #d4ebff;}#sk-container-id-1 div.sk-label input.sk-toggleable__control:checked~label.sk-toggleable__label {background-color: #d4ebff;}#sk-container-id-1 input.sk-hidden--visually {border: 0;clip: rect(1px 1px 1px 1px);clip: rect(1px, 1px, 1px, 1px);height: 1px;margin: -1px;overflow: hidden;padding: 0;position: absolute;width: 1px;}#sk-container-id-1 div.sk-estimator {font-family: monospace;background-color: #f0f8ff;border: 1px dotted black;border-radius: 0.25em;box-sizing: border-box;margin-bottom: 0.5em;}#sk-container-id-1 div.sk-estimator:hover {background-color: #d4ebff;}#sk-container-id-1 div.sk-parallel-item::after {content: \"\";width: 100%;border-bottom: 1px solid gray;flex-grow: 1;}#sk-container-id-1 div.sk-label:hover label.sk-toggleable__label {background-color: #d4ebff;}#sk-container-id-1 div.sk-serial::before {content: \"\";position: absolute;border-left: 1px solid gray;box-sizing: border-box;top: 0;bottom: 0;left: 50%;z-index: 0;}#sk-container-id-1 div.sk-serial {display: flex;flex-direction: column;align-items: center;background-color: white;padding-right: 0.2em;padding-left: 0.2em;position: relative;}#sk-container-id-1 div.sk-item {position: relative;z-index: 1;}#sk-container-id-1 div.sk-parallel {display: flex;align-items: stretch;justify-content: center;background-color: white;position: relative;}#sk-container-id-1 div.sk-item::before, #sk-container-id-1 div.sk-parallel-item::before {content: \"\";position: absolute;border-left: 1px solid gray;box-sizing: border-box;top: 0;bottom: 0;left: 50%;z-index: -1;}#sk-container-id-1 div.sk-parallel-item {display: flex;flex-direction: column;z-index: 1;position: relative;background-color: white;}#sk-container-id-1 div.sk-parallel-item:first-child::after {align-self: flex-end;width: 50%;}#sk-container-id-1 div.sk-parallel-item:last-child::after {align-self: flex-start;width: 50%;}#sk-container-id-1 div.sk-parallel-item:only-child::after {width: 0;}#sk-container-id-1 div.sk-dashed-wrapped {border: 1px dashed gray;margin: 0 0.4em 0.5em 0.4em;box-sizing: border-box;padding-bottom: 0.4em;background-color: white;}#sk-container-id-1 div.sk-label label {font-family: monospace;font-weight: bold;display: inline-block;line-height: 1.2em;}#sk-container-id-1 div.sk-label-container {text-align: center;}#sk-container-id-1 div.sk-container {/* jupyter's `normalize.less` sets `[hidden] { display: none; }` but bootstrap.min.css set `[hidden] { display: none !important; }` so we also need the `!important` here to be able to override the default hidden behavior on the sphinx rendered scikit-learn.org. See: https://github.com/scikit-learn/scikit-learn/issues/21755 */display: inline-block !important;position: relative;}#sk-container-id-1 div.sk-text-repr-fallback {display: none;}</style><div id=\"sk-container-id-1\" class=\"sk-top-container\"><div class=\"sk-text-repr-fallback\"><pre>LogisticRegression()</pre><b>In a Jupyter environment, please rerun this cell to show the HTML representation or trust the notebook. <br />On GitHub, the HTML representation is unable to render, please try loading this page with nbviewer.org.</b></div><div class=\"sk-container\" hidden><div class=\"sk-item\"><div class=\"sk-estimator sk-toggleable\"><input class=\"sk-toggleable__control sk-hidden--visually\" id=\"sk-estimator-id-1\" type=\"checkbox\" checked><label for=\"sk-estimator-id-1\" class=\"sk-toggleable__label sk-toggleable__label-arrow\">LogisticRegression</label><div class=\"sk-toggleable__content\"><pre>LogisticRegression()</pre></div></div></div></div></div>"
            ]
          },
          "metadata": {},
          "execution_count": 49
        }
      ]
    },
    {
      "cell_type": "code",
      "source": [
        "logistic.intercept_"
      ],
      "metadata": {
        "colab": {
          "base_uri": "https://localhost:8080/"
        },
        "id": "SWE4VNGFxXd8",
        "outputId": "ec0bb88b-291c-4f88-e716-71de39412fdc"
      },
      "execution_count": 50,
      "outputs": [
        {
          "output_type": "execute_result",
          "data": {
            "text/plain": [
              "array([1.46952407])"
            ]
          },
          "metadata": {},
          "execution_count": 50
        }
      ]
    },
    {
      "cell_type": "code",
      "source": [
        "logistic.coef_"
      ],
      "metadata": {
        "colab": {
          "base_uri": "https://localhost:8080/"
        },
        "id": "757UX0DtxeRI",
        "outputId": "6183dc76-fe8f-4b6b-ee87-3733bfd9cfdf"
      },
      "execution_count": 51,
      "outputs": [
        {
          "output_type": "execute_result",
          "data": {
            "text/plain": [
              "array([[-3.17062293e-06,  3.89591876e+00,  8.50972735e-01]])"
            ]
          },
          "metadata": {},
          "execution_count": 51
        }
      ]
    },
    {
      "cell_type": "markdown",
      "source": [
        "**MODEL PERFORMANCE**\n",
        "\n",
        "1) Accuracy = measures the proportion of correctly predicted instances out of total number of instances => TP+TN/(TP+TN+FP+FN)\n",
        "\n",
        "2) Precision = focuses on the relevance of positive predictions,indicating how many of the predicted positive cases are truly positive => TP/(TP+FP)\n",
        "\n",
        "3) Recall = Model's ability to capture all positive instances in the data set irrespective of the number of false negatives\n",
        "recall = TP/(TP+FN)\n",
        "\n",
        "4) F-score = TP/(TP+0.5*(FP+FN))\n",
        " In logistic regression, the F-score (also known as the F1-score) is a measure of a model's accuracy, particularly in binary classification tasks\n",
        "\n",
        " F1 score = 2 X precision x recall/(precision +recall)\n",
        "\n",
        " *)The F1-score provides a balance between precision and recall. It ranges from 0 to 1, where a higher value indicates better performance. It's especially useful when you have an imbalanced dataset (i.e., the number of samples in each class is significantly different), as it considers both false positives and false negatives.\n",
        "\n",
        " *)In logistic regression, you can calculate the F1-score using the predicted probabilities and the threshold for classification. Typically, a probability above 0.5 is considered as class 1, and below 0.5 is considered as class 0. However, you can adjust this threshold depending on the specific requirements of your problem.\n",
        "\n",
        " *)It's important to note that the F1-score is appropriate only for binary classification problems. For multi-class classification problems, you can use variants such as the micro-F1 score or macro-F1 score, which aggregate the F1-scores for each class.\n",
        "\n",
        "5) specificity : opposite of recall : TN/(TN+FP)"
      ],
      "metadata": {
        "id": "uk1rNey4T9qD"
      }
    },
    {
      "cell_type": "code",
      "source": [
        "# Predict the class labels for the testing data using the trained logistic regression model\n",
        "y_pred = logistic.predict(X_test)"
      ],
      "metadata": {
        "id": "qTIVPaGnwU15"
      },
      "execution_count": 52,
      "outputs": []
    },
    {
      "cell_type": "code",
      "source": [
        "from sklearn.metrics import accuracy_score,confusion_matrix\n",
        "\n",
        "#calculating confusion matrix\n",
        "conf_matrix = confusion_matrix(y_test,y_pred)\n",
        "conf_matrix\n"
      ],
      "metadata": {
        "colab": {
          "base_uri": "https://localhost:8080/"
        },
        "id": "js56Q5E-GcEK",
        "outputId": "4ecdef14-503f-45fb-d77f-4144523f2b42"
      },
      "execution_count": 60,
      "outputs": [
        {
          "output_type": "execute_result",
          "data": {
            "text/plain": [
              "array([[47,  3],\n",
              "       [ 2, 48]])"
            ]
          },
          "metadata": {},
          "execution_count": 60
        }
      ]
    },
    {
      "cell_type": "code",
      "source": [
        "#calculate accuracy score\n",
        "\n",
        "accuracy = accuracy_score(y_test,y_pred)\n",
        "accuracy\n"
      ],
      "metadata": {
        "colab": {
          "base_uri": "https://localhost:8080/"
        },
        "id": "wJhdITQ9Xin5",
        "outputId": "a0cfe263-4e24-4dcb-9f09-5eccb9105934"
      },
      "execution_count": 62,
      "outputs": [
        {
          "output_type": "execute_result",
          "data": {
            "text/plain": [
              "0.95"
            ]
          },
          "metadata": {},
          "execution_count": 62
        }
      ]
    },
    {
      "cell_type": "code",
      "source": [
        "from sklearn.metrics import precision_score, recall_score\n",
        "\n",
        "\n"
      ],
      "metadata": {
        "id": "5u72GAVhX4KT"
      },
      "execution_count": 55,
      "outputs": []
    },
    {
      "cell_type": "code",
      "source": [
        "precision_score(y_test,y_pred)\n",
        "\n",
        "\n",
        "\n"
      ],
      "metadata": {
        "colab": {
          "base_uri": "https://localhost:8080/"
        },
        "id": "KTwyVxA4ZEau",
        "outputId": "9360e51b-edb0-4023-bf29-9c0d321e9ac2"
      },
      "execution_count": 58,
      "outputs": [
        {
          "output_type": "execute_result",
          "data": {
            "text/plain": [
              "0.9411764705882353"
            ]
          },
          "metadata": {},
          "execution_count": 58
        }
      ]
    },
    {
      "cell_type": "code",
      "source": [
        "recall_score(y_test,y_pred)"
      ],
      "metadata": {
        "colab": {
          "base_uri": "https://localhost:8080/"
        },
        "id": "6Vi8cHSzxuVz",
        "outputId": "86998ae9-e8cd-44eb-be1d-e4cc11a35f9a"
      },
      "execution_count": 57,
      "outputs": [
        {
          "output_type": "execute_result",
          "data": {
            "text/plain": [
              "0.96"
            ]
          },
          "metadata": {},
          "execution_count": 57
        }
      ]
    },
    {
      "cell_type": "code",
      "source": [
        "y_pred\n"
      ],
      "metadata": {
        "colab": {
          "base_uri": "https://localhost:8080/"
        },
        "id": "UTUKLY-CYSMq",
        "outputId": "e563b1b9-9bc8-4dc3-ad15-9c3cf532c3ec"
      },
      "execution_count": 59,
      "outputs": [
        {
          "output_type": "execute_result",
          "data": {
            "text/plain": [
              "array([1, 1, 1, 0, 0, 0, 0, 1, 0, 1, 1, 1, 1, 1, 0, 0, 0, 1, 0, 0, 1, 1,\n",
              "       1, 0, 0, 1, 0, 1, 0, 0, 1, 1, 1, 1, 0, 1, 1, 1, 0, 0, 1, 1, 1, 0,\n",
              "       0, 1, 1, 1, 1, 0, 0, 1, 0, 1, 1, 1, 1, 0, 1, 0, 0, 0, 0, 1, 0, 0,\n",
              "       0, 1, 0, 0, 0, 1, 1, 1, 0, 0, 0, 1, 1, 0, 1, 0, 1, 1, 1, 0, 1, 1,\n",
              "       0, 0, 0, 0, 1, 0, 1, 0, 0, 0, 1, 0])"
            ]
          },
          "metadata": {},
          "execution_count": 59
        }
      ]
    },
    {
      "cell_type": "code",
      "source": [
        "#predicted class probabilities for the testing data using the trained logistic regression model\n",
        "\n",
        "prob = logistic.predict_proba(X_test)\n",
        "prob[1]\n"
      ],
      "metadata": {
        "colab": {
          "base_uri": "https://localhost:8080/"
        },
        "id": "qmhgnVOtYaNl",
        "outputId": "70d66fe5-f972-4054-9574-60b956d98087"
      },
      "execution_count": 63,
      "outputs": [
        {
          "output_type": "execute_result",
          "data": {
            "text/plain": [
              "array([0.01821833, 0.98178167])"
            ]
          },
          "metadata": {},
          "execution_count": 63
        }
      ]
    },
    {
      "cell_type": "markdown",
      "source": [
        "**SIMULATION OF LOGISTIC REGRESSION ASSUMPTIONS**"
      ],
      "metadata": {
        "id": "1mx_GMbYZafd"
      }
    },
    {
      "cell_type": "code",
      "source": [
        "import numpy as np\n",
        "import pandas as pd\n",
        "import statsmodels.api as sm\n",
        "from statsmodels.stats.outliers_influence import variance_inflation_factor\n"
      ],
      "metadata": {
        "id": "ZxxmQXs0Yo1-"
      },
      "execution_count": 64,
      "outputs": []
    },
    {
      "cell_type": "code",
      "source": [
        "#set random seed for reproducibility\n",
        "np.random.seed(42)\n",
        "\n",
        "#no of samples\n",
        "n_samples = 1000\n",
        "\n",
        "#generate independent variables\n",
        "X1 = np.random.normal(0,1,n_samples)\n",
        "X2 = np.random.normal(0,1,n_samples)\n",
        "X3 = np.random.normal(0,1,n_samples)\n",
        "\n",
        "#generate correlated independent variables\n",
        "X4 = 0.5*X1 + 0.5*X2 + np.random.normal(0,0.2,n_samples) # X1 and X2\n",
        "X5 = -0.5*X1 + 0.5*X3 + np.random.normal(0,0.2,n_samples)# X1 and X3\n",
        "\n",
        "#generate dependent variable\n",
        "#assume a linear relationship with some noise\n",
        "log_odds = 0.5 + 0.3*X1 + 0.4*X2 - 0.2*X3 + 0.1*X4 + 0.2*X5 + np.random.normal(0,0.5,n_samples)\n",
        "\n",
        "#convert log_odds to probability using logistic or sigmoid function\n",
        "probabilities = 1/(1+np.exp(-log_odds))\n",
        "\n",
        "#convert probabilities to binary outcome\n",
        "y = np.random.binomial(1,probabilities)\n",
        "\n",
        "#create DataFrame\n",
        "df = pd.DataFrame({'dependent_variable' : y,\n",
        "                   'independent_variable_1' : X1,\n",
        "                   'independent_variable_2' : X2,\n",
        "                   'independent_variable_3' : X3,\n",
        "                   'independent_variable_4' : X4,\n",
        "                   'independent_variable_5' : X5,})"
      ],
      "metadata": {
        "id": "DaH6Is37ZutB"
      },
      "execution_count": 65,
      "outputs": []
    },
    {
      "cell_type": "markdown",
      "source": [
        "**Key Assumptions for implementing Logistic regression**"
      ],
      "metadata": {
        "id": "-mvwrlAEb93c"
      }
    },
    {
      "cell_type": "code",
      "source": [
        "#1)The dependent/response variable is binary/dichotomous\n",
        "#check unique values of the dependent variable\n",
        "print(df['dependent_variable'].unique())"
      ],
      "metadata": {
        "colab": {
          "base_uri": "https://localhost:8080/"
        },
        "id": "n1vTkNtAb5k0",
        "outputId": "d06ddc65-2e29-4265-dca6-8d678405b70f"
      },
      "execution_count": 66,
      "outputs": [
        {
          "output_type": "stream",
          "name": "stdout",
          "text": [
            "[1 0]\n"
          ]
        }
      ]
    },
    {
      "cell_type": "code",
      "source": [
        "#2)Little or no multicollinearity b/w predictor/explanatory variables\n",
        "#calculate VIF for multicollinearity\n",
        "\n",
        "def calculate_vif(X):\n",
        "  vif_data = pd.DataFrame()\n",
        "  vif_data[\"Features\"] = X.columns\n",
        "  vif_data[\"VIF\"] = [variance_inflation_factor(X.values,i) for i in range(len(X.columns))]\n",
        "\n",
        "  return vif_data\n",
        "\n",
        "X = df[['independent_variable_1','independent_variable_2','independent_variable_3','independent_variable_4','independent_variable_5']]\n",
        "\n",
        "vif_data = calculate_vif(X)\n",
        "\n",
        "print(vif_data)\n"
      ],
      "metadata": {
        "colab": {
          "base_uri": "https://localhost:8080/"
        },
        "id": "FVjZd2j1cUz4",
        "outputId": "16e80f31-57ce-48b3-cd49-3b655c0b473f"
      },
      "execution_count": 67,
      "outputs": [
        {
          "output_type": "stream",
          "name": "stdout",
          "text": [
            "                 Features        VIF\n",
            "0  independent_variable_1  13.098294\n",
            "1  independent_variable_2   6.678743\n",
            "2  independent_variable_3   7.322949\n",
            "3  independent_variable_4  11.863495\n",
            "4  independent_variable_5  13.302297\n"
          ]
        }
      ]
    },
    {
      "cell_type": "code",
      "source": [
        "#3)linear relationship of independent variables to log odds\n",
        "#check for linearity using logistic regression summary\n",
        "\n",
        "X = df[['independent_variable_1','independent_variable_2','independent_variable_3','independent_variable_4','independent_variable_5']]\n",
        "\n",
        "X = sm.add_constant(X)\n",
        "\n",
        "logit_model = sm.Logit(df['dependent_variable'],X)\n",
        "\n",
        "result = logit_model.fit()\n",
        "\n",
        "print(result.summary())"
      ],
      "metadata": {
        "colab": {
          "base_uri": "https://localhost:8080/"
        },
        "id": "b4Kas2xcdR4d",
        "outputId": "72fe1b57-f5e2-4fc4-ab49-fc236a6a305e"
      },
      "execution_count": 68,
      "outputs": [
        {
          "output_type": "stream",
          "name": "stdout",
          "text": [
            "Optimization terminated successfully.\n",
            "         Current function value: 0.633089\n",
            "         Iterations 5\n",
            "                           Logit Regression Results                           \n",
            "==============================================================================\n",
            "Dep. Variable:     dependent_variable   No. Observations:                 1000\n",
            "Model:                          Logit   Df Residuals:                      994\n",
            "Method:                           MLE   Df Model:                            5\n",
            "Date:                Tue, 19 Mar 2024   Pseudo R-squ.:                 0.05580\n",
            "Time:                        08:17:07   Log-Likelihood:                -633.09\n",
            "converged:                       True   LL-Null:                       -670.50\n",
            "Covariance Type:            nonrobust   LLR p-value:                 1.010e-14\n",
            "==========================================================================================\n",
            "                             coef    std err          z      P>|z|      [0.025      0.975]\n",
            "------------------------------------------------------------------------------------------\n",
            "const                      0.4301      0.067      6.377      0.000       0.298       0.562\n",
            "independent_variable_1     0.4120      0.249      1.657      0.097      -0.075       0.899\n",
            "independent_variable_2     0.3909      0.175      2.233      0.026       0.048       0.734\n",
            "independent_variable_3    -0.4330      0.185     -2.335      0.020      -0.797      -0.070\n",
            "independent_variable_4     0.2677      0.329      0.814      0.416      -0.377       0.912\n",
            "independent_variable_5     0.5796      0.339      1.711      0.087      -0.084       1.243\n",
            "==========================================================================================\n"
          ]
        }
      ]
    },
    {
      "cell_type": "markdown",
      "source": [
        "4)  **Prefers large sample size**: Logistic regression analysis yields reliable, robust, and valid results when a larger sample size of the dataset is considered.\n",
        "\n",
        "This assumption can be validated by taking into account a minimum of 10 cases considering the least frequent outcome for each estimator variable.\n",
        "\n",
        "Let's consider a case where you have three predictor variables, and the probability of the least frequent outcome is 0.30. Here, the sample size would be (10*3) / 0.30 = 100.\n",
        "\n",
        "5)**Problem with extreme outliers** : Another critical assumption of logistic regression is the requirement of no extreme outliers in the dataset.\n",
        "\n",
        "This assumption can be verified by calculating Cook's distance (Di) for each observation to identify influential data points that may negatively affect the regression model.\n",
        "\n",
        "In situations when outliers exist, one can implement the following solutions:\n",
        "\n",
        "*)Eliminate or remove the outliers\n",
        "*)Consider a value of mean or median instead of outliers, or\n",
        "*)Keep the outliers in the model but maintain a record of them while reporting the regression results\n",
        "\n",
        "6) **should have independent observations** : This assumption states that the dataset observations should be independent of each other. The observations should not be related to each other or emerge from repeated measurements of the same individual type.\n",
        "\n",
        "The assumption can be verified by plotting residuals against time, which signifies the order of observations. The plot helps in determining the presence or absence of a random pattern. If a random pattern is present or detected, this assumption may be considered violated.\n",
        "\n",
        "\n",
        "\n",
        "     "
      ],
      "metadata": {
        "id": "MXixE4uGeaDD"
      }
    },
    {
      "cell_type": "code",
      "source": [],
      "metadata": {
        "id": "Fkh3dMakd8i5"
      },
      "execution_count": null,
      "outputs": []
    }
  ]
}