{
  "nbformat": 4,
  "nbformat_minor": 0,
  "metadata": {
    "colab": {
      "provenance": [],
      "toc_visible": true,
      "include_colab_link": true
    },
    "kernelspec": {
      "name": "python3",
      "display_name": "Python 3"
    },
    "language_info": {
      "name": "python"
    }
  },
  "cells": [
    {
      "cell_type": "markdown",
      "metadata": {
        "id": "view-in-github",
        "colab_type": "text"
      },
      "source": [
        "<a href=\"https://colab.research.google.com/github/ABHIRAM199/my_practice/blob/main/Long_Short_Term_Memory_(LSTM)_Networks.ipynb\" target=\"_parent\"><img src=\"https://colab.research.google.com/assets/colab-badge.svg\" alt=\"Open In Colab\"/></a>"
      ]
    },
    {
      "cell_type": "markdown",
      "source": [
        "#Long Short-Term Memory (LSTM)"
      ],
      "metadata": {
        "id": "sXuLkiSPLgn7"
      }
    },
    {
      "cell_type": "markdown",
      "source": [
        "# Agenda\n",
        "* Introduction to LSTM\n",
        "* LSTM Cell Architecture\n",
        "* Understanding Gates in LSTM\n",
        "* Training LSTM Networks\n",
        "* Applications of LSTM\n",
        "* Variants of LSTM\n",
        "* Implementation of LSTM"
      ],
      "metadata": {
        "id": "-hzchxZkNe9d"
      }
    },
    {
      "cell_type": "markdown",
      "source": [
        "#Introduction to LSTM"
      ],
      "metadata": {
        "id": "2FKgp7QJNhG9"
      }
    },
    {
      "cell_type": "markdown",
      "source": [
        "- Long Short-Term Memory (LSTM) networks are a specialized type of recurrent neural network (RNN) designed to address the vanishing gradient problem commonly encountered in traditional RNNs. This problem arises because gradients used for updating weights can become very small during backpropagation, preventing the network from learning effectively from long-term dependencies. LSTMs mitigate this issue by introducing a more complex architecture that includes memory cells and various gating mechanisms to control the flow of information.\n",
        "\n",
        "**Key Characteristics of LSTMs**\n",
        "- **Memory Cells:** LSTMs have a unique structure known as memory cells that can maintain information for long periods. These cells use gated mechanisms to control the flow of information.\n",
        "\n",
        "- **Gated Mechanisms:** LSTM cells have three main gates—forget gate, input gate, and output gate—that regulate the information flowing through the network.\n",
        "\n",
        "- **Forget Gate:** Decides what information to discard from the cell state.\n",
        "- **Input Gate:** Determines which new information to add to the cell state.\n",
        "- **Output Gate:** Controls what information to output from the cell state.\n",
        "- **Ability to Learn Long-Term Dependencies:** Due to their gating mechanisms, LSTMs can learn dependencies over long time steps, which traditional RNNs struggle with.\n",
        "\n",
        "\n",
        "**Applications of LSTMs, LSTMs are used in a variety of domains, including:**\n",
        "\n",
        "- **Natural Language Processing (NLP):** For tasks like language modeling, machine translation, text generation, and sentiment analysis.\n",
        "- **Speech Recognition:** For recognizing spoken words and phrases.\n",
        "- **Time Series Forecasting:** For predicting future values in sequences of data.\n",
        "- **Video Analysis:** For tasks such as action recognition and video captioning.\n",
        "- **Anomaly Detection:** For identifying unusual patterns in sequential data.\n"
      ],
      "metadata": {
        "id": "fn6saQvYNyK4"
      }
    },
    {
      "cell_type": "markdown",
      "source": [
        "# LSTM Cell Architecture"
      ],
      "metadata": {
        "id": "ir6FH5tWvlXH"
      }
    },
    {
      "cell_type": "markdown",
      "source": [
        "**Key Components of LSTM**\n",
        "- LSTMs consist of several key components that work together to manage the flow of information through the network:\n",
        "\n",
        "\n",
        "**Cell State ($C_t$):** This is the long-term memory of the network, which can be modified by the different gates. The cell state allows LSTMs to retain information over long periods.\n",
        "\n",
        "**Hidden State ($h_t$):** The hidden state is the short-term memory of the network, which is used for current predictions and is passed to the next time step.\n",
        "\n",
        "**Input Gate ($i_t$):** The input gate controls how much of the new information from the current input and previous hidden state should be added to the cell state.\n",
        "\n",
        "**Forget Gate ($f_t$):** The forget gate controls how much of the previous cell state should be retained. It decides what information to discard from the cell state.\n",
        "\n",
        "**Output Gate ($o_t$):** The output gate determines how much of the cell state should be used to compute the current hidden state, which will also be the output of the LSTM cell for the current time step.\n",
        "\n",
        "**Cell Input Activation ($\\tilde{C}_t$):** This is a candidate value that is created using the current input and the previous hidden state. This candidate value is added to the cell state under the control of the input gate."
      ],
      "metadata": {
        "id": "ZmhUYS7DNm4v"
      }
    },
    {
      "cell_type": "markdown",
      "source": [
        "#### Python Code for LSTM\n",
        "\n",
        "Implementing an LSTM using Python and TensorFlow/Keras:"
      ],
      "metadata": {
        "id": "zRAPaHVYOMtV"
      }
    },
    {
      "cell_type": "code",
      "execution_count": null,
      "metadata": {
        "colab": {
          "base_uri": "https://localhost:8080/"
        },
        "id": "_5Jl58U-Jf1a",
        "outputId": "ab40800c-3ef2-4e88-83f8-d4200cef2f20"
      },
      "outputs": [
        {
          "output_type": "stream",
          "name": "stdout",
          "text": [
            "Epoch 1/10\n",
            "4/4 [==============================] - 3s 11ms/step - loss: 0.2591\n",
            "Epoch 2/10\n",
            "4/4 [==============================] - 0s 7ms/step - loss: 0.1582\n",
            "Epoch 3/10\n",
            "4/4 [==============================] - 0s 6ms/step - loss: 0.0966\n",
            "Epoch 4/10\n",
            "4/4 [==============================] - 0s 7ms/step - loss: 0.0920\n",
            "Epoch 5/10\n",
            "4/4 [==============================] - 0s 7ms/step - loss: 0.1021\n",
            "Epoch 6/10\n",
            "4/4 [==============================] - 0s 7ms/step - loss: 0.0941\n",
            "Epoch 7/10\n",
            "4/4 [==============================] - 0s 7ms/step - loss: 0.0872\n",
            "Epoch 8/10\n",
            "4/4 [==============================] - 0s 6ms/step - loss: 0.0876\n",
            "Epoch 9/10\n",
            "4/4 [==============================] - 0s 8ms/step - loss: 0.0906\n",
            "Epoch 10/10\n",
            "4/4 [==============================] - 0s 7ms/step - loss: 0.0906\n"
          ]
        },
        {
          "output_type": "execute_result",
          "data": {
            "text/plain": [
              "<keras.src.callbacks.History at 0x7f9734516da0>"
            ]
          },
          "metadata": {},
          "execution_count": 1
        }
      ],
      "source": [
        "import tensorflow as tf\n",
        "from tensorflow.keras.models import Sequential\n",
        "from tensorflow.keras.layers import LSTM, Dense\n",
        "\n",
        "# Define a simple LSTM model\n",
        "model = Sequential()\n",
        "model.add(LSTM(50, input_shape=(10, 1)))  # 50 units, input shape (timesteps, features)\n",
        "model.add(Dense(1))  # Output layer\n",
        "\n",
        "model.compile(optimizer='adam', loss='mse')\n",
        "\n",
        "# Example data\n",
        "import numpy as np\n",
        "\n",
        "X = np.random.rand(100, 10, 1)  # 100 samples, 10 timesteps, 1 feature\n",
        "y = np.random.rand(100, 1)  # 100 samples, 1 target\n",
        "\n",
        "# Train the model\n",
        "model.fit(X, y, epochs=10)\n"
      ]
    },
    {
      "cell_type": "markdown",
      "source": [
        "####Visualization of the LSTM architecture using Python and TensorFlow/Keras."
      ],
      "metadata": {
        "id": "GM1sXTFhv1FI"
      }
    },
    {
      "cell_type": "code",
      "source": [
        "import tensorflow as tf\n",
        "from tensorflow.keras.models import Sequential\n",
        "from tensorflow.keras.layers import LSTM, Dense\n",
        "import numpy as np\n",
        "import matplotlib.pyplot as plt\n",
        "from tensorflow.keras.utils import plot_model\n",
        "\n",
        "# Define an LSTM model\n",
        "def create_model(input_shape):\n",
        "    model = Sequential()\n",
        "    model.add(LSTM(50, input_shape=input_shape, return_sequences=False))  # 50 units, input shape (timesteps, features)\n",
        "    model.add(Dense(1))  # Output layer\n",
        "    model.compile(optimizer='adam', loss='mse')\n",
        "    return model\n",
        "\n",
        "# Example data\n",
        "timesteps = 10\n",
        "features = 1\n",
        "X = np.random.rand(100, timesteps, features)  # 100 samples, 10 timesteps, 1 feature\n",
        "y = np.random.rand(100, 1)  # 100 samples, 1 target\n",
        "\n",
        "# Create and train the model\n",
        "input_shape = (timesteps, features)\n",
        "model = create_model(input_shape)\n",
        "model.fit(X, y, epochs=10, verbose=1)\n",
        "\n",
        "# Plot the model architecture\n",
        "plot_model(model, to_file='lstm_architecture.png', show_shapes=True, show_layer_names=True)\n",
        "\n",
        "# Predicting with the model\n",
        "predictions = model.predict(X)\n",
        "print(predictions)\n",
        "\n",
        "# Plotting the first sample input and its corresponding prediction\n",
        "plt.figure(figsize=(12, 6))\n",
        "plt.plot(range(timesteps), X[0], marker='o', label='Input Sequence')\n",
        "plt.plot(timesteps, predictions[0], marker='x', label='Prediction')\n",
        "plt.xlabel('Time Steps')\n",
        "plt.ylabel('Value')\n",
        "plt.title('LSTM Input and Prediction')\n",
        "plt.legend()\n",
        "plt.show()\n"
      ],
      "metadata": {
        "colab": {
          "base_uri": "https://localhost:8080/",
          "height": 1000
        },
        "id": "tnYBwdrDOYE5",
        "outputId": "22bb32b2-e48a-41f2-9aea-33b7f144e1f6"
      },
      "execution_count": null,
      "outputs": [
        {
          "output_type": "stream",
          "name": "stdout",
          "text": [
            "Epoch 1/10\n",
            "4/4 [==============================] - 6s 31ms/step - loss: 0.3513\n",
            "Epoch 2/10\n",
            "4/4 [==============================] - 0s 28ms/step - loss: 0.2322\n",
            "Epoch 3/10\n",
            "4/4 [==============================] - 0s 34ms/step - loss: 0.1457\n",
            "Epoch 4/10\n",
            "4/4 [==============================] - 0s 34ms/step - loss: 0.1039\n",
            "Epoch 5/10\n",
            "4/4 [==============================] - 0s 29ms/step - loss: 0.1100\n",
            "Epoch 6/10\n",
            "4/4 [==============================] - 0s 16ms/step - loss: 0.1204\n",
            "Epoch 7/10\n",
            "4/4 [==============================] - 0s 19ms/step - loss: 0.1068\n",
            "Epoch 8/10\n",
            "4/4 [==============================] - 0s 33ms/step - loss: 0.0976\n",
            "Epoch 9/10\n",
            "4/4 [==============================] - 0s 19ms/step - loss: 0.0979\n",
            "Epoch 10/10\n",
            "4/4 [==============================] - 0s 20ms/step - loss: 0.0986\n",
            "4/4 [==============================] - 2s 6ms/step\n",
            "[[0.5415947 ]\n",
            " [0.44136015]\n",
            " [0.5413551 ]\n",
            " [0.5444145 ]\n",
            " [0.5116042 ]\n",
            " [0.5129323 ]\n",
            " [0.40033254]\n",
            " [0.46640417]\n",
            " [0.4635257 ]\n",
            " [0.6960334 ]\n",
            " [0.5956786 ]\n",
            " [0.5755658 ]\n",
            " [0.45809793]\n",
            " [0.5144194 ]\n",
            " [0.58450806]\n",
            " [0.66455525]\n",
            " [0.5145892 ]\n",
            " [0.62132365]\n",
            " [0.5565702 ]\n",
            " [0.49646905]\n",
            " [0.59910107]\n",
            " [0.5258194 ]\n",
            " [0.49285936]\n",
            " [0.54228383]\n",
            " [0.44838583]\n",
            " [0.5763939 ]\n",
            " [0.5379904 ]\n",
            " [0.53661287]\n",
            " [0.44391853]\n",
            " [0.4582752 ]\n",
            " [0.5523563 ]\n",
            " [0.39590338]\n",
            " [0.45673764]\n",
            " [0.54567146]\n",
            " [0.5436789 ]\n",
            " [0.5118374 ]\n",
            " [0.5932001 ]\n",
            " [0.42305315]\n",
            " [0.5253623 ]\n",
            " [0.61540174]\n",
            " [0.51725054]\n",
            " [0.49575576]\n",
            " [0.57143027]\n",
            " [0.4610626 ]\n",
            " [0.4996924 ]\n",
            " [0.6847203 ]\n",
            " [0.46078768]\n",
            " [0.47995898]\n",
            " [0.41241848]\n",
            " [0.5751111 ]\n",
            " [0.50337976]\n",
            " [0.5786168 ]\n",
            " [0.4850641 ]\n",
            " [0.5559865 ]\n",
            " [0.48241138]\n",
            " [0.45728284]\n",
            " [0.5307992 ]\n",
            " [0.44582894]\n",
            " [0.38116458]\n",
            " [0.36011347]\n",
            " [0.3853675 ]\n",
            " [0.5464666 ]\n",
            " [0.51834077]\n",
            " [0.50914323]\n",
            " [0.38073307]\n",
            " [0.6059658 ]\n",
            " [0.42508528]\n",
            " [0.42870423]\n",
            " [0.5222075 ]\n",
            " [0.44274867]\n",
            " [0.51212484]\n",
            " [0.48125342]\n",
            " [0.57009387]\n",
            " [0.43054986]\n",
            " [0.4433556 ]\n",
            " [0.43825355]\n",
            " [0.5928527 ]\n",
            " [0.58010817]\n",
            " [0.44614786]\n",
            " [0.5725047 ]\n",
            " [0.61818844]\n",
            " [0.6417772 ]\n",
            " [0.5927121 ]\n",
            " [0.5647958 ]\n",
            " [0.58631825]\n",
            " [0.5742167 ]\n",
            " [0.57470745]\n",
            " [0.5480205 ]\n",
            " [0.5396551 ]\n",
            " [0.51786804]\n",
            " [0.47641203]\n",
            " [0.58236843]\n",
            " [0.6273976 ]\n",
            " [0.52389634]\n",
            " [0.4709693 ]\n",
            " [0.5140548 ]\n",
            " [0.49903926]\n",
            " [0.5848762 ]\n",
            " [0.4703832 ]\n",
            " [0.49857885]]\n"
          ]
        },
        {
          "output_type": "display_data",
          "data": {
            "text/plain": [
              "<Figure size 1200x600 with 1 Axes>"
            ],
            "image/png": "[encoded data removed]"
          },
          "metadata": {}
        }
      ]
    },
    {
      "cell_type": "markdown",
      "source": [
        "# Understanding Gates in LSTM"
      ],
      "metadata": {
        "id": "lbfNh00NwYbn"
      }
    },
    {
      "cell_type": "markdown",
      "source": [
        "Long Short-Term Memory (LSTM) networks are designed to handle long-term dependencies in sequential data. The key to their effectiveness lies in the use of gates within each LSTM cell. These gates regulate the flow of information, allowing the network to maintain and update a memory state over long sequences.\n",
        "\n",
        "\n",
        "**The Three Main Gates in LSTM**\n",
        "\n",
        " **1. Forget Gate:**\n",
        "- **Purpose:** Determines which information from the previous cell state should be discarded.\n",
        "Operation: Takes the previous hidden state and the current input, passes them through a sigmoid activation function, and outputs a number between 0 and 1 for each number in the cell state\n",
        "$C_{t-1}$\n",
        "\n",
        "\n",
        "- **Formula:** $ f_t=σ(W_f.[h_{t-1},x_t]+b_f) $\n",
        "\n",
        "where σ is the sigmoid function ,$W_f$ are the weights,$h_{t-1}$ is the previous hidden state, $x_t$ is the current input and $b_f$ is the bias.\n",
        "\n",
        "\n",
        "\n",
        " **2. Input Gate:**\n",
        "- **Purpose:** Decides which new information to add to the cell state.\n",
        "- **Operation:** Uses a sigmoid layer to decide which values to update and a tanh layer to create new candidate values.\n",
        "\n",
        "- **Formula:** $i_t = σ(W_i.[h_{t-1},x_t]+b_i)$\n",
        "               \n",
        " $$C_t = tanh(W_C.[h_{t-1},x_t]+b_c)$$\n",
        "\n",
        " where $W_i$ and $W_C$ are weights, and $b_i$ and $b_C$ are biases.\n",
        "\n",
        "\n",
        "**3.Output Gate:**\n",
        "- **Purpose:** Determines what the next hidden state should be.\n",
        "**Operation:** Uses a sigmoid layer to decide which part of the cell state to output, then applies a tanh layer to the cell state.\n",
        "\n",
        "- **Formula:** $o_t =σ(W_o.[h{t-1},x_t]+b_o)$\n",
        "   \n",
        "   $h_t=o_t*tanh(C_t)$\n",
        "\n",
        "   where $W_o$ are the weights, $h_t$ is the hidden state, and $C_t$ is the cell state."
      ],
      "metadata": {
        "id": "QioHh27RwZlT"
      }
    },
    {
      "cell_type": "markdown",
      "source": [
        "####Visualization of LSTM Gates in Python"
      ],
      "metadata": {
        "id": "S43I7mqv6S17"
      }
    },
    {
      "cell_type": "code",
      "source": [
        "import tensorflow as tf\n",
        "from tensorflow.keras.models import Sequential\n",
        "from tensorflow.keras.layers import LSTM, Dense, Input\n",
        "import numpy as np\n",
        "\n",
        "# Define an LSTM model\n",
        "def create_model():\n",
        "    model = Sequential()\n",
        "    model.add(Input(shape=(10, 1)))  # Input shape: (timesteps, features)\n",
        "    model.add(LSTM(50, return_sequences=False))\n",
        "    model.add(Dense(1))\n",
        "    model.compile(optimizer='adam', loss='mse')\n",
        "    return model\n",
        "\n",
        "# Generate example data\n",
        "timesteps = 10\n",
        "features = 1\n",
        "X = np.random.rand(100, timesteps, features)  # 100 samples, 10 timesteps, 1 feature\n",
        "y = np.random.rand(100, 1)  # 100 samples, 1 target\n",
        "\n",
        "# Create and train the model\n",
        "model = create_model()\n",
        "model.fit(X, y, epochs=10, verbose=1)\n",
        "\n",
        "# Summary of the model\n",
        "model.summary()\n",
        "\n",
        "# Plot the model architecture\n",
        "tf.keras.utils.plot_model(model, to_file='lstm_model.png', show_shapes=True, show_layer_names=True)\n"
      ],
      "metadata": {
        "colab": {
          "base_uri": "https://localhost:8080/",
          "height": 901
        },
        "id": "AgsJW3tj1Jj7",
        "outputId": "417b02af-8aac-4539-9d3f-c987b2263338"
      },
      "execution_count": null,
      "outputs": [
        {
          "output_type": "stream",
          "name": "stdout",
          "text": [
            "Epoch 1/10\n",
            "4/4 [==============================] - 2s 7ms/step - loss: 0.3332\n",
            "Epoch 2/10\n",
            "4/4 [==============================] - 0s 7ms/step - loss: 0.2211\n",
            "Epoch 3/10\n",
            "4/4 [==============================] - 0s 6ms/step - loss: 0.1415\n",
            "Epoch 4/10\n",
            "4/4 [==============================] - 0s 6ms/step - loss: 0.1010\n",
            "Epoch 5/10\n",
            "4/4 [==============================] - 0s 6ms/step - loss: 0.0939\n",
            "Epoch 6/10\n",
            "4/4 [==============================] - 0s 6ms/step - loss: 0.1092\n",
            "Epoch 7/10\n",
            "4/4 [==============================] - 0s 6ms/step - loss: 0.1085\n",
            "Epoch 8/10\n",
            "4/4 [==============================] - 0s 6ms/step - loss: 0.0967\n",
            "Epoch 9/10\n",
            "4/4 [==============================] - 0s 7ms/step - loss: 0.0914\n",
            "Epoch 10/10\n",
            "4/4 [==============================] - 0s 6ms/step - loss: 0.0918\n",
            "Model: \"sequential_2\"\n",
            "_________________________________________________________________\n",
            " Layer (type)                Output Shape              Param #   \n",
            "=================================================================\n",
            " lstm_2 (LSTM)               (None, 50)                10400     \n",
            "                                                                 \n",
            " dense_2 (Dense)             (None, 1)                 51        \n",
            "                                                                 \n",
            "=================================================================\n",
            "Total params: 10451 (40.82 KB)\n",
            "Trainable params: 10451 (40.82 KB)\n",
            "Non-trainable params: 0 (0.00 Byte)\n",
            "_________________________________________________________________\n"
          ]
        },
        {
          "output_type": "execute_result",
          "data": {
            "image/png": "[encoded data removed]",
            "text/plain": [
              "<IPython.core.display.Image object>"
            ]
          },
          "metadata": {},
          "execution_count": 3
        }
      ]
    },
    {
      "cell_type": "markdown",
      "source": [
        "#Training LSTM Networks"
      ],
      "metadata": {
        "id": "UTZ5Lli1-dmu"
      }
    },
    {
      "cell_type": "markdown",
      "source": [
        "- Training LSTM networks involves several steps, including preparing the data, defining the LSTM architecture, setting the training parameters, and finally training the model. Below is an explanation of each step, followed by a Python code example to demonstrate the process.\n",
        "\n",
        "**Steps in Training LSTM Networks\n",
        "Data Preparation:**\n",
        "- Sequence Data: LSTM networks are designed to handle sequential data. This data should be structured such that each sample is a sequence of time steps, and each time step can have multiple features.\n",
        "- Normalization: Scale the input data to a suitable range, often between 0 and 1.\n",
        "Train-Test Split: Split the data into training and testing sets.\n",
        "\n",
        "**Defining the LSTM Architecture:**\n",
        "- **Input Layer:** Define the shape of the input data.\n",
        "- **LSTM Layers:** Add one or more LSTM layers, specifying the number of units in each layer.\n",
        "- **Dropout Layers:** Optionally add dropout layers to prevent overfitting.\n",
        "- **Dense Layer:** Add a Dense layer for the final output.\n",
        "\n",
        "**Setting Training Parameters:**\n",
        "- Loss Function: Choose an appropriate loss function, e.g., mean squared error for regression tasks or categorical cross-entropy for classification tasks.\n",
        "- Optimizer: Select an optimizer, such as Adam or RMSprop.\n",
        "Batch Size: Define the number of samples per batch.\n",
        "- Epochs: Set the number of epochs for training.\n",
        "\n",
        "**Training the Model:**\n",
        "Use the fit method to train the model on the training data.\n",
        "Optionally, use callbacks like EarlyStopping to monitor training and prevent overfitting.\n"
      ],
      "metadata": {
        "id": "voOJptki-fIF"
      }
    },
    {
      "cell_type": "markdown",
      "source": [
        "####Demonstrating the training of an LSTM network using the Keras library"
      ],
      "metadata": {
        "id": "O9SN7rBx_4G3"
      }
    },
    {
      "cell_type": "code",
      "source": [
        "import numpy as np\n",
        "import tensorflow as tf\n",
        "from tensorflow.keras.models import Sequential\n",
        "from tensorflow.keras.layers import LSTM, Dense, Dropout\n",
        "from sklearn.preprocessing import MinMaxScaler\n",
        "from sklearn.model_selection import train_test_split\n",
        "\n",
        "# Generate synthetic sequential data\n",
        "def generate_data(seq_length, num_samples):\n",
        "    X = []\n",
        "    y = []\n",
        "    for _ in range(num_samples):\n",
        "        seq = np.sin(np.linspace(0, 2 * np.pi, seq_length))\n",
        "        X.append(seq)\n",
        "        y.append(seq[-1])  # Predict the last value of the sequence\n",
        "    X = np.array(X)\n",
        "    y = np.array(y)\n",
        "    return X, y\n",
        "\n",
        "# Data preparation\n",
        "seq_length = 50\n",
        "num_samples = 1000\n",
        "X, y = generate_data(seq_length, num_samples)\n",
        "X = X.reshape((X.shape[0], X.shape[1], 1))  # Reshape to (samples, timesteps, features)\n",
        "\n",
        "# Normalize the data\n",
        "scaler = MinMaxScaler(feature_range=(0, 1))\n",
        "X = scaler.fit_transform(X.reshape(-1, X.shape[-1])).reshape(X.shape)\n",
        "\n",
        "# Train-test split\n",
        "X_train, X_test, y_train, y_test = train_test_split(X, y, test_size=0.2, random_state=42)\n",
        "\n",
        "# Define the LSTM model\n",
        "model = Sequential()\n",
        "model.add(LSTM(50, input_shape=(seq_length, 1), return_sequences=True))\n",
        "model.add(Dropout(0.2))\n",
        "model.add(LSTM(50, return_sequences=False))\n",
        "model.add(Dropout(0.2))\n",
        "model.add(Dense(1))\n",
        "model.compile(optimizer='adam', loss='mean_squared_error')\n",
        "\n",
        "# Train the model\n",
        "history = model.fit(X_train, y_train, epochs=50, batch_size=32, validation_split=0.2, verbose=1)\n",
        "\n",
        "# Evaluate the model\n",
        "loss = model.evaluate(X_test, y_test, verbose=1)\n",
        "print(f'Test Loss: {loss}')\n",
        "\n",
        "# Plot training & validation loss\n",
        "import matplotlib.pyplot as plt\n",
        "\n",
        "plt.plot(history.history['loss'], label='Train Loss')\n",
        "plt.plot(history.history['val_loss'], label='Validation Loss')\n",
        "plt.title('Model Loss')\n",
        "plt.xlabel('Epochs')\n",
        "plt.ylabel('Loss')\n",
        "plt.legend()\n",
        "plt.show()\n"
      ],
      "metadata": {
        "colab": {
          "base_uri": "https://localhost:8080/",
          "height": 1000
        },
        "id": "WIOIjZaMvu-b",
        "outputId": "783bd5bf-0799-4f5b-db70-e973c788f91e"
      },
      "execution_count": null,
      "outputs": [
        {
          "output_type": "stream",
          "name": "stdout",
          "text": [
            "Epoch 1/50\n",
            "20/20 [==============================] - 9s 156ms/step - loss: 1.3985e-04 - val_loss: 9.0409e-06\n",
            "Epoch 2/50\n",
            "20/20 [==============================] - 1s 37ms/step - loss: 3.0396e-05 - val_loss: 4.6179e-08\n",
            "Epoch 3/50\n",
            "20/20 [==============================] - 1s 35ms/step - loss: 1.7424e-05 - val_loss: 5.9972e-07\n",
            "Epoch 4/50\n",
            "20/20 [==============================] - 1s 36ms/step - loss: 1.2395e-05 - val_loss: 2.5494e-07\n",
            "Epoch 5/50\n",
            "20/20 [==============================] - 1s 36ms/step - loss: 9.8575e-06 - val_loss: 4.0806e-08\n",
            "Epoch 6/50\n",
            "20/20 [==============================] - 1s 36ms/step - loss: 9.4455e-06 - val_loss: 6.2078e-07\n",
            "Epoch 7/50\n",
            "20/20 [==============================] - 1s 37ms/step - loss: 8.4591e-06 - val_loss: 3.2629e-08\n",
            "Epoch 8/50\n",
            "20/20 [==============================] - 1s 36ms/step - loss: 7.6017e-06 - val_loss: 3.5007e-07\n",
            "Epoch 9/50\n",
            "20/20 [==============================] - 1s 36ms/step - loss: 6.3229e-06 - val_loss: 5.1676e-08\n",
            "Epoch 10/50\n",
            "20/20 [==============================] - 1s 36ms/step - loss: 6.0314e-06 - val_loss: 3.2698e-08\n",
            "Epoch 11/50\n",
            "20/20 [==============================] - 1s 50ms/step - loss: 5.3517e-06 - val_loss: 1.3502e-06\n",
            "Epoch 12/50\n",
            "20/20 [==============================] - 1s 58ms/step - loss: 5.1029e-06 - val_loss: 6.1918e-07\n",
            "Epoch 13/50\n",
            "20/20 [==============================] - 1s 62ms/step - loss: 4.0992e-06 - val_loss: 1.9666e-08\n",
            "Epoch 14/50\n",
            "20/20 [==============================] - 1s 49ms/step - loss: 3.8026e-06 - val_loss: 4.3103e-07\n",
            "Epoch 15/50\n",
            "20/20 [==============================] - 1s 36ms/step - loss: 3.1878e-06 - val_loss: 9.1056e-09\n",
            "Epoch 16/50\n",
            "20/20 [==============================] - 1s 36ms/step - loss: 2.9138e-06 - val_loss: 2.2938e-07\n",
            "Epoch 17/50\n",
            "20/20 [==============================] - 1s 35ms/step - loss: 3.5271e-06 - val_loss: 2.9469e-07\n",
            "Epoch 18/50\n",
            "20/20 [==============================] - 1s 36ms/step - loss: 2.6768e-06 - val_loss: 1.7549e-08\n",
            "Epoch 19/50\n",
            "20/20 [==============================] - 1s 36ms/step - loss: 2.6441e-06 - val_loss: 3.6072e-07\n",
            "Epoch 20/50\n",
            "20/20 [==============================] - 1s 36ms/step - loss: 2.6975e-06 - val_loss: 6.9887e-07\n",
            "Epoch 21/50\n",
            "20/20 [==============================] - 1s 35ms/step - loss: 2.7356e-06 - val_loss: 4.8112e-09\n",
            "Epoch 22/50\n",
            "20/20 [==============================] - 1s 36ms/step - loss: 1.9957e-06 - val_loss: 1.5777e-07\n",
            "Epoch 23/50\n",
            "20/20 [==============================] - 1s 36ms/step - loss: 2.2354e-06 - val_loss: 3.7618e-07\n",
            "Epoch 24/50\n",
            "20/20 [==============================] - 1s 36ms/step - loss: 2.1783e-06 - val_loss: 8.5893e-07\n",
            "Epoch 25/50\n",
            "20/20 [==============================] - 1s 36ms/step - loss: 2.0528e-06 - val_loss: 1.0614e-07\n",
            "Epoch 26/50\n",
            "20/20 [==============================] - 1s 36ms/step - loss: 1.7354e-06 - val_loss: 3.1298e-07\n",
            "Epoch 27/50\n",
            "20/20 [==============================] - 1s 35ms/step - loss: 1.8438e-06 - val_loss: 7.2893e-08\n",
            "Epoch 28/50\n",
            "20/20 [==============================] - 1s 46ms/step - loss: 1.5288e-06 - val_loss: 1.0101e-07\n",
            "Epoch 29/50\n",
            "20/20 [==============================] - 1s 61ms/step - loss: 1.4334e-06 - val_loss: 3.3770e-08\n",
            "Epoch 30/50\n",
            "20/20 [==============================] - 1s 59ms/step - loss: 1.2375e-06 - val_loss: 7.7837e-09\n",
            "Epoch 31/50\n",
            "20/20 [==============================] - 1s 50ms/step - loss: 1.3795e-06 - val_loss: 1.4210e-07\n",
            "Epoch 32/50\n",
            "20/20 [==============================] - 1s 36ms/step - loss: 1.2529e-06 - val_loss: 9.0612e-09\n",
            "Epoch 33/50\n",
            "20/20 [==============================] - 1s 36ms/step - loss: 1.2563e-06 - val_loss: 7.7342e-08\n",
            "Epoch 34/50\n",
            "20/20 [==============================] - 1s 36ms/step - loss: 1.1676e-06 - val_loss: 2.7382e-10\n",
            "Epoch 35/50\n",
            "20/20 [==============================] - 1s 36ms/step - loss: 1.2060e-06 - val_loss: 6.7870e-10\n",
            "Epoch 36/50\n",
            "20/20 [==============================] - 1s 37ms/step - loss: 1.1498e-06 - val_loss: 1.8330e-08\n",
            "Epoch 37/50\n",
            "20/20 [==============================] - 1s 37ms/step - loss: 1.1780e-06 - val_loss: 7.2332e-08\n",
            "Epoch 38/50\n",
            "20/20 [==============================] - 1s 37ms/step - loss: 1.2769e-06 - val_loss: 1.0169e-07\n",
            "Epoch 39/50\n",
            "20/20 [==============================] - 1s 36ms/step - loss: 1.2176e-06 - val_loss: 2.8933e-08\n",
            "Epoch 40/50\n",
            "20/20 [==============================] - 1s 36ms/step - loss: 1.0589e-06 - val_loss: 5.0779e-10\n",
            "Epoch 41/50\n",
            "20/20 [==============================] - 1s 36ms/step - loss: 8.6178e-07 - val_loss: 1.3007e-07\n",
            "Epoch 42/50\n",
            "20/20 [==============================] - 1s 43ms/step - loss: 9.4138e-07 - val_loss: 2.4085e-09\n",
            "Epoch 43/50\n",
            "20/20 [==============================] - 2s 91ms/step - loss: 9.5316e-07 - val_loss: 2.7753e-07\n",
            "Epoch 44/50\n",
            "20/20 [==============================] - 2s 98ms/step - loss: 9.9075e-07 - val_loss: 4.7088e-07\n",
            "Epoch 45/50\n",
            "20/20 [==============================] - 1s 62ms/step - loss: 8.8074e-07 - val_loss: 3.8136e-11\n",
            "Epoch 46/50\n",
            "20/20 [==============================] - 1s 37ms/step - loss: 8.0111e-07 - val_loss: 4.4377e-08\n",
            "Epoch 47/50\n",
            "20/20 [==============================] - 1s 37ms/step - loss: 6.9665e-07 - val_loss: 7.4768e-10\n",
            "Epoch 48/50\n",
            "20/20 [==============================] - 1s 36ms/step - loss: 7.1818e-07 - val_loss: 4.3692e-09\n",
            "Epoch 49/50\n",
            "20/20 [==============================] - 1s 37ms/step - loss: 7.6593e-07 - val_loss: 3.8133e-08\n",
            "Epoch 50/50\n",
            "20/20 [==============================] - 1s 37ms/step - loss: 7.9996e-07 - val_loss: 8.3754e-08\n",
            "7/7 [==============================] - 1s 13ms/step - loss: 8.3754e-08\n",
            "Test Loss: 8.375388205195122e-08\n"
          ]
        },
        {
          "output_type": "display_data",
          "data": {
            "text/plain": [
              "<Figure size 640x480 with 1 Axes>"
            ],
            "image/png": "[encoded data removed]"
          },
          "metadata": {}
        }
      ]
    },
    {
      "cell_type": "markdown",
      "source": [
        "#Applications of LSTM"
      ],
      "metadata": {
        "id": "8SFi5kESBi35"
      }
    },
    {
      "cell_type": "markdown",
      "source": [
        "####**1. Natural Language Processing (NLP)**\n",
        "\n",
        "**. Language Modeling:**\n",
        "- LSTMs can predict the next word in a sequence of words, which is essential for text generation and language modeling tasks.\n"
      ],
      "metadata": {
        "id": "pDgcMalMBkLN"
      }
    },
    {
      "cell_type": "code",
      "source": [
        "import numpy as np\n",
        "import tensorflow as tf\n",
        "from tensorflow.keras.models import Sequential\n",
        "from tensorflow.keras.layers import LSTM, Dense, Embedding\n",
        "from tensorflow.keras.preprocessing.text import Tokenizer\n",
        "from tensorflow.keras.preprocessing.sequence import pad_sequences\n",
        "\n",
        "# Sample text data\n",
        "texts = [\"I love machine learning\", \"Machine learning is fascinating\", \"Deep learning is a branch of machine learning\"]\n",
        "\n",
        "# Tokenize the text data\n",
        "tokenizer = Tokenizer()\n",
        "tokenizer.fit_on_texts(texts)\n",
        "total_words = len(tokenizer.word_index) + 1\n",
        "\n",
        "# Prepare input sequences\n",
        "input_sequences = []\n",
        "for line in texts:\n",
        "    token_list = tokenizer.texts_to_sequences([line])[0]\n",
        "    for i in range(1, len(token_list)):\n",
        "        n_gram_sequence = token_list[:i+1]\n",
        "        input_sequences.append(n_gram_sequence)\n",
        "\n",
        "# Pad sequences\n",
        "max_sequence_len = max([len(x) for x in input_sequences])\n",
        "input_sequences = np.array(pad_sequences(input_sequences, maxlen=max_sequence_len, padding='pre'))\n",
        "\n",
        "# Create predictors and label\n",
        "X, y = input_sequences[:,:-1], input_sequences[:,-1]\n",
        "y = tf.keras.utils.to_categorical(y, num_classes=total_words)\n",
        "\n",
        "# Define LSTM model\n",
        "model = Sequential()\n",
        "model.add(Embedding(total_words, 10, input_length=max_sequence_len-1))  # Add embedding layer\n",
        "model.add(LSTM(100))\n",
        "model.add(Dense(total_words, activation='softmax'))\n",
        "model.compile(loss='categorical_crossentropy', optimizer='adam', metrics=['accuracy'])\n",
        "model.summary()\n",
        "\n",
        "# Train model\n",
        "model.fit(X, y, epochs=100, verbose=1)\n",
        "\n",
        "# To generate text from the model\n",
        "def generate_text(seed_text, next_words, model, max_sequence_len):\n",
        "    for _ in range(next_words):\n",
        "        token_list = tokenizer.texts_to_sequences([seed_text])[0]\n",
        "        token_list = pad_sequences([token_list], maxlen=max_sequence_len-1, padding='pre')\n",
        "        predicted = model.predict(token_list, verbose=0)\n",
        "        predicted_word_index = np.argmax(predicted, axis=1)[0]\n",
        "        output_word = tokenizer.index_word[predicted_word_index]\n",
        "        seed_text += \" \" + output_word\n",
        "    return seed_text\n",
        "\n",
        "# Example usage of the text generation function\n",
        "seed_text = \"I love\"\n",
        "next_words = 3\n",
        "generated_text = generate_text(seed_text, next_words, model, max_sequence_len)\n",
        "print(generated_text)\n"
      ],
      "metadata": {
        "colab": {
          "base_uri": "https://localhost:8080/"
        },
        "id": "lOSOF4aT_8Ly",
        "outputId": "cd6b8a72-2ee3-4ba7-d9f0-a9751a3e925b"
      },
      "execution_count": null,
      "outputs": [
        {
          "output_type": "stream",
          "name": "stdout",
          "text": [
            "Model: \"sequential_9\"\n",
            "_________________________________________________________________\n",
            " Layer (type)                Output Shape              Param #   \n",
            "=================================================================\n",
            " embedding_3 (Embedding)     (None, 7, 10)             110       \n",
            "                                                                 \n",
            " lstm_10 (LSTM)              (None, 100)               44400     \n",
            "                                                                 \n",
            " dense_9 (Dense)             (None, 11)                1111      \n",
            "                                                                 \n",
            "=================================================================\n",
            "Total params: 45621 (178.21 KB)\n",
            "Trainable params: 45621 (178.21 KB)\n",
            "Non-trainable params: 0 (0.00 Byte)\n",
            "_________________________________________________________________\n",
            "Epoch 1/100\n",
            "1/1 [==============================] - 2s 2s/step - loss: 2.3971 - accuracy: 0.2308\n",
            "Epoch 2/100\n",
            "1/1 [==============================] - 0s 14ms/step - loss: 2.3919 - accuracy: 0.3846\n",
            "Epoch 3/100\n",
            "1/1 [==============================] - 0s 15ms/step - loss: 2.3867 - accuracy: 0.3077\n",
            "Epoch 4/100\n",
            "1/1 [==============================] - 0s 15ms/step - loss: 2.3813 - accuracy: 0.3077\n",
            "Epoch 5/100\n",
            "1/1 [==============================] - 0s 15ms/step - loss: 2.3757 - accuracy: 0.3077\n",
            "Epoch 6/100\n",
            "1/1 [==============================] - 0s 19ms/step - loss: 2.3697 - accuracy: 0.3077\n",
            "Epoch 7/100\n",
            "1/1 [==============================] - 0s 16ms/step - loss: 2.3632 - accuracy: 0.3077\n",
            "Epoch 8/100\n",
            "1/1 [==============================] - 0s 13ms/step - loss: 2.3560 - accuracy: 0.3077\n",
            "Epoch 9/100\n",
            "1/1 [==============================] - 0s 15ms/step - loss: 2.3481 - accuracy: 0.3077\n",
            "Epoch 10/100\n",
            "1/1 [==============================] - 0s 14ms/step - loss: 2.3392 - accuracy: 0.3077\n",
            "Epoch 11/100\n",
            "1/1 [==============================] - 0s 13ms/step - loss: 2.3292 - accuracy: 0.3077\n",
            "Epoch 12/100\n",
            "1/1 [==============================] - 0s 12ms/step - loss: 2.3180 - accuracy: 0.3077\n",
            "Epoch 13/100\n",
            "1/1 [==============================] - 0s 13ms/step - loss: 2.3053 - accuracy: 0.3077\n",
            "Epoch 14/100\n",
            "1/1 [==============================] - 0s 18ms/step - loss: 2.2909 - accuracy: 0.3077\n",
            "Epoch 15/100\n",
            "1/1 [==============================] - 0s 14ms/step - loss: 2.2745 - accuracy: 0.3077\n",
            "Epoch 16/100\n",
            "1/1 [==============================] - 0s 13ms/step - loss: 2.2559 - accuracy: 0.3077\n",
            "Epoch 17/100\n",
            "1/1 [==============================] - 0s 12ms/step - loss: 2.2348 - accuracy: 0.3077\n",
            "Epoch 18/100\n",
            "1/1 [==============================] - 0s 14ms/step - loss: 2.2111 - accuracy: 0.3077\n",
            "Epoch 19/100\n",
            "1/1 [==============================] - 0s 21ms/step - loss: 2.1846 - accuracy: 0.3077\n",
            "Epoch 20/100\n",
            "1/1 [==============================] - 0s 18ms/step - loss: 2.1555 - accuracy: 0.3077\n",
            "Epoch 21/100\n",
            "1/1 [==============================] - 0s 12ms/step - loss: 2.1245 - accuracy: 0.3077\n",
            "Epoch 22/100\n",
            "1/1 [==============================] - 0s 12ms/step - loss: 2.0929 - accuracy: 0.3077\n",
            "Epoch 23/100\n",
            "1/1 [==============================] - 0s 13ms/step - loss: 2.0635 - accuracy: 0.3077\n",
            "Epoch 24/100\n",
            "1/1 [==============================] - 0s 16ms/step - loss: 2.0412 - accuracy: 0.3077\n",
            "Epoch 25/100\n",
            "1/1 [==============================] - 0s 14ms/step - loss: 2.0317 - accuracy: 0.3077\n",
            "Epoch 26/100\n",
            "1/1 [==============================] - 0s 12ms/step - loss: 2.0352 - accuracy: 0.3077\n",
            "Epoch 27/100\n",
            "1/1 [==============================] - 0s 13ms/step - loss: 2.0401 - accuracy: 0.3077\n",
            "Epoch 28/100\n",
            "1/1 [==============================] - 0s 19ms/step - loss: 2.0356 - accuracy: 0.3077\n",
            "Epoch 29/100\n",
            "1/1 [==============================] - 0s 13ms/step - loss: 2.0210 - accuracy: 0.3077\n",
            "Epoch 30/100\n",
            "1/1 [==============================] - 0s 13ms/step - loss: 2.0019 - accuracy: 0.3077\n",
            "Epoch 31/100\n",
            "1/1 [==============================] - 0s 13ms/step - loss: 1.9837 - accuracy: 0.3077\n",
            "Epoch 32/100\n",
            "1/1 [==============================] - 0s 16ms/step - loss: 1.9695 - accuracy: 0.3077\n",
            "Epoch 33/100\n",
            "1/1 [==============================] - 0s 16ms/step - loss: 1.9598 - accuracy: 0.3077\n",
            "Epoch 34/100\n",
            "1/1 [==============================] - 0s 14ms/step - loss: 1.9536 - accuracy: 0.3077\n",
            "Epoch 35/100\n",
            "1/1 [==============================] - 0s 14ms/step - loss: 1.9493 - accuracy: 0.3077\n",
            "Epoch 36/100\n",
            "1/1 [==============================] - 0s 14ms/step - loss: 1.9456 - accuracy: 0.3077\n",
            "Epoch 37/100\n",
            "1/1 [==============================] - 0s 13ms/step - loss: 1.9414 - accuracy: 0.3077\n",
            "Epoch 38/100\n",
            "1/1 [==============================] - 0s 13ms/step - loss: 1.9362 - accuracy: 0.3077\n",
            "Epoch 39/100\n",
            "1/1 [==============================] - 0s 12ms/step - loss: 1.9298 - accuracy: 0.3077\n",
            "Epoch 40/100\n",
            "1/1 [==============================] - 0s 14ms/step - loss: 1.9222 - accuracy: 0.3077\n",
            "Epoch 41/100\n",
            "1/1 [==============================] - 0s 12ms/step - loss: 1.9138 - accuracy: 0.3077\n",
            "Epoch 42/100\n",
            "1/1 [==============================] - 0s 13ms/step - loss: 1.9050 - accuracy: 0.3077\n",
            "Epoch 43/100\n",
            "1/1 [==============================] - 0s 13ms/step - loss: 1.8963 - accuracy: 0.3077\n",
            "Epoch 44/100\n",
            "1/1 [==============================] - 0s 13ms/step - loss: 1.8882 - accuracy: 0.3077\n",
            "Epoch 45/100\n",
            "1/1 [==============================] - 0s 13ms/step - loss: 1.8813 - accuracy: 0.3077\n",
            "Epoch 46/100\n",
            "1/1 [==============================] - 0s 13ms/step - loss: 1.8758 - accuracy: 0.3077\n",
            "Epoch 47/100\n",
            "1/1 [==============================] - 0s 12ms/step - loss: 1.8713 - accuracy: 0.3077\n",
            "Epoch 48/100\n",
            "1/1 [==============================] - 0s 13ms/step - loss: 1.8671 - accuracy: 0.3077\n",
            "Epoch 49/100\n",
            "1/1 [==============================] - 0s 12ms/step - loss: 1.8624 - accuracy: 0.3077\n",
            "Epoch 50/100\n",
            "1/1 [==============================] - 0s 14ms/step - loss: 1.8565 - accuracy: 0.3077\n",
            "Epoch 51/100\n",
            "1/1 [==============================] - 0s 13ms/step - loss: 1.8497 - accuracy: 0.3077\n",
            "Epoch 52/100\n",
            "1/1 [==============================] - 0s 13ms/step - loss: 1.8426 - accuracy: 0.3077\n",
            "Epoch 53/100\n",
            "1/1 [==============================] - 0s 13ms/step - loss: 1.8356 - accuracy: 0.3077\n",
            "Epoch 54/100\n",
            "1/1 [==============================] - 0s 14ms/step - loss: 1.8290 - accuracy: 0.3077\n",
            "Epoch 55/100\n",
            "1/1 [==============================] - 0s 15ms/step - loss: 1.8226 - accuracy: 0.3077\n",
            "Epoch 56/100\n",
            "1/1 [==============================] - 0s 12ms/step - loss: 1.8157 - accuracy: 0.3077\n",
            "Epoch 57/100\n",
            "1/1 [==============================] - 0s 14ms/step - loss: 1.8079 - accuracy: 0.3077\n",
            "Epoch 58/100\n",
            "1/1 [==============================] - 0s 14ms/step - loss: 1.7989 - accuracy: 0.3077\n",
            "Epoch 59/100\n",
            "1/1 [==============================] - 0s 13ms/step - loss: 1.7886 - accuracy: 0.3077\n",
            "Epoch 60/100\n",
            "1/1 [==============================] - 0s 14ms/step - loss: 1.7775 - accuracy: 0.3077\n",
            "Epoch 61/100\n",
            "1/1 [==============================] - 0s 14ms/step - loss: 1.7658 - accuracy: 0.3077\n",
            "Epoch 62/100\n",
            "1/1 [==============================] - 0s 14ms/step - loss: 1.7536 - accuracy: 0.3077\n",
            "Epoch 63/100\n",
            "1/1 [==============================] - 0s 13ms/step - loss: 1.7408 - accuracy: 0.3077\n",
            "Epoch 64/100\n",
            "1/1 [==============================] - 0s 14ms/step - loss: 1.7269 - accuracy: 0.3077\n",
            "Epoch 65/100\n",
            "1/1 [==============================] - 0s 14ms/step - loss: 1.7116 - accuracy: 0.3077\n",
            "Epoch 66/100\n",
            "1/1 [==============================] - 0s 14ms/step - loss: 1.6950 - accuracy: 0.3077\n",
            "Epoch 67/100\n",
            "1/1 [==============================] - 0s 14ms/step - loss: 1.6775 - accuracy: 0.3077\n",
            "Epoch 68/100\n",
            "1/1 [==============================] - 0s 13ms/step - loss: 1.6594 - accuracy: 0.3077\n",
            "Epoch 69/100\n",
            "1/1 [==============================] - 0s 12ms/step - loss: 1.6406 - accuracy: 0.3077\n",
            "Epoch 70/100\n",
            "1/1 [==============================] - 0s 12ms/step - loss: 1.6208 - accuracy: 0.3077\n",
            "Epoch 71/100\n",
            "1/1 [==============================] - 0s 14ms/step - loss: 1.5999 - accuracy: 0.3077\n",
            "Epoch 72/100\n",
            "1/1 [==============================] - 0s 15ms/step - loss: 1.5779 - accuracy: 0.3077\n",
            "Epoch 73/100\n",
            "1/1 [==============================] - 0s 14ms/step - loss: 1.5551 - accuracy: 0.3077\n",
            "Epoch 74/100\n",
            "1/1 [==============================] - 0s 13ms/step - loss: 1.5315 - accuracy: 0.3077\n",
            "Epoch 75/100\n",
            "1/1 [==============================] - 0s 14ms/step - loss: 1.5071 - accuracy: 0.3077\n",
            "Epoch 76/100\n",
            "1/1 [==============================] - 0s 12ms/step - loss: 1.4816 - accuracy: 0.3077\n",
            "Epoch 77/100\n",
            "1/1 [==============================] - 0s 17ms/step - loss: 1.4547 - accuracy: 0.3077\n",
            "Epoch 78/100\n",
            "1/1 [==============================] - 0s 22ms/step - loss: 1.4266 - accuracy: 0.4615\n",
            "Epoch 79/100\n",
            "1/1 [==============================] - 0s 16ms/step - loss: 1.3970 - accuracy: 0.5385\n",
            "Epoch 80/100\n",
            "1/1 [==============================] - 0s 14ms/step - loss: 1.3660 - accuracy: 0.6154\n",
            "Epoch 81/100\n",
            "1/1 [==============================] - 0s 13ms/step - loss: 1.3338 - accuracy: 0.6154\n",
            "Epoch 82/100\n",
            "1/1 [==============================] - 0s 13ms/step - loss: 1.3005 - accuracy: 0.6154\n",
            "Epoch 83/100\n",
            "1/1 [==============================] - 0s 13ms/step - loss: 1.2667 - accuracy: 0.6154\n",
            "Epoch 84/100\n",
            "1/1 [==============================] - 0s 13ms/step - loss: 1.2325 - accuracy: 0.6154\n",
            "Epoch 85/100\n",
            "1/1 [==============================] - 0s 13ms/step - loss: 1.1983 - accuracy: 0.6154\n",
            "Epoch 86/100\n",
            "1/1 [==============================] - 0s 17ms/step - loss: 1.1643 - accuracy: 0.6154\n",
            "Epoch 87/100\n",
            "1/1 [==============================] - 0s 13ms/step - loss: 1.1309 - accuracy: 0.6154\n",
            "Epoch 88/100\n",
            "1/1 [==============================] - 0s 16ms/step - loss: 1.0982 - accuracy: 0.6154\n",
            "Epoch 89/100\n",
            "1/1 [==============================] - 0s 13ms/step - loss: 1.0668 - accuracy: 0.6923\n",
            "Epoch 90/100\n",
            "1/1 [==============================] - 0s 13ms/step - loss: 1.0369 - accuracy: 0.6923\n",
            "Epoch 91/100\n",
            "1/1 [==============================] - 0s 15ms/step - loss: 1.0087 - accuracy: 0.6923\n",
            "Epoch 92/100\n",
            "1/1 [==============================] - 0s 15ms/step - loss: 0.9826 - accuracy: 0.7692\n",
            "Epoch 93/100\n",
            "1/1 [==============================] - 0s 15ms/step - loss: 0.9605 - accuracy: 0.6923\n",
            "Epoch 94/100\n",
            "1/1 [==============================] - 0s 16ms/step - loss: 0.9409 - accuracy: 0.7692\n",
            "Epoch 95/100\n",
            "1/1 [==============================] - 0s 15ms/step - loss: 0.9175 - accuracy: 0.6923\n",
            "Epoch 96/100\n",
            "1/1 [==============================] - 0s 16ms/step - loss: 0.8907 - accuracy: 0.6923\n",
            "Epoch 97/100\n",
            "1/1 [==============================] - 0s 15ms/step - loss: 0.8778 - accuracy: 0.7692\n",
            "Epoch 98/100\n",
            "1/1 [==============================] - 0s 13ms/step - loss: 0.8586 - accuracy: 0.6923\n",
            "Epoch 99/100\n",
            "1/1 [==============================] - 0s 14ms/step - loss: 0.8328 - accuracy: 0.7692\n",
            "Epoch 100/100\n",
            "1/1 [==============================] - 0s 13ms/step - loss: 0.8242 - accuracy: 0.7692\n"
          ]
        },
        {
          "output_type": "stream",
          "name": "stderr",
          "text": [
            "WARNING:tensorflow:5 out of the last 14 calls to <function Model.make_predict_function.<locals>.predict_function at 0x7f972355a320> triggered tf.function retracing. Tracing is expensive and the excessive number of tracings could be due to (1) creating @tf.function repeatedly in a loop, (2) passing tensors with different shapes, (3) passing Python objects instead of tensors. For (1), please define your @tf.function outside of the loop. For (2), @tf.function has reduce_retracing=True option that can avoid unnecessary retracing. For (3), please refer to https://www.tensorflow.org/guide/function#controlling_retracing and https://www.tensorflow.org/api_docs/python/tf/function for  more details.\n"
          ]
        },
        {
          "output_type": "stream",
          "name": "stdout",
          "text": [
            "I love learning learning is\n"
          ]
        }
      ]
    },
    {
      "cell_type": "markdown",
      "source": [
        "**Machine Translation:**\n",
        "- LSTMs are used in translation systems to convert text from one language to another.\n",
        "\n",
        "**Example:**\n",
        "- Google Translate and other translation services.\n",
        "\n",
        "c. **Sentiment Analysis:**\n",
        "- Analyzing the sentiment of a given text (positive, negative, neutral) is a common application of LSTMs.\n",
        "\n",
        "**Example:**\n",
        "- Analyzing customer reviews to determine overall satisfaction.\n",
        "\n",
        "\n",
        "\n"
      ],
      "metadata": {
        "id": "fQvuKoDHB0xN"
      }
    },
    {
      "cell_type": "markdown",
      "source": [
        "####**2. Speech Recognition and Synthesis**\n",
        "\n",
        "- LSTMs can model temporal sequences of audio data, making them suitable for speech recognition and synthesis tasks.\n",
        "\n",
        "**Example:**\n",
        "- Voice assistants like Siri, Google Assistant, and Amazon Alexa."
      ],
      "metadata": {
        "id": "CVu0oj5WElXi"
      }
    },
    {
      "cell_type": "code",
      "source": [
        "from tensorflow.keras.models import Sequential\n",
        "from tensorflow.keras.layers import LSTM, Dense\n",
        "import numpy as np\n",
        "\n",
        "# Generate synthetic audio sequence data\n",
        "def generate_audio_data(num_samples, timesteps, features):\n",
        "    X = np.random.rand(num_samples, timesteps, features)\n",
        "    y = np.random.randint(0, 2, num_samples)\n",
        "    return X, y\n",
        "\n",
        "# Data preparation\n",
        "num_samples = 1000\n",
        "timesteps = 100\n",
        "features = 13  # Number of MFCC features\n",
        "X, y = generate_audio_data(num_samples, timesteps, features)\n",
        "\n",
        "# Define LSTM model\n",
        "model = Sequential()\n",
        "model.add(LSTM(50, input_shape=(timesteps, features), return_sequences=True))\n",
        "model.add(LSTM(50))\n",
        "model.add(Dense(1, activation='sigmoid'))\n",
        "model.compile(optimizer='adam', loss='binary_crossentropy', metrics=['accuracy'])\n",
        "\n",
        "# Train the model\n",
        "model.fit(X, y, epochs=10, batch_size=32, validation_split=0.2)\n"
      ],
      "metadata": {
        "colab": {
          "base_uri": "https://localhost:8080/"
        },
        "id": "6tWPZHZxBz25",
        "outputId": "688da6f0-b9f0-4a3a-9219-bd2e0e72997b"
      },
      "execution_count": null,
      "outputs": [
        {
          "output_type": "stream",
          "name": "stdout",
          "text": [
            "Epoch 1/10\n",
            "25/25 [==============================] - 7s 118ms/step - loss: 0.6964 - accuracy: 0.4938 - val_loss: 0.6975 - val_accuracy: 0.4400\n",
            "Epoch 2/10\n",
            "25/25 [==============================] - 2s 77ms/step - loss: 0.6942 - accuracy: 0.5100 - val_loss: 0.6968 - val_accuracy: 0.4400\n",
            "Epoch 3/10\n",
            "25/25 [==============================] - 2s 81ms/step - loss: 0.6950 - accuracy: 0.4762 - val_loss: 0.6970 - val_accuracy: 0.4400\n",
            "Epoch 4/10\n",
            "25/25 [==============================] - 3s 126ms/step - loss: 0.6932 - accuracy: 0.4863 - val_loss: 0.6927 - val_accuracy: 0.5450\n",
            "Epoch 5/10\n",
            "25/25 [==============================] - 2s 84ms/step - loss: 0.6944 - accuracy: 0.5200 - val_loss: 0.6990 - val_accuracy: 0.4400\n",
            "Epoch 6/10\n",
            "25/25 [==============================] - 2s 74ms/step - loss: 0.6938 - accuracy: 0.4850 - val_loss: 0.6941 - val_accuracy: 0.4550\n",
            "Epoch 7/10\n",
            "25/25 [==============================] - 2s 82ms/step - loss: 0.6929 - accuracy: 0.5125 - val_loss: 0.6968 - val_accuracy: 0.4450\n",
            "Epoch 8/10\n",
            "25/25 [==============================] - 2s 75ms/step - loss: 0.6921 - accuracy: 0.5188 - val_loss: 0.6957 - val_accuracy: 0.4350\n",
            "Epoch 9/10\n",
            "25/25 [==============================] - 2s 82ms/step - loss: 0.6933 - accuracy: 0.5250 - val_loss: 0.7005 - val_accuracy: 0.4450\n",
            "Epoch 10/10\n",
            "25/25 [==============================] - 3s 118ms/step - loss: 0.6931 - accuracy: 0.4938 - val_loss: 0.6980 - val_accuracy: 0.4550\n"
          ]
        },
        {
          "output_type": "execute_result",
          "data": {
            "text/plain": [
              "<keras.src.callbacks.History at 0x7f9726862f20>"
            ]
          },
          "metadata": {},
          "execution_count": 11
        }
      ]
    },
    {
      "cell_type": "markdown",
      "source": [
        "####**3. Time Series Forecasting**\n",
        "- LSTMs are effective in forecasting future values of a sequence based on past observations.\n",
        "\n",
        "**Example:**\n",
        "- Predicting stock prices, weather forecasting, and demand forecasting."
      ],
      "metadata": {
        "id": "t84fvMzfJ6XB"
      }
    },
    {
      "cell_type": "code",
      "source": [
        "import numpy as np\n",
        "import pandas as pd\n",
        "from sklearn.preprocessing import MinMaxScaler\n",
        "from tensorflow.keras.models import Sequential\n",
        "from tensorflow.keras.layers import LSTM, Dense\n",
        "\n",
        "# Generate synthetic time series data\n",
        "def generate_time_series(num_samples, timesteps):\n",
        "    data = np.sin(np.linspace(0, num_samples, num_samples*timesteps))\n",
        "    return data.reshape((num_samples, timesteps, 1))\n",
        "\n",
        "# Data preparation\n",
        "timesteps = 10\n",
        "num_samples = 1000\n",
        "data = generate_time_series(num_samples, timesteps)\n",
        "scaler = MinMaxScaler()\n",
        "data = scaler.fit_transform(data.reshape(-1, 1)).reshape(num_samples, timesteps, 1)\n",
        "\n",
        "# Split data into training and testing sets\n",
        "X_train, y_train = data[:800, :-1], data[:800, -1]\n",
        "X_test, y_test = data[800:, :-1], data[800:, -1]\n",
        "\n",
        "# Define LSTM model\n",
        "model = Sequential()\n",
        "model.add(LSTM(50, input_shape=(timesteps-1, 1)))\n",
        "model.add(Dense(1))\n",
        "model.compile(optimizer='adam', loss='mean_squared_error')\n",
        "\n",
        "# Train the model\n",
        "model.fit(X_train, y_train, epochs=10, batch_size=32, validation_split=0.2)\n",
        "\n",
        "# Evaluate the model\n",
        "loss = model.evaluate(X_test, y_test, verbose=1)\n",
        "print(f'Test Loss: {loss}')\n"
      ],
      "metadata": {
        "colab": {
          "base_uri": "https://localhost:8080/"
        },
        "id": "EdsUQr6QEwQT",
        "outputId": "9b2aa8ef-233c-475d-88cf-b81af2b88061"
      },
      "execution_count": null,
      "outputs": [
        {
          "output_type": "stream",
          "name": "stdout",
          "text": [
            "Epoch 1/10\n",
            "20/20 [==============================] - 3s 31ms/step - loss: 0.1621 - val_loss: 0.0417\n",
            "Epoch 2/10\n",
            "20/20 [==============================] - 0s 7ms/step - loss: 0.0401 - val_loss: 0.0343\n",
            "Epoch 3/10\n",
            "20/20 [==============================] - 0s 7ms/step - loss: 0.0302 - val_loss: 0.0288\n",
            "Epoch 4/10\n",
            "20/20 [==============================] - 0s 7ms/step - loss: 0.0274 - val_loss: 0.0255\n",
            "Epoch 5/10\n",
            "20/20 [==============================] - 0s 6ms/step - loss: 0.0248 - val_loss: 0.0238\n",
            "Epoch 6/10\n",
            "20/20 [==============================] - 0s 6ms/step - loss: 0.0229 - val_loss: 0.0217\n",
            "Epoch 7/10\n",
            "20/20 [==============================] - 0s 9ms/step - loss: 0.0208 - val_loss: 0.0194\n",
            "Epoch 8/10\n",
            "20/20 [==============================] - 0s 12ms/step - loss: 0.0182 - val_loss: 0.0168\n",
            "Epoch 9/10\n",
            "20/20 [==============================] - 0s 9ms/step - loss: 0.0151 - val_loss: 0.0134\n",
            "Epoch 10/10\n",
            "20/20 [==============================] - 0s 10ms/step - loss: 0.0112 - val_loss: 0.0097\n",
            "7/7 [==============================] - 1s 6ms/step - loss: 0.0096\n",
            "Test Loss: 0.009629114530980587\n"
          ]
        }
      ]
    },
    {
      "cell_type": "markdown",
      "source": [
        "####**4. Sequence-to-Sequence Learning**\n",
        "- LSTMs can be used in tasks where the input and output are both sequences, such as sequence generation and sequence classification.\n",
        "\n",
        "**Example:**\n",
        "- Generating captions for images and translating video frames into descriptive text."
      ],
      "metadata": {
        "id": "BYkzdyYJKN7V"
      }
    },
    {
      "cell_type": "markdown",
      "source": [
        "####**5. Anomaly Detection**\n",
        "- LSTMs are used to detect anomalies in sequential data by learning normal patterns and identifying deviations.\n",
        "\n",
        "**Example:**\n",
        "- Detecting fraudulent transactions in financial data."
      ],
      "metadata": {
        "id": "3M6ghnufKR24"
      }
    },
    {
      "cell_type": "markdown",
      "source": [
        "####**6. Healthcare and Biomedical Applications**\n",
        "- LSTMs can analyze and predict patient health metrics over time.\n",
        "\n",
        "**Example:**\n",
        "- Predicting disease progression or monitoring vital signs in real-time."
      ],
      "metadata": {
        "id": "T92cJcVwKa5Q"
      }
    },
    {
      "cell_type": "code",
      "source": [
        "from tensorflow.keras.models import Sequential\n",
        "from tensorflow.keras.layers import LSTM, Dense\n",
        "import numpy as np\n",
        "\n",
        "# Generate synthetic healthcare time series data\n",
        "def generate_healthcare_data(num_samples, timesteps, features):\n",
        "    X = np.random.rand(num_samples, timesteps, features)\n",
        "    y = np.random.randint(0, 2, num_samples)\n",
        "    return X, y\n",
        "\n",
        "# Data preparation\n",
        "num_samples = 1000\n",
        "timesteps = 30\n",
        "features = 5  # Number of health metrics\n",
        "X, y = generate_healthcare_data(num_samples, timesteps, features)\n",
        "\n",
        "# Define LSTM model\n",
        "model = Sequential()\n",
        "model.add(LSTM(50, input_shape=(timesteps, features), return_sequences=True))\n",
        "model.add(LSTM(50))\n",
        "model.add(Dense(1, activation='sigmoid'))\n",
        "model.compile(optimizer='adam', loss='binary_crossentropy', metrics=['accuracy'])\n",
        "\n",
        "# Train the model\n",
        "model.fit(X, y, epochs=10, batch_size=32, validation_split=0.2)\n"
      ],
      "metadata": {
        "colab": {
          "base_uri": "https://localhost:8080/"
        },
        "id": "cv95x-o2KHiZ",
        "outputId": "7faf4d4c-55ff-4cc2-9d9c-c3e7e1834388"
      },
      "execution_count": null,
      "outputs": [
        {
          "output_type": "stream",
          "name": "stdout",
          "text": [
            "Epoch 1/10\n",
            "25/25 [==============================] - 6s 82ms/step - loss: 0.6959 - accuracy: 0.4812 - val_loss: 0.6988 - val_accuracy: 0.4600\n",
            "Epoch 2/10\n",
            "25/25 [==============================] - 1s 24ms/step - loss: 0.6925 - accuracy: 0.5113 - val_loss: 0.6918 - val_accuracy: 0.5450\n",
            "Epoch 3/10\n",
            "25/25 [==============================] - 1s 24ms/step - loss: 0.6934 - accuracy: 0.5013 - val_loss: 0.6934 - val_accuracy: 0.4650\n",
            "Epoch 4/10\n",
            "25/25 [==============================] - 1s 25ms/step - loss: 0.6925 - accuracy: 0.5125 - val_loss: 0.6938 - val_accuracy: 0.4750\n",
            "Epoch 5/10\n",
            "25/25 [==============================] - 1s 24ms/step - loss: 0.6920 - accuracy: 0.5337 - val_loss: 0.6945 - val_accuracy: 0.4850\n",
            "Epoch 6/10\n",
            "25/25 [==============================] - 1s 25ms/step - loss: 0.6927 - accuracy: 0.5312 - val_loss: 0.6934 - val_accuracy: 0.5100\n",
            "Epoch 7/10\n",
            "25/25 [==============================] - 1s 24ms/step - loss: 0.6962 - accuracy: 0.4825 - val_loss: 0.6974 - val_accuracy: 0.4600\n",
            "Epoch 8/10\n",
            "25/25 [==============================] - 1s 24ms/step - loss: 0.6922 - accuracy: 0.5475 - val_loss: 0.6933 - val_accuracy: 0.5350\n",
            "Epoch 9/10\n",
            "25/25 [==============================] - 1s 25ms/step - loss: 0.6917 - accuracy: 0.5450 - val_loss: 0.6954 - val_accuracy: 0.4800\n",
            "Epoch 10/10\n",
            "25/25 [==============================] - 1s 24ms/step - loss: 0.6923 - accuracy: 0.5213 - val_loss: 0.6933 - val_accuracy: 0.5150\n"
          ]
        },
        {
          "output_type": "execute_result",
          "data": {
            "text/plain": [
              "<keras.src.callbacks.History at 0x7f9726a9a050>"
            ]
          },
          "metadata": {},
          "execution_count": 13
        }
      ]
    },
    {
      "cell_type": "markdown",
      "source": [
        "#Variants of LSTM"
      ],
      "metadata": {
        "id": "AEHSLEUbKwk-"
      }
    },
    {
      "cell_type": "markdown",
      "source": [
        "**Gated Recurrent Unit (GRU):**\n",
        "- GRUs are a simplified version of LSTMs that combine the forget and input gates into a single update gate.\n",
        "- They have fewer parameters compared to LSTMs, making them computationally more efficient.\n",
        "- Despite their simplicity, GRUs have been shown to perform comparably to LSTMs in many tasks.\n",
        "\n",
        "**Peephole LSTM:**\n",
        "- Peephole LSTMs extend the standard LSTM architecture by allowing the gates to access the cell state directly (via \"peepholes\").\n",
        "- This enables the gates to incorporate additional information about the cell state during the gating process.\n",
        "Peephole connections provide LSTMs with more expressive power and can improve their performance on certain tasks.\n",
        "\n",
        "**Depth-Gated LSTM:**\n",
        "- Depth-gated LSTMs introduce depth-wise gating mechanisms that operate independently along the depth dimension of the hidden state.\n",
        "- This allows the LSTM to selectively update or reset different parts of the hidden state based on the input and current state.\n",
        "- Depth-gated LSTMs have been shown to achieve better performance than standard LSTMs on tasks requiring long-range dependencies.\n",
        "\n",
        "**Clockwork RNN:**\n",
        "- Clockwork RNNs partition the hidden units into different groups, each operating at a different clock rate.\n",
        "Units in faster groups update more frequently than units in slower groups, allowing the network to allocate computational resources dynamically.\n",
        "- This architecture is particularly useful for processing sequences with hierarchical structures or varying time scales.\n",
        "\n",
        "**LSTM with Forget Gate Bias:**\n",
        "- Standard LSTMs have a forget gate that controls how much of the previous cell state to retain.\n",
        "LSTM variants with forget gate bias introduce a learnable bias term to the forget gate, allowing the network to adaptively adjust the forgetting behavior.\n",
        "- This can help mitigate the vanishing gradient problem and improve the model's ability to retain long-term dependencies.\n",
        "\n",
        "**Attention-based LSTMs:**\n",
        "- Attention mechanisms can be integrated into LSTM architectures to selectively focus on relevant parts of the input sequence.\n",
        "- This allows the model to dynamically adjust its attention based on the input context, improving its ability to capture important information.\n",
        "- Attention-based LSTMs have been particularly successful in tasks involving variable-length sequences or where certain parts of the input are more important than others."
      ],
      "metadata": {
        "id": "O2FdgvbOK32w"
      }
    },
    {
      "cell_type": "markdown",
      "source": [
        "#Implementation of LSTM"
      ],
      "metadata": {
        "id": "DeVTjAJRLs_k"
      }
    },
    {
      "cell_type": "markdown",
      "source": [
        "####Setting Up the Environment"
      ],
      "metadata": {
        "id": "nioGwGAVLuVO"
      }
    },
    {
      "cell_type": "code",
      "source": [
        "pip install tensorflow\n"
      ],
      "metadata": {
        "colab": {
          "base_uri": "https://localhost:8080/"
        },
        "id": "9OhgwBSeKjdj",
        "outputId": "a154ed62-49de-4d95-fcb6-2edbb2893328"
      },
      "execution_count": null,
      "outputs": [
        {
          "output_type": "stream",
          "name": "stdout",
          "text": [
            "Requirement already satisfied: tensorflow in /usr/local/lib/python3.10/dist-packages (2.15.0)\n",
            "Requirement already satisfied: absl-py>=1.0.0 in /usr/local/lib/python3.10/dist-packages (from tensorflow) (1.4.0)\n",
            "Requirement already satisfied: astunparse>=1.6.0 in /usr/local/lib/python3.10/dist-packages (from tensorflow) (1.6.3)\n",
            "Requirement already satisfied: flatbuffers>=23.5.26 in /usr/local/lib/python3.10/dist-packages (from tensorflow) (24.3.25)\n",
            "Requirement already satisfied: gast!=0.5.0,!=0.5.1,!=0.5.2,>=0.2.1 in /usr/local/lib/python3.10/dist-packages (from tensorflow) (0.5.4)\n",
            "Requirement already satisfied: google-pasta>=0.1.1 in /usr/local/lib/python3.10/dist-packages (from tensorflow) (0.2.0)\n",
            "Requirement already satisfied: h5py>=2.9.0 in /usr/local/lib/python3.10/dist-packages (from tensorflow) (3.9.0)\n",
            "Requirement already satisfied: libclang>=13.0.0 in /usr/local/lib/python3.10/dist-packages (from tensorflow) (18.1.1)\n",
            "Requirement already satisfied: ml-dtypes~=0.2.0 in /usr/local/lib/python3.10/dist-packages (from tensorflow) (0.2.0)\n",
            "Requirement already satisfied: numpy<2.0.0,>=1.23.5 in /usr/local/lib/python3.10/dist-packages (from tensorflow) (1.25.2)\n",
            "Requirement already satisfied: opt-einsum>=2.3.2 in /usr/local/lib/python3.10/dist-packages (from tensorflow) (3.3.0)\n",
            "Requirement already satisfied: packaging in /usr/local/lib/python3.10/dist-packages (from tensorflow) (24.0)\n",
            "Requirement already satisfied: protobuf!=4.21.0,!=4.21.1,!=4.21.2,!=4.21.3,!=4.21.4,!=4.21.5,<5.0.0dev,>=3.20.3 in /usr/local/lib/python3.10/dist-packages (from tensorflow) (3.20.3)\n",
            "Requirement already satisfied: setuptools in /usr/local/lib/python3.10/dist-packages (from tensorflow) (67.7.2)\n",
            "Requirement already satisfied: six>=1.12.0 in /usr/local/lib/python3.10/dist-packages (from tensorflow) (1.16.0)\n",
            "Requirement already satisfied: termcolor>=1.1.0 in /usr/local/lib/python3.10/dist-packages (from tensorflow) (2.4.0)\n",
            "Requirement already satisfied: typing-extensions>=3.6.6 in /usr/local/lib/python3.10/dist-packages (from tensorflow) (4.12.0)\n",
            "Requirement already satisfied: wrapt<1.15,>=1.11.0 in /usr/local/lib/python3.10/dist-packages (from tensorflow) (1.14.1)\n",
            "Requirement already satisfied: tensorflow-io-gcs-filesystem>=0.23.1 in /usr/local/lib/python3.10/dist-packages (from tensorflow) (0.37.0)\n",
            "Requirement already satisfied: grpcio<2.0,>=1.24.3 in /usr/local/lib/python3.10/dist-packages (from tensorflow) (1.64.0)\n",
            "Requirement already satisfied: tensorboard<2.16,>=2.15 in /usr/local/lib/python3.10/dist-packages (from tensorflow) (2.15.2)\n",
            "Requirement already satisfied: tensorflow-estimator<2.16,>=2.15.0 in /usr/local/lib/python3.10/dist-packages (from tensorflow) (2.15.0)\n",
            "Requirement already satisfied: keras<2.16,>=2.15.0 in /usr/local/lib/python3.10/dist-packages (from tensorflow) (2.15.0)\n",
            "Requirement already satisfied: wheel<1.0,>=0.23.0 in /usr/local/lib/python3.10/dist-packages (from astunparse>=1.6.0->tensorflow) (0.43.0)\n",
            "Requirement already satisfied: google-auth<3,>=1.6.3 in /usr/local/lib/python3.10/dist-packages (from tensorboard<2.16,>=2.15->tensorflow) (2.27.0)\n",
            "Requirement already satisfied: google-auth-oauthlib<2,>=0.5 in /usr/local/lib/python3.10/dist-packages (from tensorboard<2.16,>=2.15->tensorflow) (1.2.0)\n",
            "Requirement already satisfied: markdown>=2.6.8 in /usr/local/lib/python3.10/dist-packages (from tensorboard<2.16,>=2.15->tensorflow) (3.6)\n",
            "Requirement already satisfied: requests<3,>=2.21.0 in /usr/local/lib/python3.10/dist-packages (from tensorboard<2.16,>=2.15->tensorflow) (2.31.0)\n",
            "Requirement already satisfied: tensorboard-data-server<0.8.0,>=0.7.0 in /usr/local/lib/python3.10/dist-packages (from tensorboard<2.16,>=2.15->tensorflow) (0.7.2)\n",
            "Requirement already satisfied: werkzeug>=1.0.1 in /usr/local/lib/python3.10/dist-packages (from tensorboard<2.16,>=2.15->tensorflow) (3.0.3)\n",
            "Requirement already satisfied: cachetools<6.0,>=2.0.0 in /usr/local/lib/python3.10/dist-packages (from google-auth<3,>=1.6.3->tensorboard<2.16,>=2.15->tensorflow) (5.3.3)\n",
            "Requirement already satisfied: pyasn1-modules>=0.2.1 in /usr/local/lib/python3.10/dist-packages (from google-auth<3,>=1.6.3->tensorboard<2.16,>=2.15->tensorflow) (0.4.0)\n",
            "Requirement already satisfied: rsa<5,>=3.1.4 in /usr/local/lib/python3.10/dist-packages (from google-auth<3,>=1.6.3->tensorboard<2.16,>=2.15->tensorflow) (4.9)\n",
            "Requirement already satisfied: requests-oauthlib>=0.7.0 in /usr/local/lib/python3.10/dist-packages (from google-auth-oauthlib<2,>=0.5->tensorboard<2.16,>=2.15->tensorflow) (1.3.1)\n",
            "Requirement already satisfied: charset-normalizer<4,>=2 in /usr/local/lib/python3.10/dist-packages (from requests<3,>=2.21.0->tensorboard<2.16,>=2.15->tensorflow) (3.3.2)\n",
            "Requirement already satisfied: idna<4,>=2.5 in /usr/local/lib/python3.10/dist-packages (from requests<3,>=2.21.0->tensorboard<2.16,>=2.15->tensorflow) (3.7)\n",
            "Requirement already satisfied: urllib3<3,>=1.21.1 in /usr/local/lib/python3.10/dist-packages (from requests<3,>=2.21.0->tensorboard<2.16,>=2.15->tensorflow) (2.0.7)\n",
            "Requirement already satisfied: certifi>=2017.4.17 in /usr/local/lib/python3.10/dist-packages (from requests<3,>=2.21.0->tensorboard<2.16,>=2.15->tensorflow) (2024.2.2)\n",
            "Requirement already satisfied: MarkupSafe>=2.1.1 in /usr/local/lib/python3.10/dist-packages (from werkzeug>=1.0.1->tensorboard<2.16,>=2.15->tensorflow) (2.1.5)\n",
            "Requirement already satisfied: pyasn1<0.7.0,>=0.4.6 in /usr/local/lib/python3.10/dist-packages (from pyasn1-modules>=0.2.1->google-auth<3,>=1.6.3->tensorboard<2.16,>=2.15->tensorflow) (0.6.0)\n",
            "Requirement already satisfied: oauthlib>=3.0.0 in /usr/local/lib/python3.10/dist-packages (from requests-oauthlib>=0.7.0->google-auth-oauthlib<2,>=0.5->tensorboard<2.16,>=2.15->tensorflow) (3.2.2)\n"
          ]
        }
      ]
    },
    {
      "cell_type": "markdown",
      "source": [
        "####Importing Necessary Libraries"
      ],
      "metadata": {
        "id": "XKCGns_-Lzw6"
      }
    },
    {
      "cell_type": "code",
      "source": [
        "import numpy as np\n",
        "import tensorflow as tf\n",
        "from tensorflow.keras.models import Sequential\n",
        "from tensorflow.keras.layers import LSTM, Dense, Dropout\n",
        "from sklearn.model_selection import train_test_split\n",
        "from sklearn.preprocessing import MinMaxScaler\n"
      ],
      "metadata": {
        "id": "vcvJ_h5EL3ck"
      },
      "execution_count": null,
      "outputs": []
    },
    {
      "cell_type": "markdown",
      "source": [
        "####Preparing the Data"
      ],
      "metadata": {
        "id": "2mkVbUjzL5c7"
      }
    },
    {
      "cell_type": "code",
      "source": [
        "# Generate synthetic sequential data\n",
        "def generate_synthetic_data(timesteps, features, samples):\n",
        "    X = np.random.rand(samples, timesteps, features)\n",
        "    y = np.random.randint(2, size=samples)\n",
        "    return X, y\n",
        "\n",
        "timesteps = 10  # Number of time steps\n",
        "features = 1    # Number of features\n",
        "samples = 1000  # Number of samples\n",
        "\n",
        "X, y = generate_synthetic_data(timesteps, features, samples)\n",
        "\n",
        "# Scale the data\n",
        "scaler = MinMaxScaler()\n",
        "X = X.reshape(-1, features)  # Reshape for scaling\n",
        "X = scaler.fit_transform(X)\n",
        "X = X.reshape(samples, timesteps, features)\n",
        "\n",
        "# Split the data\n",
        "X_train, X_test, y_train, y_test = train_test_split(X, y, test_size=0.2, random_state=42)\n"
      ],
      "metadata": {
        "id": "9Q8vxsfrL9CW"
      },
      "execution_count": null,
      "outputs": []
    },
    {
      "cell_type": "markdown",
      "source": [
        "####Building the LSTM Model"
      ],
      "metadata": {
        "id": "MnJKpo8TMAJT"
      }
    },
    {
      "cell_type": "code",
      "source": [
        "model = Sequential()\n",
        "model.add(LSTM(units=50, return_sequences=True, input_shape=(timesteps, features)))\n",
        "model.add(Dropout(0.2))\n",
        "model.add(LSTM(units=50, return_sequences=False))\n",
        "model.add(Dropout(0.2))\n",
        "model.add(Dense(units=1, activation='sigmoid'))\n",
        "\n",
        "model.compile(optimizer='adam', loss='binary_crossentropy', metrics=['accuracy'])\n",
        "\n",
        "model.summary()\n"
      ],
      "metadata": {
        "colab": {
          "base_uri": "https://localhost:8080/"
        },
        "id": "iHhCdMqtMHbc",
        "outputId": "eff8c283-e8a0-4bd0-af13-45c56b457077"
      },
      "execution_count": null,
      "outputs": [
        {
          "output_type": "stream",
          "name": "stdout",
          "text": [
            "Model: \"sequential_13\"\n",
            "_________________________________________________________________\n",
            " Layer (type)                Output Shape              Param #   \n",
            "=================================================================\n",
            " lstm_16 (LSTM)              (None, 10, 50)            10400     \n",
            "                                                                 \n",
            " dropout_2 (Dropout)         (None, 10, 50)            0         \n",
            "                                                                 \n",
            " lstm_17 (LSTM)              (None, 50)                20200     \n",
            "                                                                 \n",
            " dropout_3 (Dropout)         (None, 50)                0         \n",
            "                                                                 \n",
            " dense_13 (Dense)            (None, 1)                 51        \n",
            "                                                                 \n",
            "=================================================================\n",
            "Total params: 30651 (119.73 KB)\n",
            "Trainable params: 30651 (119.73 KB)\n",
            "Non-trainable params: 0 (0.00 Byte)\n",
            "_________________________________________________________________\n"
          ]
        }
      ]
    },
    {
      "cell_type": "markdown",
      "source": [
        "####Training the Model"
      ],
      "metadata": {
        "id": "gjYDBDOTMOc5"
      }
    },
    {
      "cell_type": "code",
      "source": [
        "history = model.fit(X_train, y_train, epochs=20, batch_size=32, validation_split=0.2)\n"
      ],
      "metadata": {
        "colab": {
          "base_uri": "https://localhost:8080/"
        },
        "id": "1DKq_1UTMPzL",
        "outputId": "b31c44c8-980d-4093-f692-c1b18987b615"
      },
      "execution_count": null,
      "outputs": [
        {
          "output_type": "stream",
          "name": "stdout",
          "text": [
            "Epoch 1/20\n",
            "20/20 [==============================] - 18s 235ms/step - loss: 0.6934 - accuracy: 0.5016 - val_loss: 0.6934 - val_accuracy: 0.4875\n",
            "Epoch 2/20\n",
            "20/20 [==============================] - 0s 22ms/step - loss: 0.6940 - accuracy: 0.5078 - val_loss: 0.6957 - val_accuracy: 0.4875\n",
            "Epoch 3/20\n",
            "20/20 [==============================] - 0s 14ms/step - loss: 0.6924 - accuracy: 0.5141 - val_loss: 0.6940 - val_accuracy: 0.4875\n",
            "Epoch 4/20\n",
            "20/20 [==============================] - 0s 12ms/step - loss: 0.6918 - accuracy: 0.5297 - val_loss: 0.6936 - val_accuracy: 0.4875\n",
            "Epoch 5/20\n",
            "20/20 [==============================] - 0s 13ms/step - loss: 0.6932 - accuracy: 0.4938 - val_loss: 0.6938 - val_accuracy: 0.4875\n",
            "Epoch 6/20\n",
            "20/20 [==============================] - 0s 12ms/step - loss: 0.6931 - accuracy: 0.5188 - val_loss: 0.6938 - val_accuracy: 0.4875\n",
            "Epoch 7/20\n",
            "20/20 [==============================] - 0s 12ms/step - loss: 0.6940 - accuracy: 0.4563 - val_loss: 0.6935 - val_accuracy: 0.4938\n",
            "Epoch 8/20\n",
            "20/20 [==============================] - 0s 13ms/step - loss: 0.6925 - accuracy: 0.5203 - val_loss: 0.6942 - val_accuracy: 0.4875\n",
            "Epoch 9/20\n",
            "20/20 [==============================] - 0s 13ms/step - loss: 0.6928 - accuracy: 0.5141 - val_loss: 0.6937 - val_accuracy: 0.4938\n",
            "Epoch 10/20\n",
            "20/20 [==============================] - 0s 12ms/step - loss: 0.6918 - accuracy: 0.5266 - val_loss: 0.6946 - val_accuracy: 0.4875\n",
            "Epoch 11/20\n",
            "20/20 [==============================] - 0s 12ms/step - loss: 0.6919 - accuracy: 0.5156 - val_loss: 0.6940 - val_accuracy: 0.4875\n",
            "Epoch 12/20\n",
            "20/20 [==============================] - 0s 12ms/step - loss: 0.6929 - accuracy: 0.5188 - val_loss: 0.6935 - val_accuracy: 0.4563\n",
            "Epoch 13/20\n",
            "20/20 [==============================] - 0s 13ms/step - loss: 0.6927 - accuracy: 0.5063 - val_loss: 0.6958 - val_accuracy: 0.4875\n",
            "Epoch 14/20\n",
            "20/20 [==============================] - 0s 12ms/step - loss: 0.6925 - accuracy: 0.5234 - val_loss: 0.6936 - val_accuracy: 0.4688\n",
            "Epoch 15/20\n",
            "20/20 [==============================] - 0s 12ms/step - loss: 0.6923 - accuracy: 0.5125 - val_loss: 0.6950 - val_accuracy: 0.4812\n",
            "Epoch 16/20\n",
            "20/20 [==============================] - 0s 13ms/step - loss: 0.6924 - accuracy: 0.5109 - val_loss: 0.6939 - val_accuracy: 0.4812\n",
            "Epoch 17/20\n",
            "20/20 [==============================] - 0s 13ms/step - loss: 0.6919 - accuracy: 0.5266 - val_loss: 0.6944 - val_accuracy: 0.4938\n",
            "Epoch 18/20\n",
            "20/20 [==============================] - 0s 13ms/step - loss: 0.6926 - accuracy: 0.5156 - val_loss: 0.6950 - val_accuracy: 0.4938\n",
            "Epoch 19/20\n",
            "20/20 [==============================] - 0s 13ms/step - loss: 0.6906 - accuracy: 0.5312 - val_loss: 0.6936 - val_accuracy: 0.4812\n",
            "Epoch 20/20\n",
            "20/20 [==============================] - 0s 13ms/step - loss: 0.6912 - accuracy: 0.5328 - val_loss: 0.6944 - val_accuracy: 0.4812\n"
          ]
        }
      ]
    },
    {
      "cell_type": "markdown",
      "source": [
        "####Evaluating the Model"
      ],
      "metadata": {
        "id": "68d2hBllMR7D"
      }
    },
    {
      "cell_type": "code",
      "source": [
        "loss, accuracy = model.evaluate(X_test, y_test)\n",
        "print(f'Test Accuracy: {accuracy * 100:.2f}%')\n"
      ],
      "metadata": {
        "colab": {
          "base_uri": "https://localhost:8080/"
        },
        "id": "iuF9qOUfMW2b",
        "outputId": "da46b2d6-7039-4b95-9d76-27214d164dd0"
      },
      "execution_count": null,
      "outputs": [
        {
          "output_type": "stream",
          "name": "stdout",
          "text": [
            "7/7 [==============================] - 1s 4ms/step - loss: 0.6962 - accuracy: 0.5100\n",
            "Test Accuracy: 51.00%\n"
          ]
        }
      ]
    },
    {
      "cell_type": "markdown",
      "source": [
        "####Visualizing the Training Process"
      ],
      "metadata": {
        "id": "fNDyo_8rMYwS"
      }
    },
    {
      "cell_type": "code",
      "source": [
        "import matplotlib.pyplot as plt\n",
        "\n",
        "# Plot training & validation accuracy values\n",
        "plt.plot(history.history['accuracy'])\n",
        "plt.plot(history.history['val_accuracy'])\n",
        "plt.title('Model accuracy')\n",
        "plt.ylabel('Accuracy')\n",
        "plt.xlabel('Epoch')\n",
        "plt.legend(['Train', 'Validation'], loc='upper left')\n",
        "plt.show()\n",
        "\n",
        "# Plot training & validation loss values\n",
        "plt.plot(history.history['loss'])\n",
        "plt.plot(history.history['val_loss'])\n",
        "plt.title('Model loss')\n",
        "plt.ylabel('Loss')\n",
        "plt.xlabel('Epoch')\n",
        "plt.legend(['Train', 'Validation'], loc='upper left')\n",
        "plt.show()\n"
      ],
      "metadata": {
        "colab": {
          "base_uri": "https://localhost:8080/",
          "height": 927
        },
        "id": "UbVHkpEfMfMB",
        "outputId": "eb9ad7d2-852c-4083-ebc4-98f3939e9cdf"
      },
      "execution_count": null,
      "outputs": [
        {
          "output_type": "display_data",
          "data": {
            "text/plain": [
              "<Figure size 640x480 with 1 Axes>"
            ],
            "image/png": "[encoded data removed]"
          },
          "metadata": {}
        },
        {
          "output_type": "display_data",
          "data": {
            "text/plain": [
              "<Figure size 640x480 with 1 Axes>"
            ],
            "image/png": "[encoded data removed]"
          },
          "metadata": {}
        }
      ]
    },
    {
      "cell_type": "markdown",
      "source": [
        "####**Summary**\n",
        "- Data Preparation: The synthetic data generation creates random sequences for a simple binary classification task. The data is then scaled and split into training and testing sets.\n",
        "\n",
        "- Model Building: The LSTM model is built using the Keras Sequential API. It consists of two LSTM layers with dropout for regularization, followed by a Dense layer with a sigmoid activation function for binary classification.\n",
        "\n",
        "- Training: The model is trained using the Adam optimizer and binary cross-entropy loss. The training history, including accuracy and loss, is recorded for visualization.\n",
        "\n",
        "- Evaluation: The model's performance is evaluated on the test set, and the accuracy is printed.\n",
        "\n",
        "- Visualization: Training and validation accuracy and loss are plotted to visualize the training process.\n",
        "\n"
      ],
      "metadata": {
        "id": "daZbRhNHMjry"
      }
    }
  ]
}